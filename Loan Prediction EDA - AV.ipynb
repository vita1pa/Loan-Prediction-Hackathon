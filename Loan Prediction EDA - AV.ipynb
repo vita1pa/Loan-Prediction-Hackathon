{
  "cells": [
    {
      "cell_type": "code",
      "execution_count": 1,
      "id": "c520b660",
      "metadata": {
        "id": "c520b660"
      },
      "outputs": [],
      "source": [
        "import pandas as pd\n",
        "import numpy as np\n",
        "\n",
        "import matplotlib.pyplot as plt\n",
        "import seaborn as sns\n",
        "\n",
        "from sklearn.preprocessing import MinMaxScaler"
      ]
    },
    {
      "cell_type": "markdown",
      "metadata": {
        "id": "RE-nRDSvHV5T"
      },
      "source": [
        "## Functions..."
      ],
      "id": "RE-nRDSvHV5T"
    },
    {
      "cell_type": "markdown",
      "metadata": {
        "id": "0pgxIM9THV5T"
      },
      "source": [
        "Процент выбросов слева / справа от boxplot "
      ],
      "id": "0pgxIM9THV5T"
    },
    {
      "cell_type": "code",
      "execution_count": 158,
      "metadata": {
        "id": "8ZMiiJ5nHV5U"
      },
      "outputs": [],
      "source": [
        "def outliers_percents(col):\n",
        "    \n",
        "        length = len(col)\n",
        "    \n",
        "        Q1 = np.nanpercentile(col, 25)\n",
        "        Q3 = np.nanpercentile(col, 75)\n",
        "        IQR = Q3 - Q1\n",
        "        \n",
        "        \n",
        "        num_outliers_left = len(col[col < Q1 - 1.5 * IQR]) / length\n",
        "        num_oulliers_right = len(col[col > Q3 + 1.5 * IQR]) / length\n",
        "        \n",
        "        return num_outliers_left, num_oulliers_right"
      ],
      "id": "8ZMiiJ5nHV5U"
    },
    {
      "cell_type": "markdown",
      "metadata": {
        "id": "3HvXL-9rHV5U"
      },
      "source": [
        "Boxplots subplot"
      ],
      "id": "3HvXL-9rHV5U"
    },
    {
      "cell_type": "code",
      "execution_count": 68,
      "metadata": {
        "id": "aHp_3niMHV5U"
      },
      "outputs": [],
      "source": [
        "def histplots_info(data):\n",
        "    \n",
        "    for col in list(data.columns.values):\n",
        "        \n",
        "        sns.histplot(data[col], kde=True);\n",
        "\n",
        "        num_percent = data[col].isnull().sum() / len(data) * 100\n",
        "        plt.title(col+\" | missing values: {}%\".format(round(num_percent, 2)))\n",
        "        plt.show()"
      ],
      "id": "aHp_3niMHV5U"
    },
    {
      "cell_type": "markdown",
      "metadata": {
        "id": "N0USh4zlHV5V"
      },
      "source": [
        "Histplots subplots"
      ],
      "id": "N0USh4zlHV5V"
    },
    {
      "cell_type": "code",
      "execution_count": 69,
      "metadata": {
        "id": "kmhJ_ZpGHV5V"
      },
      "outputs": [],
      "source": [
        "def boxplots_info(data):\n",
        "  \n",
        "    for col in list(data.columns.values):\n",
        "\n",
        "        sns.boxplot(data=data[col], orient='h');\n",
        "        \n",
        "        outliers_left, outliers_right = outliers_percents(data[col])\n",
        "        plt.title(\"Left Outliers : {}% \".format(round(outliers_left * 100, 3))+\n",
        "                           \"| Right Outliers : {}%\".format(round(outliers_right * 100, 3)))\n",
        "        plt.show()"
      ],
      "id": "kmhJ_ZpGHV5V"
    },
    {
      "cell_type": "markdown",
      "metadata": {
        "id": "6KjhFCo3HV5W"
      },
      "source": [
        "IQR outliers handling"
      ],
      "id": "6KjhFCo3HV5W"
    },
    {
      "cell_type": "code",
      "execution_count": 70,
      "metadata": {
        "id": "4EUggfyfHV5X"
      },
      "outputs": [],
      "source": [
        "def remove_outliers_iqr(data, columns):\n",
        "    \n",
        "#     print(columns)\n",
        "    \n",
        "    for col in columns:\n",
        "    \n",
        "        Q1 = np.nanpercentile(data[col], 25)\n",
        "        Q3 = np.nanpercentile(data[col], 75)\n",
        "        IQR = Q3 - Q1\n",
        "        \n",
        "        data.loc[data[col] < Q1 - 1.5 * IQR, col] = Q1 - 1.5 * IQR\n",
        "        data.loc[data[col] > Q3 + 1.5 * IQR, col] = Q3 + 1.5 * IQR\n",
        "        "
      ],
      "id": "4EUggfyfHV5X"
    },
    {
      "cell_type": "markdown",
      "metadata": {
        "id": "_C0KeHIHHV5X"
      },
      "source": [
        "Missing values dealing"
      ],
      "id": "_C0KeHIHHV5X"
    },
    {
      "cell_type": "code",
      "execution_count": 71,
      "metadata": {
        "id": "wUkVsVgeHV5X"
      },
      "outputs": [],
      "source": [
        "def impute(data, columns, how):\n",
        "    \n",
        "    if how=='mean':\n",
        "        for col in columns:\n",
        "            data[col].fillna(data[col].mean(), inplace=True)\n",
        "    elif how=='mode':\n",
        "        for col in columns:\n",
        "            data[col].fillna(data[col].mode()[0], inplace=True)\n",
        "    else:\n",
        "        print('Хз как ?? ')"
      ],
      "id": "wUkVsVgeHV5X"
    },
    {
      "cell_type": "markdown",
      "metadata": {
        "id": "eDaCf8GgHV5Y"
      },
      "source": [
        "Other"
      ],
      "id": "eDaCf8GgHV5Y"
    },
    {
      "cell_type": "code",
      "execution_count": 72,
      "metadata": {
        "id": "YzU7IJRLHV5Y"
      },
      "outputs": [],
      "source": [
        "# loan_amt = train_num['LoanAmount']\n",
        "\n",
        "# values = [0, 100, 200, 400, 700]\n",
        "# labels = ['Low', 'Medium', 'High', 'Very High']\n",
        "\n",
        "# result = pd.cut(loan_amt, bins=values, labels=labels)\n",
        "# result.value_counts()\n",
        "\n",
        "# dict_freq = train_cat['Property_Area'].value_counts(normalize=True)\n",
        "\n",
        "# train_cat['Property_Area'].map(dict_freq)\n",
        "\n",
        "# train_cat['Loan_Status'].map({'Y': 1, 'N': 0})\n",
        "# train_cat\n",
        "\n",
        "# pd.get_dummies(train['Property_Area'])"
      ],
      "id": "YzU7IJRLHV5Y"
    },
    {
      "cell_type": "markdown",
      "id": "794cfe8c",
      "metadata": {
        "id": "794cfe8c"
      },
      "source": [
        "## Importing part"
      ]
    },
    {
      "cell_type": "code",
      "execution_count": 47,
      "id": "430f48de",
      "metadata": {
        "colab": {
          "base_uri": "https://localhost:8080/",
          "height": 188
        },
        "id": "430f48de",
        "outputId": "5e0577f8-df17-4173-8834-e6ea6554d6cf"
      },
      "outputs": [
        {
          "output_type": "execute_result",
          "data": {
            "text/html": [
              "\n",
              "  <div id=\"df-5decb7a0-e9cb-495e-8916-4e04f1f4dfce\">\n",
              "    <div class=\"colab-df-container\">\n",
              "      <div>\n",
              "<style scoped>\n",
              "    .dataframe tbody tr th:only-of-type {\n",
              "        vertical-align: middle;\n",
              "    }\n",
              "\n",
              "    .dataframe tbody tr th {\n",
              "        vertical-align: top;\n",
              "    }\n",
              "\n",
              "    .dataframe thead th {\n",
              "        text-align: right;\n",
              "    }\n",
              "</style>\n",
              "<table border=\"1\" class=\"dataframe\">\n",
              "  <thead>\n",
              "    <tr style=\"text-align: right;\">\n",
              "      <th></th>\n",
              "      <th>Loan_ID</th>\n",
              "      <th>Gender</th>\n",
              "      <th>Married</th>\n",
              "      <th>Dependents</th>\n",
              "      <th>Education</th>\n",
              "      <th>Self_Employed</th>\n",
              "      <th>ApplicantIncome</th>\n",
              "      <th>CoapplicantIncome</th>\n",
              "      <th>LoanAmount</th>\n",
              "      <th>Loan_Amount_Term</th>\n",
              "      <th>Credit_History</th>\n",
              "      <th>Property_Area</th>\n",
              "    </tr>\n",
              "  </thead>\n",
              "  <tbody>\n",
              "    <tr>\n",
              "      <th>0</th>\n",
              "      <td>LP001002</td>\n",
              "      <td>Male</td>\n",
              "      <td>No</td>\n",
              "      <td>0</td>\n",
              "      <td>Graduate</td>\n",
              "      <td>No</td>\n",
              "      <td>5849</td>\n",
              "      <td>0.0</td>\n",
              "      <td>NaN</td>\n",
              "      <td>360.0</td>\n",
              "      <td>1.0</td>\n",
              "      <td>Urban</td>\n",
              "    </tr>\n",
              "    <tr>\n",
              "      <th>1</th>\n",
              "      <td>LP001003</td>\n",
              "      <td>Male</td>\n",
              "      <td>Yes</td>\n",
              "      <td>1</td>\n",
              "      <td>Graduate</td>\n",
              "      <td>No</td>\n",
              "      <td>4583</td>\n",
              "      <td>1508.0</td>\n",
              "      <td>128.0</td>\n",
              "      <td>360.0</td>\n",
              "      <td>1.0</td>\n",
              "      <td>Rural</td>\n",
              "    </tr>\n",
              "    <tr>\n",
              "      <th>2</th>\n",
              "      <td>LP001005</td>\n",
              "      <td>Male</td>\n",
              "      <td>Yes</td>\n",
              "      <td>0</td>\n",
              "      <td>Graduate</td>\n",
              "      <td>Yes</td>\n",
              "      <td>3000</td>\n",
              "      <td>0.0</td>\n",
              "      <td>66.0</td>\n",
              "      <td>360.0</td>\n",
              "      <td>1.0</td>\n",
              "      <td>Urban</td>\n",
              "    </tr>\n",
              "  </tbody>\n",
              "</table>\n",
              "</div>\n",
              "      <button class=\"colab-df-convert\" onclick=\"convertToInteractive('df-5decb7a0-e9cb-495e-8916-4e04f1f4dfce')\"\n",
              "              title=\"Convert this dataframe to an interactive table.\"\n",
              "              style=\"display:none;\">\n",
              "        \n",
              "  <svg xmlns=\"http://www.w3.org/2000/svg\" height=\"24px\"viewBox=\"0 0 24 24\"\n",
              "       width=\"24px\">\n",
              "    <path d=\"M0 0h24v24H0V0z\" fill=\"none\"/>\n",
              "    <path d=\"M18.56 5.44l.94 2.06.94-2.06 2.06-.94-2.06-.94-.94-2.06-.94 2.06-2.06.94zm-11 1L8.5 8.5l.94-2.06 2.06-.94-2.06-.94L8.5 2.5l-.94 2.06-2.06.94zm10 10l.94 2.06.94-2.06 2.06-.94-2.06-.94-.94-2.06-.94 2.06-2.06.94z\"/><path d=\"M17.41 7.96l-1.37-1.37c-.4-.4-.92-.59-1.43-.59-.52 0-1.04.2-1.43.59L10.3 9.45l-7.72 7.72c-.78.78-.78 2.05 0 2.83L4 21.41c.39.39.9.59 1.41.59.51 0 1.02-.2 1.41-.59l7.78-7.78 2.81-2.81c.8-.78.8-2.07 0-2.86zM5.41 20L4 18.59l7.72-7.72 1.47 1.35L5.41 20z\"/>\n",
              "  </svg>\n",
              "      </button>\n",
              "      \n",
              "  <style>\n",
              "    .colab-df-container {\n",
              "      display:flex;\n",
              "      flex-wrap:wrap;\n",
              "      gap: 12px;\n",
              "    }\n",
              "\n",
              "    .colab-df-convert {\n",
              "      background-color: #E8F0FE;\n",
              "      border: none;\n",
              "      border-radius: 50%;\n",
              "      cursor: pointer;\n",
              "      display: none;\n",
              "      fill: #1967D2;\n",
              "      height: 32px;\n",
              "      padding: 0 0 0 0;\n",
              "      width: 32px;\n",
              "    }\n",
              "\n",
              "    .colab-df-convert:hover {\n",
              "      background-color: #E2EBFA;\n",
              "      box-shadow: 0px 1px 2px rgba(60, 64, 67, 0.3), 0px 1px 3px 1px rgba(60, 64, 67, 0.15);\n",
              "      fill: #174EA6;\n",
              "    }\n",
              "\n",
              "    [theme=dark] .colab-df-convert {\n",
              "      background-color: #3B4455;\n",
              "      fill: #D2E3FC;\n",
              "    }\n",
              "\n",
              "    [theme=dark] .colab-df-convert:hover {\n",
              "      background-color: #434B5C;\n",
              "      box-shadow: 0px 1px 3px 1px rgba(0, 0, 0, 0.15);\n",
              "      filter: drop-shadow(0px 1px 2px rgba(0, 0, 0, 0.3));\n",
              "      fill: #FFFFFF;\n",
              "    }\n",
              "  </style>\n",
              "\n",
              "      <script>\n",
              "        const buttonEl =\n",
              "          document.querySelector('#df-5decb7a0-e9cb-495e-8916-4e04f1f4dfce button.colab-df-convert');\n",
              "        buttonEl.style.display =\n",
              "          google.colab.kernel.accessAllowed ? 'block' : 'none';\n",
              "\n",
              "        async function convertToInteractive(key) {\n",
              "          const element = document.querySelector('#df-5decb7a0-e9cb-495e-8916-4e04f1f4dfce');\n",
              "          const dataTable =\n",
              "            await google.colab.kernel.invokeFunction('convertToInteractive',\n",
              "                                                     [key], {});\n",
              "          if (!dataTable) return;\n",
              "\n",
              "          const docLinkHtml = 'Like what you see? Visit the ' +\n",
              "            '<a target=\"_blank\" href=https://colab.research.google.com/notebooks/data_table.ipynb>data table notebook</a>'\n",
              "            + ' to learn more about interactive tables.';\n",
              "          element.innerHTML = '';\n",
              "          dataTable['output_type'] = 'display_data';\n",
              "          await google.colab.output.renderOutput(dataTable, element);\n",
              "          const docLink = document.createElement('div');\n",
              "          docLink.innerHTML = docLinkHtml;\n",
              "          element.appendChild(docLink);\n",
              "        }\n",
              "      </script>\n",
              "    </div>\n",
              "  </div>\n",
              "  "
            ],
            "text/plain": [
              "    Loan_ID Gender Married  ... Loan_Amount_Term Credit_History Property_Area\n",
              "0  LP001002   Male      No  ...            360.0            1.0         Urban\n",
              "1  LP001003   Male     Yes  ...            360.0            1.0         Rural\n",
              "2  LP001005   Male     Yes  ...            360.0            1.0         Urban\n",
              "\n",
              "[3 rows x 12 columns]"
            ]
          },
          "metadata": {},
          "execution_count": 47
        }
      ],
      "source": [
        "train = pd.read_csv('train_ctrUa4K.csv')\n",
        "test = pd.read_csv('test_lAUu6dG.csv')\n",
        "sample_submission = pd.read_csv('sample_submission_49d68Cx.csv')\n",
        "\n",
        "target = train['Loan_Status']\n",
        "train.drop(['Loan_Status'], axis=1, inplace=True)\n",
        "\n",
        "idx = len(train)\n",
        "\n",
        "train.head(3)"
      ]
    },
    {
      "cell_type": "code",
      "execution_count": 3,
      "id": "19cab4b0",
      "metadata": {
        "colab": {
          "base_uri": "https://localhost:8080/"
        },
        "id": "19cab4b0",
        "outputId": "aaaedf17-4e26-483a-854d-e6eefa03aff8"
      },
      "outputs": [
        {
          "output_type": "stream",
          "name": "stdout",
          "text": [
            "Train shape: (614, 12)\n",
            "Test shape: (367, 12)\n"
          ]
        }
      ],
      "source": [
        "print(\"Train shape:\", train.shape)\n",
        "print(\"Test shape:\", test.shape)"
      ]
    },
    {
      "cell_type": "code",
      "source": [
        "train_num = train.select_dtypes(np.number)\n",
        "test_num = test.select_dtypes(np.number)\n",
        "num = pd.concat([train_num, test_num], axis=0).reset_index(drop=True)\n",
        "\n",
        "train_cat = train.select_dtypes(include='object')\n",
        "test_cat = test.select_dtypes(include='object')\n",
        "cat = pd.concat([train_cat, test_cat], axis=0).reset_index(drop=True)"
      ],
      "metadata": {
        "id": "mj5foniPHgoa"
      },
      "id": "mj5foniPHgoa",
      "execution_count": 765,
      "outputs": []
    },
    {
      "cell_type": "markdown",
      "source": [
        "## Numeric features"
      ],
      "metadata": {
        "id": "l-kFl_8DH7JF"
      },
      "id": "l-kFl_8DH7JF"
    },
    {
      "cell_type": "code",
      "source": [
        "num.columns"
      ],
      "metadata": {
        "colab": {
          "base_uri": "https://localhost:8080/"
        },
        "id": "Qu9nB3XtOkBe",
        "outputId": "f4ad510d-d0c6-495f-ff59-ece6fc2bd77b"
      },
      "id": "Qu9nB3XtOkBe",
      "execution_count": 50,
      "outputs": [
        {
          "output_type": "execute_result",
          "data": {
            "text/plain": [
              "Index(['ApplicantIncome', 'CoapplicantIncome', 'LoanAmount',\n",
              "       'Loan_Amount_Term', 'Credit_History'],\n",
              "      dtype='object')"
            ]
          },
          "metadata": {},
          "execution_count": 50
        }
      ]
    },
    {
      "cell_type": "code",
      "source": [
        "histplots_info(num)"
      ],
      "metadata": {
        "colab": {
          "base_uri": "https://localhost:8080/",
          "height": 1000
        },
        "id": "GKvy8F4uix4M",
        "outputId": "7022330a-d3c7-4390-ba28-3c2424dcaf3f"
      },
      "id": "GKvy8F4uix4M",
      "execution_count": 144,
      "outputs": [
        {
          "output_type": "display_data",
          "data": {
            "image/png": "[encoded data removed]",
            "text/plain": [
              "<Figure size 432x288 with 1 Axes>"
            ]
          },
          "metadata": {
            "needs_background": "light"
          }
        },
        {
          "output_type": "display_data",
          "data": {
            "image/png": "[encoded data removed]",
            "text/plain": [
              "<Figure size 432x288 with 1 Axes>"
            ]
          },
          "metadata": {
            "needs_background": "light"
          }
        },
        {
          "output_type": "display_data",
          "data": {
            "image/png": "[encoded data removed]",
            "text/plain": [
              "<Figure size 432x288 with 1 Axes>"
            ]
          },
          "metadata": {
            "needs_background": "light"
          }
        },
        {
          "output_type": "display_data",
          "data": {
            "image/png": "[encoded data removed]",
            "text/plain": [
              "<Figure size 432x288 with 1 Axes>"
            ]
          },
          "metadata": {
            "needs_background": "light"
          }
        },
        {
          "output_type": "display_data",
          "data": {
            "image/png": "[encoded data removed]",
            "text/plain": [
              "<Figure size 432x288 with 1 Axes>"
            ]
          },
          "metadata": {
            "needs_background": "light"
          }
        }
      ]
    },
    {
      "cell_type": "markdown",
      "source": [
        "Loan_Amount_Term и Credit_History - категориальные"
      ],
      "metadata": {
        "id": "SBGU20WaR2oO"
      },
      "id": "SBGU20WaR2oO"
    },
    {
      "cell_type": "code",
      "source": [
        "temp = pd.concat([train_num, target.map({'Y': 0, 'N': 1})], axis=1)\n",
        "\n",
        "sns.heatmap(temp.corr(), annot=True)"
      ],
      "metadata": {
        "colab": {
          "base_uri": "https://localhost:8080/",
          "height": 374
        },
        "id": "vS-CzH88Ov_T",
        "outputId": "36fa99c1-d6a4-4cbc-eae1-e5ca15316209"
      },
      "id": "vS-CzH88Ov_T",
      "execution_count": 59,
      "outputs": [
        {
          "output_type": "execute_result",
          "data": {
            "text/plain": [
              "<matplotlib.axes._subplots.AxesSubplot at 0x7f0977fe9f90>"
            ]
          },
          "metadata": {},
          "execution_count": 59
        },
        {
          "output_type": "display_data",
          "data": {
            "image/png": "[encoded data removed]",
            "text/plain": [
              "<Figure size 432x288 with 2 Axes>"
            ]
          },
          "metadata": {
            "needs_background": "light"
          }
        }
      ]
    },
    {
      "cell_type": "markdown",
      "source": [
        "Credit History - сильная фича, другие - относительно слабые"
      ],
      "metadata": {
        "id": "CPv0cGzsQu3X"
      },
      "id": "CPv0cGzsQu3X"
    },
    {
      "cell_type": "code",
      "source": [
        "sns.barplot(x='Credit_History', y='Loan_Status', data=temp,\n",
        "            palette = 'hls', capsize = 0.1, ci = 'sd')"
      ],
      "metadata": {
        "colab": {
          "base_uri": "https://localhost:8080/",
          "height": 299
        },
        "id": "2G3XOWYXSPEj",
        "outputId": "db8654a1-8cf6-4a8e-8268-a60b9ee7adcb"
      },
      "id": "2G3XOWYXSPEj",
      "execution_count": 101,
      "outputs": [
        {
          "output_type": "execute_result",
          "data": {
            "text/plain": [
              "<matplotlib.axes._subplots.AxesSubplot at 0x7f0977644490>"
            ]
          },
          "metadata": {},
          "execution_count": 101
        },
        {
          "output_type": "display_data",
          "data": {
            "image/png": "[encoded data removed]",
            "text/plain": [
              "<Figure size 432x288 with 1 Axes>"
            ]
          },
          "metadata": {
            "needs_background": "light"
          }
        }
      ]
    },
    {
      "cell_type": "code",
      "source": [
        "sns.barplot(x='Loan_Amount_Term', y='Loan_Status', data=temp,\n",
        "            palette = 'hls', capsize = 0.1, ci = 'sd')"
      ],
      "metadata": {
        "colab": {
          "base_uri": "https://localhost:8080/",
          "height": 299
        },
        "id": "3iH6nOsRS295",
        "outputId": "494c5531-9844-4fcc-85a7-f959d0c41ac9"
      },
      "id": "3iH6nOsRS295",
      "execution_count": 92,
      "outputs": [
        {
          "output_type": "execute_result",
          "data": {
            "text/plain": [
              "<matplotlib.axes._subplots.AxesSubplot at 0x7f0977da5350>"
            ]
          },
          "metadata": {},
          "execution_count": 92
        },
        {
          "output_type": "display_data",
          "data": {
            "image/png": "[encoded data removed]",
            "text/plain": [
              "<Figure size 432x288 with 1 Axes>"
            ]
          },
          "metadata": {
            "needs_background": "light"
          }
        }
      ]
    },
    {
      "cell_type": "code",
      "source": [
        "temp['Loan_Amount_Term'].value_counts()"
      ],
      "metadata": {
        "colab": {
          "base_uri": "https://localhost:8080/"
        },
        "id": "2x37kA85VwS4",
        "outputId": "b2ad99d7-0ff6-4865-8580-435098cb3842"
      },
      "id": "2x37kA85VwS4",
      "execution_count": 104,
      "outputs": [
        {
          "output_type": "execute_result",
          "data": {
            "text/plain": [
              "360.0    512\n",
              "180.0     44\n",
              "480.0     15\n",
              "300.0     13\n",
              "84.0       4\n",
              "240.0      4\n",
              "120.0      3\n",
              "36.0       2\n",
              "60.0       2\n",
              "12.0       1\n",
              "Name: Loan_Amount_Term, dtype: int64"
            ]
          },
          "metadata": {},
          "execution_count": 104
        }
      ]
    },
    {
      "cell_type": "markdown",
      "source": [
        "Для некоторых категорий просто не хватает записей. Например для 12, 36, 60 и 120. В целом для категорий от 84 до 360 примерно одинаковая вероятность. для 480 она повыше\n",
        "\n",
        "\n",
        "Для \"начальных\" дат есть смысл обьединить их в одну категорию, условно: краткосрочные кредиты. Последующие даты тоже можно сгрупировать. Выполню **по годам**"
      ],
      "metadata": {
        "id": "hQW7DHGVXDfh"
      },
      "id": "hQW7DHGVXDfh"
    },
    {
      "cell_type": "code",
      "source": [
        "temp['Group_Loan_Amount_Term'] = temp['Loan_Amount_Term'].copy()\n",
        "\n",
        "temp['Group_Loan_Amount_Term'] = temp['Group_Loan_Amount_Term'].replace([12.0, 36.0, 60.0, 84.0, 120.0], '<= 10 years')\n",
        "temp['Group_Loan_Amount_Term'] = temp['Group_Loan_Amount_Term'].replace(180.0, '15 years')\n",
        "temp['Group_Loan_Amount_Term'] = temp['Group_Loan_Amount_Term'].replace(360.0, '30 years')\n",
        "temp['Group_Loan_Amount_Term'] = temp['Group_Loan_Amount_Term'].replace([240.0, 300.0], 'Not beautiful dates')\n",
        "temp['Group_Loan_Amount_Term'] = temp['Group_Loan_Amount_Term'].replace([480.0], '40 years')"
      ],
      "metadata": {
        "id": "9XhIdoqSXfyn"
      },
      "id": "9XhIdoqSXfyn",
      "execution_count": 235,
      "outputs": []
    },
    {
      "cell_type": "code",
      "source": [
        "sns.barplot(x='Group_Loan_Amount_Term', y='Loan_Status', data=temp,\n",
        "            palette = 'hls', capsize = 0.1, ci = 'sd')"
      ],
      "metadata": {
        "colab": {
          "base_uri": "https://localhost:8080/",
          "height": 299
        },
        "id": "jB_n8boKbQl7",
        "outputId": "9e8b40c8-250a-40ef-a0e4-2bce67481d31"
      },
      "id": "jB_n8boKbQl7",
      "execution_count": 236,
      "outputs": [
        {
          "output_type": "execute_result",
          "data": {
            "text/plain": [
              "<matplotlib.axes._subplots.AxesSubplot at 0x7f096f677510>"
            ]
          },
          "metadata": {},
          "execution_count": 236
        },
        {
          "output_type": "display_data",
          "data": {
            "image/png": "[encoded data removed]",
            "text/plain": [
              "<Figure size 432x288 with 1 Axes>"
            ]
          },
          "metadata": {
            "needs_background": "light"
          }
        }
      ]
    },
    {
      "cell_type": "markdown",
      "source": [
        "Видим, что средний процент \"увеличивается\" с ростом времени по кредиту. Причём люди склонны больше брать долгосрочные кредиты (больше 10 лет) на даты, делящееся на 15 (15 лет, 30 лет). По ним больше всего кредитов, но процент примерно равен. На \"некрасивых\" датах процент самый высокий, и это интересно. Возможно это влияние 20 лет, но другие категории ничего не испортили."
      ],
      "metadata": {
        "id": "J9jGVbVgb-ze"
      },
      "id": "J9jGVbVgb-ze"
    },
    {
      "cell_type": "code",
      "source": [
        "sns.barplot(x='Group_Loan_Amount_Term', y='Loan_Status', data=temp,\n",
        "            palette = 'hls', capsize = 0.1, ci = 'sd',\n",
        "            hue='Credit_History')\n",
        "plt.legend(loc='upper center')"
      ],
      "metadata": {
        "colab": {
          "base_uri": "https://localhost:8080/",
          "height": 299
        },
        "id": "u39PWghKdqhJ",
        "outputId": "e071917b-741c-4d1b-b235-27954072e06e"
      },
      "id": "u39PWghKdqhJ",
      "execution_count": 216,
      "outputs": [
        {
          "output_type": "execute_result",
          "data": {
            "text/plain": [
              "<matplotlib.legend.Legend at 0x7f0972714050>"
            ]
          },
          "metadata": {},
          "execution_count": 216
        },
        {
          "output_type": "display_data",
          "data": {
            "image/png": "[encoded data removed]",
            "text/plain": [
              "<Figure size 432x288 with 1 Axes>"
            ]
          },
          "metadata": {
            "needs_background": "light"
          }
        }
      ]
    },
    {
      "cell_type": "markdown",
      "source": [
        "А вот это уже интересно. Для людей до 10 лет включительно вообще нет хорошей кредитной истории. При этом люди с \"плохой\" историей скорее возьмут кредит на некрасивый срок. Пропорции по 15 и 30 годам примерно равные, но для 30 лет большая уверенность в возвращении. "
      ],
      "metadata": {
        "id": "scJ-uwXNdr5U"
      },
      "id": "scJ-uwXNdr5U"
    },
    {
      "cell_type": "code",
      "source": [
        "temp.isnull().sum()"
      ],
      "metadata": {
        "colab": {
          "base_uri": "https://localhost:8080/"
        },
        "id": "mt5JdAHgQTSr",
        "outputId": "848218d1-871b-4ffa-f641-e3d0d2eaafea"
      },
      "id": "mt5JdAHgQTSr",
      "execution_count": 217,
      "outputs": [
        {
          "output_type": "execute_result",
          "data": {
            "text/plain": [
              "ApplicantIncome                0\n",
              "CoapplicantIncome              0\n",
              "LoanAmount                    22\n",
              "Loan_Amount_Term              14\n",
              "Credit_History                50\n",
              "Loan_Status                    0\n",
              "Group_Loan_Amount_Term        14\n",
              "ApplicantIncome_Outliers       0\n",
              "CoapplicantIncome_Outliers     0\n",
              "LoanAmount_Outliers            0\n",
              "dtype: int64"
            ]
          },
          "metadata": {},
          "execution_count": 217
        }
      ]
    },
    {
      "cell_type": "code",
      "source": [
        "num.isnull().sum()"
      ],
      "metadata": {
        "colab": {
          "base_uri": "https://localhost:8080/"
        },
        "id": "I6D3JEEIigls",
        "outputId": "59cdb621-b075-4330-ccc6-f43563678403"
      },
      "id": "I6D3JEEIigls",
      "execution_count": 218,
      "outputs": [
        {
          "output_type": "execute_result",
          "data": {
            "text/plain": [
              "ApplicantIncome       0\n",
              "CoapplicantIncome     0\n",
              "LoanAmount           27\n",
              "Loan_Amount_Term     20\n",
              "Credit_History       79\n",
              "dtype: int64"
            ]
          },
          "metadata": {},
          "execution_count": 218
        }
      ]
    },
    {
      "cell_type": "markdown",
      "source": [
        "Выполним заполнение на тренировочном, распостраним на тестовый позже !\n",
        "\n",
        "**Много нулей на Кредит Нистори** - это проблема, думаю просто mode или mean заполнять не стоит, заполню с помощью моделей. После создания всех фичей. Также само поступлю со ** Сроком Кредита**.\n",
        "\n",
        "Для **Количества Кредита** заполню средним - там нормальное распр"
      ],
      "metadata": {
        "id": "dz0nKkNgQ0rP"
      },
      "id": "dz0nKkNgQ0rP"
    },
    {
      "cell_type": "code",
      "source": [
        "for col in ['ApplicantIncome', 'LoanAmount']:\n",
        "\n",
        "      Q1 = np.nanpercentile(temp[col], 25)\n",
        "      Q3 = np.nanpercentile(temp[col], 75)\n",
        "      IQR = Q3 - Q1\n",
        "      \n",
        "      temp['{}_Outliers'.format(col)] = temp[col].map(lambda x: 'Normal' if x <= Q3 + 1.5 * IQR else 'Outlier') \n",
        "      # # temp[col > Q3 + 1.5 * IQR].groupby(col).mean()['Loan_Status']\n",
        "      # print(temp[temp[col] > Q3 + 1.5 * IQR]['Loan_Status'].mean())"
      ],
      "metadata": {
        "id": "qIPY4nuyP9JQ"
      },
      "id": "qIPY4nuyP9JQ",
      "execution_count": 179,
      "outputs": []
    },
    {
      "cell_type": "code",
      "source": [
        "sns.barplot(x='ApplicantIncome_Outliers', y='Loan_Status', data=temp,\n",
        "            palette = 'hls', capsize = 0.1, ci = 'sd')"
      ],
      "metadata": {
        "colab": {
          "base_uri": "https://localhost:8080/",
          "height": 299
        },
        "id": "CXaxwzRgshRO",
        "outputId": "0aaf03f6-7781-4597-fdd0-8d198cbaf098"
      },
      "id": "CXaxwzRgshRO",
      "execution_count": 180,
      "outputs": [
        {
          "output_type": "execute_result",
          "data": {
            "text/plain": [
              "<matplotlib.axes._subplots.AxesSubplot at 0x7f0974d6eb10>"
            ]
          },
          "metadata": {},
          "execution_count": 180
        },
        {
          "output_type": "display_data",
          "data": {
            "image/png": "[encoded data removed]",
            "text/plain": [
              "<Figure size 432x288 with 1 Axes>"
            ]
          },
          "metadata": {
            "needs_background": "light"
          }
        }
      ]
    },
    {
      "cell_type": "code",
      "source": [
        "temp['ApplicantIncome_Outliers'].value_counts()"
      ],
      "metadata": {
        "colab": {
          "base_uri": "https://localhost:8080/"
        },
        "id": "6pfDGju2tJMJ",
        "outputId": "afce7cbd-5115-4d85-abe4-65505528825a"
      },
      "id": "6pfDGju2tJMJ",
      "execution_count": 181,
      "outputs": [
        {
          "output_type": "execute_result",
          "data": {
            "text/plain": [
              "Normal     564\n",
              "Outlier     50\n",
              "Name: ApplicantIncome_Outliers, dtype: int64"
            ]
          },
          "metadata": {},
          "execution_count": 181
        }
      ]
    },
    {
      "cell_type": "code",
      "source": [
        "sns.barplot(x='LoanAmount_Outliers', y='Loan_Status', data=temp,\n",
        "            palette = 'hls', capsize = 0.1, ci = 'sd')"
      ],
      "metadata": {
        "colab": {
          "base_uri": "https://localhost:8080/",
          "height": 299
        },
        "id": "y9Bq-l6qs-SG",
        "outputId": "62af50a5-8d4d-413f-fc7b-856546fa8d7f"
      },
      "id": "y9Bq-l6qs-SG",
      "execution_count": 183,
      "outputs": [
        {
          "output_type": "execute_result",
          "data": {
            "text/plain": [
              "<matplotlib.axes._subplots.AxesSubplot at 0x7f0974c6c490>"
            ]
          },
          "metadata": {},
          "execution_count": 183
        },
        {
          "output_type": "display_data",
          "data": {
            "image/png": "[encoded data removed]",
            "text/plain": [
              "<Figure size 432x288 with 1 Axes>"
            ]
          },
          "metadata": {
            "needs_background": "light"
          }
        }
      ]
    },
    {
      "cell_type": "code",
      "source": [
        "temp['LoanAmount_Outliers'].value_counts()"
      ],
      "metadata": {
        "colab": {
          "base_uri": "https://localhost:8080/"
        },
        "id": "3dcK5aPEtcbJ",
        "outputId": "9e5a367c-d6c6-4ee7-bd1f-de6c0119fd1f"
      },
      "id": "3dcK5aPEtcbJ",
      "execution_count": 184,
      "outputs": [
        {
          "output_type": "execute_result",
          "data": {
            "text/plain": [
              "Normal     553\n",
              "Outlier     61\n",
              "Name: LoanAmount_Outliers, dtype: int64"
            ]
          },
          "metadata": {},
          "execution_count": 184
        }
      ]
    },
    {
      "cell_type": "code",
      "source": [
        "temp['CoapplicantIncome_Outliers'] = temp['CoapplicantIncome'].map(lambda x: 'Normal' if x <= 6700 else 'Outlier')"
      ],
      "metadata": {
        "id": "Xk4y5klftjws"
      },
      "id": "Xk4y5klftjws",
      "execution_count": 186,
      "outputs": []
    },
    {
      "cell_type": "code",
      "source": [
        "sns.barplot(x='CoapplicantIncome_Outliers', y='Loan_Status', data=temp,\n",
        "            palette = 'hls', capsize = 0.1, ci = 'sd')"
      ],
      "metadata": {
        "colab": {
          "base_uri": "https://localhost:8080/",
          "height": 299
        },
        "id": "uY9Wzy4Htj6G",
        "outputId": "c9701b7e-4906-48fd-fac0-a1a4e73d015a"
      },
      "id": "uY9Wzy4Htj6G",
      "execution_count": 187,
      "outputs": [
        {
          "output_type": "execute_result",
          "data": {
            "text/plain": [
              "<matplotlib.axes._subplots.AxesSubplot at 0x7f0974bc96d0>"
            ]
          },
          "metadata": {},
          "execution_count": 187
        },
        {
          "output_type": "display_data",
          "data": {
            "image/png": "[encoded data removed]",
            "text/plain": [
              "<Figure size 432x288 with 1 Axes>"
            ]
          },
          "metadata": {
            "needs_background": "light"
          }
        }
      ]
    },
    {
      "cell_type": "code",
      "source": [
        "temp['CoapplicantIncome_Outliers'].value_counts()"
      ],
      "metadata": {
        "colab": {
          "base_uri": "https://localhost:8080/"
        },
        "id": "hHa95xzEuC2e",
        "outputId": "31e086de-62ed-4b0c-8052-ac83f210b1d8"
      },
      "id": "hHa95xzEuC2e",
      "execution_count": 188,
      "outputs": [
        {
          "output_type": "execute_result",
          "data": {
            "text/plain": [
              "Normal     599\n",
              "Outlier     15\n",
              "Name: CoapplicantIncome_Outliers, dtype: int64"
            ]
          },
          "metadata": {},
          "execution_count": 188
        }
      ]
    },
    {
      "cell_type": "markdown",
      "source": [
        "## Categorical features"
      ],
      "metadata": {
        "id": "VB2bLNWOuM1P"
      },
      "id": "VB2bLNWOuM1P"
    },
    {
      "cell_type": "code",
      "source": [
        "cat.columns"
      ],
      "metadata": {
        "colab": {
          "base_uri": "https://localhost:8080/"
        },
        "id": "mvjfmjQdwQsN",
        "outputId": "784a98e0-88c2-4e26-857d-200e046f04fd"
      },
      "id": "mvjfmjQdwQsN",
      "execution_count": 194,
      "outputs": [
        {
          "output_type": "execute_result",
          "data": {
            "text/plain": [
              "Index(['Loan_ID', 'Gender', 'Married', 'Dependents', 'Education',\n",
              "       'Self_Employed', 'Property_Area'],\n",
              "      dtype='object')"
            ]
          },
          "metadata": {},
          "execution_count": 194
        }
      ]
    },
    {
      "cell_type": "code",
      "source": [
        "temp_ = pd.concat([train_cat, temp['Group_Loan_Amount_Term'], target.map({'Y': 0, 'N': 1})], axis=1)\n",
        "\n",
        "for col in ['Gender', 'Married', 'Dependents', 'Education',\n",
        "       'Self_Employed', 'Property_Area']:\n",
        "  sns.barplot(x=col, y='Loan_Status', data=temp_,\n",
        "            palette = 'hls', capsize = 0.1, ci = 'sd')\n",
        "  plt.show()"
      ],
      "metadata": {
        "colab": {
          "base_uri": "https://localhost:8080/",
          "height": 1000
        },
        "id": "0VqkjeuduQgR",
        "outputId": "a68ba234-3b3b-4ec9-e3e9-9583537aac89"
      },
      "id": "0VqkjeuduQgR",
      "execution_count": 805,
      "outputs": [
        {
          "output_type": "display_data",
          "data": {
            "image/png": "[encoded data removed]",
            "text/plain": [
              "<Figure size 432x288 with 1 Axes>"
            ]
          },
          "metadata": {
            "needs_background": "light"
          }
        },
        {
          "output_type": "display_data",
          "data": {
            "image/png": "[encoded data removed]",
            "text/plain": [
              "<Figure size 432x288 with 1 Axes>"
            ]
          },
          "metadata": {
            "needs_background": "light"
          }
        },
        {
          "output_type": "display_data",
          "data": {
            "image/png": "[encoded data removed]",
            "text/plain": [
              "<Figure size 432x288 with 1 Axes>"
            ]
          },
          "metadata": {
            "needs_background": "light"
          }
        },
        {
          "output_type": "display_data",
          "data": {
            "image/png": "[encoded data removed]",
            "text/plain": [
              "<Figure size 432x288 with 1 Axes>"
            ]
          },
          "metadata": {
            "needs_background": "light"
          }
        },
        {
          "output_type": "display_data",
          "data": {
            "image/png": "[encoded data removed]",
            "text/plain": [
              "<Figure size 432x288 with 1 Axes>"
            ]
          },
          "metadata": {
            "needs_background": "light"
          }
        },
        {
          "output_type": "display_data",
          "data": {
            "image/png": "[encoded data removed]",
            "text/plain": [
              "<Figure size 432x288 with 1 Axes>"
            ]
          },
          "metadata": {
            "needs_background": "light"
          }
        }
      ]
    },
    {
      "cell_type": "markdown",
      "source": [
        "Loan ID - будем использовать в качестве \"рвндомной\" фичи. Всё, что ниже - мусор."
      ],
      "metadata": {
        "id": "HusGRSybu-8i"
      },
      "id": "HusGRSybu-8i"
    },
    {
      "cell_type": "markdown",
      "source": [
        "Интересно посмотреть на влияние **Срока кредита** от **Вида дома**, **Влияния женат / не женат**, и других"
      ],
      "metadata": {
        "id": "S7Rdbk6Svdmd"
      },
      "id": "S7Rdbk6Svdmd"
    },
    {
      "cell_type": "code",
      "source": [
        "for col in ['Gender', 'Married', 'Dependents', 'Education',\n",
        "       'Self_Employed', 'Property_Area']:\n",
        "  plt.figure(figsize=(10, 5))\n",
        "  sns.barplot(x=col, y='Loan_Status', data=temp_,\n",
        "            palette = 'hls', capsize = 0.1, ci = 'sd', hue='Group_Loan_Amount_Term')\n",
        "  plt.legend(loc='lower right')\n",
        "  plt.show()"
      ],
      "metadata": {
        "colab": {
          "base_uri": "https://localhost:8080/",
          "height": 1000
        },
        "id": "PFQylqwfwfwF",
        "outputId": "a4e7e237-6981-416d-f024-9f639390580b"
      },
      "id": "PFQylqwfwfwF",
      "execution_count": 284,
      "outputs": [
        {
          "output_type": "display_data",
          "data": {
            "image/png": "[encoded data removed]",
            "text/plain": [
              "<Figure size 720x360 with 1 Axes>"
            ]
          },
          "metadata": {
            "needs_background": "light"
          }
        },
        {
          "output_type": "display_data",
          "data": {
            "image/png": "[encoded data removed]",
            "text/plain": [
              "<Figure size 720x360 with 1 Axes>"
            ]
          },
          "metadata": {
            "needs_background": "light"
          }
        },
        {
          "output_type": "display_data",
          "data": {
            "image/png": "[encoded data removed]",
            "text/plain": [
              "<Figure size 720x360 with 1 Axes>"
            ]
          },
          "metadata": {
            "needs_background": "light"
          }
        },
        {
          "output_type": "display_data",
          "data": {
            "image/png": "[encoded data removed]",
            "text/plain": [
              "<Figure size 720x360 with 1 Axes>"
            ]
          },
          "metadata": {
            "needs_background": "light"
          }
        },
        {
          "output_type": "display_data",
          "data": {
            "image/png": "[encoded data removed]",
            "text/plain": [
              "<Figure size 720x360 with 1 Axes>"
            ]
          },
          "metadata": {
            "needs_background": "light"
          }
        },
        {
          "output_type": "display_data",
          "data": {
            "image/png": "[encoded data removed]",
            "text/plain": [
              "<Figure size 720x360 with 1 Axes>"
            ]
          },
          "metadata": {
            "needs_background": "light"
          }
        }
      ]
    },
    {
      "cell_type": "code",
      "source": [
        "from IPython.display import Image\n",
        "from IPython.core.display import HTML \n",
        "Image(url= \"https://assets.ltkcontent.com/images/85044/rural-urban-suburban_0066f46bde.jpg\")"
      ],
      "metadata": {
        "colab": {
          "base_uri": "https://localhost:8080/",
          "height": 237
        },
        "id": "fBmF5v7R0ebr",
        "outputId": "e73bec9a-c8f4-43c9-a690-229e9bf2a7dc"
      },
      "id": "fBmF5v7R0ebr",
      "execution_count": 285,
      "outputs": [
        {
          "output_type": "execute_result",
          "data": {
            "text/html": [
              "<img src=\"https://assets.ltkcontent.com/images/85044/rural-urban-suburban_0066f46bde.jpg\"/>"
            ],
            "text/plain": [
              "<IPython.core.display.Image object>"
            ]
          },
          "metadata": {},
          "execution_count": 285
        }
      ]
    },
    {
      "cell_type": "markdown",
      "source": [
        "Время генерить фичи! \n",
        "\n",
        "Посмотрим насколько они хороши"
      ],
      "metadata": {
        "id": "JAIwwsChBE8f"
      },
      "id": "JAIwwsChBE8f"
    },
    {
      "cell_type": "markdown",
      "source": [
        "Предлагаю сначала заполнить нули, и удалить выбросы в нужных для нас колонках. **Пока только для тренировочного** "
      ],
      "metadata": {
        "id": "TR7Xn0zYSDlV"
      },
      "id": "TR7Xn0zYSDlV"
    },
    {
      "cell_type": "code",
      "source": [
        "cat.columns"
      ],
      "metadata": {
        "colab": {
          "base_uri": "https://localhost:8080/"
        },
        "id": "342XTX6UT3mZ",
        "outputId": "9d97a622-7936-43eb-88f7-8693b1b893c1"
      },
      "id": "342XTX6UT3mZ",
      "execution_count": 806,
      "outputs": [
        {
          "output_type": "execute_result",
          "data": {
            "text/plain": [
              "Index(['Loan_ID', 'Gender', 'Married', 'Dependents', 'Education',\n",
              "       'Self_Employed', 'Property_Area'],\n",
              "      dtype='object')"
            ]
          },
          "metadata": {},
          "execution_count": 806
        }
      ]
    },
    {
      "cell_type": "code",
      "source": [
        "for col in ['Gender', 'Married', 'Dependents', 'Education',\n",
        "            'Self_Employed', 'Property_Area']:\n",
        "  impute(train_cat, cat, 'mode')"
      ],
      "metadata": {
        "id": "bnq3flyyqwYH",
        "outputId": "291a5b93-323d-41f1-feae-e27d0388d6fa",
        "colab": {
          "base_uri": "https://localhost:8080/"
        }
      },
      "id": "bnq3flyyqwYH",
      "execution_count": 807,
      "outputs": [
        {
          "output_type": "stream",
          "name": "stderr",
          "text": [
            "/usr/local/lib/python3.7/dist-packages/pandas/core/series.py:4536: SettingWithCopyWarning: \n",
            "A value is trying to be set on a copy of a slice from a DataFrame\n",
            "\n",
            "See the caveats in the documentation: https://pandas.pydata.org/pandas-docs/stable/user_guide/indexing.html#returning-a-view-versus-a-copy\n",
            "  downcast=downcast,\n"
          ]
        }
      ]
    },
    {
      "cell_type": "code",
      "source": [
        "cat_dummies = pd.DataFrame()\n",
        "for col in ['Gender', 'Married', 'Dependents', 'Education',\n",
        "            'Self_Employed', 'Property_Area']:\n",
        "  cat_dummies = pd.concat([cat_dummies, pd.get_dummies(data=train_cat[col], drop_first=True, prefix=col)], axis=1)"
      ],
      "metadata": {
        "id": "gEp9hTheT2P9"
      },
      "id": "gEp9hTheT2P9",
      "execution_count": 808,
      "outputs": []
    },
    {
      "cell_type": "code",
      "source": [
        "cat_dummies = pd.concat([cat_dummies, target.map({'Y': 0, 'N': 1})], axis=1)"
      ],
      "metadata": {
        "id": "1UygLNKfWJDa"
      },
      "id": "1UygLNKfWJDa",
      "execution_count": 809,
      "outputs": []
    },
    {
      "cell_type": "markdown",
      "source": [
        "Заполяняем средним в **Loan Amount**"
      ],
      "metadata": {
        "id": "7R2FJpw2pLK4"
      },
      "id": "7R2FJpw2pLK4"
    },
    {
      "cell_type": "code",
      "source": [
        "train_num['LoanAmount'] = train_num['LoanAmount'].fillna(train_num['LoanAmount'].mean())"
      ],
      "metadata": {
        "id": "NhTgkBITpVES",
        "outputId": "a219bbdf-1095-4a33-fe2a-713a351cecc4",
        "colab": {
          "base_uri": "https://localhost:8080/"
        }
      },
      "id": "NhTgkBITpVES",
      "execution_count": 810,
      "outputs": [
        {
          "output_type": "stream",
          "name": "stderr",
          "text": [
            "/usr/local/lib/python3.7/dist-packages/ipykernel_launcher.py:1: SettingWithCopyWarning: \n",
            "A value is trying to be set on a copy of a slice from a DataFrame.\n",
            "Try using .loc[row_indexer,col_indexer] = value instead\n",
            "\n",
            "See the caveats in the documentation: https://pandas.pydata.org/pandas-docs/stable/user_guide/indexing.html#returning-a-view-versus-a-copy\n",
            "  \"\"\"Entry point for launching an IPython kernel.\n"
          ]
        }
      ]
    },
    {
      "cell_type": "markdown",
      "source": [
        "**Cначала Loan Term Imputation**. Потом будет больше инфы для более сильной **Credit History** "
      ],
      "metadata": {
        "id": "tYC4LW4UVOW4"
      },
      "id": "tYC4LW4UVOW4"
    },
    {
      "cell_type": "markdown",
      "source": [
        "** **спойлер**: ничего не вышло. Не хочу тратить на это время. Все классификаторы заполняют модой(360 месяцев)"
      ],
      "metadata": {
        "id": "jWoiVR3ajEcc"
      },
      "id": "jWoiVR3ajEcc"
    },
    {
      "cell_type": "code",
      "source": [
        "train_num['Loan_Amount_Term'] = train_num['Loan_Amount_Term'].fillna(360.0)"
      ],
      "metadata": {
        "colab": {
          "base_uri": "https://localhost:8080/"
        },
        "id": "H_BeXGtUjUgH",
        "outputId": "fdef8296-fdd2-4291-cd0f-1386042d3056"
      },
      "id": "H_BeXGtUjUgH",
      "execution_count": 811,
      "outputs": [
        {
          "output_type": "stream",
          "name": "stderr",
          "text": [
            "/usr/local/lib/python3.7/dist-packages/ipykernel_launcher.py:1: SettingWithCopyWarning: \n",
            "A value is trying to be set on a copy of a slice from a DataFrame.\n",
            "Try using .loc[row_indexer,col_indexer] = value instead\n",
            "\n",
            "See the caveats in the documentation: https://pandas.pydata.org/pandas-docs/stable/user_guide/indexing.html#returning-a-view-versus-a-copy\n",
            "  \"\"\"Entry point for launching an IPython kernel.\n"
          ]
        }
      ]
    },
    {
      "cell_type": "markdown",
      "source": [
        "Заполняем **Credit History**."
      ],
      "metadata": {
        "id": "b9YhoR3IjmxB"
      },
      "id": "b9YhoR3IjmxB"
    },
    {
      "cell_type": "code",
      "source": [
        "RS=4\n",
        "\n",
        "ch = train_num['Credit_History']\n",
        "X_ch = pd.concat([train_num.drop(['Credit_History'], axis=1), cat_dummies], axis=1)\n",
        "\n",
        "sc = MinMaxScaler()\n",
        "\n",
        "X_ch = pd.DataFrame(data=sc.fit_transform(X_ch), columns=X_ch.columns)\n",
        "\n",
        "X_ch['Loan_Amount_Term'] = X_ch['Loan_Amount_Term'].fillna(360.0)\n",
        "X_ch['LoanAmount'] = X_ch['LoanAmount'].fillna(X_ch['LoanAmount'].mean())\n",
        "\n",
        "# X_term['Credit_History'] = X_term['Credit_History'].astype('float64')\n",
        "\n",
        "ch_to_train_test =  ch[~ch.isna()]\n",
        "ch_to_predict =  ch[ch.isna()]\n",
        "\n",
        "X_ch_to_train_test =  X_ch[~ch.isna()]\n",
        "X_ch_to_predict =  X_ch[ch.isna()]\n",
        "\n",
        "\n",
        "from sklearn.model_selection import train_test_split\n",
        "from sklearn.neighbors import KNeighborsClassifier\n",
        "from sklearn.metrics import confusion_matrix, classification_report\n",
        "\n",
        "X_train, X_test, y_train, y_test = train_test_split(X_ch_to_train_test, ch_to_train_test, \n",
        "                                                    test_size=0.2, random_state=RS)\n",
        "\n",
        "\n",
        "knn = KNeighborsClassifier(n_neighbors=5)\n",
        "knn.fit(X_train, y_train)\n",
        "\n",
        "\n",
        "print(knn.score(X_test, y_test))\n",
        "print(knn.score(X_train, y_train))\n",
        "\n",
        "print(confusion_matrix(y_test, knn.predict(X_test)))\n",
        "print(confusion_matrix(y_train, knn.predict(X_train)))\n",
        "\n",
        "print(classification_report(y_test, knn.predict(X_test)))\n",
        "print(classification_report(y_train, knn.predict(X_train)))"
      ],
      "metadata": {
        "colab": {
          "base_uri": "https://localhost:8080/"
        },
        "id": "4lCF0eRjVffR",
        "outputId": "b1f382d9-deb5-4143-a049-f40723620a1b"
      },
      "id": "4lCF0eRjVffR",
      "execution_count": 812,
      "outputs": [
        {
          "output_type": "stream",
          "name": "stdout",
          "text": [
            "0.9026548672566371\n",
            "0.8736141906873615\n",
            "[[ 9  8]\n",
            " [ 3 93]]\n",
            "[[ 35  37]\n",
            " [ 20 359]]\n",
            "              precision    recall  f1-score   support\n",
            "\n",
            "         0.0       0.75      0.53      0.62        17\n",
            "         1.0       0.92      0.97      0.94        96\n",
            "\n",
            "    accuracy                           0.90       113\n",
            "   macro avg       0.84      0.75      0.78       113\n",
            "weighted avg       0.90      0.90      0.90       113\n",
            "\n",
            "              precision    recall  f1-score   support\n",
            "\n",
            "         0.0       0.64      0.49      0.55        72\n",
            "         1.0       0.91      0.95      0.93       379\n",
            "\n",
            "    accuracy                           0.87       451\n",
            "   macro avg       0.77      0.72      0.74       451\n",
            "weighted avg       0.86      0.87      0.87       451\n",
            "\n"
          ]
        }
      ]
    },
    {
      "cell_type": "markdown",
      "source": [
        "Лучший выбор - KNN(5). Удивительно, но оверфита нет."
      ],
      "metadata": {
        "id": "EkuPc_Egm3sk"
      },
      "id": "EkuPc_Egm3sk"
    },
    {
      "cell_type": "code",
      "source": [
        "X_ch['Credit_History'] = ch\n",
        "X_ch['Credit_History'][X_ch['Credit_History'].isna()] = knn.predict(X_ch.drop(['Credit_History'], axis=1))\n",
        "\n",
        "temp_['Credit_History'] = X_ch['Credit_History']"
      ],
      "metadata": {
        "id": "Vt1k5bsmrgW6"
      },
      "id": "Vt1k5bsmrgW6",
      "execution_count": 813,
      "outputs": []
    },
    {
      "cell_type": "markdown",
      "source": [
        "**Доход в семье на одного человека умножаем на срок дейсвия кредита. Соотносим цифры.**"
      ],
      "metadata": {
        "id": "0VVF-SMRFFar"
      },
      "id": "0VVF-SMRFFar"
    },
    {
      "cell_type": "code",
      "source": [
        "# temp_['Dependents'] = temp_['Dependents'].fillna(0)\n",
        "# temp_['Dependents'] = temp_['Dependents'].replace('3+', 3.5)\n",
        "# temp_['Dependents'] = temp_['Dependents'].astype('float')\n",
        "\n",
        "# temp_['Dependents'].value_counts()"
      ],
      "metadata": {
        "id": "4g4mFpBKCiEi"
      },
      "id": "4g4mFpBKCiEi",
      "execution_count": 799,
      "outputs": []
    },
    {
      "cell_type": "code",
      "source": [
        "# temp_['Medium_Family_Income'] = (temp['ApplicantIncome'] + temp['CoapplicantIncome']) / (temp_['Dependents'] + 1)"
      ],
      "metadata": {
        "id": "pXVSZkjM0mnr"
      },
      "id": "pXVSZkjM0mnr",
      "execution_count": 788,
      "outputs": []
    },
    {
      "cell_type": "code",
      "source": [
        "# sns.histplot(temp_['Medium_Family_Income'])"
      ],
      "metadata": {
        "id": "FYCxvjK1D96o"
      },
      "id": "FYCxvjK1D96o",
      "execution_count": 800,
      "outputs": []
    },
    {
      "cell_type": "code",
      "source": [
        "# temp_['Stable_Medium_Family_Income'] = temp_['Medium_Family_Income'] * temp['Loan_Amount_Term']"
      ],
      "metadata": {
        "id": "vHTgRDk3BMQT"
      },
      "id": "vHTgRDk3BMQT",
      "execution_count": 801,
      "outputs": []
    },
    {
      "cell_type": "code",
      "source": [
        "# temp_['Is_Stable_Medium_Family_Income'] = 0.1*temp_['Stable_Medium_Family_Income'] - (temp['LoanAmount'] * 1000)"
      ],
      "metadata": {
        "id": "fgvjcy9fEp4H"
      },
      "id": "fgvjcy9fEp4H",
      "execution_count": 802,
      "outputs": []
    },
    {
      "cell_type": "code",
      "source": [
        "# sns.histplot(temp_['Is_Stable_Medium_Family_Income'])"
      ],
      "metadata": {
        "id": "rVtLL1XaFdlH"
      },
      "id": "rVtLL1XaFdlH",
      "execution_count": 803,
      "outputs": []
    },
    {
      "cell_type": "code",
      "source": [
        "# temp_[temp_['Is_Stable_Medium_Family_Income'] <= 0.8*1000000].mean()"
      ],
      "metadata": {
        "id": "YMYCF9IuHtLj"
      },
      "id": "YMYCF9IuHtLj",
      "execution_count": 804,
      "outputs": []
    },
    {
      "cell_type": "markdown",
      "source": [
        "Не сработало предположение, проверку \"на дурака\" проходят все. Ведь тут наивно предполагается, что человек будет стабильно до 40 лет получать одну и ту же зарплату. Нужно перед этим ввести понятие \"риска\" и использовать в качестве коэфициента."
      ],
      "metadata": {
        "id": "-vQOUYGUJFqD"
      },
      "id": "-vQOUYGUJFqD"
    },
    {
      "cell_type": "markdown",
      "source": [
        "**Быстро заполним нули в temp_**"
      ],
      "metadata": {
        "id": "fnnzPcnPuojP"
      },
      "id": "fnnzPcnPuojP"
    },
    {
      "cell_type": "code",
      "source": [
        "temp_['Group_Loan_Amount_Term'] = temp_['Group_Loan_Amount_Term'].fillna(temp_['Group_Loan_Amount_Term'].mode()[0])\n",
        "temp_['Group_Loan_Amount_Term'].isnull().sum()"
      ],
      "metadata": {
        "id": "UYd2gbsZut9O",
        "outputId": "846574c8-0e11-4b4a-e869-aed307fb8247",
        "colab": {
          "base_uri": "https://localhost:8080/"
        }
      },
      "id": "UYd2gbsZut9O",
      "execution_count": 821,
      "outputs": [
        {
          "output_type": "execute_result",
          "data": {
            "text/plain": [
              "0"
            ]
          },
          "metadata": {},
          "execution_count": 821
        }
      ]
    },
    {
      "cell_type": "markdown",
      "source": [
        "**Risk feature**"
      ],
      "metadata": {
        "id": "yGAYwBqRR0La"
      },
      "id": "yGAYwBqRR0La"
    },
    {
      "cell_type": "markdown",
      "source": [
        "Family_Risk_Feature"
      ],
      "metadata": {
        "id": "NvfKw0CCtHe9"
      },
      "id": "NvfKw0CCtHe9"
    },
    {
      "cell_type": "code",
      "source": [
        "def family_risk(col):\n",
        "  \n",
        "  index = 1\n",
        "\n",
        "  #Разведённые женщины и просто неженетые люди\n",
        "  if col['Married'] == 'No':\n",
        "    index *= 2/3\n",
        "    if (col['Dependents'] != '0') & (col['Gender'] == 'Female'):\n",
        "      index *= 1/2\n",
        "\n",
        "  # #Неженатые мужики \n",
        "  # if col['Married'] == 'No':\n",
        "  #   index *= 2/3\n",
        "  #   if (col['Dependents'] != '0') & (col['Gender'] == 'Female'):\n",
        "  #     index *= 1/2\n",
        "\n",
        "\n",
        "  \n",
        "\n",
        "\n",
        "  return index\n",
        "\n",
        "fr = [family_risk(temp_.iloc[i]) for i in range(len(temp_))]\n",
        "temp_['Family_Risk'] = fr\n",
        "temp_.corr()"
      ],
      "metadata": {
        "id": "BzOwyEGFtGfK",
        "outputId": "1aadfa73-98b1-457a-e0f6-40b1595aa9c1",
        "colab": {
          "base_uri": "https://localhost:8080/",
          "height": 237
        }
      },
      "id": "BzOwyEGFtGfK",
      "execution_count": 1087,
      "outputs": [
        {
          "output_type": "execute_result",
          "data": {
            "text/html": [
              "\n",
              "  <div id=\"df-1d758fbe-a1ad-415b-92cb-f1f4a574df4e\">\n",
              "    <div class=\"colab-df-container\">\n",
              "      <div>\n",
              "<style scoped>\n",
              "    .dataframe tbody tr th:only-of-type {\n",
              "        vertical-align: middle;\n",
              "    }\n",
              "\n",
              "    .dataframe tbody tr th {\n",
              "        vertical-align: top;\n",
              "    }\n",
              "\n",
              "    .dataframe thead th {\n",
              "        text-align: right;\n",
              "    }\n",
              "</style>\n",
              "<table border=\"1\" class=\"dataframe\">\n",
              "  <thead>\n",
              "    <tr style=\"text-align: right;\">\n",
              "      <th></th>\n",
              "      <th>Loan_Status</th>\n",
              "      <th>Credit_History</th>\n",
              "      <th>Family_Risk</th>\n",
              "      <th>Work_Risk</th>\n",
              "      <th>Family_Work_Mean_Risk</th>\n",
              "      <th>Risk</th>\n",
              "    </tr>\n",
              "  </thead>\n",
              "  <tbody>\n",
              "    <tr>\n",
              "      <th>Loan_Status</th>\n",
              "      <td>1.000000</td>\n",
              "      <td>-0.562034</td>\n",
              "      <td>-0.095780</td>\n",
              "      <td>-0.085884</td>\n",
              "      <td>-0.118465</td>\n",
              "      <td>-0.154660</td>\n",
              "    </tr>\n",
              "    <tr>\n",
              "      <th>Credit_History</th>\n",
              "      <td>-0.562034</td>\n",
              "      <td>1.000000</td>\n",
              "      <td>-0.003047</td>\n",
              "      <td>0.081967</td>\n",
              "      <td>0.035785</td>\n",
              "      <td>0.037664</td>\n",
              "    </tr>\n",
              "    <tr>\n",
              "      <th>Family_Risk</th>\n",
              "      <td>-0.095780</td>\n",
              "      <td>-0.003047</td>\n",
              "      <td>1.000000</td>\n",
              "      <td>-0.010292</td>\n",
              "      <td>0.739068</td>\n",
              "      <td>0.494161</td>\n",
              "    </tr>\n",
              "    <tr>\n",
              "      <th>Work_Risk</th>\n",
              "      <td>-0.085884</td>\n",
              "      <td>0.081967</td>\n",
              "      <td>-0.010292</td>\n",
              "      <td>1.000000</td>\n",
              "      <td>0.624329</td>\n",
              "      <td>0.387311</td>\n",
              "    </tr>\n",
              "    <tr>\n",
              "      <th>Family_Work_Mean_Risk</th>\n",
              "      <td>-0.118465</td>\n",
              "      <td>0.035785</td>\n",
              "      <td>0.739068</td>\n",
              "      <td>0.624329</td>\n",
              "      <td>1.000000</td>\n",
              "      <td>0.650295</td>\n",
              "    </tr>\n",
              "    <tr>\n",
              "      <th>Risk</th>\n",
              "      <td>-0.154660</td>\n",
              "      <td>0.037664</td>\n",
              "      <td>0.494161</td>\n",
              "      <td>0.387311</td>\n",
              "      <td>0.650295</td>\n",
              "      <td>1.000000</td>\n",
              "    </tr>\n",
              "  </tbody>\n",
              "</table>\n",
              "</div>\n",
              "      <button class=\"colab-df-convert\" onclick=\"convertToInteractive('df-1d758fbe-a1ad-415b-92cb-f1f4a574df4e')\"\n",
              "              title=\"Convert this dataframe to an interactive table.\"\n",
              "              style=\"display:none;\">\n",
              "        \n",
              "  <svg xmlns=\"http://www.w3.org/2000/svg\" height=\"24px\"viewBox=\"0 0 24 24\"\n",
              "       width=\"24px\">\n",
              "    <path d=\"M0 0h24v24H0V0z\" fill=\"none\"/>\n",
              "    <path d=\"M18.56 5.44l.94 2.06.94-2.06 2.06-.94-2.06-.94-.94-2.06-.94 2.06-2.06.94zm-11 1L8.5 8.5l.94-2.06 2.06-.94-2.06-.94L8.5 2.5l-.94 2.06-2.06.94zm10 10l.94 2.06.94-2.06 2.06-.94-2.06-.94-.94-2.06-.94 2.06-2.06.94z\"/><path d=\"M17.41 7.96l-1.37-1.37c-.4-.4-.92-.59-1.43-.59-.52 0-1.04.2-1.43.59L10.3 9.45l-7.72 7.72c-.78.78-.78 2.05 0 2.83L4 21.41c.39.39.9.59 1.41.59.51 0 1.02-.2 1.41-.59l7.78-7.78 2.81-2.81c.8-.78.8-2.07 0-2.86zM5.41 20L4 18.59l7.72-7.72 1.47 1.35L5.41 20z\"/>\n",
              "  </svg>\n",
              "      </button>\n",
              "      \n",
              "  <style>\n",
              "    .colab-df-container {\n",
              "      display:flex;\n",
              "      flex-wrap:wrap;\n",
              "      gap: 12px;\n",
              "    }\n",
              "\n",
              "    .colab-df-convert {\n",
              "      background-color: #E8F0FE;\n",
              "      border: none;\n",
              "      border-radius: 50%;\n",
              "      cursor: pointer;\n",
              "      display: none;\n",
              "      fill: #1967D2;\n",
              "      height: 32px;\n",
              "      padding: 0 0 0 0;\n",
              "      width: 32px;\n",
              "    }\n",
              "\n",
              "    .colab-df-convert:hover {\n",
              "      background-color: #E2EBFA;\n",
              "      box-shadow: 0px 1px 2px rgba(60, 64, 67, 0.3), 0px 1px 3px 1px rgba(60, 64, 67, 0.15);\n",
              "      fill: #174EA6;\n",
              "    }\n",
              "\n",
              "    [theme=dark] .colab-df-convert {\n",
              "      background-color: #3B4455;\n",
              "      fill: #D2E3FC;\n",
              "    }\n",
              "\n",
              "    [theme=dark] .colab-df-convert:hover {\n",
              "      background-color: #434B5C;\n",
              "      box-shadow: 0px 1px 3px 1px rgba(0, 0, 0, 0.15);\n",
              "      filter: drop-shadow(0px 1px 2px rgba(0, 0, 0, 0.3));\n",
              "      fill: #FFFFFF;\n",
              "    }\n",
              "  </style>\n",
              "\n",
              "      <script>\n",
              "        const buttonEl =\n",
              "          document.querySelector('#df-1d758fbe-a1ad-415b-92cb-f1f4a574df4e button.colab-df-convert');\n",
              "        buttonEl.style.display =\n",
              "          google.colab.kernel.accessAllowed ? 'block' : 'none';\n",
              "\n",
              "        async function convertToInteractive(key) {\n",
              "          const element = document.querySelector('#df-1d758fbe-a1ad-415b-92cb-f1f4a574df4e');\n",
              "          const dataTable =\n",
              "            await google.colab.kernel.invokeFunction('convertToInteractive',\n",
              "                                                     [key], {});\n",
              "          if (!dataTable) return;\n",
              "\n",
              "          const docLinkHtml = 'Like what you see? Visit the ' +\n",
              "            '<a target=\"_blank\" href=https://colab.research.google.com/notebooks/data_table.ipynb>data table notebook</a>'\n",
              "            + ' to learn more about interactive tables.';\n",
              "          element.innerHTML = '';\n",
              "          dataTable['output_type'] = 'display_data';\n",
              "          await google.colab.output.renderOutput(dataTable, element);\n",
              "          const docLink = document.createElement('div');\n",
              "          docLink.innerHTML = docLinkHtml;\n",
              "          element.appendChild(docLink);\n",
              "        }\n",
              "      </script>\n",
              "    </div>\n",
              "  </div>\n",
              "  "
            ],
            "text/plain": [
              "                       Loan_Status  ...      Risk\n",
              "Loan_Status               1.000000  ... -0.154660\n",
              "Credit_History           -0.562034  ...  0.037664\n",
              "Family_Risk              -0.095780  ...  0.494161\n",
              "Work_Risk                -0.085884  ...  0.387311\n",
              "Family_Work_Mean_Risk    -0.118465  ...  0.650295\n",
              "Risk                     -0.154660  ...  1.000000\n",
              "\n",
              "[6 rows x 6 columns]"
            ]
          },
          "metadata": {},
          "execution_count": 1087
        }
      ]
    },
    {
      "cell_type": "markdown",
      "source": [
        "Почти 8%, неплохо"
      ],
      "metadata": {
        "id": "KW9ruoEK1pVD"
      },
      "id": "KW9ruoEK1pVD"
    },
    {
      "cell_type": "markdown",
      "source": [
        "Work_Risk_feature"
      ],
      "metadata": {
        "id": "WXUovghp2C89"
      },
      "id": "WXUovghp2C89"
    },
    {
      "cell_type": "code",
      "source": [
        "def work_risk(col):\n",
        "  \n",
        "  index = 1\n",
        "\n",
        "  if col['Education'] != 'Graduate':\n",
        "    index *= 2/3\n",
        "    if col['Self_Employed'] is 'Yes':\n",
        "      index *= 1/2\n",
        "\n",
        "  return index\n",
        "\n",
        "wr = [work_risk(temp_.iloc[i]) for i in range(len(temp_))]\n",
        "temp_['Work_Risk'] = wr\n",
        "temp_.corr()"
      ],
      "metadata": {
        "id": "28E2LEi00aWn",
        "outputId": "43638e84-7fa7-40ca-d785-a952e29d3ce0",
        "colab": {
          "base_uri": "https://localhost:8080/",
          "height": 237
        }
      },
      "id": "28E2LEi00aWn",
      "execution_count": 1088,
      "outputs": [
        {
          "output_type": "execute_result",
          "data": {
            "text/html": [
              "\n",
              "  <div id=\"df-49aa4e0b-462f-4bea-b9ac-f8d18486f4d5\">\n",
              "    <div class=\"colab-df-container\">\n",
              "      <div>\n",
              "<style scoped>\n",
              "    .dataframe tbody tr th:only-of-type {\n",
              "        vertical-align: middle;\n",
              "    }\n",
              "\n",
              "    .dataframe tbody tr th {\n",
              "        vertical-align: top;\n",
              "    }\n",
              "\n",
              "    .dataframe thead th {\n",
              "        text-align: right;\n",
              "    }\n",
              "</style>\n",
              "<table border=\"1\" class=\"dataframe\">\n",
              "  <thead>\n",
              "    <tr style=\"text-align: right;\">\n",
              "      <th></th>\n",
              "      <th>Loan_Status</th>\n",
              "      <th>Credit_History</th>\n",
              "      <th>Family_Risk</th>\n",
              "      <th>Work_Risk</th>\n",
              "      <th>Family_Work_Mean_Risk</th>\n",
              "      <th>Risk</th>\n",
              "    </tr>\n",
              "  </thead>\n",
              "  <tbody>\n",
              "    <tr>\n",
              "      <th>Loan_Status</th>\n",
              "      <td>1.000000</td>\n",
              "      <td>-0.562034</td>\n",
              "      <td>-0.095780</td>\n",
              "      <td>-0.085884</td>\n",
              "      <td>-0.118465</td>\n",
              "      <td>-0.154660</td>\n",
              "    </tr>\n",
              "    <tr>\n",
              "      <th>Credit_History</th>\n",
              "      <td>-0.562034</td>\n",
              "      <td>1.000000</td>\n",
              "      <td>-0.003047</td>\n",
              "      <td>0.081967</td>\n",
              "      <td>0.035785</td>\n",
              "      <td>0.037664</td>\n",
              "    </tr>\n",
              "    <tr>\n",
              "      <th>Family_Risk</th>\n",
              "      <td>-0.095780</td>\n",
              "      <td>-0.003047</td>\n",
              "      <td>1.000000</td>\n",
              "      <td>-0.010292</td>\n",
              "      <td>0.739068</td>\n",
              "      <td>0.494161</td>\n",
              "    </tr>\n",
              "    <tr>\n",
              "      <th>Work_Risk</th>\n",
              "      <td>-0.085884</td>\n",
              "      <td>0.081967</td>\n",
              "      <td>-0.010292</td>\n",
              "      <td>1.000000</td>\n",
              "      <td>0.624329</td>\n",
              "      <td>0.387311</td>\n",
              "    </tr>\n",
              "    <tr>\n",
              "      <th>Family_Work_Mean_Risk</th>\n",
              "      <td>-0.118465</td>\n",
              "      <td>0.035785</td>\n",
              "      <td>0.739068</td>\n",
              "      <td>0.624329</td>\n",
              "      <td>1.000000</td>\n",
              "      <td>0.650295</td>\n",
              "    </tr>\n",
              "    <tr>\n",
              "      <th>Risk</th>\n",
              "      <td>-0.154660</td>\n",
              "      <td>0.037664</td>\n",
              "      <td>0.494161</td>\n",
              "      <td>0.387311</td>\n",
              "      <td>0.650295</td>\n",
              "      <td>1.000000</td>\n",
              "    </tr>\n",
              "  </tbody>\n",
              "</table>\n",
              "</div>\n",
              "      <button class=\"colab-df-convert\" onclick=\"convertToInteractive('df-49aa4e0b-462f-4bea-b9ac-f8d18486f4d5')\"\n",
              "              title=\"Convert this dataframe to an interactive table.\"\n",
              "              style=\"display:none;\">\n",
              "        \n",
              "  <svg xmlns=\"http://www.w3.org/2000/svg\" height=\"24px\"viewBox=\"0 0 24 24\"\n",
              "       width=\"24px\">\n",
              "    <path d=\"M0 0h24v24H0V0z\" fill=\"none\"/>\n",
              "    <path d=\"M18.56 5.44l.94 2.06.94-2.06 2.06-.94-2.06-.94-.94-2.06-.94 2.06-2.06.94zm-11 1L8.5 8.5l.94-2.06 2.06-.94-2.06-.94L8.5 2.5l-.94 2.06-2.06.94zm10 10l.94 2.06.94-2.06 2.06-.94-2.06-.94-.94-2.06-.94 2.06-2.06.94z\"/><path d=\"M17.41 7.96l-1.37-1.37c-.4-.4-.92-.59-1.43-.59-.52 0-1.04.2-1.43.59L10.3 9.45l-7.72 7.72c-.78.78-.78 2.05 0 2.83L4 21.41c.39.39.9.59 1.41.59.51 0 1.02-.2 1.41-.59l7.78-7.78 2.81-2.81c.8-.78.8-2.07 0-2.86zM5.41 20L4 18.59l7.72-7.72 1.47 1.35L5.41 20z\"/>\n",
              "  </svg>\n",
              "      </button>\n",
              "      \n",
              "  <style>\n",
              "    .colab-df-container {\n",
              "      display:flex;\n",
              "      flex-wrap:wrap;\n",
              "      gap: 12px;\n",
              "    }\n",
              "\n",
              "    .colab-df-convert {\n",
              "      background-color: #E8F0FE;\n",
              "      border: none;\n",
              "      border-radius: 50%;\n",
              "      cursor: pointer;\n",
              "      display: none;\n",
              "      fill: #1967D2;\n",
              "      height: 32px;\n",
              "      padding: 0 0 0 0;\n",
              "      width: 32px;\n",
              "    }\n",
              "\n",
              "    .colab-df-convert:hover {\n",
              "      background-color: #E2EBFA;\n",
              "      box-shadow: 0px 1px 2px rgba(60, 64, 67, 0.3), 0px 1px 3px 1px rgba(60, 64, 67, 0.15);\n",
              "      fill: #174EA6;\n",
              "    }\n",
              "\n",
              "    [theme=dark] .colab-df-convert {\n",
              "      background-color: #3B4455;\n",
              "      fill: #D2E3FC;\n",
              "    }\n",
              "\n",
              "    [theme=dark] .colab-df-convert:hover {\n",
              "      background-color: #434B5C;\n",
              "      box-shadow: 0px 1px 3px 1px rgba(0, 0, 0, 0.15);\n",
              "      filter: drop-shadow(0px 1px 2px rgba(0, 0, 0, 0.3));\n",
              "      fill: #FFFFFF;\n",
              "    }\n",
              "  </style>\n",
              "\n",
              "      <script>\n",
              "        const buttonEl =\n",
              "          document.querySelector('#df-49aa4e0b-462f-4bea-b9ac-f8d18486f4d5 button.colab-df-convert');\n",
              "        buttonEl.style.display =\n",
              "          google.colab.kernel.accessAllowed ? 'block' : 'none';\n",
              "\n",
              "        async function convertToInteractive(key) {\n",
              "          const element = document.querySelector('#df-49aa4e0b-462f-4bea-b9ac-f8d18486f4d5');\n",
              "          const dataTable =\n",
              "            await google.colab.kernel.invokeFunction('convertToInteractive',\n",
              "                                                     [key], {});\n",
              "          if (!dataTable) return;\n",
              "\n",
              "          const docLinkHtml = 'Like what you see? Visit the ' +\n",
              "            '<a target=\"_blank\" href=https://colab.research.google.com/notebooks/data_table.ipynb>data table notebook</a>'\n",
              "            + ' to learn more about interactive tables.';\n",
              "          element.innerHTML = '';\n",
              "          dataTable['output_type'] = 'display_data';\n",
              "          await google.colab.output.renderOutput(dataTable, element);\n",
              "          const docLink = document.createElement('div');\n",
              "          docLink.innerHTML = docLinkHtml;\n",
              "          element.appendChild(docLink);\n",
              "        }\n",
              "      </script>\n",
              "    </div>\n",
              "  </div>\n",
              "  "
            ],
            "text/plain": [
              "                       Loan_Status  ...      Risk\n",
              "Loan_Status               1.000000  ... -0.154660\n",
              "Credit_History           -0.562034  ...  0.037664\n",
              "Family_Risk              -0.095780  ...  0.494161\n",
              "Work_Risk                -0.085884  ...  0.387311\n",
              "Family_Work_Mean_Risk    -0.118465  ...  0.650295\n",
              "Risk                     -0.154660  ...  1.000000\n",
              "\n",
              "[6 rows x 6 columns]"
            ]
          },
          "metadata": {},
          "execution_count": 1088
        }
      ]
    },
    {
      "cell_type": "markdown",
      "source": [
        "Больше 8%, еще лучше"
      ],
      "metadata": {
        "id": "AGu07Qsm3ZVp"
      },
      "id": "AGu07Qsm3ZVp"
    },
    {
      "cell_type": "markdown",
      "source": [
        "Ищем среднее"
      ],
      "metadata": {
        "id": "ek5PpR4K36av"
      },
      "id": "ek5PpR4K36av"
    },
    {
      "cell_type": "code",
      "source": [
        "temp_['Family_Work_Mean_Risk'] = (temp_['Family_Risk'] + temp_['Work_Risk']) / 2\n",
        "temp_.corr()"
      ],
      "metadata": {
        "id": "2HXhwjOw3KpF",
        "outputId": "de773160-707e-4c7b-ef39-126a545464e8",
        "colab": {
          "base_uri": "https://localhost:8080/",
          "height": 237
        }
      },
      "id": "2HXhwjOw3KpF",
      "execution_count": 1089,
      "outputs": [
        {
          "output_type": "execute_result",
          "data": {
            "text/html": [
              "\n",
              "  <div id=\"df-8028360b-602d-498c-8b4d-2436a6da8366\">\n",
              "    <div class=\"colab-df-container\">\n",
              "      <div>\n",
              "<style scoped>\n",
              "    .dataframe tbody tr th:only-of-type {\n",
              "        vertical-align: middle;\n",
              "    }\n",
              "\n",
              "    .dataframe tbody tr th {\n",
              "        vertical-align: top;\n",
              "    }\n",
              "\n",
              "    .dataframe thead th {\n",
              "        text-align: right;\n",
              "    }\n",
              "</style>\n",
              "<table border=\"1\" class=\"dataframe\">\n",
              "  <thead>\n",
              "    <tr style=\"text-align: right;\">\n",
              "      <th></th>\n",
              "      <th>Loan_Status</th>\n",
              "      <th>Credit_History</th>\n",
              "      <th>Family_Risk</th>\n",
              "      <th>Work_Risk</th>\n",
              "      <th>Family_Work_Mean_Risk</th>\n",
              "      <th>Risk</th>\n",
              "    </tr>\n",
              "  </thead>\n",
              "  <tbody>\n",
              "    <tr>\n",
              "      <th>Loan_Status</th>\n",
              "      <td>1.000000</td>\n",
              "      <td>-0.562034</td>\n",
              "      <td>-0.095780</td>\n",
              "      <td>-0.085884</td>\n",
              "      <td>-0.128882</td>\n",
              "      <td>-0.154660</td>\n",
              "    </tr>\n",
              "    <tr>\n",
              "      <th>Credit_History</th>\n",
              "      <td>-0.562034</td>\n",
              "      <td>1.000000</td>\n",
              "      <td>-0.003047</td>\n",
              "      <td>0.081967</td>\n",
              "      <td>0.047521</td>\n",
              "      <td>0.037664</td>\n",
              "    </tr>\n",
              "    <tr>\n",
              "      <th>Family_Risk</th>\n",
              "      <td>-0.095780</td>\n",
              "      <td>-0.003047</td>\n",
              "      <td>1.000000</td>\n",
              "      <td>-0.010292</td>\n",
              "      <td>0.792839</td>\n",
              "      <td>0.494161</td>\n",
              "    </tr>\n",
              "    <tr>\n",
              "      <th>Work_Risk</th>\n",
              "      <td>-0.085884</td>\n",
              "      <td>0.081967</td>\n",
              "      <td>-0.010292</td>\n",
              "      <td>1.000000</td>\n",
              "      <td>0.601239</td>\n",
              "      <td>0.387311</td>\n",
              "    </tr>\n",
              "    <tr>\n",
              "      <th>Family_Work_Mean_Risk</th>\n",
              "      <td>-0.128882</td>\n",
              "      <td>0.047521</td>\n",
              "      <td>0.792839</td>\n",
              "      <td>0.601239</td>\n",
              "      <td>1.000000</td>\n",
              "      <td>0.630942</td>\n",
              "    </tr>\n",
              "    <tr>\n",
              "      <th>Risk</th>\n",
              "      <td>-0.154660</td>\n",
              "      <td>0.037664</td>\n",
              "      <td>0.494161</td>\n",
              "      <td>0.387311</td>\n",
              "      <td>0.630942</td>\n",
              "      <td>1.000000</td>\n",
              "    </tr>\n",
              "  </tbody>\n",
              "</table>\n",
              "</div>\n",
              "      <button class=\"colab-df-convert\" onclick=\"convertToInteractive('df-8028360b-602d-498c-8b4d-2436a6da8366')\"\n",
              "              title=\"Convert this dataframe to an interactive table.\"\n",
              "              style=\"display:none;\">\n",
              "        \n",
              "  <svg xmlns=\"http://www.w3.org/2000/svg\" height=\"24px\"viewBox=\"0 0 24 24\"\n",
              "       width=\"24px\">\n",
              "    <path d=\"M0 0h24v24H0V0z\" fill=\"none\"/>\n",
              "    <path d=\"M18.56 5.44l.94 2.06.94-2.06 2.06-.94-2.06-.94-.94-2.06-.94 2.06-2.06.94zm-11 1L8.5 8.5l.94-2.06 2.06-.94-2.06-.94L8.5 2.5l-.94 2.06-2.06.94zm10 10l.94 2.06.94-2.06 2.06-.94-2.06-.94-.94-2.06-.94 2.06-2.06.94z\"/><path d=\"M17.41 7.96l-1.37-1.37c-.4-.4-.92-.59-1.43-.59-.52 0-1.04.2-1.43.59L10.3 9.45l-7.72 7.72c-.78.78-.78 2.05 0 2.83L4 21.41c.39.39.9.59 1.41.59.51 0 1.02-.2 1.41-.59l7.78-7.78 2.81-2.81c.8-.78.8-2.07 0-2.86zM5.41 20L4 18.59l7.72-7.72 1.47 1.35L5.41 20z\"/>\n",
              "  </svg>\n",
              "      </button>\n",
              "      \n",
              "  <style>\n",
              "    .colab-df-container {\n",
              "      display:flex;\n",
              "      flex-wrap:wrap;\n",
              "      gap: 12px;\n",
              "    }\n",
              "\n",
              "    .colab-df-convert {\n",
              "      background-color: #E8F0FE;\n",
              "      border: none;\n",
              "      border-radius: 50%;\n",
              "      cursor: pointer;\n",
              "      display: none;\n",
              "      fill: #1967D2;\n",
              "      height: 32px;\n",
              "      padding: 0 0 0 0;\n",
              "      width: 32px;\n",
              "    }\n",
              "\n",
              "    .colab-df-convert:hover {\n",
              "      background-color: #E2EBFA;\n",
              "      box-shadow: 0px 1px 2px rgba(60, 64, 67, 0.3), 0px 1px 3px 1px rgba(60, 64, 67, 0.15);\n",
              "      fill: #174EA6;\n",
              "    }\n",
              "\n",
              "    [theme=dark] .colab-df-convert {\n",
              "      background-color: #3B4455;\n",
              "      fill: #D2E3FC;\n",
              "    }\n",
              "\n",
              "    [theme=dark] .colab-df-convert:hover {\n",
              "      background-color: #434B5C;\n",
              "      box-shadow: 0px 1px 3px 1px rgba(0, 0, 0, 0.15);\n",
              "      filter: drop-shadow(0px 1px 2px rgba(0, 0, 0, 0.3));\n",
              "      fill: #FFFFFF;\n",
              "    }\n",
              "  </style>\n",
              "\n",
              "      <script>\n",
              "        const buttonEl =\n",
              "          document.querySelector('#df-8028360b-602d-498c-8b4d-2436a6da8366 button.colab-df-convert');\n",
              "        buttonEl.style.display =\n",
              "          google.colab.kernel.accessAllowed ? 'block' : 'none';\n",
              "\n",
              "        async function convertToInteractive(key) {\n",
              "          const element = document.querySelector('#df-8028360b-602d-498c-8b4d-2436a6da8366');\n",
              "          const dataTable =\n",
              "            await google.colab.kernel.invokeFunction('convertToInteractive',\n",
              "                                                     [key], {});\n",
              "          if (!dataTable) return;\n",
              "\n",
              "          const docLinkHtml = 'Like what you see? Visit the ' +\n",
              "            '<a target=\"_blank\" href=https://colab.research.google.com/notebooks/data_table.ipynb>data table notebook</a>'\n",
              "            + ' to learn more about interactive tables.';\n",
              "          element.innerHTML = '';\n",
              "          dataTable['output_type'] = 'display_data';\n",
              "          await google.colab.output.renderOutput(dataTable, element);\n",
              "          const docLink = document.createElement('div');\n",
              "          docLink.innerHTML = docLinkHtml;\n",
              "          element.appendChild(docLink);\n",
              "        }\n",
              "      </script>\n",
              "    </div>\n",
              "  </div>\n",
              "  "
            ],
            "text/plain": [
              "                       Loan_Status  ...      Risk\n",
              "Loan_Status               1.000000  ... -0.154660\n",
              "Credit_History           -0.562034  ...  0.037664\n",
              "Family_Risk              -0.095780  ...  0.494161\n",
              "Work_Risk                -0.085884  ...  0.387311\n",
              "Family_Work_Mean_Risk    -0.128882  ...  0.630942\n",
              "Risk                     -0.154660  ...  1.000000\n",
              "\n",
              "[6 rows x 6 columns]"
            ]
          },
          "metadata": {},
          "execution_count": 1089
        }
      ]
    },
    {
      "cell_type": "markdown",
      "source": [
        "Еще лучше, ничего себе "
      ],
      "metadata": {
        "id": "64RLcnfK4cSC"
      },
      "id": "64RLcnfK4cSC"
    },
    {
      "cell_type": "markdown",
      "source": [
        "Делаем индикаторы по аутлаерам и кредит истории"
      ],
      "metadata": {
        "id": "YW8z-U6P45Ut"
      },
      "id": "YW8z-U6P45Ut"
    },
    {
      "cell_type": "code",
      "source": [
        "temp_['LoanAmount_Outliers'] = temp['LoanAmount_Outliers'] \n",
        "temp_['ApplicantIncome_Outliers'] = temp['ApplicantIncome_Outliers']\n",
        "temp_['CoapplicantIncome_Outliers'] = temp['CoapplicantIncome_Outliers']\n",
        "temp_['Group_Loan_Amount_Term'] = temp['Group_Loan_Amount_Term']"
      ],
      "metadata": {
        "id": "Qb5WmQrD4bjL"
      },
      "id": "Qb5WmQrD4bjL",
      "execution_count": 1090,
      "outputs": []
    },
    {
      "cell_type": "code",
      "source": [
        "def risk(col):\n",
        "  \n",
        "  index = col['Family_Work_Mean_Risk']\n",
        "\n",
        "  if col['Group_Loan_Amount_Term'] == '40 years':\n",
        "    index *= 0.75\n",
        "\n",
        "  if col['LoanAmount_Outliers'] == 'Outlier':\n",
        "    index *= 0.5\n",
        "\n",
        "  if col['Property_Area'] == 'Rural':\n",
        "    index *= 2/3\n",
        "\n",
        "  # if col['Credit_History'] == 0:\n",
        "  #   index *= 0.9\n",
        "\n",
        "  return index\n",
        "\n",
        "risk = [risk(temp_.iloc[i]) for i in range(len(temp_))]\n",
        "temp_['Risk'] = risk\n",
        "temp_.corr()"
      ],
      "metadata": {
        "id": "gQBlXQFr4m_n",
        "outputId": "6336142e-1677-4189-8e90-c82a3c0a1440",
        "colab": {
          "base_uri": "https://localhost:8080/",
          "height": 237
        }
      },
      "id": "gQBlXQFr4m_n",
      "execution_count": 1091,
      "outputs": [
        {
          "output_type": "execute_result",
          "data": {
            "text/html": [
              "\n",
              "  <div id=\"df-fd6dc915-1694-40e6-a69b-14fc2c09cfc5\">\n",
              "    <div class=\"colab-df-container\">\n",
              "      <div>\n",
              "<style scoped>\n",
              "    .dataframe tbody tr th:only-of-type {\n",
              "        vertical-align: middle;\n",
              "    }\n",
              "\n",
              "    .dataframe tbody tr th {\n",
              "        vertical-align: top;\n",
              "    }\n",
              "\n",
              "    .dataframe thead th {\n",
              "        text-align: right;\n",
              "    }\n",
              "</style>\n",
              "<table border=\"1\" class=\"dataframe\">\n",
              "  <thead>\n",
              "    <tr style=\"text-align: right;\">\n",
              "      <th></th>\n",
              "      <th>Loan_Status</th>\n",
              "      <th>Credit_History</th>\n",
              "      <th>Family_Risk</th>\n",
              "      <th>Work_Risk</th>\n",
              "      <th>Family_Work_Mean_Risk</th>\n",
              "      <th>Risk</th>\n",
              "    </tr>\n",
              "  </thead>\n",
              "  <tbody>\n",
              "    <tr>\n",
              "      <th>Loan_Status</th>\n",
              "      <td>1.000000</td>\n",
              "      <td>-0.562034</td>\n",
              "      <td>-0.095780</td>\n",
              "      <td>-0.085884</td>\n",
              "      <td>-0.128882</td>\n",
              "      <td>-0.182089</td>\n",
              "    </tr>\n",
              "    <tr>\n",
              "      <th>Credit_History</th>\n",
              "      <td>-0.562034</td>\n",
              "      <td>1.000000</td>\n",
              "      <td>-0.003047</td>\n",
              "      <td>0.081967</td>\n",
              "      <td>0.047521</td>\n",
              "      <td>0.045415</td>\n",
              "    </tr>\n",
              "    <tr>\n",
              "      <th>Family_Risk</th>\n",
              "      <td>-0.095780</td>\n",
              "      <td>-0.003047</td>\n",
              "      <td>1.000000</td>\n",
              "      <td>-0.010292</td>\n",
              "      <td>0.792839</td>\n",
              "      <td>0.357440</td>\n",
              "    </tr>\n",
              "    <tr>\n",
              "      <th>Work_Risk</th>\n",
              "      <td>-0.085884</td>\n",
              "      <td>0.081967</td>\n",
              "      <td>-0.010292</td>\n",
              "      <td>1.000000</td>\n",
              "      <td>0.601239</td>\n",
              "      <td>0.292755</td>\n",
              "    </tr>\n",
              "    <tr>\n",
              "      <th>Family_Work_Mean_Risk</th>\n",
              "      <td>-0.128882</td>\n",
              "      <td>0.047521</td>\n",
              "      <td>0.792839</td>\n",
              "      <td>0.601239</td>\n",
              "      <td>1.000000</td>\n",
              "      <td>0.464057</td>\n",
              "    </tr>\n",
              "    <tr>\n",
              "      <th>Risk</th>\n",
              "      <td>-0.182089</td>\n",
              "      <td>0.045415</td>\n",
              "      <td>0.357440</td>\n",
              "      <td>0.292755</td>\n",
              "      <td>0.464057</td>\n",
              "      <td>1.000000</td>\n",
              "    </tr>\n",
              "  </tbody>\n",
              "</table>\n",
              "</div>\n",
              "      <button class=\"colab-df-convert\" onclick=\"convertToInteractive('df-fd6dc915-1694-40e6-a69b-14fc2c09cfc5')\"\n",
              "              title=\"Convert this dataframe to an interactive table.\"\n",
              "              style=\"display:none;\">\n",
              "        \n",
              "  <svg xmlns=\"http://www.w3.org/2000/svg\" height=\"24px\"viewBox=\"0 0 24 24\"\n",
              "       width=\"24px\">\n",
              "    <path d=\"M0 0h24v24H0V0z\" fill=\"none\"/>\n",
              "    <path d=\"M18.56 5.44l.94 2.06.94-2.06 2.06-.94-2.06-.94-.94-2.06-.94 2.06-2.06.94zm-11 1L8.5 8.5l.94-2.06 2.06-.94-2.06-.94L8.5 2.5l-.94 2.06-2.06.94zm10 10l.94 2.06.94-2.06 2.06-.94-2.06-.94-.94-2.06-.94 2.06-2.06.94z\"/><path d=\"M17.41 7.96l-1.37-1.37c-.4-.4-.92-.59-1.43-.59-.52 0-1.04.2-1.43.59L10.3 9.45l-7.72 7.72c-.78.78-.78 2.05 0 2.83L4 21.41c.39.39.9.59 1.41.59.51 0 1.02-.2 1.41-.59l7.78-7.78 2.81-2.81c.8-.78.8-2.07 0-2.86zM5.41 20L4 18.59l7.72-7.72 1.47 1.35L5.41 20z\"/>\n",
              "  </svg>\n",
              "      </button>\n",
              "      \n",
              "  <style>\n",
              "    .colab-df-container {\n",
              "      display:flex;\n",
              "      flex-wrap:wrap;\n",
              "      gap: 12px;\n",
              "    }\n",
              "\n",
              "    .colab-df-convert {\n",
              "      background-color: #E8F0FE;\n",
              "      border: none;\n",
              "      border-radius: 50%;\n",
              "      cursor: pointer;\n",
              "      display: none;\n",
              "      fill: #1967D2;\n",
              "      height: 32px;\n",
              "      padding: 0 0 0 0;\n",
              "      width: 32px;\n",
              "    }\n",
              "\n",
              "    .colab-df-convert:hover {\n",
              "      background-color: #E2EBFA;\n",
              "      box-shadow: 0px 1px 2px rgba(60, 64, 67, 0.3), 0px 1px 3px 1px rgba(60, 64, 67, 0.15);\n",
              "      fill: #174EA6;\n",
              "    }\n",
              "\n",
              "    [theme=dark] .colab-df-convert {\n",
              "      background-color: #3B4455;\n",
              "      fill: #D2E3FC;\n",
              "    }\n",
              "\n",
              "    [theme=dark] .colab-df-convert:hover {\n",
              "      background-color: #434B5C;\n",
              "      box-shadow: 0px 1px 3px 1px rgba(0, 0, 0, 0.15);\n",
              "      filter: drop-shadow(0px 1px 2px rgba(0, 0, 0, 0.3));\n",
              "      fill: #FFFFFF;\n",
              "    }\n",
              "  </style>\n",
              "\n",
              "      <script>\n",
              "        const buttonEl =\n",
              "          document.querySelector('#df-fd6dc915-1694-40e6-a69b-14fc2c09cfc5 button.colab-df-convert');\n",
              "        buttonEl.style.display =\n",
              "          google.colab.kernel.accessAllowed ? 'block' : 'none';\n",
              "\n",
              "        async function convertToInteractive(key) {\n",
              "          const element = document.querySelector('#df-fd6dc915-1694-40e6-a69b-14fc2c09cfc5');\n",
              "          const dataTable =\n",
              "            await google.colab.kernel.invokeFunction('convertToInteractive',\n",
              "                                                     [key], {});\n",
              "          if (!dataTable) return;\n",
              "\n",
              "          const docLinkHtml = 'Like what you see? Visit the ' +\n",
              "            '<a target=\"_blank\" href=https://colab.research.google.com/notebooks/data_table.ipynb>data table notebook</a>'\n",
              "            + ' to learn more about interactive tables.';\n",
              "          element.innerHTML = '';\n",
              "          dataTable['output_type'] = 'display_data';\n",
              "          await google.colab.output.renderOutput(dataTable, element);\n",
              "          const docLink = document.createElement('div');\n",
              "          docLink.innerHTML = docLinkHtml;\n",
              "          element.appendChild(docLink);\n",
              "        }\n",
              "      </script>\n",
              "    </div>\n",
              "  </div>\n",
              "  "
            ],
            "text/plain": [
              "                       Loan_Status  ...      Risk\n",
              "Loan_Status               1.000000  ... -0.182089\n",
              "Credit_History           -0.562034  ...  0.045415\n",
              "Family_Risk              -0.095780  ...  0.357440\n",
              "Work_Risk                -0.085884  ...  0.292755\n",
              "Family_Work_Mean_Risk    -0.128882  ...  0.464057\n",
              "Risk                     -0.182089  ...  1.000000\n",
              "\n",
              "[6 rows x 6 columns]"
            ]
          },
          "metadata": {},
          "execution_count": 1091
        }
      ]
    },
    {
      "cell_type": "markdown",
      "source": [
        "Круто, сначала думал, что вообще на 42% нашел фичу, но не совсем. \n",
        "\n",
        "Корреляция перетекала из кредитной истории. Если вообще убрать влияние истории - будет не 23, а 15. Это тоже отличный результат! Нагенерил неплохую фичу из ничего. Небольшое влияние истории оставил (домножаю на 0.9)\n"
      ],
      "metadata": {
        "id": "wRL_sGvT_9BU"
      },
      "id": "wRL_sGvT_9BU"
    },
    {
      "cell_type": "code",
      "source": [
        "temp_.iloc[-10:, :]"
      ],
      "metadata": {
        "id": "6S9C4hxp_7pf",
        "outputId": "79749b98-4b5e-4eac-e46e-3927ef87aaa0",
        "colab": {
          "base_uri": "https://localhost:8080/",
          "height": 462
        }
      },
      "id": "6S9C4hxp_7pf",
      "execution_count": 1099,
      "outputs": [
        {
          "output_type": "execute_result",
          "data": {
            "text/html": [
              "\n",
              "  <div id=\"df-e6f9be67-e056-4330-b39e-c2eb96dca589\">\n",
              "    <div class=\"colab-df-container\">\n",
              "      <div>\n",
              "<style scoped>\n",
              "    .dataframe tbody tr th:only-of-type {\n",
              "        vertical-align: middle;\n",
              "    }\n",
              "\n",
              "    .dataframe tbody tr th {\n",
              "        vertical-align: top;\n",
              "    }\n",
              "\n",
              "    .dataframe thead th {\n",
              "        text-align: right;\n",
              "    }\n",
              "</style>\n",
              "<table border=\"1\" class=\"dataframe\">\n",
              "  <thead>\n",
              "    <tr style=\"text-align: right;\">\n",
              "      <th></th>\n",
              "      <th>Loan_ID</th>\n",
              "      <th>Gender</th>\n",
              "      <th>Married</th>\n",
              "      <th>Dependents</th>\n",
              "      <th>Education</th>\n",
              "      <th>Self_Employed</th>\n",
              "      <th>Property_Area</th>\n",
              "      <th>Group_Loan_Amount_Term</th>\n",
              "      <th>Loan_Status</th>\n",
              "      <th>Credit_History</th>\n",
              "      <th>Family_Risk</th>\n",
              "      <th>Work_Risk</th>\n",
              "      <th>Family_Work_Mean_Risk</th>\n",
              "      <th>LoanAmount_Outliers</th>\n",
              "      <th>ApplicantIncome_Outliers</th>\n",
              "      <th>CoapplicantIncome_Outliers</th>\n",
              "      <th>Risk</th>\n",
              "    </tr>\n",
              "  </thead>\n",
              "  <tbody>\n",
              "    <tr>\n",
              "      <th>604</th>\n",
              "      <td>LP002959</td>\n",
              "      <td>Female</td>\n",
              "      <td>Yes</td>\n",
              "      <td>1</td>\n",
              "      <td>Graduate</td>\n",
              "      <td>No</td>\n",
              "      <td>Semiurban</td>\n",
              "      <td>30 years</td>\n",
              "      <td>0</td>\n",
              "      <td>1.0</td>\n",
              "      <td>1.000000</td>\n",
              "      <td>1.000000</td>\n",
              "      <td>1.000000</td>\n",
              "      <td>Outlier</td>\n",
              "      <td>Outlier</td>\n",
              "      <td>Normal</td>\n",
              "      <td>0.500000</td>\n",
              "    </tr>\n",
              "    <tr>\n",
              "      <th>605</th>\n",
              "      <td>LP002960</td>\n",
              "      <td>Male</td>\n",
              "      <td>Yes</td>\n",
              "      <td>0</td>\n",
              "      <td>Not Graduate</td>\n",
              "      <td>No</td>\n",
              "      <td>Urban</td>\n",
              "      <td>15 years</td>\n",
              "      <td>1</td>\n",
              "      <td>1.0</td>\n",
              "      <td>1.000000</td>\n",
              "      <td>0.666667</td>\n",
              "      <td>0.833333</td>\n",
              "      <td>Outlier</td>\n",
              "      <td>Normal</td>\n",
              "      <td>Normal</td>\n",
              "      <td>0.416667</td>\n",
              "    </tr>\n",
              "    <tr>\n",
              "      <th>606</th>\n",
              "      <td>LP002961</td>\n",
              "      <td>Male</td>\n",
              "      <td>Yes</td>\n",
              "      <td>1</td>\n",
              "      <td>Graduate</td>\n",
              "      <td>No</td>\n",
              "      <td>Semiurban</td>\n",
              "      <td>30 years</td>\n",
              "      <td>0</td>\n",
              "      <td>1.0</td>\n",
              "      <td>1.000000</td>\n",
              "      <td>1.000000</td>\n",
              "      <td>1.000000</td>\n",
              "      <td>Normal</td>\n",
              "      <td>Normal</td>\n",
              "      <td>Normal</td>\n",
              "      <td>1.000000</td>\n",
              "    </tr>\n",
              "    <tr>\n",
              "      <th>607</th>\n",
              "      <td>LP002964</td>\n",
              "      <td>Male</td>\n",
              "      <td>Yes</td>\n",
              "      <td>2</td>\n",
              "      <td>Not Graduate</td>\n",
              "      <td>No</td>\n",
              "      <td>Rural</td>\n",
              "      <td>30 years</td>\n",
              "      <td>0</td>\n",
              "      <td>1.0</td>\n",
              "      <td>1.000000</td>\n",
              "      <td>0.666667</td>\n",
              "      <td>0.833333</td>\n",
              "      <td>Normal</td>\n",
              "      <td>Normal</td>\n",
              "      <td>Normal</td>\n",
              "      <td>0.555556</td>\n",
              "    </tr>\n",
              "    <tr>\n",
              "      <th>608</th>\n",
              "      <td>LP002974</td>\n",
              "      <td>Male</td>\n",
              "      <td>Yes</td>\n",
              "      <td>0</td>\n",
              "      <td>Graduate</td>\n",
              "      <td>No</td>\n",
              "      <td>Rural</td>\n",
              "      <td>30 years</td>\n",
              "      <td>0</td>\n",
              "      <td>1.0</td>\n",
              "      <td>1.000000</td>\n",
              "      <td>1.000000</td>\n",
              "      <td>1.000000</td>\n",
              "      <td>Normal</td>\n",
              "      <td>Normal</td>\n",
              "      <td>Normal</td>\n",
              "      <td>0.666667</td>\n",
              "    </tr>\n",
              "    <tr>\n",
              "      <th>609</th>\n",
              "      <td>LP002978</td>\n",
              "      <td>Female</td>\n",
              "      <td>No</td>\n",
              "      <td>0</td>\n",
              "      <td>Graduate</td>\n",
              "      <td>No</td>\n",
              "      <td>Rural</td>\n",
              "      <td>30 years</td>\n",
              "      <td>0</td>\n",
              "      <td>1.0</td>\n",
              "      <td>0.666667</td>\n",
              "      <td>1.000000</td>\n",
              "      <td>0.833333</td>\n",
              "      <td>Normal</td>\n",
              "      <td>Normal</td>\n",
              "      <td>Normal</td>\n",
              "      <td>0.555556</td>\n",
              "    </tr>\n",
              "    <tr>\n",
              "      <th>610</th>\n",
              "      <td>LP002979</td>\n",
              "      <td>Male</td>\n",
              "      <td>Yes</td>\n",
              "      <td>3+</td>\n",
              "      <td>Graduate</td>\n",
              "      <td>No</td>\n",
              "      <td>Rural</td>\n",
              "      <td>15 years</td>\n",
              "      <td>0</td>\n",
              "      <td>1.0</td>\n",
              "      <td>1.000000</td>\n",
              "      <td>1.000000</td>\n",
              "      <td>1.000000</td>\n",
              "      <td>Normal</td>\n",
              "      <td>Normal</td>\n",
              "      <td>Normal</td>\n",
              "      <td>0.666667</td>\n",
              "    </tr>\n",
              "    <tr>\n",
              "      <th>611</th>\n",
              "      <td>LP002983</td>\n",
              "      <td>Male</td>\n",
              "      <td>Yes</td>\n",
              "      <td>1</td>\n",
              "      <td>Graduate</td>\n",
              "      <td>No</td>\n",
              "      <td>Urban</td>\n",
              "      <td>30 years</td>\n",
              "      <td>0</td>\n",
              "      <td>1.0</td>\n",
              "      <td>1.000000</td>\n",
              "      <td>1.000000</td>\n",
              "      <td>1.000000</td>\n",
              "      <td>Normal</td>\n",
              "      <td>Normal</td>\n",
              "      <td>Normal</td>\n",
              "      <td>1.000000</td>\n",
              "    </tr>\n",
              "    <tr>\n",
              "      <th>612</th>\n",
              "      <td>LP002984</td>\n",
              "      <td>Male</td>\n",
              "      <td>Yes</td>\n",
              "      <td>2</td>\n",
              "      <td>Graduate</td>\n",
              "      <td>No</td>\n",
              "      <td>Urban</td>\n",
              "      <td>30 years</td>\n",
              "      <td>0</td>\n",
              "      <td>1.0</td>\n",
              "      <td>1.000000</td>\n",
              "      <td>1.000000</td>\n",
              "      <td>1.000000</td>\n",
              "      <td>Normal</td>\n",
              "      <td>Normal</td>\n",
              "      <td>Normal</td>\n",
              "      <td>1.000000</td>\n",
              "    </tr>\n",
              "    <tr>\n",
              "      <th>613</th>\n",
              "      <td>LP002990</td>\n",
              "      <td>Female</td>\n",
              "      <td>No</td>\n",
              "      <td>0</td>\n",
              "      <td>Graduate</td>\n",
              "      <td>Yes</td>\n",
              "      <td>Semiurban</td>\n",
              "      <td>30 years</td>\n",
              "      <td>1</td>\n",
              "      <td>0.0</td>\n",
              "      <td>0.666667</td>\n",
              "      <td>1.000000</td>\n",
              "      <td>0.833333</td>\n",
              "      <td>Normal</td>\n",
              "      <td>Normal</td>\n",
              "      <td>Normal</td>\n",
              "      <td>0.833333</td>\n",
              "    </tr>\n",
              "  </tbody>\n",
              "</table>\n",
              "</div>\n",
              "      <button class=\"colab-df-convert\" onclick=\"convertToInteractive('df-e6f9be67-e056-4330-b39e-c2eb96dca589')\"\n",
              "              title=\"Convert this dataframe to an interactive table.\"\n",
              "              style=\"display:none;\">\n",
              "        \n",
              "  <svg xmlns=\"http://www.w3.org/2000/svg\" height=\"24px\"viewBox=\"0 0 24 24\"\n",
              "       width=\"24px\">\n",
              "    <path d=\"M0 0h24v24H0V0z\" fill=\"none\"/>\n",
              "    <path d=\"M18.56 5.44l.94 2.06.94-2.06 2.06-.94-2.06-.94-.94-2.06-.94 2.06-2.06.94zm-11 1L8.5 8.5l.94-2.06 2.06-.94-2.06-.94L8.5 2.5l-.94 2.06-2.06.94zm10 10l.94 2.06.94-2.06 2.06-.94-2.06-.94-.94-2.06-.94 2.06-2.06.94z\"/><path d=\"M17.41 7.96l-1.37-1.37c-.4-.4-.92-.59-1.43-.59-.52 0-1.04.2-1.43.59L10.3 9.45l-7.72 7.72c-.78.78-.78 2.05 0 2.83L4 21.41c.39.39.9.59 1.41.59.51 0 1.02-.2 1.41-.59l7.78-7.78 2.81-2.81c.8-.78.8-2.07 0-2.86zM5.41 20L4 18.59l7.72-7.72 1.47 1.35L5.41 20z\"/>\n",
              "  </svg>\n",
              "      </button>\n",
              "      \n",
              "  <style>\n",
              "    .colab-df-container {\n",
              "      display:flex;\n",
              "      flex-wrap:wrap;\n",
              "      gap: 12px;\n",
              "    }\n",
              "\n",
              "    .colab-df-convert {\n",
              "      background-color: #E8F0FE;\n",
              "      border: none;\n",
              "      border-radius: 50%;\n",
              "      cursor: pointer;\n",
              "      display: none;\n",
              "      fill: #1967D2;\n",
              "      height: 32px;\n",
              "      padding: 0 0 0 0;\n",
              "      width: 32px;\n",
              "    }\n",
              "\n",
              "    .colab-df-convert:hover {\n",
              "      background-color: #E2EBFA;\n",
              "      box-shadow: 0px 1px 2px rgba(60, 64, 67, 0.3), 0px 1px 3px 1px rgba(60, 64, 67, 0.15);\n",
              "      fill: #174EA6;\n",
              "    }\n",
              "\n",
              "    [theme=dark] .colab-df-convert {\n",
              "      background-color: #3B4455;\n",
              "      fill: #D2E3FC;\n",
              "    }\n",
              "\n",
              "    [theme=dark] .colab-df-convert:hover {\n",
              "      background-color: #434B5C;\n",
              "      box-shadow: 0px 1px 3px 1px rgba(0, 0, 0, 0.15);\n",
              "      filter: drop-shadow(0px 1px 2px rgba(0, 0, 0, 0.3));\n",
              "      fill: #FFFFFF;\n",
              "    }\n",
              "  </style>\n",
              "\n",
              "      <script>\n",
              "        const buttonEl =\n",
              "          document.querySelector('#df-e6f9be67-e056-4330-b39e-c2eb96dca589 button.colab-df-convert');\n",
              "        buttonEl.style.display =\n",
              "          google.colab.kernel.accessAllowed ? 'block' : 'none';\n",
              "\n",
              "        async function convertToInteractive(key) {\n",
              "          const element = document.querySelector('#df-e6f9be67-e056-4330-b39e-c2eb96dca589');\n",
              "          const dataTable =\n",
              "            await google.colab.kernel.invokeFunction('convertToInteractive',\n",
              "                                                     [key], {});\n",
              "          if (!dataTable) return;\n",
              "\n",
              "          const docLinkHtml = 'Like what you see? Visit the ' +\n",
              "            '<a target=\"_blank\" href=https://colab.research.google.com/notebooks/data_table.ipynb>data table notebook</a>'\n",
              "            + ' to learn more about interactive tables.';\n",
              "          element.innerHTML = '';\n",
              "          dataTable['output_type'] = 'display_data';\n",
              "          await google.colab.output.renderOutput(dataTable, element);\n",
              "          const docLink = document.createElement('div');\n",
              "          docLink.innerHTML = docLinkHtml;\n",
              "          element.appendChild(docLink);\n",
              "        }\n",
              "      </script>\n",
              "    </div>\n",
              "  </div>\n",
              "  "
            ],
            "text/plain": [
              "      Loan_ID  Gender  ... CoapplicantIncome_Outliers      Risk\n",
              "604  LP002959  Female  ...                     Normal  0.500000\n",
              "605  LP002960    Male  ...                     Normal  0.416667\n",
              "606  LP002961    Male  ...                     Normal  1.000000\n",
              "607  LP002964    Male  ...                     Normal  0.555556\n",
              "608  LP002974    Male  ...                     Normal  0.666667\n",
              "609  LP002978  Female  ...                     Normal  0.555556\n",
              "610  LP002979    Male  ...                     Normal  0.666667\n",
              "611  LP002983    Male  ...                     Normal  1.000000\n",
              "612  LP002984    Male  ...                     Normal  1.000000\n",
              "613  LP002990  Female  ...                     Normal  0.833333\n",
              "\n",
              "[10 rows x 17 columns]"
            ]
          },
          "metadata": {},
          "execution_count": 1099
        }
      ]
    },
    {
      "cell_type": "markdown",
      "source": [
        "Rural непонятный"
      ],
      "metadata": {
        "id": "ZegAyMwlGUHc"
      },
      "id": "ZegAyMwlGUHc"
    },
    {
      "cell_type": "code",
      "source": [
        "sns.barplot(x='Property_Area', y='Loan_Status', data=temp_)"
      ],
      "metadata": {
        "id": "vJTa1jEDGa1k",
        "outputId": "32cbcc35-fed6-4f0b-b74e-e9974d89a88c",
        "colab": {
          "base_uri": "https://localhost:8080/",
          "height": 299
        }
      },
      "id": "vJTa1jEDGa1k",
      "execution_count": 1086,
      "outputs": [
        {
          "output_type": "execute_result",
          "data": {
            "text/plain": [
              "<matplotlib.axes._subplots.AxesSubplot at 0x7f0972f31c90>"
            ]
          },
          "metadata": {},
          "execution_count": 1086
        },
        {
          "output_type": "display_data",
          "data": {
            "image/png": "[encoded data removed]",
            "text/plain": [
              "<Figure size 432x288 with 1 Axes>"
            ]
          },
          "metadata": {
            "needs_background": "light"
          }
        }
      ]
    },
    {
      "cell_type": "markdown",
      "source": [
        "А ну посмотрим насколько **риск** хорош"
      ],
      "metadata": {
        "id": "qgIslPnALzlc"
      },
      "id": "qgIslPnALzlc"
    },
    {
      "cell_type": "code",
      "source": [
        "temp_[temp_['Risk'] <= 0.25]['Loan_Status']"
      ],
      "metadata": {
        "id": "nyHLbnUGM_5S",
        "outputId": "c957f171-fb2f-46e2-a9de-ea1743eb41d1",
        "colab": {
          "base_uri": "https://localhost:8080/"
        }
      },
      "id": "nyHLbnUGM_5S",
      "execution_count": 1120,
      "outputs": [
        {
          "output_type": "execute_result",
          "data": {
            "text/plain": [
              "338    1\n",
              "Name: Loan_Status, dtype: int64"
            ]
          },
          "metadata": {},
          "execution_count": 1120
        }
      ]
    },
    {
      "cell_type": "code",
      "source": [
        "lst = np.array([temp_[temp_['Risk'] >= 0.5+i]['Loan_Status'].mean() for i in np.arange(0, 0.5, 0.01)])\n",
        "lst_len = np.array([len(temp_[temp_['Risk'] >= 0.5+i]['Loan_Status']) for i in np.arange(0, 0.5, 0.01)])\n",
        "\n",
        "plt.plot(np.arange(0, 0.5, 0.01), lst)"
      ],
      "metadata": {
        "id": "3ZrizHxYL1TN",
        "outputId": "813ab5c6-5a32-4c78-d618-e787a0f9dbc1",
        "colab": {
          "base_uri": "https://localhost:8080/",
          "height": 286
        }
      },
      "id": "3ZrizHxYL1TN",
      "execution_count": 1125,
      "outputs": [
        {
          "output_type": "execute_result",
          "data": {
            "text/plain": [
              "[<matplotlib.lines.Line2D at 0x7f0972a5ff10>]"
            ]
          },
          "metadata": {},
          "execution_count": 1125
        },
        {
          "output_type": "display_data",
          "data": {
            "image/png": "[encoded data removed]",
            "text/plain": [
              "<Figure size 432x288 with 1 Axes>"
            ]
          },
          "metadata": {
            "needs_background": "light"
          }
        }
      ]
    },
    {
      "cell_type": "code",
      "source": [
        "plt.plot(np.arange(0, 0.5, 0.01), lst_len)"
      ],
      "metadata": {
        "id": "SyixAyU5L5wY",
        "outputId": "43dcd3c7-1d0b-4751-831f-71ac784077d3",
        "colab": {
          "base_uri": "https://localhost:8080/",
          "height": 284
        }
      },
      "id": "SyixAyU5L5wY",
      "execution_count": 1126,
      "outputs": [
        {
          "output_type": "execute_result",
          "data": {
            "text/plain": [
              "[<matplotlib.lines.Line2D at 0x7f09728bea10>]"
            ]
          },
          "metadata": {},
          "execution_count": 1126
        },
        {
          "output_type": "display_data",
          "data": {
            "image/png": "[encoded data removed]",
            "text/plain": [
              "<Figure size 432x288 with 1 Axes>"
            ]
          },
          "metadata": {
            "needs_background": "light"
          }
        }
      ]
    },
    {
      "cell_type": "code",
      "source": [
        ""
      ],
      "metadata": {
        "id": "1n5yBRi6OqXm"
      },
      "id": "1n5yBRi6OqXm",
      "execution_count": null,
      "outputs": []
    }
  ],
  "metadata": {
    "kernelspec": {
      "display_name": "Python 3",
      "language": "python",
      "name": "python3"
    },
    "language_info": {
      "codemirror_mode": {
        "name": "ipython",
        "version": 3
      },
      "file_extension": ".py",
      "mimetype": "text/x-python",
      "name": "python",
      "nbconvert_exporter": "python",
      "pygments_lexer": "ipython3",
      "version": "3.8.2"
    },
    "colab": {
      "name": "Loan Prediction EDA - AV.ipynb",
      "provenance": []
    }
  },
  "nbformat": 4,
  "nbformat_minor": 5
}