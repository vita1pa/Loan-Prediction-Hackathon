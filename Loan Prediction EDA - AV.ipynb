{
  "cells": [
    {
      "cell_type": "code",
      "execution_count": 202,
      "id": "c520b660",
      "metadata": {
        "id": "c520b660"
      },
      "outputs": [],
      "source": [
        "import pandas as pd\n",
        "import numpy as np\n",
        "\n",
        "import matplotlib.pyplot as plt\n",
        "import seaborn as sns\n",
        "\n",
        "from sklearn.preprocessing import MinMaxScaler"
      ]
    },
    {
      "cell_type": "markdown",
      "metadata": {
        "id": "RE-nRDSvHV5T"
      },
      "source": [
        "## Functions..."
      ],
      "id": "RE-nRDSvHV5T"
    },
    {
      "cell_type": "markdown",
      "metadata": {
        "id": "0pgxIM9THV5T"
      },
      "source": [
        "Процент выбросов слева / справа от boxplot "
      ],
      "id": "0pgxIM9THV5T"
    },
    {
      "cell_type": "code",
      "execution_count": 203,
      "metadata": {
        "id": "8ZMiiJ5nHV5U"
      },
      "outputs": [],
      "source": [
        "def outliers_percents(col):\n",
        "    \n",
        "        length = len(col)\n",
        "    \n",
        "        Q1 = np.nanpercentile(col, 25)\n",
        "        Q3 = np.nanpercentile(col, 75)\n",
        "        IQR = Q3 - Q1\n",
        "        \n",
        "        \n",
        "        num_outliers_left = len(col[col < Q1 - 1.5 * IQR]) / length\n",
        "        num_oulliers_right = len(col[col > Q3 + 1.5 * IQR]) / length\n",
        "        \n",
        "        return num_outliers_left, num_oulliers_right"
      ],
      "id": "8ZMiiJ5nHV5U"
    },
    {
      "cell_type": "markdown",
      "metadata": {
        "id": "3HvXL-9rHV5U"
      },
      "source": [
        "Boxplots subplot"
      ],
      "id": "3HvXL-9rHV5U"
    },
    {
      "cell_type": "code",
      "execution_count": 204,
      "metadata": {
        "id": "aHp_3niMHV5U"
      },
      "outputs": [],
      "source": [
        "def histplots_info(data):\n",
        "    \n",
        "    for col in list(data.columns.values):\n",
        "        \n",
        "        sns.histplot(data[col], kde=True);\n",
        "\n",
        "        num_percent = data[col].isnull().sum() / len(data) * 100\n",
        "        plt.title(col+\" | missing values: {}%\".format(round(num_percent, 2)))\n",
        "        plt.show()"
      ],
      "id": "aHp_3niMHV5U"
    },
    {
      "cell_type": "markdown",
      "metadata": {
        "id": "N0USh4zlHV5V"
      },
      "source": [
        "Histplots subplots"
      ],
      "id": "N0USh4zlHV5V"
    },
    {
      "cell_type": "code",
      "execution_count": 205,
      "metadata": {
        "id": "kmhJ_ZpGHV5V"
      },
      "outputs": [],
      "source": [
        "def boxplots_info(data):\n",
        "  \n",
        "    for col in list(data.columns.values):\n",
        "\n",
        "        sns.boxplot(data=data[col], orient='h');\n",
        "        \n",
        "        outliers_left, outliers_right = outliers_percents(data[col])\n",
        "        plt.title(\"Left Outliers : {}% \".format(round(outliers_left * 100, 3))+\n",
        "                           \"| Right Outliers : {}%\".format(round(outliers_right * 100, 3)))\n",
        "        plt.show()"
      ],
      "id": "kmhJ_ZpGHV5V"
    },
    {
      "cell_type": "markdown",
      "metadata": {
        "id": "6KjhFCo3HV5W"
      },
      "source": [
        "IQR outliers handling"
      ],
      "id": "6KjhFCo3HV5W"
    },
    {
      "cell_type": "code",
      "execution_count": 206,
      "metadata": {
        "id": "4EUggfyfHV5X"
      },
      "outputs": [],
      "source": [
        "def remove_outliers_iqr(data, columns):\n",
        "    \n",
        "#     print(columns)\n",
        "    \n",
        "    for col in columns:\n",
        "    \n",
        "        Q1 = np.nanpercentile(data[col], 25)\n",
        "        Q3 = np.nanpercentile(data[col], 75)\n",
        "        IQR = Q3 - Q1\n",
        "        \n",
        "        data.loc[data[col] < Q1 - 1.5 * IQR, col] = Q1 - 1.5 * IQR\n",
        "        data.loc[data[col] > Q3 + 1.5 * IQR, col] = Q3 + 1.5 * IQR\n",
        "        "
      ],
      "id": "4EUggfyfHV5X"
    },
    {
      "cell_type": "markdown",
      "metadata": {
        "id": "_C0KeHIHHV5X"
      },
      "source": [
        "Missing values dealing"
      ],
      "id": "_C0KeHIHHV5X"
    },
    {
      "cell_type": "code",
      "execution_count": 207,
      "metadata": {
        "id": "wUkVsVgeHV5X"
      },
      "outputs": [],
      "source": [
        "def impute(data, columns, how):\n",
        "    \n",
        "    if how=='mean':\n",
        "        for col in columns:\n",
        "            data[col].fillna(data[col].mean(), inplace=True)\n",
        "    elif how=='mode':\n",
        "        for col in columns:\n",
        "            data[col].fillna(data[col].mode()[0], inplace=True)\n",
        "    else:\n",
        "        print('Хз как ?? ')"
      ],
      "id": "wUkVsVgeHV5X"
    },
    {
      "cell_type": "markdown",
      "metadata": {
        "id": "eDaCf8GgHV5Y"
      },
      "source": [
        "Other"
      ],
      "id": "eDaCf8GgHV5Y"
    },
    {
      "cell_type": "code",
      "execution_count": 208,
      "metadata": {
        "id": "YzU7IJRLHV5Y"
      },
      "outputs": [],
      "source": [
        "# loan_amt = train_num['LoanAmount']\n",
        "\n",
        "# values = [0, 100, 200, 400, 700]\n",
        "# labels = ['Low', 'Medium', 'High', 'Very High']\n",
        "\n",
        "# result = pd.cut(loan_amt, bins=values, labels=labels)\n",
        "# result.value_counts()\n",
        "\n",
        "# dict_freq = train_cat['Property_Area'].value_counts(normalize=True)\n",
        "\n",
        "# train_cat['Property_Area'].map(dict_freq)\n",
        "\n",
        "# train_cat['Loan_Status'].map({'Y': 1, 'N': 0})\n",
        "# train_cat\n",
        "\n",
        "# pd.get_dummies(train['Property_Area'])"
      ],
      "id": "YzU7IJRLHV5Y"
    },
    {
      "cell_type": "markdown",
      "id": "794cfe8c",
      "metadata": {
        "id": "794cfe8c"
      },
      "source": [
        "## Importing part"
      ]
    },
    {
      "cell_type": "code",
      "execution_count": 209,
      "id": "430f48de",
      "metadata": {
        "id": "430f48de"
      },
      "outputs": [],
      "source": [
        "train = pd.read_csv('train_ctrUa4K.csv')\n",
        "test = pd.read_csv('test_lAUu6dG.csv')\n",
        "sample_submission = pd.read_csv('sample_submission_49d68Cx.csv')\n",
        "\n",
        "target = train['Loan_Status']\n",
        "train['Loan_Status'] = train['Loan_Status'].map({'Y':0, 'N':1})\n",
        "# train.drop(['Loan_Status'], axis=1, inplace=True)\n",
        "\n",
        "idx = len(train)"
      ]
    },
    {
      "cell_type": "code",
      "source": [
        "train_num = train.select_dtypes(np.number)\n",
        "test_num = test.select_dtypes(np.number)\n",
        "num = pd.concat([train_num, test_num], axis=0).reset_index(drop=True)\n",
        "\n",
        "train_cat = train.select_dtypes(include='object')\n",
        "test_cat = test.select_dtypes(include='object')\n",
        "cat = pd.concat([train_cat, test_cat], axis=0).reset_index(drop=True)"
      ],
      "metadata": {
        "id": "mj5foniPHgoa"
      },
      "id": "mj5foniPHgoa",
      "execution_count": 210,
      "outputs": []
    },
    {
      "cell_type": "markdown",
      "source": [
        "**Feature Importances**"
      ],
      "metadata": {
        "id": "DX1wEhogpJZ6"
      },
      "id": "DX1wEhogpJZ6"
    },
    {
      "cell_type": "code",
      "source": [
        "def IV_index(data, col, condition, to_print=False):\n",
        "\n",
        "    loan_status_under_condition = data['Loan_Status'][data[col] == condition]\n",
        "\n",
        "    if to_print:\n",
        "      print(loan_status_under_condition.value_counts())\n",
        "\n",
        "    count_good, count_bad = loan_status_under_condition.value_counts().values\n",
        "    count_all_good, count_all_bad = data['Loan_Status'].value_counts().values\n",
        "\n",
        "    p, q = count_good / count_all_good, count_bad / count_all_bad \n",
        "\n",
        "    return (p - q) * np.log(p / q)"
      ],
      "metadata": {
        "id": "yLrTJzaQowsi"
      },
      "id": "yLrTJzaQowsi",
      "execution_count": 211,
      "outputs": []
    },
    {
      "cell_type": "markdown",
      "source": [
        "## Numeric features"
      ],
      "metadata": {
        "id": "l-kFl_8DH7JF"
      },
      "id": "l-kFl_8DH7JF"
    },
    {
      "cell_type": "code",
      "source": [
        "train_num_tr = train_num.copy()"
      ],
      "metadata": {
        "id": "BtHDZb_1wnTp"
      },
      "id": "BtHDZb_1wnTp",
      "execution_count": 212,
      "outputs": []
    },
    {
      "cell_type": "code",
      "source": [
        "train_cat_tr = train_cat.copy()"
      ],
      "metadata": {
        "id": "o-dO01ea2Ni2"
      },
      "id": "o-dO01ea2Ni2",
      "execution_count": 213,
      "outputs": []
    },
    {
      "cell_type": "markdown",
      "source": [
        "+ **Разберёмся со сроком кредита(фичи-категории). Сначала выполним импутинг модой.**"
      ],
      "metadata": {
        "id": "VmmRYqaYw2t2"
      },
      "id": "VmmRYqaYw2t2"
    },
    {
      "cell_type": "code",
      "source": [
        "train_num_tr['Loan_Amount_Term'] = train_num_tr['Loan_Amount_Term'].fillna(train_num_tr['Loan_Amount_Term'].mode()[0])"
      ],
      "metadata": {
        "id": "hKY02wOkxLYn"
      },
      "id": "hKY02wOkxLYn",
      "execution_count": 214,
      "outputs": []
    },
    {
      "cell_type": "code",
      "source": [
        "train_num_tr['Group_Loan_Amount_Term'] = train_num_tr['Loan_Amount_Term'].copy()\n",
        "\n",
        "train_num_tr['Group_Loan_Amount_Term'] = train_num_tr['Group_Loan_Amount_Term'].replace([12.0, 36.0, 60.0, 84.0, 120.0], '<= 10 years')\n",
        "train_num_tr['Group_Loan_Amount_Term'] = train_num_tr['Group_Loan_Amount_Term'].replace(180.0, '15 years')\n",
        "train_num_tr['Group_Loan_Amount_Term'] = train_num_tr['Group_Loan_Amount_Term'].replace(360.0, '30 years')\n",
        "train_num_tr['Group_Loan_Amount_Term'] = train_num_tr['Group_Loan_Amount_Term'].replace([240.0, 300.0], 'Not beautiful dates')\n",
        "train_num_tr['Group_Loan_Amount_Term'] = train_num_tr['Group_Loan_Amount_Term'].replace([480.0], '40 years')"
      ],
      "metadata": {
        "id": "9XhIdoqSXfyn"
      },
      "id": "9XhIdoqSXfyn",
      "execution_count": 215,
      "outputs": []
    },
    {
      "cell_type": "markdown",
      "source": [
        "Глянем значимость каждой категории"
      ],
      "metadata": {
        "id": "XZQQ2-2oxj_p"
      },
      "id": "XZQQ2-2oxj_p"
    },
    {
      "cell_type": "code",
      "source": [
        "total = 0\n",
        "for cat in train_num_tr['Group_Loan_Amount_Term'].unique():\n",
        "  \n",
        "  total = total + IV_index(train_num_tr, 'Group_Loan_Amount_Term', cat)\n",
        "  print(cat, IV_index(train_num_tr, 'Group_Loan_Amount_Term', cat))\n",
        "\n",
        "  # total = total + IV_index(train_num_tr, 'Group_Loan_Amount_Term', cat)\n",
        "\n",
        "print(\"\\nTotal IV-index:\", total)"
      ],
      "metadata": {
        "id": "a8BolfgnxeJZ",
        "outputId": "a787a631-9fd4-40ca-f024-456b6a3188ed",
        "colab": {
          "base_uri": "https://localhost:8080/"
        }
      },
      "id": "a8BolfgnxeJZ",
      "execution_count": 216,
      "outputs": [
        {
          "output_type": "stream",
          "name": "stdout",
          "text": [
            "30 years 0.002033446522989255\n",
            "<= 10 years 0.0017739100039107472\n",
            "Not beautiful dates 0.0009401799237747363\n",
            "15 years 0.0012062772339117092\n",
            "40 years 0.0037910254548732822\n",
            "\n",
            "Total IV-index: 0.00974483913945973\n"
          ]
        }
      ]
    },
    {
      "cell_type": "code",
      "source": [
        "sns.barplot(x='Group_Loan_Amount_Term', y='Loan_Status', data=train_num_tr)"
      ],
      "metadata": {
        "colab": {
          "base_uri": "https://localhost:8080/",
          "height": 299
        },
        "id": "piI521on9k5N",
        "outputId": "792c5ab5-c6b5-4771-9d1a-aabf2f3e86a3"
      },
      "id": "piI521on9k5N",
      "execution_count": 217,
      "outputs": [
        {
          "output_type": "execute_result",
          "data": {
            "text/plain": [
              "<matplotlib.axes._subplots.AxesSubplot at 0x7fdfe9eb5e10>"
            ]
          },
          "metadata": {},
          "execution_count": 217
        },
        {
          "output_type": "display_data",
          "data": {
            "image/png": "[encoded data removed]",
            "text/plain": [
              "<Figure size 432x288 with 1 Axes>"
            ]
          },
          "metadata": {
            "needs_background": "light"
          }
        }
      ]
    },
    {
      "cell_type": "markdown",
      "source": [
        "Фичи не информативные (!) \n",
        "\n",
        "Должно быть >= 0.02"
      ],
      "metadata": {
        "id": "LyIWwgUqyz1A"
      },
      "id": "LyIWwgUqyz1A"
    },
    {
      "cell_type": "markdown",
      "source": [
        "UPD: По графику, 40 - хороший признак. Но там мало наблюдений"
      ],
      "metadata": {
        "id": "tauj-I7g-TzY"
      },
      "id": "tauj-I7g-TzY"
    },
    {
      "cell_type": "markdown",
      "source": [
        "+ **Посчитаем чистый уровень дохода в зависимости от места жительства**"
      ],
      "metadata": {
        "id": "z2Z2APCJzbtF"
      },
      "id": "z2Z2APCJzbtF"
    },
    {
      "cell_type": "markdown",
      "source": [
        "**Urban** - 0.35\n",
        "\n",
        "**Semiurban** - 0.3\n",
        "\n",
        "**Rural** - 0.3\n",
        "\n",
        "\n",
        "Интуитивно, часть зарплаты, которую платят люди за комуналку "
      ],
      "metadata": {
        "id": "0fWry5bUzk2h"
      },
      "id": "0fWry5bUzk2h"
    },
    {
      "cell_type": "markdown",
      "source": [
        "Пока не будем считать средний доход по семье."
      ],
      "metadata": {
        "id": "-gW5Suni0uyT"
      },
      "id": "-gW5Suni0uyT"
    },
    {
      "cell_type": "code",
      "source": [
        "train_num_tr['Utility_Bills'] = train_cat_tr['Property_Area'].map({'Urban': 0.35, 'Semiurban': 0.3, 'Rural': 0.3})\n",
        "train_num_tr['Disposable_Income'] = train_num_tr['ApplicantIncome'] * (1 - train_num_tr['Utility_Bills'])"
      ],
      "metadata": {
        "id": "dU8aXAA5y_zT"
      },
      "id": "dU8aXAA5y_zT",
      "execution_count": 218,
      "outputs": []
    },
    {
      "cell_type": "markdown",
      "source": [
        "Заполним LoanAmount средним"
      ],
      "metadata": {
        "id": "DcoUv_xs21u9"
      },
      "id": "DcoUv_xs21u9"
    },
    {
      "cell_type": "code",
      "source": [
        "train_num_tr['LoanAmount'] = train_num_tr['LoanAmount'].fillna(train_num_tr['LoanAmount'].mean())"
      ],
      "metadata": {
        "id": "MCtELDHNy_16"
      },
      "id": "MCtELDHNy_16",
      "execution_count": 219,
      "outputs": []
    },
    {
      "cell_type": "markdown",
      "source": [
        "Посчитаем сколько надо платить людям надо в месяц"
      ],
      "metadata": {
        "id": "A-3qBYX03Hvs"
      },
      "id": "A-3qBYX03Hvs"
    },
    {
      "cell_type": "code",
      "source": [
        "train_num_tr['Monthly_Loan_Amount'] = train_num_tr['LoanAmount'] * 1000 / train_num_tr['Loan_Amount_Term']\n",
        "train_num_tr['Stable_Difference'] = train_num_tr['Disposable_Income'] - 2 * train_num_tr['Monthly_Loan_Amount']\n",
        "\n",
        "bins = [-16000, 1420, 2206, 3464, 67000]\n",
        "labels = ['Low', 'Stable', 'High', 'Very High']\n",
        "\n",
        "train_num_tr['Stable_Difference_Flag'] = pd.cut(train_num_tr['Stable_Difference'], labels=labels, bins=bins)"
      ],
      "metadata": {
        "id": "32YDWQuoy_4c"
      },
      "id": "32YDWQuoy_4c",
      "execution_count": 220,
      "outputs": []
    },
    {
      "cell_type": "code",
      "source": [
        "sns.barplot(x='Stable_Difference_Flag', y='Loan_Status', data=train_num_tr)"
      ],
      "metadata": {
        "id": "lwQbNoPF3Ihb",
        "outputId": "ca01f164-af70-440c-ce82-34f9c34e3286",
        "colab": {
          "base_uri": "https://localhost:8080/",
          "height": 299
        }
      },
      "id": "lwQbNoPF3Ihb",
      "execution_count": 221,
      "outputs": [
        {
          "output_type": "execute_result",
          "data": {
            "text/plain": [
              "<matplotlib.axes._subplots.AxesSubplot at 0x7fdfe925a110>"
            ]
          },
          "metadata": {},
          "execution_count": 221
        },
        {
          "output_type": "display_data",
          "data": {
            "image/png": "[encoded data removed]",
            "text/plain": [
              "<Figure size 432x288 with 1 Axes>"
            ]
          },
          "metadata": {
            "needs_background": "light"
          }
        }
      ]
    },
    {
      "cell_type": "code",
      "source": [
        "total = 0\n",
        "for cat in train_num_tr['Stable_Difference_Flag'].unique():\n",
        "  print(cat, IV_index(train_num_tr, 'Stable_Difference_Flag', cat)) \n",
        "  total = total + IV_index(train_num_tr, 'Stable_Difference_Flag', cat)\n",
        "\n",
        "total"
      ],
      "metadata": {
        "id": "CrLY4-8u3IkJ",
        "outputId": "cf74ab9d-67ea-4c2d-a0eb-6b24ad470483",
        "colab": {
          "base_uri": "https://localhost:8080/"
        }
      },
      "id": "CrLY4-8u3IkJ",
      "execution_count": 222,
      "outputs": [
        {
          "output_type": "stream",
          "name": "stdout",
          "text": [
            "High 0.0036574939204469165\n",
            "Stable 0.018396096305548053\n",
            "Low 0.0008010143400619673\n",
            "Very High 0.002771415512576325\n"
          ]
        },
        {
          "output_type": "execute_result",
          "data": {
            "text/plain": [
              "0.025626020078633262"
            ]
          },
          "metadata": {},
          "execution_count": 222
        }
      ]
    },
    {
      "cell_type": "markdown",
      "source": [
        "Никакой разницы. Посчитаем Adjusted\n",
        "\n",
        "\n",
        "UPD: сумма даёт >= 0.02"
      ],
      "metadata": {
        "id": "GdLmuwUK8U_j"
      },
      "id": "GdLmuwUK8U_j"
    },
    {
      "cell_type": "code",
      "source": [
        "train_cat_tr['Dependents'] = train_cat_tr['Dependents'].fillna(train_cat_tr['Dependents'].mode()[0])\n",
        "train_cat_tr['Married'] = train_cat_tr['Married'].fillna(train_cat_tr['Married'].mode()[0])\n",
        "\n",
        "train_num_tr['Dependents'] = train_cat_tr['Dependents'].map({'0': 0, '1': 1, '2': 2, \"3+\": 3.5})\n",
        "train_num_tr['Married'] = train_cat_tr['Married'].map({'Yes': 1, 'No': 0})"
      ],
      "metadata": {
        "id": "GjdZo-I88rk-"
      },
      "id": "GjdZo-I88rk-",
      "execution_count": 223,
      "outputs": []
    },
    {
      "cell_type": "code",
      "source": [
        "train_num_tr['Dependents'] = train_cat_tr['Dependents'].map({'0': 0, '1': 1, '2': 2, \"3+\": 3.5})\n",
        "train_num_tr['Married'] = train_cat_tr['Married'].map({'Yes': 1, 'No': 0})\n",
        "\n",
        "\n",
        "train_num_tr['Adjusted_Disposable_Income'] = (train_num_tr['ApplicantIncome'] + \n",
        "                                    train_num_tr['CoapplicantIncome']) / (1 + train_num_tr['Dependents'] + train_num_tr['Dependents']) * (1 - train_num_tr['Utility_Bills'])\n",
        "\n",
        "train_num_tr['Adjusted_Stable_Difference'] = train_num_tr['Adjusted_Disposable_Income'] - 2 * train_num_tr['Monthly_Loan_Amount']\n",
        "\n",
        "\n",
        "train_num_tr.describe()\n",
        "\n",
        "bins = [-16000, 200, 1870, 3200, 67000]\n",
        "labels = ['Low', 'Stable', 'High', 'Very High']\n",
        "\n",
        "train_num_tr['Adjusted_Stable_Difference_Flag'] = pd.cut(train_num_tr['Adjusted_Stable_Difference'], labels=labels, bins=bins)"
      ],
      "metadata": {
        "id": "EbSZKCQ03Imt"
      },
      "id": "EbSZKCQ03Imt",
      "execution_count": 224,
      "outputs": []
    },
    {
      "cell_type": "code",
      "source": [
        "sns.barplot(x='Adjusted_Stable_Difference_Flag', y='Loan_Status', data=train_num_tr)"
      ],
      "metadata": {
        "id": "aC5bLzlTy_9w",
        "outputId": "ebe81508-0312-4f1f-cc54-b05aa9842ea3",
        "colab": {
          "base_uri": "https://localhost:8080/",
          "height": 299
        }
      },
      "id": "aC5bLzlTy_9w",
      "execution_count": 225,
      "outputs": [
        {
          "output_type": "execute_result",
          "data": {
            "text/plain": [
              "<matplotlib.axes._subplots.AxesSubplot at 0x7fdfe91c63d0>"
            ]
          },
          "metadata": {},
          "execution_count": 225
        },
        {
          "output_type": "display_data",
          "data": {
            "image/png": "[encoded data removed]",
            "text/plain": [
              "<Figure size 432x288 with 1 Axes>"
            ]
          },
          "metadata": {
            "needs_background": "light"
          }
        }
      ]
    },
    {
      "cell_type": "code",
      "source": [
        "total = 0\n",
        "for cat in train_num_tr['Adjusted_Stable_Difference_Flag'].unique():\n",
        "  print(cat, IV_index(train_num_tr, 'Adjusted_Stable_Difference_Flag', cat))\n",
        "\n",
        "  total = total + IV_index(train_num_tr, 'Adjusted_Stable_Difference_Flag', cat)\n",
        "\n",
        "total"
      ],
      "metadata": {
        "id": "H8CBDwYM_vmi",
        "outputId": "40f1c288-5087-4e7b-8f1a-5266ce163c93",
        "colab": {
          "base_uri": "https://localhost:8080/"
        }
      },
      "id": "H8CBDwYM_vmi",
      "execution_count": 226,
      "outputs": [
        {
          "output_type": "stream",
          "name": "stdout",
          "text": [
            "High 0.012355663705878045\n",
            "Stable 0.0018232017677984153\n",
            "Low 0.00030616770455684384\n",
            "Very High 0.0026521519964230805\n"
          ]
        },
        {
          "output_type": "execute_result",
          "data": {
            "text/plain": [
              "0.017137185174656386"
            ]
          },
          "metadata": {},
          "execution_count": 226
        }
      ]
    },
    {
      "cell_type": "markdown",
      "source": [
        "Опять херовые фичи\n",
        "\n",
        "UPD: одна норм есть :) Но это уже будут Extreme_Adjusted (20%)\n",
        "\n",
        "UPD2: уже нету\n",
        "\n",
        "URD3: тут выигрыша нет"
      ],
      "metadata": {
        "id": "VfKQDfOqBNOg"
      },
      "id": "VfKQDfOqBNOg"
    },
    {
      "cell_type": "code",
      "source": [
        "train_num_tr['Extreme_Adjusted_Stable_Difference'] = train_num_tr['Adjusted_Disposable_Income'] - 4 * train_num_tr['Monthly_Loan_Amount']\n",
        "\n",
        "train_num_tr.describe()\n",
        "\n",
        "bins = [-100000, -900, 1000, 2000, 100000]\n",
        "labels = ['Low', 'Stable', 'High', 'Very High']\n",
        "\n",
        "train_num_tr['Extreme_Adjusted_Stable_Difference_Flag'] = pd.cut(train_num_tr['Extreme_Adjusted_Stable_Difference'], labels=labels, bins=bins)"
      ],
      "metadata": {
        "id": "55bpkSK0_vpM"
      },
      "id": "55bpkSK0_vpM",
      "execution_count": 227,
      "outputs": []
    },
    {
      "cell_type": "code",
      "source": [
        "sns.barplot(x='Extreme_Adjusted_Stable_Difference_Flag', y='Loan_Status', data=train_num_tr)"
      ],
      "metadata": {
        "id": "AknT-kPQ_vro",
        "outputId": "148a98c6-b343-41d4-d01d-172e5e1724b8",
        "colab": {
          "base_uri": "https://localhost:8080/",
          "height": 299
        }
      },
      "id": "AknT-kPQ_vro",
      "execution_count": 228,
      "outputs": [
        {
          "output_type": "execute_result",
          "data": {
            "text/plain": [
              "<matplotlib.axes._subplots.AxesSubplot at 0x7fdfe9199250>"
            ]
          },
          "metadata": {},
          "execution_count": 228
        },
        {
          "output_type": "display_data",
          "data": {
            "image/png": "[encoded data removed]",
            "text/plain": [
              "<Figure size 432x288 with 1 Axes>"
            ]
          },
          "metadata": {
            "needs_background": "light"
          }
        }
      ]
    },
    {
      "cell_type": "code",
      "source": [
        "total = 0\n",
        "for cat in train_num_tr['Extreme_Adjusted_Stable_Difference_Flag'].unique():\n",
        "  print(cat, IV_index(train_num_tr, 'Extreme_Adjusted_Stable_Difference_Flag', cat))\n",
        "\n",
        "  total = total + IV_index(train_num_tr, 'Extreme_Adjusted_Stable_Difference_Flag', cat)\n",
        "\n",
        "total"
      ],
      "metadata": {
        "id": "JgKrHfw8_vuV",
        "outputId": "9ad7d732-aad5-405b-b927-33d9d4ebcb7c",
        "colab": {
          "base_uri": "https://localhost:8080/"
        }
      },
      "id": "JgKrHfw8_vuV",
      "execution_count": 229,
      "outputs": [
        {
          "output_type": "stream",
          "name": "stdout",
          "text": [
            "Very High 0.0004261408731418075\n",
            "Stable 0.0026110943815049257\n",
            "High 0.01205725734889272\n",
            "Low 0.0004523654983891529\n"
          ]
        },
        {
          "output_type": "execute_result",
          "data": {
            "text/plain": [
              "0.015546858101928606"
            ]
          },
          "metadata": {},
          "execution_count": 229
        }
      ]
    },
    {
      "cell_type": "markdown",
      "source": [
        "Плохо. Как я так сумел сгенерить ?"
      ],
      "metadata": {
        "id": "hDcFMar3NYOd"
      },
      "id": "hDcFMar3NYOd"
    },
    {
      "cell_type": "markdown",
      "source": [
        "+ **Влияние аутлаеров**"
      ],
      "metadata": {
        "id": "qy19YI25NPR9"
      },
      "id": "qy19YI25NPR9"
    },
    {
      "cell_type": "code",
      "source": [
        "for col in ['ApplicantIncome', 'LoanAmount']:\n",
        "\n",
        "      Q1 = np.nanpercentile(train_num_tr[col], 25)\n",
        "      Q3 = np.nanpercentile(train_num_tr[col], 75)\n",
        "      IQR = Q3 - Q1\n",
        "      \n",
        "      train_num_tr['{}_Outliers'.format(col)] = train_num_tr[col].map(lambda x: 'Normal' if x <= Q3 + 1.5 * IQR else 'Outlier') \n",
        "      # # temp[col > Q3 + 1.5 * IQR].groupby(col).mean()['Loan_Status']\n",
        "      # print(temp[temp[col] > Q3 + 1.5 * IQR]['Loan_Status'].mean())\n",
        "\n",
        "train_num_tr['CoapplicantIncome_Outliers'] = train_num_tr['CoapplicantIncome'].map(lambda x: 'Normal' if x <= 6700 else 'Outlier')"
      ],
      "metadata": {
        "id": "knbl8ao4_vxA"
      },
      "id": "knbl8ao4_vxA",
      "execution_count": 230,
      "outputs": []
    },
    {
      "cell_type": "code",
      "source": [
        "for col in ['ApplicantIncome_Outliers', 'CoapplicantIncome_Outliers', 'LoanAmount_Outliers']:\n",
        "  for cat in train_num_tr[col].unique():\n",
        "    print(cat, IV_index(train_num_tr, col, cat, 1))\n",
        "\n",
        "    "
      ],
      "metadata": {
        "id": "xe2GbplLN4io",
        "outputId": "6764ec24-207f-476e-e2b8-e0c28d2858d2",
        "colab": {
          "base_uri": "https://localhost:8080/"
        }
      },
      "id": "xe2GbplLN4io",
      "execution_count": 231,
      "outputs": [
        {
          "output_type": "stream",
          "name": "stdout",
          "text": [
            "0    389\n",
            "1    175\n",
            "Name: Loan_Status, dtype: int64\n",
            "Normal 0.00011670014318542844\n",
            "0    33\n",
            "1    17\n",
            "Name: Loan_Status, dtype: int64\n",
            "Outlier 0.0012847153585739493\n",
            "0    414\n",
            "1    185\n",
            "Name: Loan_Status, dtype: int64\n",
            "Normal 0.0003150213906442646\n",
            "0    8\n",
            "1    7\n",
            "Name: Loan_Status, dtype: int64\n",
            "Outlier 0.01144527032763252\n",
            "0    397\n",
            "1    176\n",
            "Name: Loan_Status, dtype: int64\n",
            "Normal 0.0006249932709673457\n",
            "0    25\n",
            "1    16\n",
            "Name: Loan_Status, dtype: int64\n",
            "Outlier 0.008220613428976481\n"
          ]
        }
      ]
    },
    {
      "cell_type": "markdown",
      "source": [
        "Тоже всё плохо"
      ],
      "metadata": {
        "id": "2wGoXX_WPucw"
      },
      "id": "2wGoXX_WPucw"
    },
    {
      "cell_type": "markdown",
      "source": [
        "Отдельно гляну **ApplicantIncome**"
      ],
      "metadata": {
        "id": "2pvnFuTS1hKt"
      },
      "id": "2pvnFuTS1hKt"
    },
    {
      "cell_type": "code",
      "source": [
        "bins = [0, 2600, 4400, 8300, 100000]\n",
        "labels = ['Low', 'Stable', 'High', 'Very High']\n",
        "\n",
        "train_num_tr['ApplicantIncome_Flag'] = pd.cut(train_num_tr['ApplicantIncome'], labels=labels, bins=bins)"
      ],
      "metadata": {
        "id": "4MqRBKaJ1mo5"
      },
      "id": "4MqRBKaJ1mo5",
      "execution_count": 232,
      "outputs": []
    },
    {
      "cell_type": "code",
      "source": [
        "sns.barplot(x='ApplicantIncome_Flag', y='Loan_Status', data=train_num_tr)"
      ],
      "metadata": {
        "id": "WRbSTOf6N4lX",
        "colab": {
          "base_uri": "https://localhost:8080/",
          "height": 299
        },
        "outputId": "bdc330bc-215c-41e6-e471-63e6485c81a0"
      },
      "id": "WRbSTOf6N4lX",
      "execution_count": 233,
      "outputs": [
        {
          "output_type": "execute_result",
          "data": {
            "text/plain": [
              "<matplotlib.axes._subplots.AxesSubplot at 0x7fdfe91992d0>"
            ]
          },
          "metadata": {},
          "execution_count": 233
        },
        {
          "output_type": "display_data",
          "data": {
            "image/png": "[encoded data removed]",
            "text/plain": [
              "<Figure size 432x288 with 1 Axes>"
            ]
          },
          "metadata": {
            "needs_background": "light"
          }
        }
      ]
    },
    {
      "cell_type": "code",
      "source": [
        "total\n",
        "for cat in train_num_tr['ApplicantIncome_Flag'].unique():\n",
        "  print(cat, IV_index(train_num_tr, 'ApplicantIncome_Flag', cat, 1))\n",
        "\n",
        "  total = total + IV_index(train_num_tr, 'ApplicantIncome_Flag', cat)\n",
        "\n",
        "total"
      ],
      "metadata": {
        "id": "7cxMUbRUN4oH",
        "colab": {
          "base_uri": "https://localhost:8080/"
        },
        "outputId": "46cc664d-d4da-4f30-d65d-2e1634d03de0"
      },
      "id": "7cxMUbRUN4oH",
      "execution_count": 234,
      "outputs": [
        {
          "output_type": "stream",
          "name": "stdout",
          "text": [
            "0    108\n",
            "1     53\n",
            "Name: Loan_Status, dtype: int64\n",
            "High 0.0015223035687067581\n",
            "0    174\n",
            "1     76\n",
            "Name: Loan_Status, dtype: int64\n",
            "Stable 0.0006729469614568128\n",
            "0    85\n",
            "1    38\n",
            "Name: Loan_Status, dtype: int64\n",
            "Low 6.153317474598788e-05\n",
            "0    55\n",
            "1    25\n",
            "Name: Loan_Status, dtype: int64\n",
            "Very High 1.1693058304206961e-07\n"
          ]
        },
        {
          "output_type": "execute_result",
          "data": {
            "text/plain": [
              "0.01780375873742121"
            ]
          },
          "metadata": {},
          "execution_count": 234
        }
      ]
    },
    {
      "cell_type": "markdown",
      "source": [
        "Полная ерунда, что просто по бинам, что по точной статистике"
      ],
      "metadata": {
        "id": "BuShh6Yy2OtB"
      },
      "id": "BuShh6Yy2OtB"
    },
    {
      "cell_type": "markdown",
      "source": [
        "Последний вздох, попробуем разбивать по 10"
      ],
      "metadata": {
        "id": "UglaTczH6UCj"
      },
      "id": "UglaTczH6UCj"
    },
    {
      "cell_type": "markdown",
      "source": [
        "**Обычный стабильный заработок**"
      ],
      "metadata": {
        "id": "lWFl9wAG7efN"
      },
      "id": "lWFl9wAG7efN"
    },
    {
      "cell_type": "code",
      "source": [
        "labels = ['1','2','3','4','5','6','7','8','9','10']\n",
        "\n",
        "train_num_tr['Stable_Difference_Flag_10'] = pd.qcut(train_num_tr['Stable_Difference'], labels=labels, q=10)"
      ],
      "metadata": {
        "id": "F5ABBpF26aEM"
      },
      "execution_count": 235,
      "outputs": [],
      "id": "F5ABBpF26aEM"
    },
    {
      "cell_type": "code",
      "source": [
        "sns.barplot(x='Stable_Difference_Flag_10', y='Loan_Status', data=train_num_tr)"
      ],
      "metadata": {
        "outputId": "aa8ed237-defe-431b-f1a8-737118b23c0c",
        "colab": {
          "base_uri": "https://localhost:8080/",
          "height": 299
        },
        "id": "ZNgskw9y6aEM"
      },
      "execution_count": 236,
      "outputs": [
        {
          "output_type": "execute_result",
          "data": {
            "text/plain": [
              "<matplotlib.axes._subplots.AxesSubplot at 0x7fdfe909d110>"
            ]
          },
          "metadata": {},
          "execution_count": 236
        },
        {
          "output_type": "display_data",
          "data": {
            "image/png": "[encoded data removed]",
            "text/plain": [
              "<Figure size 432x288 with 1 Axes>"
            ]
          },
          "metadata": {
            "needs_background": "light"
          }
        }
      ],
      "id": "ZNgskw9y6aEM"
    },
    {
      "cell_type": "code",
      "source": [
        "total = 0\n",
        "for cat in train_num_tr['Stable_Difference_Flag_10'].unique():\n",
        "  print(cat, IV_index(train_num_tr, 'Stable_Difference_Flag_10', cat, to_print=0)) \n",
        "\n",
        "  total = total + IV_index(train_num_tr, 'Stable_Difference_Flag_10', cat)\n",
        "\n",
        "total"
      ],
      "metadata": {
        "outputId": "4212f7a7-6d07-4ce3-b189-f7a44586bd92",
        "colab": {
          "base_uri": "https://localhost:8080/"
        },
        "id": "jrVufkK96aEN"
      },
      "execution_count": 237,
      "outputs": [
        {
          "output_type": "stream",
          "name": "stdout",
          "text": [
            "8 3.2478286310240797e-06\n",
            "7 0.016819488369917358\n",
            "4 0.006893869508558626\n",
            "2 0.005745365602613033\n",
            "6 0.05788560044563661\n",
            "3 0.0006786897020740836\n",
            "5 0.0020883535505546703\n",
            "10 8.592249574812709e-05\n",
            "1 0.030458458496855047\n",
            "9 0.0020883535505546703\n"
          ]
        },
        {
          "output_type": "execute_result",
          "data": {
            "text/plain": [
              "0.12274734955114326"
            ]
          },
          "metadata": {},
          "execution_count": 237
        }
      ],
      "id": "jrVufkK96aEN"
    },
    {
      "cell_type": "markdown",
      "source": [
        "Вот это уже хорошо!"
      ],
      "metadata": {
        "id": "ZO5-aAAd7ao7"
      },
      "id": "ZO5-aAAd7ao7"
    },
    {
      "cell_type": "markdown",
      "source": [
        "**Посчитаем Adjusted**"
      ],
      "metadata": {
        "id": "HuyUtlgZ6aEN"
      },
      "id": "HuyUtlgZ6aEN"
    },
    {
      "cell_type": "code",
      "source": [
        "labels = ['1','2','3','4','5','6','7','8','9','10']\n",
        "\n",
        "train_num_tr['Adjusted_Stable_Difference_Flag_10'] = pd.qcut(train_num_tr['Adjusted_Stable_Difference'], labels=labels, q=10)"
      ],
      "metadata": {
        "id": "ydk14tqL6aEN"
      },
      "execution_count": 238,
      "outputs": [],
      "id": "ydk14tqL6aEN"
    },
    {
      "cell_type": "code",
      "source": [
        "sns.barplot(x='Adjusted_Stable_Difference_Flag_10', y='Loan_Status', data=train_num_tr)"
      ],
      "metadata": {
        "outputId": "4282b60c-640d-4912-e900-d10904b4a486",
        "colab": {
          "base_uri": "https://localhost:8080/",
          "height": 299
        },
        "id": "lzFNUQFc6aEP"
      },
      "execution_count": 239,
      "outputs": [
        {
          "output_type": "execute_result",
          "data": {
            "text/plain": [
              "<matplotlib.axes._subplots.AxesSubplot at 0x7fdfe8fcac50>"
            ]
          },
          "metadata": {},
          "execution_count": 239
        },
        {
          "output_type": "display_data",
          "data": {
            "image/png": "[encoded data removed]",
            "text/plain": [
              "<Figure size 432x288 with 1 Axes>"
            ]
          },
          "metadata": {
            "needs_background": "light"
          }
        }
      ],
      "id": "lzFNUQFc6aEP"
    },
    {
      "cell_type": "code",
      "source": [
        "total = 0\n",
        "for cat in train_num_tr['Adjusted_Stable_Difference_Flag_10'].unique():\n",
        "  print(cat, IV_index(train_num_tr, 'Adjusted_Stable_Difference_Flag_10', cat))\n",
        "\n",
        "  total = total + IV_index(train_num_tr, 'Adjusted_Stable_Difference_Flag_10', cat)\n",
        "\n",
        "total"
      ],
      "metadata": {
        "outputId": "a8d9aa6e-f5f6-47ac-a845-043f5f9fbe93",
        "colab": {
          "base_uri": "https://localhost:8080/"
        },
        "id": "PfkyZxJv6aEP"
      },
      "execution_count": 240,
      "outputs": [
        {
          "output_type": "stream",
          "name": "stdout",
          "text": [
            "8 0.005745365602613033\n",
            "4 8.592249574812709e-05\n",
            "5 0.025727917600135135\n",
            "7 0.011789822934777\n",
            "1 0.02315456431167091\n",
            "6 0.005745365602613033\n",
            "2 0.005745365602613033\n",
            "9 0.008489550944022713\n",
            "3 0.023880659849726038\n",
            "10 0.0037548800080122718\n"
          ]
        },
        {
          "output_type": "execute_result",
          "data": {
            "text/plain": [
              "0.11411941495193129"
            ]
          },
          "metadata": {},
          "execution_count": 240
        }
      ],
      "id": "PfkyZxJv6aEP"
    },
    {
      "cell_type": "markdown",
      "source": [
        "Это очень хорошо!"
      ],
      "metadata": {
        "id": "iZXSyS-bNOU0"
      },
      "id": "iZXSyS-bNOU0"
    },
    {
      "cell_type": "markdown",
      "source": [
        "**Экстрим фичи**"
      ],
      "metadata": {
        "id": "jU3w49SV8Q9O"
      },
      "id": "jU3w49SV8Q9O"
    },
    {
      "cell_type": "code",
      "source": [
        "labels = ['1','2','3','4','5','6','7','8','9','10']\n",
        "\n",
        "train_num_tr['Extreme_Adjusted_Stable_Difference_Flag_10'] = pd.qcut(train_num_tr['Extreme_Adjusted_Stable_Difference'], labels=labels, q=10)"
      ],
      "metadata": {
        "id": "QlDHEE-y6aEP"
      },
      "execution_count": 241,
      "outputs": [],
      "id": "QlDHEE-y6aEP"
    },
    {
      "cell_type": "code",
      "source": [
        "sns.barplot(x='Extreme_Adjusted_Stable_Difference_Flag_10', y='Loan_Status', data=train_num_tr)"
      ],
      "metadata": {
        "outputId": "c33ed1e0-75ed-49f6-b305-2ab8a345541c",
        "colab": {
          "base_uri": "https://localhost:8080/",
          "height": 301
        },
        "id": "nizP0K_26aEP"
      },
      "execution_count": 242,
      "outputs": [
        {
          "output_type": "execute_result",
          "data": {
            "text/plain": [
              "<matplotlib.axes._subplots.AxesSubplot at 0x7fdfe8f1d3d0>"
            ]
          },
          "metadata": {},
          "execution_count": 242
        },
        {
          "output_type": "display_data",
          "data": {
            "image/png": "[encoded data removed]",
            "text/plain": [
              "<Figure size 432x288 with 1 Axes>"
            ]
          },
          "metadata": {
            "needs_background": "light"
          }
        }
      ],
      "id": "nizP0K_26aEP"
    },
    {
      "cell_type": "code",
      "source": [
        "total = 0\n",
        "for cat in train_num_tr['Extreme_Adjusted_Stable_Difference_Flag_10'].unique():\n",
        "  print(cat, IV_index(train_num_tr, 'Extreme_Adjusted_Stable_Difference_Flag_10', cat, to_print=False))\n",
        "\n",
        "  total = total + IV_index(train_num_tr, 'Extreme_Adjusted_Stable_Difference_Flag_10', cat)\n",
        "\n",
        "total"
      ],
      "metadata": {
        "outputId": "8318eb02-82ce-49aa-8679-b03f2f17311c",
        "colab": {
          "base_uri": "https://localhost:8080/"
        },
        "id": "2K_oTunn6aEQ"
      },
      "execution_count": 243,
      "outputs": [
        {
          "output_type": "stream",
          "name": "stdout",
          "text": [
            "8 0.005745365602613033\n",
            "4 0.001117870751626851\n",
            "5 0.0334505239806338\n",
            "7 0.011789822934777\n",
            "1 0.0002114842093311701\n",
            "6 0.005745365602613033\n",
            "2 0.0004884064542764472\n",
            "3 0.005745365602613033\n",
            "9 0.004765543365292652\n",
            "10 0.0037548800080122718\n"
          ]
        },
        {
          "output_type": "execute_result",
          "data": {
            "text/plain": [
              "0.0728146285117893"
            ]
          },
          "metadata": {},
          "execution_count": 243
        }
      ],
      "id": "2K_oTunn6aEQ"
    },
    {
      "cell_type": "markdown",
      "source": [
        "Результаты лучше чем, по 4 категории. Вместо 4 буду использовать разбиение на 10 !"
      ],
      "metadata": {
        "id": "O7ez-oa_6aEQ"
      },
      "id": "O7ez-oa_6aEQ"
    },
    {
      "cell_type": "code",
      "source": [
        ""
      ],
      "metadata": {
        "id": "4531U5f2N4qz"
      },
      "id": "4531U5f2N4qz",
      "execution_count": 243,
      "outputs": []
    },
    {
      "cell_type": "code",
      "source": [
        ""
      ],
      "metadata": {
        "id": "BiRxo-Bz2dzA"
      },
      "id": "BiRxo-Bz2dzA",
      "execution_count": 243,
      "outputs": []
    },
    {
      "cell_type": "code",
      "source": [
        ""
      ],
      "metadata": {
        "id": "g1jaCapR2d1o"
      },
      "id": "g1jaCapR2d1o",
      "execution_count": 243,
      "outputs": []
    },
    {
      "cell_type": "code",
      "source": [
        ""
      ],
      "metadata": {
        "id": "9znJ8rQU2d4q"
      },
      "id": "9znJ8rQU2d4q",
      "execution_count": 243,
      "outputs": []
    },
    {
      "cell_type": "code",
      "source": [
        ""
      ],
      "metadata": {
        "id": "Ad2wh1tK0wMx"
      },
      "id": "Ad2wh1tK0wMx",
      "execution_count": 243,
      "outputs": []
    },
    {
      "cell_type": "code",
      "source": [
        ""
      ],
      "metadata": {
        "id": "ob5ivj920wPX"
      },
      "id": "ob5ivj920wPX",
      "execution_count": null,
      "outputs": []
    },
    {
      "cell_type": "code",
      "source": [
        ""
      ],
      "metadata": {
        "id": "rUCoDjei0wRs"
      },
      "id": "rUCoDjei0wRs",
      "execution_count": null,
      "outputs": []
    },
    {
      "cell_type": "code",
      "source": [
        ""
      ],
      "metadata": {
        "id": "y2jtVsmq0wUX"
      },
      "id": "y2jtVsmq0wUX",
      "execution_count": null,
      "outputs": []
    },
    {
      "cell_type": "markdown",
      "source": [
        "## Categorical features"
      ],
      "metadata": {
        "id": "VB2bLNWOuM1P"
      },
      "id": "VB2bLNWOuM1P"
    },
    {
      "cell_type": "code",
      "source": [
        "train_cat_tr = pd.concat([train_cat_tr, target.map({'Y':0, 'N':1})], axis=1)"
      ],
      "metadata": {
        "id": "_XtFxHA0_DOI"
      },
      "id": "_XtFxHA0_DOI",
      "execution_count": 244,
      "outputs": []
    },
    {
      "cell_type": "code",
      "source": [
        "# train_cat_tr.drop(['Loan_Status'], axis=1, inplace=True)"
      ],
      "metadata": {
        "id": "GSTxTwomGZv7"
      },
      "id": "GSTxTwomGZv7",
      "execution_count": 245,
      "outputs": []
    },
    {
      "cell_type": "markdown",
      "source": [
        "### Смотрим известные"
      ],
      "metadata": {
        "id": "ETI8oJ_XDEr7"
      },
      "id": "ETI8oJ_XDEr7"
    },
    {
      "cell_type": "markdown",
      "source": [
        "**Gender**"
      ],
      "metadata": {
        "id": "VxiJnkn8-zpl"
      },
      "id": "VxiJnkn8-zpl"
    },
    {
      "cell_type": "code",
      "source": [
        "train_cat_tr['Gender'] = train_cat_tr['Gender'].fillna(train_cat_tr['Gender'].mode()[0])"
      ],
      "metadata": {
        "id": "UuI1P5l2AYr4"
      },
      "id": "UuI1P5l2AYr4",
      "execution_count": 246,
      "outputs": []
    },
    {
      "cell_type": "code",
      "source": [
        "total = 0\n",
        "for cat in train_cat_tr['Gender'].unique():\n",
        "  print(cat)\n",
        "  print(cat, IV_index(train_cat_tr, 'Gender', cat, to_print=True))\n",
        "  \n",
        "  total = total + IV_index(train_cat_tr, 'Gender', cat)\n",
        "\n",
        "total"
      ],
      "metadata": {
        "colab": {
          "base_uri": "https://localhost:8080/"
        },
        "id": "5mpm_zoY-tEs",
        "outputId": "27bd105f-bc4a-4b6d-e923-b877cd9f4fc6"
      },
      "id": "5mpm_zoY-tEs",
      "execution_count": 247,
      "outputs": [
        {
          "output_type": "stream",
          "name": "stdout",
          "text": [
            "Male\n",
            "0    347\n",
            "1    155\n",
            "Name: Loan_Status, dtype: int64\n",
            "Male 0.0002755371410635144\n",
            "Female\n",
            "0    75\n",
            "1    37\n",
            "Name: Loan_Status, dtype: int64\n",
            "Female 0.0012127375310401758\n"
          ]
        },
        {
          "output_type": "execute_result",
          "data": {
            "text/plain": [
              "0.0014882746721036901"
            ]
          },
          "metadata": {},
          "execution_count": 247
        }
      ]
    },
    {
      "cell_type": "markdown",
      "source": [
        "Не информативненько, хотя и предсказуемо"
      ],
      "metadata": {
        "id": "zghiVD1CAo91"
      },
      "id": "zghiVD1CAo91"
    },
    {
      "cell_type": "markdown",
      "source": [
        "**Married**"
      ],
      "metadata": {
        "id": "3fjd4_C3AulC"
      },
      "id": "3fjd4_C3AulC"
    },
    {
      "cell_type": "code",
      "source": [
        "train_cat_tr['Married'] = train_cat_tr['Married'].fillna(train_cat_tr['Married'].mode()[0])"
      ],
      "metadata": {
        "id": "6HO5h8aUAulD"
      },
      "execution_count": 248,
      "outputs": [],
      "id": "6HO5h8aUAulD"
    },
    {
      "cell_type": "code",
      "source": [
        "for cat in train_cat_tr['Married'].unique():\n",
        "  print(cat)\n",
        "  print(cat, IV_index(train_cat_tr, 'Married', cat, to_print=True))"
      ],
      "metadata": {
        "outputId": "6af5830f-5cd0-4f7f-91bb-c5beb537f314",
        "colab": {
          "base_uri": "https://localhost:8080/"
        },
        "id": "y5uVN6HdAulD"
      },
      "execution_count": 249,
      "outputs": [
        {
          "output_type": "stream",
          "name": "stdout",
          "text": [
            "No\n",
            "0    134\n",
            "1     79\n",
            "Name: Loan_Status, dtype: int64\n",
            "No 0.024337084546927203\n",
            "Yes\n",
            "0    288\n",
            "1    113\n",
            "Name: Loan_Status, dtype: int64\n",
            "Yes 0.013906463452199426\n"
          ]
        }
      ],
      "id": "y5uVN6HdAulD"
    },
    {
      "cell_type": "markdown",
      "source": [
        "О, это уже хорошо"
      ],
      "metadata": {
        "id": "EGEhQ37ZAulE"
      },
      "id": "EGEhQ37ZAulE"
    },
    {
      "cell_type": "markdown",
      "source": [
        "**Dependents**"
      ],
      "metadata": {
        "id": "hERpgZ0iBKf4"
      },
      "id": "hERpgZ0iBKf4"
    },
    {
      "cell_type": "code",
      "source": [
        "train_cat_tr['Dependents'] = train_cat_tr['Dependents'].fillna(train_cat_tr['Dependents'].mode()[0])"
      ],
      "metadata": {
        "id": "LNSEj0BEBKf5"
      },
      "execution_count": 250,
      "outputs": [],
      "id": "LNSEj0BEBKf5"
    },
    {
      "cell_type": "code",
      "source": [
        "for cat in train_cat_tr['Dependents'].unique():\n",
        "  print(cat)\n",
        "  print(cat, IV_index(train_cat_tr, 'Dependents', cat, to_print=True))"
      ],
      "metadata": {
        "outputId": "ac9731be-5ecb-4703-982b-7e7d98c0ac6b",
        "colab": {
          "base_uri": "https://localhost:8080/"
        },
        "id": "P6485V2FBKf5"
      },
      "execution_count": 251,
      "outputs": [
        {
          "output_type": "stream",
          "name": "stdout",
          "text": [
            "0\n",
            "0    247\n",
            "1    113\n",
            "Name: Loan_Status, dtype: int64\n",
            "0 1.7815327708574132e-05\n",
            "1\n",
            "0    66\n",
            "1    36\n",
            "Name: Loan_Status, dtype: int64\n",
            "1 0.005641079542648411\n",
            "2\n",
            "0    76\n",
            "1    25\n",
            "Name: Loan_Status, dtype: int64\n",
            "2 0.016180550105188776\n",
            "3+\n",
            "0    33\n",
            "1    18\n",
            "Name: Loan_Status, dtype: int64\n",
            "3+ 0.0028205397713242054\n"
          ]
        }
      ],
      "id": "P6485V2FBKf5"
    },
    {
      "cell_type": "code",
      "source": [
        "sns.barplot(x='Dependents', y='Loan_Status', data=train_cat_tr)"
      ],
      "metadata": {
        "colab": {
          "base_uri": "https://localhost:8080/",
          "height": 297
        },
        "id": "2w6nBMXdBkLo",
        "outputId": "6c96cd7f-82d1-4fc8-c6ec-7dc394981d9b"
      },
      "id": "2w6nBMXdBkLo",
      "execution_count": 252,
      "outputs": [
        {
          "output_type": "execute_result",
          "data": {
            "text/plain": [
              "<matplotlib.axes._subplots.AxesSubplot at 0x7fdfe9349910>"
            ]
          },
          "metadata": {},
          "execution_count": 252
        },
        {
          "output_type": "display_data",
          "data": {
            "image/png": "[encoded data removed]",
            "text/plain": [
              "<Figure size 432x288 with 1 Axes>"
            ]
          },
          "metadata": {
            "needs_background": "light"
          }
        }
      ]
    },
    {
      "cell_type": "markdown",
      "source": [
        "Пока никак"
      ],
      "metadata": {
        "id": "JxxBYQTJBKf6"
      },
      "id": "JxxBYQTJBKf6"
    },
    {
      "cell_type": "markdown",
      "source": [
        "**Education**"
      ],
      "metadata": {
        "id": "GwQDEJ5uB0yh"
      },
      "id": "GwQDEJ5uB0yh"
    },
    {
      "cell_type": "code",
      "source": [
        "train_cat_tr['Education'] = train_cat_tr['Education'].fillna(train_cat_tr['Education'].mode()[0])"
      ],
      "metadata": {
        "id": "PlL1ZGYEB0yh"
      },
      "execution_count": 253,
      "outputs": [],
      "id": "PlL1ZGYEB0yh"
    },
    {
      "cell_type": "code",
      "source": [
        "for cat in train_cat_tr['Education'].unique():\n",
        "  print(cat)\n",
        "  print(cat, IV_index(train_cat_tr, 'Education', cat, to_print=True))"
      ],
      "metadata": {
        "colab": {
          "base_uri": "https://localhost:8080/"
        },
        "id": "jKSHaptAB0yi",
        "outputId": "0451507c-282c-4c35-b18d-d89e566cae22"
      },
      "execution_count": 254,
      "outputs": [
        {
          "output_type": "stream",
          "name": "stdout",
          "text": [
            "Graduate\n",
            "0    340\n",
            "1    140\n",
            "Name: Loan_Status, dtype: int64\n",
            "Graduate 0.007636233320430611\n",
            "Not Graduate\n",
            "0    82\n",
            "1    52\n",
            "Name: Loan_Status, dtype: int64\n",
            "Not Graduate 0.025407451651578622\n"
          ]
        }
      ],
      "id": "jKSHaptAB0yi"
    },
    {
      "cell_type": "code",
      "source": [
        "sns.barplot(x='Education', y='Loan_Status', data=train_cat_tr)"
      ],
      "metadata": {
        "outputId": "9741ae66-7bbc-4490-88e2-3ebc0d73e2b2",
        "colab": {
          "base_uri": "https://localhost:8080/",
          "height": 301
        },
        "id": "JsJCMCR9B0yi"
      },
      "execution_count": 255,
      "outputs": [
        {
          "output_type": "execute_result",
          "data": {
            "text/plain": [
              "<matplotlib.axes._subplots.AxesSubplot at 0x7fdfe9661610>"
            ]
          },
          "metadata": {},
          "execution_count": 255
        },
        {
          "output_type": "display_data",
          "data": {
            "image/png": "[encoded data removed]",
            "text/plain": [
              "<Figure size 432x288 with 1 Axes>"
            ]
          },
          "metadata": {
            "needs_background": "light"
          }
        }
      ],
      "id": "JsJCMCR9B0yi"
    },
    {
      "cell_type": "markdown",
      "source": [
        "**Self-Employed**"
      ],
      "metadata": {
        "id": "pnjDsHK6CJbe"
      },
      "id": "pnjDsHK6CJbe"
    },
    {
      "cell_type": "code",
      "source": [
        "train_cat_tr['Self_Employed'] = train_cat_tr['Self_Employed'].fillna(train_cat_tr['Self_Employed'].mode()[0])"
      ],
      "metadata": {
        "id": "qmsH2hL6CJbf"
      },
      "execution_count": 256,
      "outputs": [],
      "id": "qmsH2hL6CJbf"
    },
    {
      "cell_type": "code",
      "source": [
        "for cat in train_cat_tr['Self_Employed'].unique():\n",
        "  print(cat)\n",
        "  print(cat, IV_index(train_cat_tr, 'Self_Employed', cat, to_print=True))"
      ],
      "metadata": {
        "colab": {
          "base_uri": "https://localhost:8080/"
        },
        "id": "T8fO6PTSCJbg",
        "outputId": "51b368d2-3b36-4a69-b5f8-95fc70bd2816"
      },
      "execution_count": 257,
      "outputs": [
        {
          "output_type": "stream",
          "name": "stdout",
          "text": [
            "No\n",
            "0    366\n",
            "1    166\n",
            "Name: Loan_Status, dtype: int64\n",
            "No 8.51393004604037e-06\n",
            "Yes\n",
            "0    56\n",
            "1    26\n",
            "Name: Loan_Status, dtype: int64\n",
            "Yes 5.499671263827754e-05\n"
          ]
        }
      ],
      "id": "T8fO6PTSCJbg"
    },
    {
      "cell_type": "code",
      "source": [
        "sns.barplot(x='Self_Employed', y='Loan_Status', data=train_cat_tr)"
      ],
      "metadata": {
        "colab": {
          "base_uri": "https://localhost:8080/",
          "height": 299
        },
        "id": "hm2j2JEZCJbg",
        "outputId": "d5cdda25-6738-42b4-e81a-0b162552e6f9"
      },
      "execution_count": 258,
      "outputs": [
        {
          "output_type": "execute_result",
          "data": {
            "text/plain": [
              "<matplotlib.axes._subplots.AxesSubplot at 0x7fdfe8e5c910>"
            ]
          },
          "metadata": {},
          "execution_count": 258
        },
        {
          "output_type": "display_data",
          "data": {
            "image/png": "[encoded data removed]",
            "text/plain": [
              "<Figure size 432x288 with 1 Axes>"
            ]
          },
          "metadata": {
            "needs_background": "light"
          }
        }
      ],
      "id": "hm2j2JEZCJbg"
    },
    {
      "cell_type": "markdown",
      "source": [
        "Не оч хорошая фича"
      ],
      "metadata": {
        "id": "2dfVToZaCDpW"
      },
      "id": "2dfVToZaCDpW"
    },
    {
      "cell_type": "markdown",
      "source": [
        "**Property Area**"
      ],
      "metadata": {
        "id": "SCIZg56SCsbK"
      },
      "id": "SCIZg56SCsbK"
    },
    {
      "cell_type": "code",
      "source": [
        "train_cat_tr['Property_Area'] = train_cat_tr['Property_Area'].fillna(train_cat_tr['Property_Area'].mode()[0])"
      ],
      "metadata": {
        "id": "NsAi_YkACsbL"
      },
      "execution_count": 259,
      "outputs": [],
      "id": "NsAi_YkACsbL"
    },
    {
      "cell_type": "code",
      "source": [
        "for cat in train_cat_tr['Property_Area'].unique():\n",
        "  print(cat)\n",
        "  print(cat, IV_index(train_cat_tr, 'Property_Area', cat, to_print=True))"
      ],
      "metadata": {
        "colab": {
          "base_uri": "https://localhost:8080/"
        },
        "id": "1zzAW1CGCsbL",
        "outputId": "e49cfd7c-bea4-442e-e777-f368add6c1bc"
      },
      "execution_count": 260,
      "outputs": [
        {
          "output_type": "stream",
          "name": "stdout",
          "text": [
            "Urban\n",
            "0    133\n",
            "1     69\n",
            "Name: Loan_Status, dtype: int64\n",
            "Urban 0.005803213053546384\n",
            "Rural\n",
            "0    110\n",
            "1     69\n",
            "Name: Loan_Status, dtype: int64\n",
            "Rural 0.031699821958221755\n",
            "Semiurban\n",
            "0    179\n",
            "1     54\n",
            "Name: Loan_Status, dtype: int64\n",
            "Semiurban 0.058724911680074286\n"
          ]
        }
      ],
      "id": "1zzAW1CGCsbL"
    },
    {
      "cell_type": "code",
      "source": [
        "sns.barplot(x='Property_Area', y='Loan_Status', data=train_cat_tr)"
      ],
      "metadata": {
        "colab": {
          "base_uri": "https://localhost:8080/",
          "height": 299
        },
        "id": "zqYQjvgVCsbL",
        "outputId": "b92d42f3-c03a-40eb-f1ae-71a6c3529ca8"
      },
      "execution_count": 261,
      "outputs": [
        {
          "output_type": "execute_result",
          "data": {
            "text/plain": [
              "<matplotlib.axes._subplots.AxesSubplot at 0x7fdfe8dcf650>"
            ]
          },
          "metadata": {},
          "execution_count": 261
        },
        {
          "output_type": "display_data",
          "data": {
            "image/png": "[encoded data removed]",
            "text/plain": [
              "<Figure size 432x288 with 1 Axes>"
            ]
          },
          "metadata": {
            "needs_background": "light"
          }
        }
      ],
      "id": "zqYQjvgVCsbL"
    },
    {
      "cell_type": "markdown",
      "source": [
        "Опа, хорошие фичи!"
      ],
      "metadata": {
        "id": "MnWmBpEAC8iq"
      },
      "id": "MnWmBpEAC8iq"
    },
    {
      "cell_type": "markdown",
      "source": [
        "### Теперь свои"
      ],
      "metadata": {
        "id": "BdQijEFNDKel"
      },
      "id": "BdQijEFNDKel"
    },
    {
      "cell_type": "markdown",
      "source": [
        "#### \"Женатая фича\""
      ],
      "metadata": {
        "id": "FXiNqz0QFJRk"
      },
      "id": "FXiNqz0QFJRk"
    },
    {
      "cell_type": "markdown",
      "source": [
        "**Женатые без детей**"
      ],
      "metadata": {
        "id": "PiFnNepAFs2D"
      },
      "id": "PiFnNepAFs2D"
    },
    {
      "cell_type": "code",
      "source": [
        "for cat in train_cat_tr['Gender'].unique():\n",
        "  print(cat)\n",
        "  print(cat, IV_index(train_cat_tr[(train_cat_tr['Married'] == 'Yes') & (train_cat_tr['Dependents'] == '0')], 'Gender', cat, to_print=True))\n"
      ],
      "metadata": {
        "colab": {
          "base_uri": "https://localhost:8080/"
        },
        "id": "wpSXIsXEFZqp",
        "outputId": "87621e25-bad6-4c90-db13-dc830c78d4e6"
      },
      "execution_count": 262,
      "outputs": [
        {
          "output_type": "stream",
          "name": "stdout",
          "text": [
            "Male\n",
            "0    120\n",
            "1     44\n",
            "Name: Loan_Status, dtype: int64\n",
            "Male 8.933631869778867e-05\n",
            "Female\n",
            "0    15\n",
            "1     6\n",
            "Name: Loan_Status, dtype: int64\n",
            "Female 0.0006840981434322519\n"
          ]
        }
      ],
      "id": "wpSXIsXEFZqp"
    },
    {
      "cell_type": "markdown",
      "source": [
        "По гендеру никакой разницы!"
      ],
      "metadata": {
        "id": "_M_dIqr4HQg5"
      },
      "id": "_M_dIqr4HQg5"
    },
    {
      "cell_type": "markdown",
      "source": [
        "**Неженатые люди без детей**"
      ],
      "metadata": {
        "id": "9hO2ZWqUHV3h"
      },
      "id": "9hO2ZWqUHV3h"
    },
    {
      "cell_type": "code",
      "source": [
        "for cat in train_cat_tr['Gender'].unique():\n",
        "  print(cat)\n",
        "  print(cat, IV_index(train_cat_tr[(train_cat_tr['Married'] == 'No') & (train_cat_tr['Dependents'] == '0')], 'Gender', cat, to_print=True))"
      ],
      "metadata": {
        "colab": {
          "base_uri": "https://localhost:8080/"
        },
        "id": "OZ2Q3gGUHWqp",
        "outputId": "9489c433-b7e7-43f5-a79c-fd1bb903f1df"
      },
      "id": "OZ2Q3gGUHWqp",
      "execution_count": 263,
      "outputs": [
        {
          "output_type": "stream",
          "name": "stdout",
          "text": [
            "Male\n",
            "0    71\n",
            "1    42\n",
            "Name: Loan_Status, dtype: int64\n",
            "Male 0.001648490320243341\n",
            "Female\n",
            "0    41\n",
            "1    21\n",
            "Name: Loan_Status, dtype: int64\n",
            "Female 0.003067084300150456\n"
          ]
        }
      ]
    },
    {
      "cell_type": "markdown",
      "source": [
        "Тоже никакой разницы"
      ],
      "metadata": {
        "id": "d-93-ItEHpV3"
      },
      "id": "d-93-ItEHpV3"
    },
    {
      "cell_type": "markdown",
      "source": [
        "**Разведенные люди (неженаты, но с детьми)** "
      ],
      "metadata": {
        "id": "APF875V_H2dQ"
      },
      "id": "APF875V_H2dQ"
    },
    {
      "cell_type": "code",
      "source": [
        "for cat in train_cat_tr['Gender'].unique():\n",
        "  print(cat)\n",
        "  print(cat, IV_index(train_cat_tr[(train_cat_tr['Married'] == 'No') & (train_cat_tr['Dependents'] != '0')], 'Gender', cat, to_print=True))"
      ],
      "metadata": {
        "colab": {
          "base_uri": "https://localhost:8080/"
        },
        "id": "jjvXxcJIHWuE",
        "outputId": "409ff0cf-0d92-4220-f7e5-eb4285a15665"
      },
      "id": "jjvXxcJIHWuE",
      "execution_count": 264,
      "outputs": [
        {
          "output_type": "stream",
          "name": "stdout",
          "text": [
            "Male\n",
            "0    12\n",
            "1     8\n",
            "Name: Loan_Status, dtype: int64\n",
            "Male 0.00395506259043771\n",
            "Female\n",
            "0    10\n",
            "1     8\n",
            "Name: Loan_Status, dtype: int64\n",
            "Female 0.004332280900196587\n"
          ]
        }
      ]
    },
    {
      "cell_type": "markdown",
      "source": [
        "Их просто мало, но там примерно 50/50"
      ],
      "metadata": {
        "id": "Uukvx7pxIDBj"
      },
      "id": "Uukvx7pxIDBj"
    },
    {
      "cell_type": "markdown",
      "source": [
        "**Женаты и с детьми (по гендеру)**"
      ],
      "metadata": {
        "id": "MIgImfFjIUkP"
      },
      "id": "MIgImfFjIUkP"
    },
    {
      "cell_type": "code",
      "source": [
        "for cat in train_cat_tr['Gender'].unique():\n",
        "  print(cat)\n",
        "  print(cat, IV_index(train_cat_tr[(train_cat_tr['Married'] == 'Yes') & (train_cat_tr['Dependents'] != '0')], 'Gender', cat, to_print=True))"
      ],
      "metadata": {
        "colab": {
          "base_uri": "https://localhost:8080/"
        },
        "id": "53rD2KtnIUHU",
        "outputId": "0f5e3ab8-c5ac-4371-ae2c-56fa5c9f3ed3"
      },
      "id": "53rD2KtnIUHU",
      "execution_count": 265,
      "outputs": [
        {
          "output_type": "stream",
          "name": "stdout",
          "text": [
            "Male\n",
            "0    144\n",
            "1     61\n",
            "Name: Loan_Status, dtype: int64\n",
            "Male 0.0007680196343120363\n",
            "Female\n",
            "0    9\n",
            "1    2\n",
            "Name: Loan_Status, dtype: int64\n",
            "Female 0.016700702008856927\n"
          ]
        }
      ]
    },
    {
      "cell_type": "markdown",
      "source": [
        "Для мужиков никакой разницы, женщин мало (там 4:1 почти)"
      ],
      "metadata": {
        "id": "TNi8BDUgIo5g"
      },
      "id": "TNi8BDUgIo5g"
    },
    {
      "cell_type": "markdown",
      "source": [
        "**Просто женаты (по детям)**"
      ],
      "metadata": {
        "id": "x_GlFTe3I0xo"
      },
      "id": "x_GlFTe3I0xo"
    },
    {
      "cell_type": "code",
      "source": [
        "for cat in train_cat_tr['Dependents'].unique():\n",
        "  print(cat)\n",
        "  print(cat, IV_index(train_cat_tr[(train_cat_tr['Married'] == 'Yes')], 'Dependents', cat, to_print=True))"
      ],
      "metadata": {
        "colab": {
          "base_uri": "https://localhost:8080/"
        },
        "id": "2hmI_NGNI0xo",
        "outputId": "b6ad6084-a468-472a-b8a5-67025d10f81f"
      },
      "execution_count": 266,
      "outputs": [
        {
          "output_type": "stream",
          "name": "stdout",
          "text": [
            "0\n",
            "0    135\n",
            "1     50\n",
            "Name: Loan_Status, dtype: int64\n",
            "0 0.0015153527656898242\n",
            "1\n",
            "0    53\n",
            "1    26\n",
            "Name: Loan_Status, dtype: int64\n",
            "1 0.010288918127874727\n",
            "2\n",
            "0    71\n",
            "1    22\n",
            "Name: Loan_Status, dtype: int64\n",
            "2 0.012237010015105645\n",
            "3+\n",
            "0    29\n",
            "1    15\n",
            "Name: Loan_Status, dtype: int64\n",
            "3+ 0.00885598251408964\n"
          ]
        }
      ],
      "id": "2hmI_NGNI0xo"
    },
    {
      "cell_type": "markdown",
      "source": [
        "Для 3+ примерно 3:1, остальное - мусор\n",
        "\n",
        "UPD: Эта по сумме IV хороша"
      ],
      "metadata": {
        "id": "cG4mx5Q0JJe6"
      },
      "id": "cG4mx5Q0JJe6"
    },
    {
      "cell_type": "markdown",
      "source": [
        "Вывод: сами по себе эти признаки - мусор. С них надо нагенерить одну \"женатую\" фичу, независимо от результатов тут. Например по статье."
      ],
      "metadata": {
        "id": "O6SUUMdcI0xp"
      },
      "id": "O6SUUMdcI0xp"
    },
    {
      "cell_type": "code",
      "source": [
        "def family_ball(col):\n",
        "  \n",
        "  ball = 0\n",
        "\n",
        "  if (col['Married'] != 'Yes') & (col['Dependents'] == '0'):\n",
        "    ball += 17.29\n",
        "  \n",
        "  if (col['Married'] != 'Yes') & (col['Dependents'] != '0'):\n",
        "    ball += 5.53\n",
        "\n",
        "  if (col['Married'] != 'No') & (col['Dependents'] == '0'):\n",
        "    ball += 8.83\n",
        "  \n",
        "  if (col['Married'] != 'No') & (col['Dependents'] != '0'):\n",
        "    ball += -19.86\n",
        "\n",
        "\n",
        "  return ball\n",
        "\n",
        "fb = [family_ball(train_cat_tr.iloc[i]) for i in range(len(train_cat_tr))]\n",
        "train_cat_tr['Family_Ball'] = fb\n",
        "train_cat_tr.corr()"
      ],
      "metadata": {
        "colab": {
          "base_uri": "https://localhost:8080/",
          "height": 112
        },
        "id": "EYXRbO8wIoPl",
        "outputId": "f53d7735-f3d4-4689-9b76-692b768e5754"
      },
      "id": "EYXRbO8wIoPl",
      "execution_count": 267,
      "outputs": [
        {
          "output_type": "execute_result",
          "data": {
            "text/html": [
              "\n",
              "  <div id=\"df-8468708f-4fd0-407e-a989-9f208398d1e5\">\n",
              "    <div class=\"colab-df-container\">\n",
              "      <div>\n",
              "<style scoped>\n",
              "    .dataframe tbody tr th:only-of-type {\n",
              "        vertical-align: middle;\n",
              "    }\n",
              "\n",
              "    .dataframe tbody tr th {\n",
              "        vertical-align: top;\n",
              "    }\n",
              "\n",
              "    .dataframe thead th {\n",
              "        text-align: right;\n",
              "    }\n",
              "</style>\n",
              "<table border=\"1\" class=\"dataframe\">\n",
              "  <thead>\n",
              "    <tr style=\"text-align: right;\">\n",
              "      <th></th>\n",
              "      <th>Loan_Status</th>\n",
              "      <th>Family_Ball</th>\n",
              "    </tr>\n",
              "  </thead>\n",
              "  <tbody>\n",
              "    <tr>\n",
              "      <th>Loan_Status</th>\n",
              "      <td>1.000000</td>\n",
              "      <td>0.041635</td>\n",
              "    </tr>\n",
              "    <tr>\n",
              "      <th>Family_Ball</th>\n",
              "      <td>0.041635</td>\n",
              "      <td>1.000000</td>\n",
              "    </tr>\n",
              "  </tbody>\n",
              "</table>\n",
              "</div>\n",
              "      <button class=\"colab-df-convert\" onclick=\"convertToInteractive('df-8468708f-4fd0-407e-a989-9f208398d1e5')\"\n",
              "              title=\"Convert this dataframe to an interactive table.\"\n",
              "              style=\"display:none;\">\n",
              "        \n",
              "  <svg xmlns=\"http://www.w3.org/2000/svg\" height=\"24px\"viewBox=\"0 0 24 24\"\n",
              "       width=\"24px\">\n",
              "    <path d=\"M0 0h24v24H0V0z\" fill=\"none\"/>\n",
              "    <path d=\"M18.56 5.44l.94 2.06.94-2.06 2.06-.94-2.06-.94-.94-2.06-.94 2.06-2.06.94zm-11 1L8.5 8.5l.94-2.06 2.06-.94-2.06-.94L8.5 2.5l-.94 2.06-2.06.94zm10 10l.94 2.06.94-2.06 2.06-.94-2.06-.94-.94-2.06-.94 2.06-2.06.94z\"/><path d=\"M17.41 7.96l-1.37-1.37c-.4-.4-.92-.59-1.43-.59-.52 0-1.04.2-1.43.59L10.3 9.45l-7.72 7.72c-.78.78-.78 2.05 0 2.83L4 21.41c.39.39.9.59 1.41.59.51 0 1.02-.2 1.41-.59l7.78-7.78 2.81-2.81c.8-.78.8-2.07 0-2.86zM5.41 20L4 18.59l7.72-7.72 1.47 1.35L5.41 20z\"/>\n",
              "  </svg>\n",
              "      </button>\n",
              "      \n",
              "  <style>\n",
              "    .colab-df-container {\n",
              "      display:flex;\n",
              "      flex-wrap:wrap;\n",
              "      gap: 12px;\n",
              "    }\n",
              "\n",
              "    .colab-df-convert {\n",
              "      background-color: #E8F0FE;\n",
              "      border: none;\n",
              "      border-radius: 50%;\n",
              "      cursor: pointer;\n",
              "      display: none;\n",
              "      fill: #1967D2;\n",
              "      height: 32px;\n",
              "      padding: 0 0 0 0;\n",
              "      width: 32px;\n",
              "    }\n",
              "\n",
              "    .colab-df-convert:hover {\n",
              "      background-color: #E2EBFA;\n",
              "      box-shadow: 0px 1px 2px rgba(60, 64, 67, 0.3), 0px 1px 3px 1px rgba(60, 64, 67, 0.15);\n",
              "      fill: #174EA6;\n",
              "    }\n",
              "\n",
              "    [theme=dark] .colab-df-convert {\n",
              "      background-color: #3B4455;\n",
              "      fill: #D2E3FC;\n",
              "    }\n",
              "\n",
              "    [theme=dark] .colab-df-convert:hover {\n",
              "      background-color: #434B5C;\n",
              "      box-shadow: 0px 1px 3px 1px rgba(0, 0, 0, 0.15);\n",
              "      filter: drop-shadow(0px 1px 2px rgba(0, 0, 0, 0.3));\n",
              "      fill: #FFFFFF;\n",
              "    }\n",
              "  </style>\n",
              "\n",
              "      <script>\n",
              "        const buttonEl =\n",
              "          document.querySelector('#df-8468708f-4fd0-407e-a989-9f208398d1e5 button.colab-df-convert');\n",
              "        buttonEl.style.display =\n",
              "          google.colab.kernel.accessAllowed ? 'block' : 'none';\n",
              "\n",
              "        async function convertToInteractive(key) {\n",
              "          const element = document.querySelector('#df-8468708f-4fd0-407e-a989-9f208398d1e5');\n",
              "          const dataTable =\n",
              "            await google.colab.kernel.invokeFunction('convertToInteractive',\n",
              "                                                     [key], {});\n",
              "          if (!dataTable) return;\n",
              "\n",
              "          const docLinkHtml = 'Like what you see? Visit the ' +\n",
              "            '<a target=\"_blank\" href=https://colab.research.google.com/notebooks/data_table.ipynb>data table notebook</a>'\n",
              "            + ' to learn more about interactive tables.';\n",
              "          element.innerHTML = '';\n",
              "          dataTable['output_type'] = 'display_data';\n",
              "          await google.colab.output.renderOutput(dataTable, element);\n",
              "          const docLink = document.createElement('div');\n",
              "          docLink.innerHTML = docLinkHtml;\n",
              "          element.appendChild(docLink);\n",
              "        }\n",
              "      </script>\n",
              "    </div>\n",
              "  </div>\n",
              "  "
            ],
            "text/plain": [
              "             Loan_Status  Family_Ball\n",
              "Loan_Status     1.000000     0.041635\n",
              "Family_Ball     0.041635     1.000000"
            ]
          },
          "metadata": {},
          "execution_count": 267
        }
      ]
    },
    {
      "cell_type": "code",
      "source": [
        "for cat in train_cat_tr['Family_Ball'].unique():\n",
        "\n",
        "  print(cat, IV_index(train_cat_tr, 'Family_Ball', cat, to_print=True))"
      ],
      "metadata": {
        "colab": {
          "base_uri": "https://localhost:8080/"
        },
        "id": "9_4AtI8THWyQ",
        "outputId": "da0b5154-1edf-4850-9840-91d4b6111b02"
      },
      "id": "9_4AtI8THWyQ",
      "execution_count": 268,
      "outputs": [
        {
          "output_type": "stream",
          "name": "stdout",
          "text": [
            "0    112\n",
            "1     63\n",
            "Name: Loan_Status, dtype: int64\n",
            "17.29 0.013306241865199494\n",
            "0    153\n",
            "1     63\n",
            "Name: Loan_Status, dtype: int64\n",
            "-19.86 0.003436304994193776\n",
            "0    135\n",
            "1     50\n",
            "Name: Loan_Status, dtype: int64\n",
            "8.83 0.012239282501850003\n",
            "0    22\n",
            "1    16\n",
            "Name: Loan_Status, dtype: int64\n",
            "5.53 0.014634850181787501\n"
          ]
        }
      ]
    },
    {
      "cell_type": "markdown",
      "source": [
        "Хорошая фича"
      ],
      "metadata": {
        "id": "dWRWyenUSbDG"
      },
      "id": "dWRWyenUSbDG"
    },
    {
      "cell_type": "markdown",
      "source": [
        "Попробуем предсказать **Возраст**"
      ],
      "metadata": {
        "id": "zKO6fJSkrNBj"
      },
      "id": "zKO6fJSkrNBj"
    },
    {
      "cell_type": "code",
      "source": [
        "train_cat_tr['ApplicantIncome_Flag'] = train_num_tr['ApplicantIncome_Flag'].copy()"
      ],
      "metadata": {
        "id": "whYjZ9mSuf2c"
      },
      "id": "whYjZ9mSuf2c",
      "execution_count": 278,
      "outputs": []
    },
    {
      "cell_type": "code",
      "source": [
        "def age(col):\n",
        "  \n",
        "  ball = 0\n",
        "\n",
        "  if (col['Dependents'] == 0):\n",
        "    ball += 10.00\n",
        "  elif (col['Dependents'] == 1):\n",
        "    ball += 25.00\n",
        "  elif (col['Dependents'] == 2):\n",
        "    ball += 35.00\n",
        "  else:\n",
        "    ball += 45.00\n",
        "  \n",
        "  if (col['Married'] == 'Yes'):\n",
        "    ball += 15\n",
        "  else:\n",
        "    ball += -25\n",
        "\n",
        "  if (col['Property_Area'] == 'Urban'):\n",
        "    ball += -5\n",
        "\n",
        "  if (col['Self_Employed'] == 'Yes'):\n",
        "    ball += 8\n",
        "\n",
        "  if (col['ApplicantIncome_Flag'] == 'Low') | (col['ApplicantIncome_Flag'] == 'Stable'):\n",
        "    ball += +10\n",
        "  elif (col['ApplicantIncome_Flag'] == 'High'):\n",
        "    ball += -10\n",
        "  else:\n",
        "    ball += -15\n",
        "\n",
        "  return ball\n",
        "\n",
        "age = [age(train_cat_tr.iloc[i]) for i in range(len(train_cat_tr))]\n",
        "train_cat_tr['Age'] = age\n",
        "train_cat_tr.corr()"
      ],
      "metadata": {
        "colab": {
          "base_uri": "https://localhost:8080/",
          "height": 143
        },
        "id": "P5Sad0jMHW0d",
        "outputId": "ef1902fa-eddd-438e-832e-988b2054fe94"
      },
      "id": "P5Sad0jMHW0d",
      "execution_count": 301,
      "outputs": [
        {
          "output_type": "execute_result",
          "data": {
            "text/html": [
              "\n",
              "  <div id=\"df-f5f86625-86f0-4467-a735-1254f997732c\">\n",
              "    <div class=\"colab-df-container\">\n",
              "      <div>\n",
              "<style scoped>\n",
              "    .dataframe tbody tr th:only-of-type {\n",
              "        vertical-align: middle;\n",
              "    }\n",
              "\n",
              "    .dataframe tbody tr th {\n",
              "        vertical-align: top;\n",
              "    }\n",
              "\n",
              "    .dataframe thead th {\n",
              "        text-align: right;\n",
              "    }\n",
              "</style>\n",
              "<table border=\"1\" class=\"dataframe\">\n",
              "  <thead>\n",
              "    <tr style=\"text-align: right;\">\n",
              "      <th></th>\n",
              "      <th>Loan_Status</th>\n",
              "      <th>Family_Ball</th>\n",
              "      <th>Age</th>\n",
              "    </tr>\n",
              "  </thead>\n",
              "  <tbody>\n",
              "    <tr>\n",
              "      <th>Loan_Status</th>\n",
              "      <td>1.000000</td>\n",
              "      <td>0.041635</td>\n",
              "      <td>-0.094149</td>\n",
              "    </tr>\n",
              "    <tr>\n",
              "      <th>Family_Ball</th>\n",
              "      <td>0.041635</td>\n",
              "      <td>1.000000</td>\n",
              "      <td>-0.535795</td>\n",
              "    </tr>\n",
              "    <tr>\n",
              "      <th>Age</th>\n",
              "      <td>-0.094149</td>\n",
              "      <td>-0.535795</td>\n",
              "      <td>1.000000</td>\n",
              "    </tr>\n",
              "  </tbody>\n",
              "</table>\n",
              "</div>\n",
              "      <button class=\"colab-df-convert\" onclick=\"convertToInteractive('df-f5f86625-86f0-4467-a735-1254f997732c')\"\n",
              "              title=\"Convert this dataframe to an interactive table.\"\n",
              "              style=\"display:none;\">\n",
              "        \n",
              "  <svg xmlns=\"http://www.w3.org/2000/svg\" height=\"24px\"viewBox=\"0 0 24 24\"\n",
              "       width=\"24px\">\n",
              "    <path d=\"M0 0h24v24H0V0z\" fill=\"none\"/>\n",
              "    <path d=\"M18.56 5.44l.94 2.06.94-2.06 2.06-.94-2.06-.94-.94-2.06-.94 2.06-2.06.94zm-11 1L8.5 8.5l.94-2.06 2.06-.94-2.06-.94L8.5 2.5l-.94 2.06-2.06.94zm10 10l.94 2.06.94-2.06 2.06-.94-2.06-.94-.94-2.06-.94 2.06-2.06.94z\"/><path d=\"M17.41 7.96l-1.37-1.37c-.4-.4-.92-.59-1.43-.59-.52 0-1.04.2-1.43.59L10.3 9.45l-7.72 7.72c-.78.78-.78 2.05 0 2.83L4 21.41c.39.39.9.59 1.41.59.51 0 1.02-.2 1.41-.59l7.78-7.78 2.81-2.81c.8-.78.8-2.07 0-2.86zM5.41 20L4 18.59l7.72-7.72 1.47 1.35L5.41 20z\"/>\n",
              "  </svg>\n",
              "      </button>\n",
              "      \n",
              "  <style>\n",
              "    .colab-df-container {\n",
              "      display:flex;\n",
              "      flex-wrap:wrap;\n",
              "      gap: 12px;\n",
              "    }\n",
              "\n",
              "    .colab-df-convert {\n",
              "      background-color: #E8F0FE;\n",
              "      border: none;\n",
              "      border-radius: 50%;\n",
              "      cursor: pointer;\n",
              "      display: none;\n",
              "      fill: #1967D2;\n",
              "      height: 32px;\n",
              "      padding: 0 0 0 0;\n",
              "      width: 32px;\n",
              "    }\n",
              "\n",
              "    .colab-df-convert:hover {\n",
              "      background-color: #E2EBFA;\n",
              "      box-shadow: 0px 1px 2px rgba(60, 64, 67, 0.3), 0px 1px 3px 1px rgba(60, 64, 67, 0.15);\n",
              "      fill: #174EA6;\n",
              "    }\n",
              "\n",
              "    [theme=dark] .colab-df-convert {\n",
              "      background-color: #3B4455;\n",
              "      fill: #D2E3FC;\n",
              "    }\n",
              "\n",
              "    [theme=dark] .colab-df-convert:hover {\n",
              "      background-color: #434B5C;\n",
              "      box-shadow: 0px 1px 3px 1px rgba(0, 0, 0, 0.15);\n",
              "      filter: drop-shadow(0px 1px 2px rgba(0, 0, 0, 0.3));\n",
              "      fill: #FFFFFF;\n",
              "    }\n",
              "  </style>\n",
              "\n",
              "      <script>\n",
              "        const buttonEl =\n",
              "          document.querySelector('#df-f5f86625-86f0-4467-a735-1254f997732c button.colab-df-convert');\n",
              "        buttonEl.style.display =\n",
              "          google.colab.kernel.accessAllowed ? 'block' : 'none';\n",
              "\n",
              "        async function convertToInteractive(key) {\n",
              "          const element = document.querySelector('#df-f5f86625-86f0-4467-a735-1254f997732c');\n",
              "          const dataTable =\n",
              "            await google.colab.kernel.invokeFunction('convertToInteractive',\n",
              "                                                     [key], {});\n",
              "          if (!dataTable) return;\n",
              "\n",
              "          const docLinkHtml = 'Like what you see? Visit the ' +\n",
              "            '<a target=\"_blank\" href=https://colab.research.google.com/notebooks/data_table.ipynb>data table notebook</a>'\n",
              "            + ' to learn more about interactive tables.';\n",
              "          element.innerHTML = '';\n",
              "          dataTable['output_type'] = 'display_data';\n",
              "          await google.colab.output.renderOutput(dataTable, element);\n",
              "          const docLink = document.createElement('div');\n",
              "          docLink.innerHTML = docLinkHtml;\n",
              "          element.appendChild(docLink);\n",
              "        }\n",
              "      </script>\n",
              "    </div>\n",
              "  </div>\n",
              "  "
            ],
            "text/plain": [
              "             Loan_Status  Family_Ball       Age\n",
              "Loan_Status     1.000000     0.041635 -0.094149\n",
              "Family_Ball     0.041635     1.000000 -0.535795\n",
              "Age            -0.094149    -0.535795  1.000000"
            ]
          },
          "metadata": {},
          "execution_count": 301
        }
      ]
    },
    {
      "cell_type": "code",
      "source": [
        "total = 0\n",
        "for cat in train_cat_tr['Age'].unique():\n",
        "\n",
        "  print(cat, IV_index(train_cat_tr, 'Age', cat, to_print=False))\n",
        "\n",
        "  total += IV_index(train_cat_tr, 'Age', cat, to_print=False)\n",
        "\n",
        "total"
      ],
      "metadata": {
        "id": "1V4DickfHW22"
      },
      "id": "1V4DickfHW22",
      "execution_count": null,
      "outputs": []
    },
    {
      "cell_type": "code",
      "source": [
        "labels = ['1','2','3','4','5']\n",
        "# labels = ['1','2','3','4','5','6','7','8','9','10']\n",
        "\n",
        "train_cat_tr['Age_Flag'] = pd.qcut(train_cat_tr['Age'], labels=labels, q=5)"
      ],
      "metadata": {
        "id": "kpiEUQ1HHW6M"
      },
      "id": "kpiEUQ1HHW6M",
      "execution_count": 317,
      "outputs": []
    },
    {
      "cell_type": "code",
      "source": [
        "total = 0\n",
        "for cat in train_cat_tr['Age_Flag'].unique():\n",
        "\n",
        "  print(cat, IV_index(train_cat_tr, 'Age_Flag', cat, to_print=False))\n",
        "\n",
        "  total += IV_index(train_cat_tr, 'Age_Flag', cat, to_print=False)\n",
        "\n",
        "total"
      ],
      "metadata": {
        "id": "GOYXWce7HW9X"
      },
      "id": "GOYXWce7HW9X",
      "execution_count": null,
      "outputs": []
    },
    {
      "cell_type": "code",
      "source": [
        "sns.barplot(x='Age_Flag', y='Loan_Status', data=train_cat_tr)"
      ],
      "metadata": {
        "colab": {
          "base_uri": "https://localhost:8080/",
          "height": 299
        },
        "outputId": "acc61853-5966-4d3f-987f-65c47ef7998d",
        "id": "ErpPimHjFZqp"
      },
      "execution_count": 319,
      "outputs": [
        {
          "output_type": "execute_result",
          "data": {
            "text/plain": [
              "<matplotlib.axes._subplots.AxesSubplot at 0x7fdfe8ba68d0>"
            ]
          },
          "metadata": {},
          "execution_count": 319
        },
        {
          "output_type": "display_data",
          "data": {
            "image/png": "[encoded data removed]",
            "text/plain": [
              "<Figure size 432x288 with 1 Axes>"
            ]
          },
          "metadata": {
            "needs_background": "light"
          }
        }
      ],
      "id": "ErpPimHjFZqp"
    },
    {
      "cell_type": "markdown",
      "source": [
        "Попробуем предсказать **Статус**"
      ],
      "metadata": {
        "id": "GRBqej6tyeSj"
      },
      "id": "GRBqej6tyeSj"
    },
    {
      "cell_type": "code",
      "source": [
        "# train_num_tr\n",
        "# Adjusted_Disposable_Income\t"
      ],
      "metadata": {
        "id": "F_zQAXNSzYH6"
      },
      "id": "F_zQAXNSzYH6",
      "execution_count": 321,
      "outputs": []
    },
    {
      "cell_type": "code",
      "source": [
        "train_cat_tr['CoapplicantIncome_Outliers'] = train_num_tr['CoapplicantIncome_Outliers'].copy()\n",
        "train_cat_tr['ApplicantIncome_Outliers'] = train_num_tr['ApplicantIncome_Outliers'].copy()\n",
        "train_cat_tr['LoanAmount_Outliers'] = train_num_tr['LoanAmount_Outliers'].copy()\n",
        "\n",
        "train_cat_tr['Adjusted_Stable_Difference_Flag'] = train_num_tr['Adjusted_Stable_Difference_Flag'].copy()"
      ],
      "metadata": {
        "id": "IwzM9F_Pzjg3"
      },
      "id": "IwzM9F_Pzjg3",
      "execution_count": 324,
      "outputs": []
    },
    {
      "cell_type": "code",
      "source": [
        "def status(col):\n",
        "  \n",
        "  ball = 0\n",
        "\n",
        "  if (col['Dependents'] == 0):\n",
        "    ball += 1.00\n",
        "  elif (col['Dependents'] == 1):\n",
        "    ball += 1.00\n",
        "  elif (col['Dependents'] == 2):\n",
        "    ball += 2.00\n",
        "  else:\n",
        "    ball += 2.00\n",
        "  \n",
        "  if (col['Married'] == 'Yes'):\n",
        "    ball += 2\n",
        "  else:\n",
        "    ball += 0\n",
        "\n",
        "  if (col['Property_Area'] == 'Urban'):\n",
        "    ball += 1.5\n",
        "\n",
        "  if (col['Education'] == 'Graduate'):\n",
        "    ball += 2\n",
        "  else:\n",
        "    ball -= 2\n",
        "\n",
        "\n",
        "  if (col['ApplicantIncome_Flag'] == 'Low') | (col['ApplicantIncome_Flag'] == 'Stable'):\n",
        "    ball += -2\n",
        "  elif (col['ApplicantIncome_Flag'] == 'High'):\n",
        "    ball += +2\n",
        "  else:\n",
        "    ball += +3\n",
        "\n",
        "  if (col['ApplicantIncome_Flag'] == 'Low') | (col['ApplicantIncome_Flag'] == 'Stable'):\n",
        "    ball += -2\n",
        "  elif (col['ApplicantIncome_Flag'] == 'High'):\n",
        "    ball += +2\n",
        "  else:\n",
        "    ball += +3\n",
        "  \n",
        "  if (col['ApplicantIncome_Outliers'] == 'Outlier') | (col['CoapplicantIncome_Outliers'] == 'Outlier') | (col['LoanAmount_Outliers'] == 'Outlier'):\n",
        "    ball += 3\n",
        "\n",
        "  if (col['Adjusted_Stable_Difference_Flag'] == 'High') | (col['Adjusted_Stable_Difference_Flag'] == 'Very High'):\n",
        "    ball += 4\n",
        "  elif (col['Adjusted_Stable_Difference_Flag'] == 'Stable'):\n",
        "     ball += 2\n",
        "  else:\n",
        "    ball += -2\n",
        "\n",
        "  return ball\n",
        "\n",
        "status = [status(train_cat_tr.iloc[i]) for i in range(len(train_cat_tr))]\n",
        "train_cat_tr['Status'] = status\n",
        "train_cat_tr.corr()"
      ],
      "metadata": {
        "colab": {
          "base_uri": "https://localhost:8080/",
          "height": 175
        },
        "id": "1QCOI7N3-8OD",
        "outputId": "7fddb7e9-8176-4ff9-e125-71d17ed2304b"
      },
      "id": "1QCOI7N3-8OD",
      "execution_count": 325,
      "outputs": [
        {
          "output_type": "execute_result",
          "data": {
            "text/html": [
              "\n",
              "  <div id=\"df-a1227a01-bbf0-4ffc-9c4f-17a573b2f9b5\">\n",
              "    <div class=\"colab-df-container\">\n",
              "      <div>\n",
              "<style scoped>\n",
              "    .dataframe tbody tr th:only-of-type {\n",
              "        vertical-align: middle;\n",
              "    }\n",
              "\n",
              "    .dataframe tbody tr th {\n",
              "        vertical-align: top;\n",
              "    }\n",
              "\n",
              "    .dataframe thead th {\n",
              "        text-align: right;\n",
              "    }\n",
              "</style>\n",
              "<table border=\"1\" class=\"dataframe\">\n",
              "  <thead>\n",
              "    <tr style=\"text-align: right;\">\n",
              "      <th></th>\n",
              "      <th>Loan_Status</th>\n",
              "      <th>Family_Ball</th>\n",
              "      <th>Age</th>\n",
              "      <th>Status</th>\n",
              "    </tr>\n",
              "  </thead>\n",
              "  <tbody>\n",
              "    <tr>\n",
              "      <th>Loan_Status</th>\n",
              "      <td>1.000000</td>\n",
              "      <td>0.041635</td>\n",
              "      <td>-0.094149</td>\n",
              "      <td>-0.020866</td>\n",
              "    </tr>\n",
              "    <tr>\n",
              "      <th>Family_Ball</th>\n",
              "      <td>0.041635</td>\n",
              "      <td>1.000000</td>\n",
              "      <td>-0.535795</td>\n",
              "      <td>0.105751</td>\n",
              "    </tr>\n",
              "    <tr>\n",
              "      <th>Age</th>\n",
              "      <td>-0.094149</td>\n",
              "      <td>-0.535795</td>\n",
              "      <td>1.000000</td>\n",
              "      <td>-0.337197</td>\n",
              "    </tr>\n",
              "    <tr>\n",
              "      <th>Status</th>\n",
              "      <td>-0.020866</td>\n",
              "      <td>0.105751</td>\n",
              "      <td>-0.337197</td>\n",
              "      <td>1.000000</td>\n",
              "    </tr>\n",
              "  </tbody>\n",
              "</table>\n",
              "</div>\n",
              "      <button class=\"colab-df-convert\" onclick=\"convertToInteractive('df-a1227a01-bbf0-4ffc-9c4f-17a573b2f9b5')\"\n",
              "              title=\"Convert this dataframe to an interactive table.\"\n",
              "              style=\"display:none;\">\n",
              "        \n",
              "  <svg xmlns=\"http://www.w3.org/2000/svg\" height=\"24px\"viewBox=\"0 0 24 24\"\n",
              "       width=\"24px\">\n",
              "    <path d=\"M0 0h24v24H0V0z\" fill=\"none\"/>\n",
              "    <path d=\"M18.56 5.44l.94 2.06.94-2.06 2.06-.94-2.06-.94-.94-2.06-.94 2.06-2.06.94zm-11 1L8.5 8.5l.94-2.06 2.06-.94-2.06-.94L8.5 2.5l-.94 2.06-2.06.94zm10 10l.94 2.06.94-2.06 2.06-.94-2.06-.94-.94-2.06-.94 2.06-2.06.94z\"/><path d=\"M17.41 7.96l-1.37-1.37c-.4-.4-.92-.59-1.43-.59-.52 0-1.04.2-1.43.59L10.3 9.45l-7.72 7.72c-.78.78-.78 2.05 0 2.83L4 21.41c.39.39.9.59 1.41.59.51 0 1.02-.2 1.41-.59l7.78-7.78 2.81-2.81c.8-.78.8-2.07 0-2.86zM5.41 20L4 18.59l7.72-7.72 1.47 1.35L5.41 20z\"/>\n",
              "  </svg>\n",
              "      </button>\n",
              "      \n",
              "  <style>\n",
              "    .colab-df-container {\n",
              "      display:flex;\n",
              "      flex-wrap:wrap;\n",
              "      gap: 12px;\n",
              "    }\n",
              "\n",
              "    .colab-df-convert {\n",
              "      background-color: #E8F0FE;\n",
              "      border: none;\n",
              "      border-radius: 50%;\n",
              "      cursor: pointer;\n",
              "      display: none;\n",
              "      fill: #1967D2;\n",
              "      height: 32px;\n",
              "      padding: 0 0 0 0;\n",
              "      width: 32px;\n",
              "    }\n",
              "\n",
              "    .colab-df-convert:hover {\n",
              "      background-color: #E2EBFA;\n",
              "      box-shadow: 0px 1px 2px rgba(60, 64, 67, 0.3), 0px 1px 3px 1px rgba(60, 64, 67, 0.15);\n",
              "      fill: #174EA6;\n",
              "    }\n",
              "\n",
              "    [theme=dark] .colab-df-convert {\n",
              "      background-color: #3B4455;\n",
              "      fill: #D2E3FC;\n",
              "    }\n",
              "\n",
              "    [theme=dark] .colab-df-convert:hover {\n",
              "      background-color: #434B5C;\n",
              "      box-shadow: 0px 1px 3px 1px rgba(0, 0, 0, 0.15);\n",
              "      filter: drop-shadow(0px 1px 2px rgba(0, 0, 0, 0.3));\n",
              "      fill: #FFFFFF;\n",
              "    }\n",
              "  </style>\n",
              "\n",
              "      <script>\n",
              "        const buttonEl =\n",
              "          document.querySelector('#df-a1227a01-bbf0-4ffc-9c4f-17a573b2f9b5 button.colab-df-convert');\n",
              "        buttonEl.style.display =\n",
              "          google.colab.kernel.accessAllowed ? 'block' : 'none';\n",
              "\n",
              "        async function convertToInteractive(key) {\n",
              "          const element = document.querySelector('#df-a1227a01-bbf0-4ffc-9c4f-17a573b2f9b5');\n",
              "          const dataTable =\n",
              "            await google.colab.kernel.invokeFunction('convertToInteractive',\n",
              "                                                     [key], {});\n",
              "          if (!dataTable) return;\n",
              "\n",
              "          const docLinkHtml = 'Like what you see? Visit the ' +\n",
              "            '<a target=\"_blank\" href=https://colab.research.google.com/notebooks/data_table.ipynb>data table notebook</a>'\n",
              "            + ' to learn more about interactive tables.';\n",
              "          element.innerHTML = '';\n",
              "          dataTable['output_type'] = 'display_data';\n",
              "          await google.colab.output.renderOutput(dataTable, element);\n",
              "          const docLink = document.createElement('div');\n",
              "          docLink.innerHTML = docLinkHtml;\n",
              "          element.appendChild(docLink);\n",
              "        }\n",
              "      </script>\n",
              "    </div>\n",
              "  </div>\n",
              "  "
            ],
            "text/plain": [
              "             Loan_Status  Family_Ball       Age    Status\n",
              "Loan_Status     1.000000     0.041635 -0.094149 -0.020866\n",
              "Family_Ball     0.041635     1.000000 -0.535795  0.105751\n",
              "Age            -0.094149    -0.535795  1.000000 -0.337197\n",
              "Status         -0.020866     0.105751 -0.337197  1.000000"
            ]
          },
          "metadata": {},
          "execution_count": 325
        }
      ]
    },
    {
      "cell_type": "code",
      "source": [
        "labels = ['1','2','3','4','5']\n",
        "# labels = ['1','2','3','4','5','6','7','8','9','10']\n",
        "\n",
        "train_cat_tr['Status_Flag'] = pd.qcut(train_cat_tr['Status'], labels=labels, q=5)"
      ],
      "metadata": {
        "id": "aubfxTaU120c"
      },
      "id": "aubfxTaU120c",
      "execution_count": 330,
      "outputs": []
    },
    {
      "cell_type": "code",
      "source": [
        "total = 0\n",
        "for cat in train_cat_tr['Status_Flag'].unique():\n",
        "\n",
        "  print(cat, IV_index(train_cat_tr, 'Status_Flag', cat, to_print=True))\n",
        "\n",
        "  total += IV_index(train_cat_tr, 'Status_Flag', cat, to_print=False)\n",
        "\n",
        "total"
      ],
      "metadata": {
        "colab": {
          "base_uri": "https://localhost:8080/"
        },
        "id": "0C6e4GYC-8RT",
        "outputId": "588c5b5d-c523-4cb2-8df4-75449e765ac5"
      },
      "id": "0C6e4GYC-8RT",
      "execution_count": 331,
      "outputs": [
        {
          "output_type": "stream",
          "name": "stdout",
          "text": [
            "0    81\n",
            "1    39\n",
            "Name: Loan_Status, dtype: int64\n",
            "5 0.0006331448054858645\n",
            "0    76\n",
            "1    37\n",
            "Name: Loan_Status, dtype: int64\n",
            "4 0.0008538679117567437\n",
            "0    94\n",
            "1    24\n",
            "Name: Loan_Status, dtype: int64\n",
            "3 0.05647252170366209\n",
            "0    84\n",
            "1    47\n",
            "Name: Loan_Status, dtype: int64\n",
            "2 0.009460799275605473\n",
            "0    87\n",
            "1    45\n",
            "Name: Loan_Status, dtype: int64\n",
            "1 0.003618831701735129\n"
          ]
        },
        {
          "output_type": "execute_result",
          "data": {
            "text/plain": [
              "0.0710391653982453"
            ]
          },
          "metadata": {},
          "execution_count": 331
        }
      ]
    },
    {
      "cell_type": "code",
      "source": [
        "sns.barplot(x='Status_Flag', y='Loan_Status', data=train_cat_tr)"
      ],
      "metadata": {
        "colab": {
          "base_uri": "https://localhost:8080/",
          "height": 299
        },
        "id": "q8Mf2zlH-8Tn",
        "outputId": "387193d7-72c3-42d2-ace5-7c8d3cdcfe66"
      },
      "id": "q8Mf2zlH-8Tn",
      "execution_count": 332,
      "outputs": [
        {
          "output_type": "execute_result",
          "data": {
            "text/plain": [
              "<matplotlib.axes._subplots.AxesSubplot at 0x7fdfe8ae0e50>"
            ]
          },
          "metadata": {},
          "execution_count": 332
        },
        {
          "output_type": "display_data",
          "data": {
            "image/png": "[encoded data removed]",
            "text/plain": [
              "<Figure size 432x288 with 1 Axes>"
            ]
          },
          "metadata": {
            "needs_background": "light"
          }
        }
      ]
    },
    {
      "cell_type": "code",
      "source": [
        ""
      ],
      "metadata": {
        "id": "SzOUSrd0-8V7"
      },
      "id": "SzOUSrd0-8V7",
      "execution_count": null,
      "outputs": []
    },
    {
      "cell_type": "code",
      "source": [
        ""
      ],
      "metadata": {
        "id": "lfB7CYFn-8Ym"
      },
      "id": "lfB7CYFn-8Ym",
      "execution_count": null,
      "outputs": []
    },
    {
      "cell_type": "code",
      "source": [
        ""
      ],
      "metadata": {
        "id": "ioopqTlt-8bS"
      },
      "id": "ioopqTlt-8bS",
      "execution_count": null,
      "outputs": []
    },
    {
      "cell_type": "code",
      "source": [
        ""
      ],
      "metadata": {
        "id": "tVHbwyBP-8ea"
      },
      "id": "tVHbwyBP-8ea",
      "execution_count": null,
      "outputs": []
    },
    {
      "cell_type": "code",
      "source": [
        "temp_ = pd.concat([train_cat, temp['Group_Loan_Amount_Term'], target.map({'Y': 0, 'N': 1})], axis=1)\n",
        "\n",
        "for col in ['Gender', 'Married', 'Dependents', 'Education',\n",
        "       'Self_Employed', 'Property_Area']:\n",
        "  sns.barplot(x=col, y='Loan_Status', data=temp_,\n",
        "            palette = 'hls', capsize = 0.1, ci = 'sd')\n",
        "  plt.show()"
      ],
      "metadata": {
        "colab": {
          "base_uri": "https://localhost:8080/",
          "height": 1000
        },
        "id": "0VqkjeuduQgR",
        "outputId": "a68ba234-3b3b-4ec9-e3e9-9583537aac89"
      },
      "id": "0VqkjeuduQgR",
      "execution_count": null,
      "outputs": [
        {
          "output_type": "display_data",
          "data": {
            "image/png": "[encoded data removed]",
            "text/plain": [
              "<Figure size 432x288 with 1 Axes>"
            ]
          },
          "metadata": {
            "needs_background": "light"
          }
        },
        {
          "output_type": "display_data",
          "data": {
            "image/png": "[encoded data removed]",
            "text/plain": [
              "<Figure size 432x288 with 1 Axes>"
            ]
          },
          "metadata": {
            "needs_background": "light"
          }
        },
        {
          "output_type": "display_data",
          "data": {
            "image/png": "[encoded data removed]",
            "text/plain": [
              "<Figure size 432x288 with 1 Axes>"
            ]
          },
          "metadata": {
            "needs_background": "light"
          }
        },
        {
          "output_type": "display_data",
          "data": {
            "image/png": "[encoded data removed]",
            "text/plain": [
              "<Figure size 432x288 with 1 Axes>"
            ]
          },
          "metadata": {
            "needs_background": "light"
          }
        },
        {
          "output_type": "display_data",
          "data": {
            "image/png": "[encoded data removed]",
            "text/plain": [
              "<Figure size 432x288 with 1 Axes>"
            ]
          },
          "metadata": {
            "needs_background": "light"
          }
        },
        {
          "output_type": "display_data",
          "data": {
            "image/png": "[encoded data removed]",
            "text/plain": [
              "<Figure size 432x288 with 1 Axes>"
            ]
          },
          "metadata": {
            "needs_background": "light"
          }
        }
      ]
    },
    {
      "cell_type": "markdown",
      "source": [
        "Loan ID - будем использовать в качестве \"рвндомной\" фичи. Всё, что ниже - мусор."
      ],
      "metadata": {
        "id": "HusGRSybu-8i"
      },
      "id": "HusGRSybu-8i"
    },
    {
      "cell_type": "markdown",
      "source": [
        "Интересно посмотреть на влияние **Срока кредита** от **Вида дома**, **Влияния женат / не женат**, и других"
      ],
      "metadata": {
        "id": "S7Rdbk6Svdmd"
      },
      "id": "S7Rdbk6Svdmd"
    },
    {
      "cell_type": "code",
      "source": [
        "for col in ['Gender', 'Married', 'Dependents', 'Education',\n",
        "       'Self_Employed', 'Property_Area']:\n",
        "  plt.figure(figsize=(10, 5))\n",
        "  sns.barplot(x=col, y='Loan_Status', data=temp_,\n",
        "            palette = 'hls', capsize = 0.1, ci = 'sd', hue='Group_Loan_Amount_Term')\n",
        "  plt.legend(loc='lower right')\n",
        "  plt.show()"
      ],
      "metadata": {
        "colab": {
          "base_uri": "https://localhost:8080/",
          "height": 1000
        },
        "id": "PFQylqwfwfwF",
        "outputId": "a4e7e237-6981-416d-f024-9f639390580b"
      },
      "id": "PFQylqwfwfwF",
      "execution_count": null,
      "outputs": [
        {
          "output_type": "display_data",
          "data": {
            "image/png": "[encoded data removed]",
            "text/plain": [
              "<Figure size 720x360 with 1 Axes>"
            ]
          },
          "metadata": {
            "needs_background": "light"
          }
        },
        {
          "output_type": "display_data",
          "data": {
            "image/png": "[encoded data removed]",
            "text/plain": [
              "<Figure size 720x360 with 1 Axes>"
            ]
          },
          "metadata": {
            "needs_background": "light"
          }
        },
        {
          "output_type": "display_data",
          "data": {
            "image/png": "[encoded data removed]",
            "text/plain": [
              "<Figure size 720x360 with 1 Axes>"
            ]
          },
          "metadata": {
            "needs_background": "light"
          }
        },
        {
          "output_type": "display_data",
          "data": {
            "image/png": "[encoded data removed]",
            "text/plain": [
              "<Figure size 720x360 with 1 Axes>"
            ]
          },
          "metadata": {
            "needs_background": "light"
          }
        },
        {
          "output_type": "display_data",
          "data": {
            "image/png": "[encoded data removed]",
            "text/plain": [
              "<Figure size 720x360 with 1 Axes>"
            ]
          },
          "metadata": {
            "needs_background": "light"
          }
        },
        {
          "output_type": "display_data",
          "data": {
            "image/png": "[encoded data removed]",
            "text/plain": [
              "<Figure size 720x360 with 1 Axes>"
            ]
          },
          "metadata": {
            "needs_background": "light"
          }
        }
      ]
    },
    {
      "cell_type": "code",
      "source": [
        "from IPython.display import Image\n",
        "from IPython.core.display import HTML \n",
        "Image(url= \"https://assets.ltkcontent.com/images/85044/rural-urban-suburban_0066f46bde.jpg\")"
      ],
      "metadata": {
        "colab": {
          "base_uri": "https://localhost:8080/",
          "height": 237
        },
        "id": "fBmF5v7R0ebr",
        "outputId": "e73bec9a-c8f4-43c9-a690-229e9bf2a7dc"
      },
      "id": "fBmF5v7R0ebr",
      "execution_count": null,
      "outputs": [
        {
          "output_type": "execute_result",
          "data": {
            "text/html": [
              "<img src=\"https://assets.ltkcontent.com/images/85044/rural-urban-suburban_0066f46bde.jpg\"/>"
            ],
            "text/plain": [
              "<IPython.core.display.Image object>"
            ]
          },
          "metadata": {},
          "execution_count": 285
        }
      ]
    },
    {
      "cell_type": "markdown",
      "source": [
        "Время генерить фичи! \n",
        "\n",
        "Посмотрим насколько они хороши"
      ],
      "metadata": {
        "id": "JAIwwsChBE8f"
      },
      "id": "JAIwwsChBE8f"
    },
    {
      "cell_type": "markdown",
      "source": [
        "Предлагаю сначала заполнить нули, и удалить выбросы в нужных для нас колонках. **Пока только для тренировочного** "
      ],
      "metadata": {
        "id": "TR7Xn0zYSDlV"
      },
      "id": "TR7Xn0zYSDlV"
    },
    {
      "cell_type": "code",
      "source": [
        "cat.columns"
      ],
      "metadata": {
        "colab": {
          "base_uri": "https://localhost:8080/"
        },
        "id": "342XTX6UT3mZ",
        "outputId": "9d97a622-7936-43eb-88f7-8693b1b893c1"
      },
      "id": "342XTX6UT3mZ",
      "execution_count": null,
      "outputs": [
        {
          "output_type": "execute_result",
          "data": {
            "text/plain": [
              "Index(['Loan_ID', 'Gender', 'Married', 'Dependents', 'Education',\n",
              "       'Self_Employed', 'Property_Area'],\n",
              "      dtype='object')"
            ]
          },
          "metadata": {},
          "execution_count": 806
        }
      ]
    },
    {
      "cell_type": "code",
      "source": [
        "for col in ['Gender', 'Married', 'Dependents', 'Education',\n",
        "            'Self_Employed', 'Property_Area']:\n",
        "  impute(train_cat, cat, 'mode')"
      ],
      "metadata": {
        "id": "bnq3flyyqwYH",
        "outputId": "291a5b93-323d-41f1-feae-e27d0388d6fa",
        "colab": {
          "base_uri": "https://localhost:8080/"
        }
      },
      "id": "bnq3flyyqwYH",
      "execution_count": null,
      "outputs": [
        {
          "output_type": "stream",
          "name": "stderr",
          "text": [
            "/usr/local/lib/python3.7/dist-packages/pandas/core/series.py:4536: SettingWithCopyWarning: \n",
            "A value is trying to be set on a copy of a slice from a DataFrame\n",
            "\n",
            "See the caveats in the documentation: https://pandas.pydata.org/pandas-docs/stable/user_guide/indexing.html#returning-a-view-versus-a-copy\n",
            "  downcast=downcast,\n"
          ]
        }
      ]
    },
    {
      "cell_type": "code",
      "source": [
        "cat_dummies = pd.DataFrame()\n",
        "for col in ['Gender', 'Married', 'Dependents', 'Education',\n",
        "            'Self_Employed', 'Property_Area']:\n",
        "  cat_dummies = pd.concat([cat_dummies, pd.get_dummies(data=train_cat[col], drop_first=True, prefix=col)], axis=1)"
      ],
      "metadata": {
        "id": "gEp9hTheT2P9"
      },
      "id": "gEp9hTheT2P9",
      "execution_count": null,
      "outputs": []
    },
    {
      "cell_type": "code",
      "source": [
        "cat_dummies = pd.concat([cat_dummies, target.map({'Y': 0, 'N': 1})], axis=1)"
      ],
      "metadata": {
        "id": "1UygLNKfWJDa"
      },
      "id": "1UygLNKfWJDa",
      "execution_count": null,
      "outputs": []
    },
    {
      "cell_type": "markdown",
      "source": [
        "Заполяняем средним в **Loan Amount**"
      ],
      "metadata": {
        "id": "7R2FJpw2pLK4"
      },
      "id": "7R2FJpw2pLK4"
    },
    {
      "cell_type": "code",
      "source": [
        "train_num['LoanAmount'] = train_num['LoanAmount'].fillna(train_num['LoanAmount'].mean())"
      ],
      "metadata": {
        "id": "NhTgkBITpVES",
        "outputId": "a219bbdf-1095-4a33-fe2a-713a351cecc4",
        "colab": {
          "base_uri": "https://localhost:8080/"
        }
      },
      "id": "NhTgkBITpVES",
      "execution_count": null,
      "outputs": [
        {
          "output_type": "stream",
          "name": "stderr",
          "text": [
            "/usr/local/lib/python3.7/dist-packages/ipykernel_launcher.py:1: SettingWithCopyWarning: \n",
            "A value is trying to be set on a copy of a slice from a DataFrame.\n",
            "Try using .loc[row_indexer,col_indexer] = value instead\n",
            "\n",
            "See the caveats in the documentation: https://pandas.pydata.org/pandas-docs/stable/user_guide/indexing.html#returning-a-view-versus-a-copy\n",
            "  \"\"\"Entry point for launching an IPython kernel.\n"
          ]
        }
      ]
    },
    {
      "cell_type": "markdown",
      "source": [
        "**Cначала Loan Term Imputation**. Потом будет больше инфы для более сильной **Credit History** "
      ],
      "metadata": {
        "id": "tYC4LW4UVOW4"
      },
      "id": "tYC4LW4UVOW4"
    },
    {
      "cell_type": "markdown",
      "source": [
        "** **спойлер**: ничего не вышло. Не хочу тратить на это время. Все классификаторы заполняют модой(360 месяцев)"
      ],
      "metadata": {
        "id": "jWoiVR3ajEcc"
      },
      "id": "jWoiVR3ajEcc"
    },
    {
      "cell_type": "code",
      "source": [
        "train_num['Loan_Amount_Term'] = train_num['Loan_Amount_Term'].fillna(360.0)"
      ],
      "metadata": {
        "colab": {
          "base_uri": "https://localhost:8080/"
        },
        "id": "H_BeXGtUjUgH",
        "outputId": "fdef8296-fdd2-4291-cd0f-1386042d3056"
      },
      "id": "H_BeXGtUjUgH",
      "execution_count": null,
      "outputs": [
        {
          "output_type": "stream",
          "name": "stderr",
          "text": [
            "/usr/local/lib/python3.7/dist-packages/ipykernel_launcher.py:1: SettingWithCopyWarning: \n",
            "A value is trying to be set on a copy of a slice from a DataFrame.\n",
            "Try using .loc[row_indexer,col_indexer] = value instead\n",
            "\n",
            "See the caveats in the documentation: https://pandas.pydata.org/pandas-docs/stable/user_guide/indexing.html#returning-a-view-versus-a-copy\n",
            "  \"\"\"Entry point for launching an IPython kernel.\n"
          ]
        }
      ]
    },
    {
      "cell_type": "markdown",
      "source": [
        "Заполняем **Credit History**."
      ],
      "metadata": {
        "id": "b9YhoR3IjmxB"
      },
      "id": "b9YhoR3IjmxB"
    },
    {
      "cell_type": "code",
      "source": [
        "RS=4\n",
        "\n",
        "ch = train_num['Credit_History']\n",
        "X_ch = pd.concat([train_num.drop(['Credit_History'], axis=1), cat_dummies], axis=1)\n",
        "\n",
        "sc = MinMaxScaler()\n",
        "\n",
        "X_ch = pd.DataFrame(data=sc.fit_transform(X_ch), columns=X_ch.columns)\n",
        "\n",
        "X_ch['Loan_Amount_Term'] = X_ch['Loan_Amount_Term'].fillna(360.0)\n",
        "X_ch['LoanAmount'] = X_ch['LoanAmount'].fillna(X_ch['LoanAmount'].mean())\n",
        "\n",
        "# X_term['Credit_History'] = X_term['Credit_History'].astype('float64')\n",
        "\n",
        "ch_to_train_test =  ch[~ch.isna()]\n",
        "ch_to_predict =  ch[ch.isna()]\n",
        "\n",
        "X_ch_to_train_test =  X_ch[~ch.isna()]\n",
        "X_ch_to_predict =  X_ch[ch.isna()]\n",
        "\n",
        "\n",
        "from sklearn.model_selection import train_test_split\n",
        "from sklearn.neighbors import KNeighborsClassifier\n",
        "from sklearn.metrics import confusion_matrix, classification_report\n",
        "\n",
        "X_train, X_test, y_train, y_test = train_test_split(X_ch_to_train_test, ch_to_train_test, \n",
        "                                                    test_size=0.2, random_state=RS)\n",
        "\n",
        "\n",
        "knn = KNeighborsClassifier(n_neighbors=5)\n",
        "knn.fit(X_train, y_train)\n",
        "\n",
        "\n",
        "print(knn.score(X_test, y_test))\n",
        "print(knn.score(X_train, y_train))\n",
        "\n",
        "print(confusion_matrix(y_test, knn.predict(X_test)))\n",
        "print(confusion_matrix(y_train, knn.predict(X_train)))\n",
        "\n",
        "print(classification_report(y_test, knn.predict(X_test)))\n",
        "print(classification_report(y_train, knn.predict(X_train)))"
      ],
      "metadata": {
        "colab": {
          "base_uri": "https://localhost:8080/"
        },
        "id": "4lCF0eRjVffR",
        "outputId": "b1f382d9-deb5-4143-a049-f40723620a1b"
      },
      "id": "4lCF0eRjVffR",
      "execution_count": null,
      "outputs": [
        {
          "output_type": "stream",
          "name": "stdout",
          "text": [
            "0.9026548672566371\n",
            "0.8736141906873615\n",
            "[[ 9  8]\n",
            " [ 3 93]]\n",
            "[[ 35  37]\n",
            " [ 20 359]]\n",
            "              precision    recall  f1-score   support\n",
            "\n",
            "         0.0       0.75      0.53      0.62        17\n",
            "         1.0       0.92      0.97      0.94        96\n",
            "\n",
            "    accuracy                           0.90       113\n",
            "   macro avg       0.84      0.75      0.78       113\n",
            "weighted avg       0.90      0.90      0.90       113\n",
            "\n",
            "              precision    recall  f1-score   support\n",
            "\n",
            "         0.0       0.64      0.49      0.55        72\n",
            "         1.0       0.91      0.95      0.93       379\n",
            "\n",
            "    accuracy                           0.87       451\n",
            "   macro avg       0.77      0.72      0.74       451\n",
            "weighted avg       0.86      0.87      0.87       451\n",
            "\n"
          ]
        }
      ]
    },
    {
      "cell_type": "markdown",
      "source": [
        "Лучший выбор - KNN(5). Удивительно, но оверфита нет."
      ],
      "metadata": {
        "id": "EkuPc_Egm3sk"
      },
      "id": "EkuPc_Egm3sk"
    },
    {
      "cell_type": "code",
      "source": [
        "X_ch['Credit_History'] = ch\n",
        "X_ch['Credit_History'][X_ch['Credit_History'].isna()] = knn.predict(X_ch.drop(['Credit_History'], axis=1))\n",
        "\n",
        "temp_['Credit_History'] = X_ch['Credit_History']"
      ],
      "metadata": {
        "id": "Vt1k5bsmrgW6"
      },
      "id": "Vt1k5bsmrgW6",
      "execution_count": null,
      "outputs": []
    },
    {
      "cell_type": "markdown",
      "source": [
        "**Доход в семье на одного человека умножаем на срок дейсвия кредита. Соотносим цифры.**"
      ],
      "metadata": {
        "id": "0VVF-SMRFFar"
      },
      "id": "0VVF-SMRFFar"
    },
    {
      "cell_type": "code",
      "source": [
        "# temp_['Dependents'] = temp_['Dependents'].fillna(0)\n",
        "# temp_['Dependents'] = temp_['Dependents'].replace('3+', 3.5)\n",
        "# temp_['Dependents'] = temp_['Dependents'].astype('float')\n",
        "\n",
        "# temp_['Dependents'].value_counts()"
      ],
      "metadata": {
        "id": "4g4mFpBKCiEi"
      },
      "id": "4g4mFpBKCiEi",
      "execution_count": null,
      "outputs": []
    },
    {
      "cell_type": "code",
      "source": [
        "# temp_['Medium_Family_Income'] = (temp['ApplicantIncome'] + temp['CoapplicantIncome']) / (temp_['Dependents'] + 1)"
      ],
      "metadata": {
        "id": "pXVSZkjM0mnr"
      },
      "id": "pXVSZkjM0mnr",
      "execution_count": null,
      "outputs": []
    },
    {
      "cell_type": "code",
      "source": [
        "# sns.histplot(temp_['Medium_Family_Income'])"
      ],
      "metadata": {
        "id": "FYCxvjK1D96o"
      },
      "id": "FYCxvjK1D96o",
      "execution_count": null,
      "outputs": []
    },
    {
      "cell_type": "code",
      "source": [
        "# temp_['Stable_Medium_Family_Income'] = temp_['Medium_Family_Income'] * temp['Loan_Amount_Term']"
      ],
      "metadata": {
        "id": "vHTgRDk3BMQT"
      },
      "id": "vHTgRDk3BMQT",
      "execution_count": null,
      "outputs": []
    },
    {
      "cell_type": "code",
      "source": [
        "# temp_['Is_Stable_Medium_Family_Income'] = 0.1*temp_['Stable_Medium_Family_Income'] - (temp['LoanAmount'] * 1000)"
      ],
      "metadata": {
        "id": "fgvjcy9fEp4H"
      },
      "id": "fgvjcy9fEp4H",
      "execution_count": null,
      "outputs": []
    },
    {
      "cell_type": "code",
      "source": [
        "# sns.histplot(temp_['Is_Stable_Medium_Family_Income'])"
      ],
      "metadata": {
        "id": "rVtLL1XaFdlH"
      },
      "id": "rVtLL1XaFdlH",
      "execution_count": null,
      "outputs": []
    },
    {
      "cell_type": "code",
      "source": [
        "# temp_[temp_['Is_Stable_Medium_Family_Income'] <= 0.8*1000000].mean()"
      ],
      "metadata": {
        "id": "YMYCF9IuHtLj"
      },
      "id": "YMYCF9IuHtLj",
      "execution_count": null,
      "outputs": []
    },
    {
      "cell_type": "markdown",
      "source": [
        "Не сработало предположение, проверку \"на дурака\" проходят все. Ведь тут наивно предполагается, что человек будет стабильно до 40 лет получать одну и ту же зарплату. Нужно перед этим ввести понятие \"риска\" и использовать в качестве коэфициента."
      ],
      "metadata": {
        "id": "-vQOUYGUJFqD"
      },
      "id": "-vQOUYGUJFqD"
    },
    {
      "cell_type": "markdown",
      "source": [
        "**Быстро заполним нули в temp_**"
      ],
      "metadata": {
        "id": "fnnzPcnPuojP"
      },
      "id": "fnnzPcnPuojP"
    },
    {
      "cell_type": "code",
      "source": [
        "temp_['Group_Loan_Amount_Term'] = temp_['Group_Loan_Amount_Term'].fillna(temp_['Group_Loan_Amount_Term'].mode()[0])\n",
        "temp_['Group_Loan_Amount_Term'].isnull().sum()"
      ],
      "metadata": {
        "id": "UYd2gbsZut9O",
        "outputId": "846574c8-0e11-4b4a-e869-aed307fb8247",
        "colab": {
          "base_uri": "https://localhost:8080/"
        }
      },
      "id": "UYd2gbsZut9O",
      "execution_count": null,
      "outputs": [
        {
          "output_type": "execute_result",
          "data": {
            "text/plain": [
              "0"
            ]
          },
          "metadata": {},
          "execution_count": 821
        }
      ]
    },
    {
      "cell_type": "markdown",
      "source": [
        "**Risk feature**"
      ],
      "metadata": {
        "id": "yGAYwBqRR0La"
      },
      "id": "yGAYwBqRR0La"
    },
    {
      "cell_type": "markdown",
      "source": [
        "Family_Risk_Feature"
      ],
      "metadata": {
        "id": "NvfKw0CCtHe9"
      },
      "id": "NvfKw0CCtHe9"
    },
    {
      "cell_type": "code",
      "source": [
        "def family_risk(col):\n",
        "  \n",
        "  index = 1\n",
        "\n",
        "  #Разведённые женщины и просто неженетые люди\n",
        "  if col['Married'] == 'No':\n",
        "    index *= 2/3\n",
        "    if (col['Dependents'] != '0') & (col['Gender'] == 'Female'):\n",
        "      index *= 1/2\n",
        "\n",
        "  # #Неженатые мужики \n",
        "  # if col['Married'] == 'No':\n",
        "  #   index *= 2/3\n",
        "  #   if (col['Dependents'] != '0') & (col['Gender'] == 'Female'):\n",
        "  #     index *= 1/2\n",
        "\n",
        "\n",
        "  \n",
        "\n",
        "\n",
        "  return index\n",
        "\n",
        "fr = [family_risk(temp_.iloc[i]) for i in range(len(temp_))]\n",
        "temp_['Family_Risk'] = fr\n",
        "temp_.corr()"
      ],
      "metadata": {
        "id": "BzOwyEGFtGfK",
        "outputId": "1aadfa73-98b1-457a-e0f6-40b1595aa9c1",
        "colab": {
          "base_uri": "https://localhost:8080/",
          "height": 237
        }
      },
      "id": "BzOwyEGFtGfK",
      "execution_count": null,
      "outputs": [
        {
          "output_type": "execute_result",
          "data": {
            "text/html": [
              "\n",
              "  <div id=\"df-1d758fbe-a1ad-415b-92cb-f1f4a574df4e\">\n",
              "    <div class=\"colab-df-container\">\n",
              "      <div>\n",
              "<style scoped>\n",
              "    .dataframe tbody tr th:only-of-type {\n",
              "        vertical-align: middle;\n",
              "    }\n",
              "\n",
              "    .dataframe tbody tr th {\n",
              "        vertical-align: top;\n",
              "    }\n",
              "\n",
              "    .dataframe thead th {\n",
              "        text-align: right;\n",
              "    }\n",
              "</style>\n",
              "<table border=\"1\" class=\"dataframe\">\n",
              "  <thead>\n",
              "    <tr style=\"text-align: right;\">\n",
              "      <th></th>\n",
              "      <th>Loan_Status</th>\n",
              "      <th>Credit_History</th>\n",
              "      <th>Family_Risk</th>\n",
              "      <th>Work_Risk</th>\n",
              "      <th>Family_Work_Mean_Risk</th>\n",
              "      <th>Risk</th>\n",
              "    </tr>\n",
              "  </thead>\n",
              "  <tbody>\n",
              "    <tr>\n",
              "      <th>Loan_Status</th>\n",
              "      <td>1.000000</td>\n",
              "      <td>-0.562034</td>\n",
              "      <td>-0.095780</td>\n",
              "      <td>-0.085884</td>\n",
              "      <td>-0.118465</td>\n",
              "      <td>-0.154660</td>\n",
              "    </tr>\n",
              "    <tr>\n",
              "      <th>Credit_History</th>\n",
              "      <td>-0.562034</td>\n",
              "      <td>1.000000</td>\n",
              "      <td>-0.003047</td>\n",
              "      <td>0.081967</td>\n",
              "      <td>0.035785</td>\n",
              "      <td>0.037664</td>\n",
              "    </tr>\n",
              "    <tr>\n",
              "      <th>Family_Risk</th>\n",
              "      <td>-0.095780</td>\n",
              "      <td>-0.003047</td>\n",
              "      <td>1.000000</td>\n",
              "      <td>-0.010292</td>\n",
              "      <td>0.739068</td>\n",
              "      <td>0.494161</td>\n",
              "    </tr>\n",
              "    <tr>\n",
              "      <th>Work_Risk</th>\n",
              "      <td>-0.085884</td>\n",
              "      <td>0.081967</td>\n",
              "      <td>-0.010292</td>\n",
              "      <td>1.000000</td>\n",
              "      <td>0.624329</td>\n",
              "      <td>0.387311</td>\n",
              "    </tr>\n",
              "    <tr>\n",
              "      <th>Family_Work_Mean_Risk</th>\n",
              "      <td>-0.118465</td>\n",
              "      <td>0.035785</td>\n",
              "      <td>0.739068</td>\n",
              "      <td>0.624329</td>\n",
              "      <td>1.000000</td>\n",
              "      <td>0.650295</td>\n",
              "    </tr>\n",
              "    <tr>\n",
              "      <th>Risk</th>\n",
              "      <td>-0.154660</td>\n",
              "      <td>0.037664</td>\n",
              "      <td>0.494161</td>\n",
              "      <td>0.387311</td>\n",
              "      <td>0.650295</td>\n",
              "      <td>1.000000</td>\n",
              "    </tr>\n",
              "  </tbody>\n",
              "</table>\n",
              "</div>\n",
              "      <button class=\"colab-df-convert\" onclick=\"convertToInteractive('df-1d758fbe-a1ad-415b-92cb-f1f4a574df4e')\"\n",
              "              title=\"Convert this dataframe to an interactive table.\"\n",
              "              style=\"display:none;\">\n",
              "        \n",
              "  <svg xmlns=\"http://www.w3.org/2000/svg\" height=\"24px\"viewBox=\"0 0 24 24\"\n",
              "       width=\"24px\">\n",
              "    <path d=\"M0 0h24v24H0V0z\" fill=\"none\"/>\n",
              "    <path d=\"M18.56 5.44l.94 2.06.94-2.06 2.06-.94-2.06-.94-.94-2.06-.94 2.06-2.06.94zm-11 1L8.5 8.5l.94-2.06 2.06-.94-2.06-.94L8.5 2.5l-.94 2.06-2.06.94zm10 10l.94 2.06.94-2.06 2.06-.94-2.06-.94-.94-2.06-.94 2.06-2.06.94z\"/><path d=\"M17.41 7.96l-1.37-1.37c-.4-.4-.92-.59-1.43-.59-.52 0-1.04.2-1.43.59L10.3 9.45l-7.72 7.72c-.78.78-.78 2.05 0 2.83L4 21.41c.39.39.9.59 1.41.59.51 0 1.02-.2 1.41-.59l7.78-7.78 2.81-2.81c.8-.78.8-2.07 0-2.86zM5.41 20L4 18.59l7.72-7.72 1.47 1.35L5.41 20z\"/>\n",
              "  </svg>\n",
              "      </button>\n",
              "      \n",
              "  <style>\n",
              "    .colab-df-container {\n",
              "      display:flex;\n",
              "      flex-wrap:wrap;\n",
              "      gap: 12px;\n",
              "    }\n",
              "\n",
              "    .colab-df-convert {\n",
              "      background-color: #E8F0FE;\n",
              "      border: none;\n",
              "      border-radius: 50%;\n",
              "      cursor: pointer;\n",
              "      display: none;\n",
              "      fill: #1967D2;\n",
              "      height: 32px;\n",
              "      padding: 0 0 0 0;\n",
              "      width: 32px;\n",
              "    }\n",
              "\n",
              "    .colab-df-convert:hover {\n",
              "      background-color: #E2EBFA;\n",
              "      box-shadow: 0px 1px 2px rgba(60, 64, 67, 0.3), 0px 1px 3px 1px rgba(60, 64, 67, 0.15);\n",
              "      fill: #174EA6;\n",
              "    }\n",
              "\n",
              "    [theme=dark] .colab-df-convert {\n",
              "      background-color: #3B4455;\n",
              "      fill: #D2E3FC;\n",
              "    }\n",
              "\n",
              "    [theme=dark] .colab-df-convert:hover {\n",
              "      background-color: #434B5C;\n",
              "      box-shadow: 0px 1px 3px 1px rgba(0, 0, 0, 0.15);\n",
              "      filter: drop-shadow(0px 1px 2px rgba(0, 0, 0, 0.3));\n",
              "      fill: #FFFFFF;\n",
              "    }\n",
              "  </style>\n",
              "\n",
              "      <script>\n",
              "        const buttonEl =\n",
              "          document.querySelector('#df-1d758fbe-a1ad-415b-92cb-f1f4a574df4e button.colab-df-convert');\n",
              "        buttonEl.style.display =\n",
              "          google.colab.kernel.accessAllowed ? 'block' : 'none';\n",
              "\n",
              "        async function convertToInteractive(key) {\n",
              "          const element = document.querySelector('#df-1d758fbe-a1ad-415b-92cb-f1f4a574df4e');\n",
              "          const dataTable =\n",
              "            await google.colab.kernel.invokeFunction('convertToInteractive',\n",
              "                                                     [key], {});\n",
              "          if (!dataTable) return;\n",
              "\n",
              "          const docLinkHtml = 'Like what you see? Visit the ' +\n",
              "            '<a target=\"_blank\" href=https://colab.research.google.com/notebooks/data_table.ipynb>data table notebook</a>'\n",
              "            + ' to learn more about interactive tables.';\n",
              "          element.innerHTML = '';\n",
              "          dataTable['output_type'] = 'display_data';\n",
              "          await google.colab.output.renderOutput(dataTable, element);\n",
              "          const docLink = document.createElement('div');\n",
              "          docLink.innerHTML = docLinkHtml;\n",
              "          element.appendChild(docLink);\n",
              "        }\n",
              "      </script>\n",
              "    </div>\n",
              "  </div>\n",
              "  "
            ],
            "text/plain": [
              "                       Loan_Status  ...      Risk\n",
              "Loan_Status               1.000000  ... -0.154660\n",
              "Credit_History           -0.562034  ...  0.037664\n",
              "Family_Risk              -0.095780  ...  0.494161\n",
              "Work_Risk                -0.085884  ...  0.387311\n",
              "Family_Work_Mean_Risk    -0.118465  ...  0.650295\n",
              "Risk                     -0.154660  ...  1.000000\n",
              "\n",
              "[6 rows x 6 columns]"
            ]
          },
          "metadata": {},
          "execution_count": 1087
        }
      ]
    },
    {
      "cell_type": "markdown",
      "source": [
        "Почти 8%, неплохо"
      ],
      "metadata": {
        "id": "KW9ruoEK1pVD"
      },
      "id": "KW9ruoEK1pVD"
    },
    {
      "cell_type": "markdown",
      "source": [
        "Work_Risk_feature"
      ],
      "metadata": {
        "id": "WXUovghp2C89"
      },
      "id": "WXUovghp2C89"
    },
    {
      "cell_type": "code",
      "source": [
        "def work_risk(col):\n",
        "  \n",
        "  index = 1\n",
        "\n",
        "  if col['Education'] != 'Graduate':\n",
        "    index *= 2/3\n",
        "    if col['Self_Employed'] is 'Yes':\n",
        "      index *= 1/2\n",
        "\n",
        "  return index\n",
        "\n",
        "wr = [work_risk(temp_.iloc[i]) for i in range(len(temp_))]\n",
        "temp_['Work_Risk'] = wr\n",
        "temp_.corr()"
      ],
      "metadata": {
        "id": "28E2LEi00aWn",
        "outputId": "43638e84-7fa7-40ca-d785-a952e29d3ce0",
        "colab": {
          "base_uri": "https://localhost:8080/",
          "height": 237
        }
      },
      "id": "28E2LEi00aWn",
      "execution_count": null,
      "outputs": [
        {
          "output_type": "execute_result",
          "data": {
            "text/html": [
              "\n",
              "  <div id=\"df-49aa4e0b-462f-4bea-b9ac-f8d18486f4d5\">\n",
              "    <div class=\"colab-df-container\">\n",
              "      <div>\n",
              "<style scoped>\n",
              "    .dataframe tbody tr th:only-of-type {\n",
              "        vertical-align: middle;\n",
              "    }\n",
              "\n",
              "    .dataframe tbody tr th {\n",
              "        vertical-align: top;\n",
              "    }\n",
              "\n",
              "    .dataframe thead th {\n",
              "        text-align: right;\n",
              "    }\n",
              "</style>\n",
              "<table border=\"1\" class=\"dataframe\">\n",
              "  <thead>\n",
              "    <tr style=\"text-align: right;\">\n",
              "      <th></th>\n",
              "      <th>Loan_Status</th>\n",
              "      <th>Credit_History</th>\n",
              "      <th>Family_Risk</th>\n",
              "      <th>Work_Risk</th>\n",
              "      <th>Family_Work_Mean_Risk</th>\n",
              "      <th>Risk</th>\n",
              "    </tr>\n",
              "  </thead>\n",
              "  <tbody>\n",
              "    <tr>\n",
              "      <th>Loan_Status</th>\n",
              "      <td>1.000000</td>\n",
              "      <td>-0.562034</td>\n",
              "      <td>-0.095780</td>\n",
              "      <td>-0.085884</td>\n",
              "      <td>-0.118465</td>\n",
              "      <td>-0.154660</td>\n",
              "    </tr>\n",
              "    <tr>\n",
              "      <th>Credit_History</th>\n",
              "      <td>-0.562034</td>\n",
              "      <td>1.000000</td>\n",
              "      <td>-0.003047</td>\n",
              "      <td>0.081967</td>\n",
              "      <td>0.035785</td>\n",
              "      <td>0.037664</td>\n",
              "    </tr>\n",
              "    <tr>\n",
              "      <th>Family_Risk</th>\n",
              "      <td>-0.095780</td>\n",
              "      <td>-0.003047</td>\n",
              "      <td>1.000000</td>\n",
              "      <td>-0.010292</td>\n",
              "      <td>0.739068</td>\n",
              "      <td>0.494161</td>\n",
              "    </tr>\n",
              "    <tr>\n",
              "      <th>Work_Risk</th>\n",
              "      <td>-0.085884</td>\n",
              "      <td>0.081967</td>\n",
              "      <td>-0.010292</td>\n",
              "      <td>1.000000</td>\n",
              "      <td>0.624329</td>\n",
              "      <td>0.387311</td>\n",
              "    </tr>\n",
              "    <tr>\n",
              "      <th>Family_Work_Mean_Risk</th>\n",
              "      <td>-0.118465</td>\n",
              "      <td>0.035785</td>\n",
              "      <td>0.739068</td>\n",
              "      <td>0.624329</td>\n",
              "      <td>1.000000</td>\n",
              "      <td>0.650295</td>\n",
              "    </tr>\n",
              "    <tr>\n",
              "      <th>Risk</th>\n",
              "      <td>-0.154660</td>\n",
              "      <td>0.037664</td>\n",
              "      <td>0.494161</td>\n",
              "      <td>0.387311</td>\n",
              "      <td>0.650295</td>\n",
              "      <td>1.000000</td>\n",
              "    </tr>\n",
              "  </tbody>\n",
              "</table>\n",
              "</div>\n",
              "      <button class=\"colab-df-convert\" onclick=\"convertToInteractive('df-49aa4e0b-462f-4bea-b9ac-f8d18486f4d5')\"\n",
              "              title=\"Convert this dataframe to an interactive table.\"\n",
              "              style=\"display:none;\">\n",
              "        \n",
              "  <svg xmlns=\"http://www.w3.org/2000/svg\" height=\"24px\"viewBox=\"0 0 24 24\"\n",
              "       width=\"24px\">\n",
              "    <path d=\"M0 0h24v24H0V0z\" fill=\"none\"/>\n",
              "    <path d=\"M18.56 5.44l.94 2.06.94-2.06 2.06-.94-2.06-.94-.94-2.06-.94 2.06-2.06.94zm-11 1L8.5 8.5l.94-2.06 2.06-.94-2.06-.94L8.5 2.5l-.94 2.06-2.06.94zm10 10l.94 2.06.94-2.06 2.06-.94-2.06-.94-.94-2.06-.94 2.06-2.06.94z\"/><path d=\"M17.41 7.96l-1.37-1.37c-.4-.4-.92-.59-1.43-.59-.52 0-1.04.2-1.43.59L10.3 9.45l-7.72 7.72c-.78.78-.78 2.05 0 2.83L4 21.41c.39.39.9.59 1.41.59.51 0 1.02-.2 1.41-.59l7.78-7.78 2.81-2.81c.8-.78.8-2.07 0-2.86zM5.41 20L4 18.59l7.72-7.72 1.47 1.35L5.41 20z\"/>\n",
              "  </svg>\n",
              "      </button>\n",
              "      \n",
              "  <style>\n",
              "    .colab-df-container {\n",
              "      display:flex;\n",
              "      flex-wrap:wrap;\n",
              "      gap: 12px;\n",
              "    }\n",
              "\n",
              "    .colab-df-convert {\n",
              "      background-color: #E8F0FE;\n",
              "      border: none;\n",
              "      border-radius: 50%;\n",
              "      cursor: pointer;\n",
              "      display: none;\n",
              "      fill: #1967D2;\n",
              "      height: 32px;\n",
              "      padding: 0 0 0 0;\n",
              "      width: 32px;\n",
              "    }\n",
              "\n",
              "    .colab-df-convert:hover {\n",
              "      background-color: #E2EBFA;\n",
              "      box-shadow: 0px 1px 2px rgba(60, 64, 67, 0.3), 0px 1px 3px 1px rgba(60, 64, 67, 0.15);\n",
              "      fill: #174EA6;\n",
              "    }\n",
              "\n",
              "    [theme=dark] .colab-df-convert {\n",
              "      background-color: #3B4455;\n",
              "      fill: #D2E3FC;\n",
              "    }\n",
              "\n",
              "    [theme=dark] .colab-df-convert:hover {\n",
              "      background-color: #434B5C;\n",
              "      box-shadow: 0px 1px 3px 1px rgba(0, 0, 0, 0.15);\n",
              "      filter: drop-shadow(0px 1px 2px rgba(0, 0, 0, 0.3));\n",
              "      fill: #FFFFFF;\n",
              "    }\n",
              "  </style>\n",
              "\n",
              "      <script>\n",
              "        const buttonEl =\n",
              "          document.querySelector('#df-49aa4e0b-462f-4bea-b9ac-f8d18486f4d5 button.colab-df-convert');\n",
              "        buttonEl.style.display =\n",
              "          google.colab.kernel.accessAllowed ? 'block' : 'none';\n",
              "\n",
              "        async function convertToInteractive(key) {\n",
              "          const element = document.querySelector('#df-49aa4e0b-462f-4bea-b9ac-f8d18486f4d5');\n",
              "          const dataTable =\n",
              "            await google.colab.kernel.invokeFunction('convertToInteractive',\n",
              "                                                     [key], {});\n",
              "          if (!dataTable) return;\n",
              "\n",
              "          const docLinkHtml = 'Like what you see? Visit the ' +\n",
              "            '<a target=\"_blank\" href=https://colab.research.google.com/notebooks/data_table.ipynb>data table notebook</a>'\n",
              "            + ' to learn more about interactive tables.';\n",
              "          element.innerHTML = '';\n",
              "          dataTable['output_type'] = 'display_data';\n",
              "          await google.colab.output.renderOutput(dataTable, element);\n",
              "          const docLink = document.createElement('div');\n",
              "          docLink.innerHTML = docLinkHtml;\n",
              "          element.appendChild(docLink);\n",
              "        }\n",
              "      </script>\n",
              "    </div>\n",
              "  </div>\n",
              "  "
            ],
            "text/plain": [
              "                       Loan_Status  ...      Risk\n",
              "Loan_Status               1.000000  ... -0.154660\n",
              "Credit_History           -0.562034  ...  0.037664\n",
              "Family_Risk              -0.095780  ...  0.494161\n",
              "Work_Risk                -0.085884  ...  0.387311\n",
              "Family_Work_Mean_Risk    -0.118465  ...  0.650295\n",
              "Risk                     -0.154660  ...  1.000000\n",
              "\n",
              "[6 rows x 6 columns]"
            ]
          },
          "metadata": {},
          "execution_count": 1088
        }
      ]
    },
    {
      "cell_type": "markdown",
      "source": [
        "Больше 8%, еще лучше"
      ],
      "metadata": {
        "id": "AGu07Qsm3ZVp"
      },
      "id": "AGu07Qsm3ZVp"
    },
    {
      "cell_type": "markdown",
      "source": [
        "Ищем среднее"
      ],
      "metadata": {
        "id": "ek5PpR4K36av"
      },
      "id": "ek5PpR4K36av"
    },
    {
      "cell_type": "code",
      "source": [
        "temp_['Family_Work_Mean_Risk'] = (temp_['Family_Risk'] + temp_['Work_Risk']) / 2\n",
        "temp_.corr()"
      ],
      "metadata": {
        "id": "2HXhwjOw3KpF",
        "outputId": "de773160-707e-4c7b-ef39-126a545464e8",
        "colab": {
          "base_uri": "https://localhost:8080/",
          "height": 237
        }
      },
      "id": "2HXhwjOw3KpF",
      "execution_count": null,
      "outputs": [
        {
          "output_type": "execute_result",
          "data": {
            "text/html": [
              "\n",
              "  <div id=\"df-8028360b-602d-498c-8b4d-2436a6da8366\">\n",
              "    <div class=\"colab-df-container\">\n",
              "      <div>\n",
              "<style scoped>\n",
              "    .dataframe tbody tr th:only-of-type {\n",
              "        vertical-align: middle;\n",
              "    }\n",
              "\n",
              "    .dataframe tbody tr th {\n",
              "        vertical-align: top;\n",
              "    }\n",
              "\n",
              "    .dataframe thead th {\n",
              "        text-align: right;\n",
              "    }\n",
              "</style>\n",
              "<table border=\"1\" class=\"dataframe\">\n",
              "  <thead>\n",
              "    <tr style=\"text-align: right;\">\n",
              "      <th></th>\n",
              "      <th>Loan_Status</th>\n",
              "      <th>Credit_History</th>\n",
              "      <th>Family_Risk</th>\n",
              "      <th>Work_Risk</th>\n",
              "      <th>Family_Work_Mean_Risk</th>\n",
              "      <th>Risk</th>\n",
              "    </tr>\n",
              "  </thead>\n",
              "  <tbody>\n",
              "    <tr>\n",
              "      <th>Loan_Status</th>\n",
              "      <td>1.000000</td>\n",
              "      <td>-0.562034</td>\n",
              "      <td>-0.095780</td>\n",
              "      <td>-0.085884</td>\n",
              "      <td>-0.128882</td>\n",
              "      <td>-0.154660</td>\n",
              "    </tr>\n",
              "    <tr>\n",
              "      <th>Credit_History</th>\n",
              "      <td>-0.562034</td>\n",
              "      <td>1.000000</td>\n",
              "      <td>-0.003047</td>\n",
              "      <td>0.081967</td>\n",
              "      <td>0.047521</td>\n",
              "      <td>0.037664</td>\n",
              "    </tr>\n",
              "    <tr>\n",
              "      <th>Family_Risk</th>\n",
              "      <td>-0.095780</td>\n",
              "      <td>-0.003047</td>\n",
              "      <td>1.000000</td>\n",
              "      <td>-0.010292</td>\n",
              "      <td>0.792839</td>\n",
              "      <td>0.494161</td>\n",
              "    </tr>\n",
              "    <tr>\n",
              "      <th>Work_Risk</th>\n",
              "      <td>-0.085884</td>\n",
              "      <td>0.081967</td>\n",
              "      <td>-0.010292</td>\n",
              "      <td>1.000000</td>\n",
              "      <td>0.601239</td>\n",
              "      <td>0.387311</td>\n",
              "    </tr>\n",
              "    <tr>\n",
              "      <th>Family_Work_Mean_Risk</th>\n",
              "      <td>-0.128882</td>\n",
              "      <td>0.047521</td>\n",
              "      <td>0.792839</td>\n",
              "      <td>0.601239</td>\n",
              "      <td>1.000000</td>\n",
              "      <td>0.630942</td>\n",
              "    </tr>\n",
              "    <tr>\n",
              "      <th>Risk</th>\n",
              "      <td>-0.154660</td>\n",
              "      <td>0.037664</td>\n",
              "      <td>0.494161</td>\n",
              "      <td>0.387311</td>\n",
              "      <td>0.630942</td>\n",
              "      <td>1.000000</td>\n",
              "    </tr>\n",
              "  </tbody>\n",
              "</table>\n",
              "</div>\n",
              "      <button class=\"colab-df-convert\" onclick=\"convertToInteractive('df-8028360b-602d-498c-8b4d-2436a6da8366')\"\n",
              "              title=\"Convert this dataframe to an interactive table.\"\n",
              "              style=\"display:none;\">\n",
              "        \n",
              "  <svg xmlns=\"http://www.w3.org/2000/svg\" height=\"24px\"viewBox=\"0 0 24 24\"\n",
              "       width=\"24px\">\n",
              "    <path d=\"M0 0h24v24H0V0z\" fill=\"none\"/>\n",
              "    <path d=\"M18.56 5.44l.94 2.06.94-2.06 2.06-.94-2.06-.94-.94-2.06-.94 2.06-2.06.94zm-11 1L8.5 8.5l.94-2.06 2.06-.94-2.06-.94L8.5 2.5l-.94 2.06-2.06.94zm10 10l.94 2.06.94-2.06 2.06-.94-2.06-.94-.94-2.06-.94 2.06-2.06.94z\"/><path d=\"M17.41 7.96l-1.37-1.37c-.4-.4-.92-.59-1.43-.59-.52 0-1.04.2-1.43.59L10.3 9.45l-7.72 7.72c-.78.78-.78 2.05 0 2.83L4 21.41c.39.39.9.59 1.41.59.51 0 1.02-.2 1.41-.59l7.78-7.78 2.81-2.81c.8-.78.8-2.07 0-2.86zM5.41 20L4 18.59l7.72-7.72 1.47 1.35L5.41 20z\"/>\n",
              "  </svg>\n",
              "      </button>\n",
              "      \n",
              "  <style>\n",
              "    .colab-df-container {\n",
              "      display:flex;\n",
              "      flex-wrap:wrap;\n",
              "      gap: 12px;\n",
              "    }\n",
              "\n",
              "    .colab-df-convert {\n",
              "      background-color: #E8F0FE;\n",
              "      border: none;\n",
              "      border-radius: 50%;\n",
              "      cursor: pointer;\n",
              "      display: none;\n",
              "      fill: #1967D2;\n",
              "      height: 32px;\n",
              "      padding: 0 0 0 0;\n",
              "      width: 32px;\n",
              "    }\n",
              "\n",
              "    .colab-df-convert:hover {\n",
              "      background-color: #E2EBFA;\n",
              "      box-shadow: 0px 1px 2px rgba(60, 64, 67, 0.3), 0px 1px 3px 1px rgba(60, 64, 67, 0.15);\n",
              "      fill: #174EA6;\n",
              "    }\n",
              "\n",
              "    [theme=dark] .colab-df-convert {\n",
              "      background-color: #3B4455;\n",
              "      fill: #D2E3FC;\n",
              "    }\n",
              "\n",
              "    [theme=dark] .colab-df-convert:hover {\n",
              "      background-color: #434B5C;\n",
              "      box-shadow: 0px 1px 3px 1px rgba(0, 0, 0, 0.15);\n",
              "      filter: drop-shadow(0px 1px 2px rgba(0, 0, 0, 0.3));\n",
              "      fill: #FFFFFF;\n",
              "    }\n",
              "  </style>\n",
              "\n",
              "      <script>\n",
              "        const buttonEl =\n",
              "          document.querySelector('#df-8028360b-602d-498c-8b4d-2436a6da8366 button.colab-df-convert');\n",
              "        buttonEl.style.display =\n",
              "          google.colab.kernel.accessAllowed ? 'block' : 'none';\n",
              "\n",
              "        async function convertToInteractive(key) {\n",
              "          const element = document.querySelector('#df-8028360b-602d-498c-8b4d-2436a6da8366');\n",
              "          const dataTable =\n",
              "            await google.colab.kernel.invokeFunction('convertToInteractive',\n",
              "                                                     [key], {});\n",
              "          if (!dataTable) return;\n",
              "\n",
              "          const docLinkHtml = 'Like what you see? Visit the ' +\n",
              "            '<a target=\"_blank\" href=https://colab.research.google.com/notebooks/data_table.ipynb>data table notebook</a>'\n",
              "            + ' to learn more about interactive tables.';\n",
              "          element.innerHTML = '';\n",
              "          dataTable['output_type'] = 'display_data';\n",
              "          await google.colab.output.renderOutput(dataTable, element);\n",
              "          const docLink = document.createElement('div');\n",
              "          docLink.innerHTML = docLinkHtml;\n",
              "          element.appendChild(docLink);\n",
              "        }\n",
              "      </script>\n",
              "    </div>\n",
              "  </div>\n",
              "  "
            ],
            "text/plain": [
              "                       Loan_Status  ...      Risk\n",
              "Loan_Status               1.000000  ... -0.154660\n",
              "Credit_History           -0.562034  ...  0.037664\n",
              "Family_Risk              -0.095780  ...  0.494161\n",
              "Work_Risk                -0.085884  ...  0.387311\n",
              "Family_Work_Mean_Risk    -0.128882  ...  0.630942\n",
              "Risk                     -0.154660  ...  1.000000\n",
              "\n",
              "[6 rows x 6 columns]"
            ]
          },
          "metadata": {},
          "execution_count": 1089
        }
      ]
    },
    {
      "cell_type": "markdown",
      "source": [
        "Еще лучше, ничего себе "
      ],
      "metadata": {
        "id": "64RLcnfK4cSC"
      },
      "id": "64RLcnfK4cSC"
    },
    {
      "cell_type": "markdown",
      "source": [
        "Делаем индикаторы по аутлаерам и кредит истории"
      ],
      "metadata": {
        "id": "YW8z-U6P45Ut"
      },
      "id": "YW8z-U6P45Ut"
    },
    {
      "cell_type": "code",
      "source": [
        "temp_['LoanAmount_Outliers'] = temp['LoanAmount_Outliers'] \n",
        "temp_['ApplicantIncome_Outliers'] = temp['ApplicantIncome_Outliers']\n",
        "temp_['CoapplicantIncome_Outliers'] = temp['CoapplicantIncome_Outliers']\n",
        "temp_['Group_Loan_Amount_Term'] = temp['Group_Loan_Amount_Term']"
      ],
      "metadata": {
        "id": "Qb5WmQrD4bjL"
      },
      "id": "Qb5WmQrD4bjL",
      "execution_count": null,
      "outputs": []
    },
    {
      "cell_type": "code",
      "source": [
        "def risk(col):\n",
        "  \n",
        "  index = col['Family_Work_Mean_Risk']\n",
        "\n",
        "  if col['Group_Loan_Amount_Term'] == '40 years':\n",
        "    index *= 0.75\n",
        "\n",
        "  if col['LoanAmount_Outliers'] == 'Outlier':\n",
        "    index *= 0.5\n",
        "\n",
        "  if col['Property_Area'] == 'Rural':\n",
        "    index *= 2/3\n",
        "\n",
        "  # if col['Credit_History'] == 0:\n",
        "  #   index *= 0.9\n",
        "\n",
        "  return index\n",
        "\n",
        "risk = [risk(temp_.iloc[i]) for i in range(len(temp_))]\n",
        "temp_['Risk'] = risk\n",
        "temp_.corr()"
      ],
      "metadata": {
        "id": "gQBlXQFr4m_n",
        "outputId": "6336142e-1677-4189-8e90-c82a3c0a1440",
        "colab": {
          "base_uri": "https://localhost:8080/",
          "height": 237
        }
      },
      "id": "gQBlXQFr4m_n",
      "execution_count": null,
      "outputs": [
        {
          "output_type": "execute_result",
          "data": {
            "text/html": [
              "\n",
              "  <div id=\"df-fd6dc915-1694-40e6-a69b-14fc2c09cfc5\">\n",
              "    <div class=\"colab-df-container\">\n",
              "      <div>\n",
              "<style scoped>\n",
              "    .dataframe tbody tr th:only-of-type {\n",
              "        vertical-align: middle;\n",
              "    }\n",
              "\n",
              "    .dataframe tbody tr th {\n",
              "        vertical-align: top;\n",
              "    }\n",
              "\n",
              "    .dataframe thead th {\n",
              "        text-align: right;\n",
              "    }\n",
              "</style>\n",
              "<table border=\"1\" class=\"dataframe\">\n",
              "  <thead>\n",
              "    <tr style=\"text-align: right;\">\n",
              "      <th></th>\n",
              "      <th>Loan_Status</th>\n",
              "      <th>Credit_History</th>\n",
              "      <th>Family_Risk</th>\n",
              "      <th>Work_Risk</th>\n",
              "      <th>Family_Work_Mean_Risk</th>\n",
              "      <th>Risk</th>\n",
              "    </tr>\n",
              "  </thead>\n",
              "  <tbody>\n",
              "    <tr>\n",
              "      <th>Loan_Status</th>\n",
              "      <td>1.000000</td>\n",
              "      <td>-0.562034</td>\n",
              "      <td>-0.095780</td>\n",
              "      <td>-0.085884</td>\n",
              "      <td>-0.128882</td>\n",
              "      <td>-0.182089</td>\n",
              "    </tr>\n",
              "    <tr>\n",
              "      <th>Credit_History</th>\n",
              "      <td>-0.562034</td>\n",
              "      <td>1.000000</td>\n",
              "      <td>-0.003047</td>\n",
              "      <td>0.081967</td>\n",
              "      <td>0.047521</td>\n",
              "      <td>0.045415</td>\n",
              "    </tr>\n",
              "    <tr>\n",
              "      <th>Family_Risk</th>\n",
              "      <td>-0.095780</td>\n",
              "      <td>-0.003047</td>\n",
              "      <td>1.000000</td>\n",
              "      <td>-0.010292</td>\n",
              "      <td>0.792839</td>\n",
              "      <td>0.357440</td>\n",
              "    </tr>\n",
              "    <tr>\n",
              "      <th>Work_Risk</th>\n",
              "      <td>-0.085884</td>\n",
              "      <td>0.081967</td>\n",
              "      <td>-0.010292</td>\n",
              "      <td>1.000000</td>\n",
              "      <td>0.601239</td>\n",
              "      <td>0.292755</td>\n",
              "    </tr>\n",
              "    <tr>\n",
              "      <th>Family_Work_Mean_Risk</th>\n",
              "      <td>-0.128882</td>\n",
              "      <td>0.047521</td>\n",
              "      <td>0.792839</td>\n",
              "      <td>0.601239</td>\n",
              "      <td>1.000000</td>\n",
              "      <td>0.464057</td>\n",
              "    </tr>\n",
              "    <tr>\n",
              "      <th>Risk</th>\n",
              "      <td>-0.182089</td>\n",
              "      <td>0.045415</td>\n",
              "      <td>0.357440</td>\n",
              "      <td>0.292755</td>\n",
              "      <td>0.464057</td>\n",
              "      <td>1.000000</td>\n",
              "    </tr>\n",
              "  </tbody>\n",
              "</table>\n",
              "</div>\n",
              "      <button class=\"colab-df-convert\" onclick=\"convertToInteractive('df-fd6dc915-1694-40e6-a69b-14fc2c09cfc5')\"\n",
              "              title=\"Convert this dataframe to an interactive table.\"\n",
              "              style=\"display:none;\">\n",
              "        \n",
              "  <svg xmlns=\"http://www.w3.org/2000/svg\" height=\"24px\"viewBox=\"0 0 24 24\"\n",
              "       width=\"24px\">\n",
              "    <path d=\"M0 0h24v24H0V0z\" fill=\"none\"/>\n",
              "    <path d=\"M18.56 5.44l.94 2.06.94-2.06 2.06-.94-2.06-.94-.94-2.06-.94 2.06-2.06.94zm-11 1L8.5 8.5l.94-2.06 2.06-.94-2.06-.94L8.5 2.5l-.94 2.06-2.06.94zm10 10l.94 2.06.94-2.06 2.06-.94-2.06-.94-.94-2.06-.94 2.06-2.06.94z\"/><path d=\"M17.41 7.96l-1.37-1.37c-.4-.4-.92-.59-1.43-.59-.52 0-1.04.2-1.43.59L10.3 9.45l-7.72 7.72c-.78.78-.78 2.05 0 2.83L4 21.41c.39.39.9.59 1.41.59.51 0 1.02-.2 1.41-.59l7.78-7.78 2.81-2.81c.8-.78.8-2.07 0-2.86zM5.41 20L4 18.59l7.72-7.72 1.47 1.35L5.41 20z\"/>\n",
              "  </svg>\n",
              "      </button>\n",
              "      \n",
              "  <style>\n",
              "    .colab-df-container {\n",
              "      display:flex;\n",
              "      flex-wrap:wrap;\n",
              "      gap: 12px;\n",
              "    }\n",
              "\n",
              "    .colab-df-convert {\n",
              "      background-color: #E8F0FE;\n",
              "      border: none;\n",
              "      border-radius: 50%;\n",
              "      cursor: pointer;\n",
              "      display: none;\n",
              "      fill: #1967D2;\n",
              "      height: 32px;\n",
              "      padding: 0 0 0 0;\n",
              "      width: 32px;\n",
              "    }\n",
              "\n",
              "    .colab-df-convert:hover {\n",
              "      background-color: #E2EBFA;\n",
              "      box-shadow: 0px 1px 2px rgba(60, 64, 67, 0.3), 0px 1px 3px 1px rgba(60, 64, 67, 0.15);\n",
              "      fill: #174EA6;\n",
              "    }\n",
              "\n",
              "    [theme=dark] .colab-df-convert {\n",
              "      background-color: #3B4455;\n",
              "      fill: #D2E3FC;\n",
              "    }\n",
              "\n",
              "    [theme=dark] .colab-df-convert:hover {\n",
              "      background-color: #434B5C;\n",
              "      box-shadow: 0px 1px 3px 1px rgba(0, 0, 0, 0.15);\n",
              "      filter: drop-shadow(0px 1px 2px rgba(0, 0, 0, 0.3));\n",
              "      fill: #FFFFFF;\n",
              "    }\n",
              "  </style>\n",
              "\n",
              "      <script>\n",
              "        const buttonEl =\n",
              "          document.querySelector('#df-fd6dc915-1694-40e6-a69b-14fc2c09cfc5 button.colab-df-convert');\n",
              "        buttonEl.style.display =\n",
              "          google.colab.kernel.accessAllowed ? 'block' : 'none';\n",
              "\n",
              "        async function convertToInteractive(key) {\n",
              "          const element = document.querySelector('#df-fd6dc915-1694-40e6-a69b-14fc2c09cfc5');\n",
              "          const dataTable =\n",
              "            await google.colab.kernel.invokeFunction('convertToInteractive',\n",
              "                                                     [key], {});\n",
              "          if (!dataTable) return;\n",
              "\n",
              "          const docLinkHtml = 'Like what you see? Visit the ' +\n",
              "            '<a target=\"_blank\" href=https://colab.research.google.com/notebooks/data_table.ipynb>data table notebook</a>'\n",
              "            + ' to learn more about interactive tables.';\n",
              "          element.innerHTML = '';\n",
              "          dataTable['output_type'] = 'display_data';\n",
              "          await google.colab.output.renderOutput(dataTable, element);\n",
              "          const docLink = document.createElement('div');\n",
              "          docLink.innerHTML = docLinkHtml;\n",
              "          element.appendChild(docLink);\n",
              "        }\n",
              "      </script>\n",
              "    </div>\n",
              "  </div>\n",
              "  "
            ],
            "text/plain": [
              "                       Loan_Status  ...      Risk\n",
              "Loan_Status               1.000000  ... -0.182089\n",
              "Credit_History           -0.562034  ...  0.045415\n",
              "Family_Risk              -0.095780  ...  0.357440\n",
              "Work_Risk                -0.085884  ...  0.292755\n",
              "Family_Work_Mean_Risk    -0.128882  ...  0.464057\n",
              "Risk                     -0.182089  ...  1.000000\n",
              "\n",
              "[6 rows x 6 columns]"
            ]
          },
          "metadata": {},
          "execution_count": 1091
        }
      ]
    },
    {
      "cell_type": "markdown",
      "source": [
        "Круто, сначала думал, что вообще на 42% нашел фичу, но не совсем. \n",
        "\n",
        "Корреляция перетекала из кредитной истории. Если вообще убрать влияние истории - будет не 23, а 15. Это тоже отличный результат! Нагенерил неплохую фичу из ничего. Небольшое влияние истории оставил (домножаю на 0.9)\n"
      ],
      "metadata": {
        "id": "wRL_sGvT_9BU"
      },
      "id": "wRL_sGvT_9BU"
    },
    {
      "cell_type": "code",
      "source": [
        "temp_.iloc[-10:, :]"
      ],
      "metadata": {
        "id": "6S9C4hxp_7pf",
        "outputId": "79749b98-4b5e-4eac-e46e-3927ef87aaa0",
        "colab": {
          "base_uri": "https://localhost:8080/",
          "height": 462
        }
      },
      "id": "6S9C4hxp_7pf",
      "execution_count": null,
      "outputs": [
        {
          "output_type": "execute_result",
          "data": {
            "text/html": [
              "\n",
              "  <div id=\"df-e6f9be67-e056-4330-b39e-c2eb96dca589\">\n",
              "    <div class=\"colab-df-container\">\n",
              "      <div>\n",
              "<style scoped>\n",
              "    .dataframe tbody tr th:only-of-type {\n",
              "        vertical-align: middle;\n",
              "    }\n",
              "\n",
              "    .dataframe tbody tr th {\n",
              "        vertical-align: top;\n",
              "    }\n",
              "\n",
              "    .dataframe thead th {\n",
              "        text-align: right;\n",
              "    }\n",
              "</style>\n",
              "<table border=\"1\" class=\"dataframe\">\n",
              "  <thead>\n",
              "    <tr style=\"text-align: right;\">\n",
              "      <th></th>\n",
              "      <th>Loan_ID</th>\n",
              "      <th>Gender</th>\n",
              "      <th>Married</th>\n",
              "      <th>Dependents</th>\n",
              "      <th>Education</th>\n",
              "      <th>Self_Employed</th>\n",
              "      <th>Property_Area</th>\n",
              "      <th>Group_Loan_Amount_Term</th>\n",
              "      <th>Loan_Status</th>\n",
              "      <th>Credit_History</th>\n",
              "      <th>Family_Risk</th>\n",
              "      <th>Work_Risk</th>\n",
              "      <th>Family_Work_Mean_Risk</th>\n",
              "      <th>LoanAmount_Outliers</th>\n",
              "      <th>ApplicantIncome_Outliers</th>\n",
              "      <th>CoapplicantIncome_Outliers</th>\n",
              "      <th>Risk</th>\n",
              "    </tr>\n",
              "  </thead>\n",
              "  <tbody>\n",
              "    <tr>\n",
              "      <th>604</th>\n",
              "      <td>LP002959</td>\n",
              "      <td>Female</td>\n",
              "      <td>Yes</td>\n",
              "      <td>1</td>\n",
              "      <td>Graduate</td>\n",
              "      <td>No</td>\n",
              "      <td>Semiurban</td>\n",
              "      <td>30 years</td>\n",
              "      <td>0</td>\n",
              "      <td>1.0</td>\n",
              "      <td>1.000000</td>\n",
              "      <td>1.000000</td>\n",
              "      <td>1.000000</td>\n",
              "      <td>Outlier</td>\n",
              "      <td>Outlier</td>\n",
              "      <td>Normal</td>\n",
              "      <td>0.500000</td>\n",
              "    </tr>\n",
              "    <tr>\n",
              "      <th>605</th>\n",
              "      <td>LP002960</td>\n",
              "      <td>Male</td>\n",
              "      <td>Yes</td>\n",
              "      <td>0</td>\n",
              "      <td>Not Graduate</td>\n",
              "      <td>No</td>\n",
              "      <td>Urban</td>\n",
              "      <td>15 years</td>\n",
              "      <td>1</td>\n",
              "      <td>1.0</td>\n",
              "      <td>1.000000</td>\n",
              "      <td>0.666667</td>\n",
              "      <td>0.833333</td>\n",
              "      <td>Outlier</td>\n",
              "      <td>Normal</td>\n",
              "      <td>Normal</td>\n",
              "      <td>0.416667</td>\n",
              "    </tr>\n",
              "    <tr>\n",
              "      <th>606</th>\n",
              "      <td>LP002961</td>\n",
              "      <td>Male</td>\n",
              "      <td>Yes</td>\n",
              "      <td>1</td>\n",
              "      <td>Graduate</td>\n",
              "      <td>No</td>\n",
              "      <td>Semiurban</td>\n",
              "      <td>30 years</td>\n",
              "      <td>0</td>\n",
              "      <td>1.0</td>\n",
              "      <td>1.000000</td>\n",
              "      <td>1.000000</td>\n",
              "      <td>1.000000</td>\n",
              "      <td>Normal</td>\n",
              "      <td>Normal</td>\n",
              "      <td>Normal</td>\n",
              "      <td>1.000000</td>\n",
              "    </tr>\n",
              "    <tr>\n",
              "      <th>607</th>\n",
              "      <td>LP002964</td>\n",
              "      <td>Male</td>\n",
              "      <td>Yes</td>\n",
              "      <td>2</td>\n",
              "      <td>Not Graduate</td>\n",
              "      <td>No</td>\n",
              "      <td>Rural</td>\n",
              "      <td>30 years</td>\n",
              "      <td>0</td>\n",
              "      <td>1.0</td>\n",
              "      <td>1.000000</td>\n",
              "      <td>0.666667</td>\n",
              "      <td>0.833333</td>\n",
              "      <td>Normal</td>\n",
              "      <td>Normal</td>\n",
              "      <td>Normal</td>\n",
              "      <td>0.555556</td>\n",
              "    </tr>\n",
              "    <tr>\n",
              "      <th>608</th>\n",
              "      <td>LP002974</td>\n",
              "      <td>Male</td>\n",
              "      <td>Yes</td>\n",
              "      <td>0</td>\n",
              "      <td>Graduate</td>\n",
              "      <td>No</td>\n",
              "      <td>Rural</td>\n",
              "      <td>30 years</td>\n",
              "      <td>0</td>\n",
              "      <td>1.0</td>\n",
              "      <td>1.000000</td>\n",
              "      <td>1.000000</td>\n",
              "      <td>1.000000</td>\n",
              "      <td>Normal</td>\n",
              "      <td>Normal</td>\n",
              "      <td>Normal</td>\n",
              "      <td>0.666667</td>\n",
              "    </tr>\n",
              "    <tr>\n",
              "      <th>609</th>\n",
              "      <td>LP002978</td>\n",
              "      <td>Female</td>\n",
              "      <td>No</td>\n",
              "      <td>0</td>\n",
              "      <td>Graduate</td>\n",
              "      <td>No</td>\n",
              "      <td>Rural</td>\n",
              "      <td>30 years</td>\n",
              "      <td>0</td>\n",
              "      <td>1.0</td>\n",
              "      <td>0.666667</td>\n",
              "      <td>1.000000</td>\n",
              "      <td>0.833333</td>\n",
              "      <td>Normal</td>\n",
              "      <td>Normal</td>\n",
              "      <td>Normal</td>\n",
              "      <td>0.555556</td>\n",
              "    </tr>\n",
              "    <tr>\n",
              "      <th>610</th>\n",
              "      <td>LP002979</td>\n",
              "      <td>Male</td>\n",
              "      <td>Yes</td>\n",
              "      <td>3+</td>\n",
              "      <td>Graduate</td>\n",
              "      <td>No</td>\n",
              "      <td>Rural</td>\n",
              "      <td>15 years</td>\n",
              "      <td>0</td>\n",
              "      <td>1.0</td>\n",
              "      <td>1.000000</td>\n",
              "      <td>1.000000</td>\n",
              "      <td>1.000000</td>\n",
              "      <td>Normal</td>\n",
              "      <td>Normal</td>\n",
              "      <td>Normal</td>\n",
              "      <td>0.666667</td>\n",
              "    </tr>\n",
              "    <tr>\n",
              "      <th>611</th>\n",
              "      <td>LP002983</td>\n",
              "      <td>Male</td>\n",
              "      <td>Yes</td>\n",
              "      <td>1</td>\n",
              "      <td>Graduate</td>\n",
              "      <td>No</td>\n",
              "      <td>Urban</td>\n",
              "      <td>30 years</td>\n",
              "      <td>0</td>\n",
              "      <td>1.0</td>\n",
              "      <td>1.000000</td>\n",
              "      <td>1.000000</td>\n",
              "      <td>1.000000</td>\n",
              "      <td>Normal</td>\n",
              "      <td>Normal</td>\n",
              "      <td>Normal</td>\n",
              "      <td>1.000000</td>\n",
              "    </tr>\n",
              "    <tr>\n",
              "      <th>612</th>\n",
              "      <td>LP002984</td>\n",
              "      <td>Male</td>\n",
              "      <td>Yes</td>\n",
              "      <td>2</td>\n",
              "      <td>Graduate</td>\n",
              "      <td>No</td>\n",
              "      <td>Urban</td>\n",
              "      <td>30 years</td>\n",
              "      <td>0</td>\n",
              "      <td>1.0</td>\n",
              "      <td>1.000000</td>\n",
              "      <td>1.000000</td>\n",
              "      <td>1.000000</td>\n",
              "      <td>Normal</td>\n",
              "      <td>Normal</td>\n",
              "      <td>Normal</td>\n",
              "      <td>1.000000</td>\n",
              "    </tr>\n",
              "    <tr>\n",
              "      <th>613</th>\n",
              "      <td>LP002990</td>\n",
              "      <td>Female</td>\n",
              "      <td>No</td>\n",
              "      <td>0</td>\n",
              "      <td>Graduate</td>\n",
              "      <td>Yes</td>\n",
              "      <td>Semiurban</td>\n",
              "      <td>30 years</td>\n",
              "      <td>1</td>\n",
              "      <td>0.0</td>\n",
              "      <td>0.666667</td>\n",
              "      <td>1.000000</td>\n",
              "      <td>0.833333</td>\n",
              "      <td>Normal</td>\n",
              "      <td>Normal</td>\n",
              "      <td>Normal</td>\n",
              "      <td>0.833333</td>\n",
              "    </tr>\n",
              "  </tbody>\n",
              "</table>\n",
              "</div>\n",
              "      <button class=\"colab-df-convert\" onclick=\"convertToInteractive('df-e6f9be67-e056-4330-b39e-c2eb96dca589')\"\n",
              "              title=\"Convert this dataframe to an interactive table.\"\n",
              "              style=\"display:none;\">\n",
              "        \n",
              "  <svg xmlns=\"http://www.w3.org/2000/svg\" height=\"24px\"viewBox=\"0 0 24 24\"\n",
              "       width=\"24px\">\n",
              "    <path d=\"M0 0h24v24H0V0z\" fill=\"none\"/>\n",
              "    <path d=\"M18.56 5.44l.94 2.06.94-2.06 2.06-.94-2.06-.94-.94-2.06-.94 2.06-2.06.94zm-11 1L8.5 8.5l.94-2.06 2.06-.94-2.06-.94L8.5 2.5l-.94 2.06-2.06.94zm10 10l.94 2.06.94-2.06 2.06-.94-2.06-.94-.94-2.06-.94 2.06-2.06.94z\"/><path d=\"M17.41 7.96l-1.37-1.37c-.4-.4-.92-.59-1.43-.59-.52 0-1.04.2-1.43.59L10.3 9.45l-7.72 7.72c-.78.78-.78 2.05 0 2.83L4 21.41c.39.39.9.59 1.41.59.51 0 1.02-.2 1.41-.59l7.78-7.78 2.81-2.81c.8-.78.8-2.07 0-2.86zM5.41 20L4 18.59l7.72-7.72 1.47 1.35L5.41 20z\"/>\n",
              "  </svg>\n",
              "      </button>\n",
              "      \n",
              "  <style>\n",
              "    .colab-df-container {\n",
              "      display:flex;\n",
              "      flex-wrap:wrap;\n",
              "      gap: 12px;\n",
              "    }\n",
              "\n",
              "    .colab-df-convert {\n",
              "      background-color: #E8F0FE;\n",
              "      border: none;\n",
              "      border-radius: 50%;\n",
              "      cursor: pointer;\n",
              "      display: none;\n",
              "      fill: #1967D2;\n",
              "      height: 32px;\n",
              "      padding: 0 0 0 0;\n",
              "      width: 32px;\n",
              "    }\n",
              "\n",
              "    .colab-df-convert:hover {\n",
              "      background-color: #E2EBFA;\n",
              "      box-shadow: 0px 1px 2px rgba(60, 64, 67, 0.3), 0px 1px 3px 1px rgba(60, 64, 67, 0.15);\n",
              "      fill: #174EA6;\n",
              "    }\n",
              "\n",
              "    [theme=dark] .colab-df-convert {\n",
              "      background-color: #3B4455;\n",
              "      fill: #D2E3FC;\n",
              "    }\n",
              "\n",
              "    [theme=dark] .colab-df-convert:hover {\n",
              "      background-color: #434B5C;\n",
              "      box-shadow: 0px 1px 3px 1px rgba(0, 0, 0, 0.15);\n",
              "      filter: drop-shadow(0px 1px 2px rgba(0, 0, 0, 0.3));\n",
              "      fill: #FFFFFF;\n",
              "    }\n",
              "  </style>\n",
              "\n",
              "      <script>\n",
              "        const buttonEl =\n",
              "          document.querySelector('#df-e6f9be67-e056-4330-b39e-c2eb96dca589 button.colab-df-convert');\n",
              "        buttonEl.style.display =\n",
              "          google.colab.kernel.accessAllowed ? 'block' : 'none';\n",
              "\n",
              "        async function convertToInteractive(key) {\n",
              "          const element = document.querySelector('#df-e6f9be67-e056-4330-b39e-c2eb96dca589');\n",
              "          const dataTable =\n",
              "            await google.colab.kernel.invokeFunction('convertToInteractive',\n",
              "                                                     [key], {});\n",
              "          if (!dataTable) return;\n",
              "\n",
              "          const docLinkHtml = 'Like what you see? Visit the ' +\n",
              "            '<a target=\"_blank\" href=https://colab.research.google.com/notebooks/data_table.ipynb>data table notebook</a>'\n",
              "            + ' to learn more about interactive tables.';\n",
              "          element.innerHTML = '';\n",
              "          dataTable['output_type'] = 'display_data';\n",
              "          await google.colab.output.renderOutput(dataTable, element);\n",
              "          const docLink = document.createElement('div');\n",
              "          docLink.innerHTML = docLinkHtml;\n",
              "          element.appendChild(docLink);\n",
              "        }\n",
              "      </script>\n",
              "    </div>\n",
              "  </div>\n",
              "  "
            ],
            "text/plain": [
              "      Loan_ID  Gender  ... CoapplicantIncome_Outliers      Risk\n",
              "604  LP002959  Female  ...                     Normal  0.500000\n",
              "605  LP002960    Male  ...                     Normal  0.416667\n",
              "606  LP002961    Male  ...                     Normal  1.000000\n",
              "607  LP002964    Male  ...                     Normal  0.555556\n",
              "608  LP002974    Male  ...                     Normal  0.666667\n",
              "609  LP002978  Female  ...                     Normal  0.555556\n",
              "610  LP002979    Male  ...                     Normal  0.666667\n",
              "611  LP002983    Male  ...                     Normal  1.000000\n",
              "612  LP002984    Male  ...                     Normal  1.000000\n",
              "613  LP002990  Female  ...                     Normal  0.833333\n",
              "\n",
              "[10 rows x 17 columns]"
            ]
          },
          "metadata": {},
          "execution_count": 1099
        }
      ]
    },
    {
      "cell_type": "markdown",
      "source": [
        "Rural непонятный"
      ],
      "metadata": {
        "id": "ZegAyMwlGUHc"
      },
      "id": "ZegAyMwlGUHc"
    },
    {
      "cell_type": "code",
      "source": [
        "sns.barplot(x='Property_Area', y='Loan_Status', data=temp_)"
      ],
      "metadata": {
        "id": "vJTa1jEDGa1k",
        "outputId": "32cbcc35-fed6-4f0b-b74e-e9974d89a88c",
        "colab": {
          "base_uri": "https://localhost:8080/",
          "height": 299
        }
      },
      "id": "vJTa1jEDGa1k",
      "execution_count": null,
      "outputs": [
        {
          "output_type": "execute_result",
          "data": {
            "text/plain": [
              "<matplotlib.axes._subplots.AxesSubplot at 0x7f0972f31c90>"
            ]
          },
          "metadata": {},
          "execution_count": 1086
        },
        {
          "output_type": "display_data",
          "data": {
            "image/png": "[encoded data removed]",
            "text/plain": [
              "<Figure size 432x288 with 1 Axes>"
            ]
          },
          "metadata": {
            "needs_background": "light"
          }
        }
      ]
    },
    {
      "cell_type": "markdown",
      "source": [
        "А ну посмотрим насколько **риск** хорош"
      ],
      "metadata": {
        "id": "qgIslPnALzlc"
      },
      "id": "qgIslPnALzlc"
    },
    {
      "cell_type": "code",
      "source": [
        "temp_[temp_['Risk'] <= 0.25]['Loan_Status']"
      ],
      "metadata": {
        "id": "nyHLbnUGM_5S",
        "outputId": "c957f171-fb2f-46e2-a9de-ea1743eb41d1",
        "colab": {
          "base_uri": "https://localhost:8080/"
        }
      },
      "id": "nyHLbnUGM_5S",
      "execution_count": null,
      "outputs": [
        {
          "output_type": "execute_result",
          "data": {
            "text/plain": [
              "338    1\n",
              "Name: Loan_Status, dtype: int64"
            ]
          },
          "metadata": {},
          "execution_count": 1120
        }
      ]
    },
    {
      "cell_type": "code",
      "source": [
        "lst = np.array([temp_[temp_['Risk'] >= 0.5+i]['Loan_Status'].mean() for i in np.arange(0, 0.5, 0.01)])\n",
        "lst_len = np.array([len(temp_[temp_['Risk'] >= 0.5+i]['Loan_Status']) for i in np.arange(0, 0.5, 0.01)])\n",
        "\n",
        "plt.plot(np.arange(0, 0.5, 0.01), lst)"
      ],
      "metadata": {
        "id": "3ZrizHxYL1TN",
        "outputId": "813ab5c6-5a32-4c78-d618-e787a0f9dbc1",
        "colab": {
          "base_uri": "https://localhost:8080/",
          "height": 286
        }
      },
      "id": "3ZrizHxYL1TN",
      "execution_count": null,
      "outputs": [
        {
          "output_type": "execute_result",
          "data": {
            "text/plain": [
              "[<matplotlib.lines.Line2D at 0x7f0972a5ff10>]"
            ]
          },
          "metadata": {},
          "execution_count": 1125
        },
        {
          "output_type": "display_data",
          "data": {
            "image/png": "[encoded data removed]",
            "text/plain": [
              "<Figure size 432x288 with 1 Axes>"
            ]
          },
          "metadata": {
            "needs_background": "light"
          }
        }
      ]
    },
    {
      "cell_type": "code",
      "source": [
        "plt.plot(np.arange(0, 0.5, 0.01), lst_len)"
      ],
      "metadata": {
        "id": "SyixAyU5L5wY",
        "outputId": "43dcd3c7-1d0b-4751-831f-71ac784077d3",
        "colab": {
          "base_uri": "https://localhost:8080/",
          "height": 284
        }
      },
      "id": "SyixAyU5L5wY",
      "execution_count": null,
      "outputs": [
        {
          "output_type": "execute_result",
          "data": {
            "text/plain": [
              "[<matplotlib.lines.Line2D at 0x7f09728bea10>]"
            ]
          },
          "metadata": {},
          "execution_count": 1126
        },
        {
          "output_type": "display_data",
          "data": {
            "image/png": "[encoded data removed]",
            "text/plain": [
              "<Figure size 432x288 with 1 Axes>"
            ]
          },
          "metadata": {
            "needs_background": "light"
          }
        }
      ]
    },
    {
      "cell_type": "code",
      "source": [
        ""
      ],
      "metadata": {
        "id": "1n5yBRi6OqXm"
      },
      "id": "1n5yBRi6OqXm",
      "execution_count": null,
      "outputs": []
    }
  ],
  "metadata": {
    "kernelspec": {
      "display_name": "Python 3",
      "language": "python",
      "name": "python3"
    },
    "language_info": {
      "codemirror_mode": {
        "name": "ipython",
        "version": 3
      },
      "file_extension": ".py",
      "mimetype": "text/x-python",
      "name": "python",
      "nbconvert_exporter": "python",
      "pygments_lexer": "ipython3",
      "version": "3.8.2"
    },
    "colab": {
      "name": "Loan Prediction EDA - AV.ipynb",
      "provenance": []
    }
  },
  "nbformat": 4,
  "nbformat_minor": 5
}