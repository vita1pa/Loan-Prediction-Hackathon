{
 "cells": [
  {
   "cell_type": "code",
   "execution_count": 5,
   "metadata": {
    "id": "FYaj7cMdNMK6"
   },
   "outputs": [],
   "source": [
    "import pandas as pd\n",
    "\n",
    "from sklearn.ensemble import RandomForestClassifier"
   ]
  },
  {
   "cell_type": "code",
   "execution_count": 32,
   "metadata": {
    "id": "pv9BiO93Nbjz"
   },
   "outputs": [],
   "source": [
    "train = pd.read_csv('Train_tr.csv').values\n",
    "test = pd.read_csv('Test_tr.csv').values\n",
    "target = pd.read_csv('Target.csv')['Loan_Status'].values\n",
    "\n",
    "sample_submission = pd.read_csv('sample_submission_49d68Cx.csv')"
   ]
  },
  {
   "cell_type": "markdown",
   "metadata": {
    "id": "O6KS6V7sOad2"
   },
   "source": [
    "## Baseline"
   ]
  },
  {
   "cell_type": "code",
   "execution_count": 50,
   "metadata": {
    "id": "ojMq1VNhOUw8"
   },
   "outputs": [],
   "source": [
    "rf_baseline = RandomForestClassifier(oob_score=True)\n",
    "rf_baseline.fit(train, target);"
   ]
  },
  {
   "cell_type": "code",
   "execution_count": 51,
   "metadata": {
    "colab": {
     "base_uri": "https://localhost:8080/"
    },
    "id": "IeQXdB44Owwu",
    "outputId": "9b3cc3e5-d8a7-4e83-8806-e55664cbc100"
   },
   "outputs": [
    {
     "data": {
      "text/plain": [
       "1.0"
      ]
     },
     "execution_count": 51,
     "metadata": {},
     "output_type": "execute_result"
    }
   ],
   "source": [
    "rf_baseline.score(train, target)"
   ]
  },
  {
   "cell_type": "code",
   "execution_count": 52,
   "metadata": {
    "colab": {
     "base_uri": "https://localhost:8080/"
    },
    "id": "lP0OWj9kTQZk",
    "outputId": "c4e2b8dd-b6c3-49fd-98d9-f07a7a453cdd"
   },
   "outputs": [
    {
     "data": {
      "text/plain": [
       "0.7931596091205212"
      ]
     },
     "execution_count": 52,
     "metadata": {},
     "output_type": "execute_result"
    }
   ],
   "source": [
    "rf_baseline.oob_score_"
   ]
  },
  {
   "cell_type": "code",
   "execution_count": 39,
   "metadata": {
    "id": "MhOxF7VpQPKT"
   },
   "outputs": [],
   "source": [
    "sample_submission['Loan_Status'] = rf_baseline.predict(test)"
   ]
  },
  {
   "cell_type": "markdown",
   "metadata": {
    "id": "z3yJGUnhQzTZ"
   },
   "source": [
    "### Mapping back..."
   ]
  },
  {
   "cell_type": "code",
   "execution_count": 46,
   "metadata": {
    "id": "-AWOTU71QoRD"
   },
   "outputs": [],
   "source": [
    "sample_submission['Loan_Status'] = sample_submission['Loan_Status'].map({0:'Y', 1:'N'})"
   ]
  },
  {
   "cell_type": "markdown",
   "metadata": {
    "id": "OqBD4JW_RTEF"
   },
   "source": [
    "### Downloading submission"
   ]
  },
  {
   "cell_type": "code",
   "execution_count": 47,
   "metadata": {
    "id": "ZFJUg5P7RDU7"
   },
   "outputs": [],
   "source": [
    "sample_submission.to_csv('sub3.csv', index=False)"
   ]
  },
  {
   "cell_type": "code",
   "execution_count": null,
   "metadata": {
    "id": "5nffK9PJRRqc"
   },
   "outputs": [],
   "source": []
  }
 ],
 "metadata": {
  "colab": {
   "name": "Load Prediction Modelling - AV.ipynb",
   "provenance": []
  },
  "kernelspec": {
   "display_name": "Python 3",
   "language": "python",
   "name": "python3"
  },
  "language_info": {
   "codemirror_mode": {
    "name": "ipython",
    "version": 3
   },
   "file_extension": ".py",
   "mimetype": "text/x-python",
   "name": "python",
   "nbconvert_exporter": "python",
   "pygments_lexer": "ipython3",
   "version": "3.8.8"
  }
 },
 "nbformat": 4,
 "nbformat_minor": 1
}
