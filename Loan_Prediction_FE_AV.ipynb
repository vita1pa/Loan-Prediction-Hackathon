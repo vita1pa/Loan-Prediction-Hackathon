{
  "cells": [
    {
      "cell_type": "code",
      "execution_count": 21,
      "id": "c520b660",
      "metadata": {
        "id": "c520b660"
      },
      "outputs": [],
      "source": [
        "import pandas as pd\n",
        "import numpy as np\n",
        "\n",
        "import matplotlib.pyplot as plt\n",
        "import seaborn as sns\n",
        "\n",
        "from sklearn.preprocessing import MinMaxScaler"
      ]
    },
    {
      "cell_type": "markdown",
      "id": "794cfe8c",
      "metadata": {
        "id": "794cfe8c"
      },
      "source": [
        "## Importing part"
      ]
    },
    {
      "cell_type": "code",
      "execution_count": 22,
      "id": "430f48de",
      "metadata": {
        "id": "430f48de"
      },
      "outputs": [],
      "source": [
        "train = pd.read_csv('train_ctrUa4K.csv')\n",
        "test = pd.read_csv('test_lAUu6dG.csv')\n",
        "sample_submission = pd.read_csv('sample_submission_49d68Cx.csv')\n",
        "\n",
        "target = train['Loan_Status']\n",
        "train.drop(['Loan_Status'], axis=1, inplace=True)\n",
        "\n",
        "idx = len(train)"
      ]
    },
    {
      "cell_type": "code",
      "source": [
        "train_num = train.select_dtypes(np.number)\n",
        "test_num = test.select_dtypes(np.number)\n",
        "num = pd.concat([train_num, test_num], axis=0).reset_index(drop=True)\n",
        "\n",
        "train_cat = train.select_dtypes(include='object')\n",
        "test_cat = test.select_dtypes(include='object')\n",
        "cat = pd.concat([train_cat, test_cat], axis=0).reset_index(drop=True)"
      ],
      "metadata": {
        "id": "zvKkMAATFNtY"
      },
      "id": "zvKkMAATFNtY",
      "execution_count": 23,
      "outputs": []
    },
    {
      "cell_type": "markdown",
      "id": "52fc44aa",
      "metadata": {
        "id": "52fc44aa"
      },
      "source": [
        "## Basic feature engineering"
      ]
    },
    {
      "cell_type": "code",
      "source": [
        "remove_outliers_iqr(num, ['ApplicantIncome', 'CoapplicantIncome', 'LoanAmount']);\n",
        "\n",
        "impute(num, ['ApplicantIncome', 'CoapplicantIncome', 'LoanAmount'], 'mean')\n",
        "impute(num, ['Loan_Amount_Term', 'Credit_History'], 'mode')\n",
        "\n",
        "sc = MinMaxScaler()\n",
        "num = pd.DataFrame(data=sc.fit_transform(num), \n",
        "            columns=num.columns)\n",
        "\n",
        "\n",
        "\n",
        "impute(cat, ['Gender', 'Married', 'Dependents', 'Self_Employed'], 'mode')\n",
        "\n",
        "cat['Loan_ID'] = cat['Loan_ID'].map(lambda x: x[4:]).astype('int')\n",
        "\n",
        "cat['Gender'] = cat['Gender'].map({'Male': 0, 'Female': 1})\n",
        "cat['Married'] = cat['Married'].map({'Yes': 0, 'No': 1})\n",
        "cat['Education'] = cat['Education'].map({'Graduate': 1, 'Not Graduate': 0})\n",
        "cat['Self_Employed'] = cat['Self_Employed'].map({'Yes': 0, 'No': 1})\n",
        "\n",
        "cat.loc[cat['Dependents'] == '3+', 'Dependents'] = 3\n",
        "\n",
        "area_dummies = pd.get_dummies(cat['Property_Area'], drop_first=True)\n",
        "cat.drop(['Property_Area'], axis=1, inplace=True)\n",
        "cat = pd.concat([cat, area_dummies], axis=1)\n",
        "\n",
        "sc = MinMaxScaler()\n",
        "cat = pd.DataFrame(data=sc.fit_transform(cat), \n",
        "            columns=cat.columns)\n"
      ],
      "metadata": {
        "id": "WWHtVX80Fhj8"
      },
      "id": "WWHtVX80Fhj8",
      "execution_count": null,
      "outputs": []
    },
    {
      "cell_type": "code",
      "execution_count": null,
      "id": "UmLR2EByLBGt",
      "metadata": {
        "id": "UmLR2EByLBGt"
      },
      "outputs": [],
      "source": [
        "all_data_tr = pd.concat([num, cat], axis=1)\n",
        "\n",
        "train_tr = all_data_tr.iloc[:idx, :]\n",
        "test_tr = all_data_tr.iloc[idx:, :]\n",
        "\n",
        "target = target.map({'Y':0, 'N':1})"
      ]
    },
    {
      "cell_type": "code",
      "source": [
        "train_tr.to_csv('Train_tr.csv', index=False)\n",
        "test_tr.to_csv('Test_tr.csv', index=False)\n",
        "\n",
        "target.to_csv('Target.csv', index=False)"
      ],
      "metadata": {
        "id": "8YxzcMxvGVPM"
      },
      "id": "8YxzcMxvGVPM",
      "execution_count": null,
      "outputs": []
    }
  ],
  "metadata": {
    "colab": {
      "name": "Loan Prediction FE - AV.ipynb",
      "provenance": []
    },
    "kernelspec": {
      "display_name": "Python 3",
      "language": "python",
      "name": "python3"
    },
    "language_info": {
      "codemirror_mode": {
        "name": "ipython",
        "version": 3
      },
      "file_extension": ".py",
      "mimetype": "text/x-python",
      "name": "python",
      "nbconvert_exporter": "python",
      "pygments_lexer": "ipython3",
      "version": "3.8.8"
    }
  },
  "nbformat": 4,
  "nbformat_minor": 5
}