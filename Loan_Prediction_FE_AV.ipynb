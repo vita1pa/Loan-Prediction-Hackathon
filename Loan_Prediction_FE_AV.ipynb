{
 "cells": [
  {
   "cell_type": "code",
   "execution_count": 1,
   "id": "c520b660",
   "metadata": {
    "id": "c520b660"
   },
   "outputs": [],
   "source": [
    "import pandas as pd\n",
    "import numpy as np\n",
    "\n",
    "import matplotlib.pyplot as plt\n",
    "import seaborn as sns\n",
    "\n",
    "from sklearn.preprocessing import MinMaxScaler"
   ]
  },
  {
   "cell_type": "markdown",
   "id": "794cfe8c",
   "metadata": {
    "id": "794cfe8c"
   },
   "source": [
    "## Importing part"
   ]
  },
  {
   "cell_type": "code",
   "execution_count": 2,
   "id": "430f48de",
   "metadata": {
    "colab": {
     "base_uri": "https://localhost:8080/",
     "height": 208
    },
    "id": "430f48de",
    "outputId": "22b803fe-53e9-4fac-8061-2c52d3bcce30"
   },
   "outputs": [
    {
     "data": {
      "text/html": [
       "\n",
       "  <div id=\"df-300ad5f7-6ee2-4f07-b380-03a7b876a609\">\n",
       "    <div class=\"colab-df-container\">\n",
       "      <div>\n",
       "<style scoped>\n",
       "    .dataframe tbody tr th:only-of-type {\n",
       "        vertical-align: middle;\n",
       "    }\n",
       "\n",
       "    .dataframe tbody tr th {\n",
       "        vertical-align: top;\n",
       "    }\n",
       "\n",
       "    .dataframe thead th {\n",
       "        text-align: right;\n",
       "    }\n",
       "</style>\n",
       "<table border=\"1\" class=\"dataframe\">\n",
       "  <thead>\n",
       "    <tr style=\"text-align: right;\">\n",
       "      <th></th>\n",
       "      <th>Loan_ID</th>\n",
       "      <th>Gender</th>\n",
       "      <th>Married</th>\n",
       "      <th>Dependents</th>\n",
       "      <th>Education</th>\n",
       "      <th>Self_Employed</th>\n",
       "      <th>ApplicantIncome</th>\n",
       "      <th>CoapplicantIncome</th>\n",
       "      <th>LoanAmount</th>\n",
       "      <th>Loan_Amount_Term</th>\n",
       "      <th>Credit_History</th>\n",
       "      <th>Property_Area</th>\n",
       "      <th>Loan_Status</th>\n",
       "    </tr>\n",
       "  </thead>\n",
       "  <tbody>\n",
       "    <tr>\n",
       "      <th>0</th>\n",
       "      <td>LP001002</td>\n",
       "      <td>Male</td>\n",
       "      <td>No</td>\n",
       "      <td>0</td>\n",
       "      <td>Graduate</td>\n",
       "      <td>No</td>\n",
       "      <td>5849</td>\n",
       "      <td>0.0</td>\n",
       "      <td>NaN</td>\n",
       "      <td>360.0</td>\n",
       "      <td>1.0</td>\n",
       "      <td>Urban</td>\n",
       "      <td>Y</td>\n",
       "    </tr>\n",
       "    <tr>\n",
       "      <th>1</th>\n",
       "      <td>LP001003</td>\n",
       "      <td>Male</td>\n",
       "      <td>Yes</td>\n",
       "      <td>1</td>\n",
       "      <td>Graduate</td>\n",
       "      <td>No</td>\n",
       "      <td>4583</td>\n",
       "      <td>1508.0</td>\n",
       "      <td>128.0</td>\n",
       "      <td>360.0</td>\n",
       "      <td>1.0</td>\n",
       "      <td>Rural</td>\n",
       "      <td>N</td>\n",
       "    </tr>\n",
       "    <tr>\n",
       "      <th>2</th>\n",
       "      <td>LP001005</td>\n",
       "      <td>Male</td>\n",
       "      <td>Yes</td>\n",
       "      <td>0</td>\n",
       "      <td>Graduate</td>\n",
       "      <td>Yes</td>\n",
       "      <td>3000</td>\n",
       "      <td>0.0</td>\n",
       "      <td>66.0</td>\n",
       "      <td>360.0</td>\n",
       "      <td>1.0</td>\n",
       "      <td>Urban</td>\n",
       "      <td>Y</td>\n",
       "    </tr>\n",
       "  </tbody>\n",
       "</table>\n",
       "</div>\n",
       "      <button class=\"colab-df-convert\" onclick=\"convertToInteractive('df-300ad5f7-6ee2-4f07-b380-03a7b876a609')\"\n",
       "              title=\"Convert this dataframe to an interactive table.\"\n",
       "              style=\"display:none;\">\n",
       "        \n",
       "  <svg xmlns=\"http://www.w3.org/2000/svg\" height=\"24px\"viewBox=\"0 0 24 24\"\n",
       "       width=\"24px\">\n",
       "    <path d=\"M0 0h24v24H0V0z\" fill=\"none\"/>\n",
       "    <path d=\"M18.56 5.44l.94 2.06.94-2.06 2.06-.94-2.06-.94-.94-2.06-.94 2.06-2.06.94zm-11 1L8.5 8.5l.94-2.06 2.06-.94-2.06-.94L8.5 2.5l-.94 2.06-2.06.94zm10 10l.94 2.06.94-2.06 2.06-.94-2.06-.94-.94-2.06-.94 2.06-2.06.94z\"/><path d=\"M17.41 7.96l-1.37-1.37c-.4-.4-.92-.59-1.43-.59-.52 0-1.04.2-1.43.59L10.3 9.45l-7.72 7.72c-.78.78-.78 2.05 0 2.83L4 21.41c.39.39.9.59 1.41.59.51 0 1.02-.2 1.41-.59l7.78-7.78 2.81-2.81c.8-.78.8-2.07 0-2.86zM5.41 20L4 18.59l7.72-7.72 1.47 1.35L5.41 20z\"/>\n",
       "  </svg>\n",
       "      </button>\n",
       "      \n",
       "  <style>\n",
       "    .colab-df-container {\n",
       "      display:flex;\n",
       "      flex-wrap:wrap;\n",
       "      gap: 12px;\n",
       "    }\n",
       "\n",
       "    .colab-df-convert {\n",
       "      background-color: #E8F0FE;\n",
       "      border: none;\n",
       "      border-radius: 50%;\n",
       "      cursor: pointer;\n",
       "      display: none;\n",
       "      fill: #1967D2;\n",
       "      height: 32px;\n",
       "      padding: 0 0 0 0;\n",
       "      width: 32px;\n",
       "    }\n",
       "\n",
       "    .colab-df-convert:hover {\n",
       "      background-color: #E2EBFA;\n",
       "      box-shadow: 0px 1px 2px rgba(60, 64, 67, 0.3), 0px 1px 3px 1px rgba(60, 64, 67, 0.15);\n",
       "      fill: #174EA6;\n",
       "    }\n",
       "\n",
       "    [theme=dark] .colab-df-convert {\n",
       "      background-color: #3B4455;\n",
       "      fill: #D2E3FC;\n",
       "    }\n",
       "\n",
       "    [theme=dark] .colab-df-convert:hover {\n",
       "      background-color: #434B5C;\n",
       "      box-shadow: 0px 1px 3px 1px rgba(0, 0, 0, 0.15);\n",
       "      filter: drop-shadow(0px 1px 2px rgba(0, 0, 0, 0.3));\n",
       "      fill: #FFFFFF;\n",
       "    }\n",
       "  </style>\n",
       "\n",
       "      <script>\n",
       "        const buttonEl =\n",
       "          document.querySelector('#df-300ad5f7-6ee2-4f07-b380-03a7b876a609 button.colab-df-convert');\n",
       "        buttonEl.style.display =\n",
       "          google.colab.kernel.accessAllowed ? 'block' : 'none';\n",
       "\n",
       "        async function convertToInteractive(key) {\n",
       "          const element = document.querySelector('#df-300ad5f7-6ee2-4f07-b380-03a7b876a609');\n",
       "          const dataTable =\n",
       "            await google.colab.kernel.invokeFunction('convertToInteractive',\n",
       "                                                     [key], {});\n",
       "          if (!dataTable) return;\n",
       "\n",
       "          const docLinkHtml = 'Like what you see? Visit the ' +\n",
       "            '<a target=\"_blank\" href=https://colab.research.google.com/notebooks/data_table.ipynb>data table notebook</a>'\n",
       "            + ' to learn more about interactive tables.';\n",
       "          element.innerHTML = '';\n",
       "          dataTable['output_type'] = 'display_data';\n",
       "          await google.colab.output.renderOutput(dataTable, element);\n",
       "          const docLink = document.createElement('div');\n",
       "          docLink.innerHTML = docLinkHtml;\n",
       "          element.appendChild(docLink);\n",
       "        }\n",
       "      </script>\n",
       "    </div>\n",
       "  </div>\n",
       "  "
      ],
      "text/plain": [
       "    Loan_ID Gender Married  ... Credit_History Property_Area Loan_Status\n",
       "0  LP001002   Male      No  ...            1.0         Urban           Y\n",
       "1  LP001003   Male     Yes  ...            1.0         Rural           N\n",
       "2  LP001005   Male     Yes  ...            1.0         Urban           Y\n",
       "\n",
       "[3 rows x 13 columns]"
      ]
     },
     "execution_count": 2,
     "metadata": {},
     "output_type": "execute_result"
    }
   ],
   "source": [
    "train = pd.read_csv('train_ctrUa4K.csv')\n",
    "test = pd.read_csv('test_lAUu6dG.csv')\n",
    "sample_submission = pd.read_csv('sample_submission_49d68Cx.csv')\n",
    "\n",
    "target = train['Loan_Status']\n",
    "\n",
    "idx = len(train)\n",
    "\n",
    "train.head(3)"
   ]
  },
  {
   "cell_type": "code",
   "execution_count": 3,
   "id": "19cab4b0",
   "metadata": {
    "colab": {
     "base_uri": "https://localhost:8080/"
    },
    "id": "19cab4b0",
    "outputId": "5f2a0273-120b-40a3-d1cd-3b06a6f33eef"
   },
   "outputs": [
    {
     "name": "stdout",
     "output_type": "stream",
     "text": [
      "Train shape: (614, 13)\n",
      "Test shape: (367, 12)\n"
     ]
    }
   ],
   "source": [
    "print(\"Train shape:\", train.shape)\n",
    "print(\"Test shape:\", test.shape)"
   ]
  },
  {
   "cell_type": "code",
   "execution_count": 4,
   "id": "e73c6fb8",
   "metadata": {
    "id": "e73c6fb8"
   },
   "outputs": [],
   "source": [
    "# train.info()\n",
    "# test.info() "
   ]
  },
  {
   "cell_type": "code",
   "execution_count": 5,
   "id": "c10ce94f",
   "metadata": {
    "id": "c10ce94f"
   },
   "outputs": [],
   "source": [
    "# train.describe(include=np.number)"
   ]
  },
  {
   "cell_type": "markdown",
   "id": "386ef99e",
   "metadata": {
    "id": "386ef99e"
   },
   "source": [
    "## Functions..."
   ]
  },
  {
   "cell_type": "markdown",
   "id": "ede37e16",
   "metadata": {
    "id": "ede37e16"
   },
   "source": [
    "### Процент выбросов слева / справа от boxplot "
   ]
  },
  {
   "cell_type": "code",
   "execution_count": 1,
   "id": "3673b7c3",
   "metadata": {
    "id": "3673b7c3"
   },
   "outputs": [],
   "source": [
    "def outliers_percents(col):\n",
    "    \n",
    "        length = len(col)\n",
    "    \n",
    "        Q1 = np.nanpercentile(col, 25)\n",
    "        Q3 = np.nanpercentile(col, 75)\n",
    "        IQR = Q3 - Q1\n",
    "        \n",
    "        \n",
    "        num_outliers_left = len(col[col < Q1 - 1.5 * IQR]) / length\n",
    "        num_oulliers_right = len(col[col > Q3 + 1.5 * IQR]) / length\n",
    "        \n",
    "        return num_outliers_left, num_oulliers_right"
   ]
  },
  {
   "cell_type": "markdown",
   "id": "335c73ec",
   "metadata": {
    "id": "335c73ec"
   },
   "source": [
    "### Boxplots subplots (дописать..."
   ]
  },
  {
   "cell_type": "code",
   "execution_count": 7,
   "id": "c2a60102",
   "metadata": {
    "id": "c2a60102"
   },
   "outputs": [],
   "source": [
    "# def boxplots_subplots(data, nrows, ncols, remove_empty=False):\n",
    "\n",
    "#     fig, ax = plt.subplots(nrows, ncols, figsize=(5*nrows, 5*ncols))\n",
    "\n",
    "#     for i,col in enumerate(list(data.columns.values)):\n",
    "        \n",
    "# #         print(col)\n",
    "        \n",
    "#         sns.boxplot(data=data[col], orient='h', ax=ax.flatten()[i]);\n",
    "#         ax.flatten()[i].set_title(col)\n",
    "\n",
    "#     if remove_empty:\n",
    "#         fig.delaxes(ax[2,1]) # remove empty subplot\n",
    "    \n",
    "#     plt.tight_layout()"
   ]
  },
  {
   "cell_type": "code",
   "execution_count": 8,
   "id": "d9b17524",
   "metadata": {
    "id": "d9b17524"
   },
   "outputs": [],
   "source": [
    "# boxplots_subplots(test_num, 3, 2)"
   ]
  },
  {
   "cell_type": "markdown",
   "id": "994b62a2",
   "metadata": {
    "id": "994b62a2"
   },
   "source": [
    "### Histplots subplots (дописать..."
   ]
  },
  {
   "cell_type": "code",
   "execution_count": 9,
   "id": "a430ef0b",
   "metadata": {
    "id": "a430ef0b"
   },
   "outputs": [],
   "source": [
    "# def histplots_subplots(data, nrows, ncols, remove_empty=False):\n",
    "    \n",
    "#     fig, ax = plt.subplots(nrows, ncols, figsize=(5*nrows, 5*ncols))\n",
    "\n",
    "#     for i,col in enumerate(list(data.columns.values)):\n",
    "#         sns.histplot(data[col], ax=ax.flatten()[i], kde=True);\n",
    "\n",
    "#         num_percent = data[col].isnull().sum() / len(data)\n",
    "#         ax.flatten()[i].set_title(col+\" | missing values: {}%\".format(round(num_percent, 2)))\n",
    "\n",
    "#     if remove_empty:\n",
    "#         fig.delaxes(ax[2,1]) # remove empty subplot\n",
    "#     plt.tight_layout()"
   ]
  },
  {
   "cell_type": "code",
   "execution_count": 10,
   "id": "c8e082c9",
   "metadata": {
    "id": "c8e082c9"
   },
   "outputs": [],
   "source": [
    "# histplots_subplots(test_num, 3, 2)"
   ]
  },
  {
   "cell_type": "markdown",
   "id": "a347ffa8",
   "metadata": {
    "id": "a347ffa8"
   },
   "source": [
    "### Combined subplots"
   ]
  },
  {
   "cell_type": "code",
   "execution_count": 11,
   "id": "6e3424f8",
   "metadata": {
    "id": "6e3424f8"
   },
   "outputs": [],
   "source": [
    "def subplots_info(data, remove_empty=False):\n",
    "    \n",
    "    fig, ax = plt.subplots(len(data.columns), 2, figsize=(20, 10))\n",
    "\n",
    "    for i,col in enumerate(list(data.columns.values)):\n",
    "        \n",
    "        sns.histplot(data[col], ax=ax[i][0], kde=True);\n",
    "        sns.boxplot(data=data[col], orient='h', ax=ax[i][1]);\n",
    "\n",
    "        num_percent = data[col].isnull().sum() / len(data) * 100\n",
    "        ax[i][0].set_title(col+\" | missing values: {}%\".format(round(num_percent, 2)))\n",
    "        \n",
    "        outliers_left, outliers_right = outliers_percents(data[col])\n",
    "        ax[i][1].set_title(\"Left Outliers : {}% \".format(round(outliers_left * 100, 3))+\n",
    "                           \"| Right Outliers : {}%\".format(round(outliers_right * 100, 3)))\n",
    "        \n",
    "\n",
    "    if remove_empty:\n",
    "        fig.delaxes(ax[2,1]) # remove empty subplot\n",
    "    plt.tight_layout()"
   ]
  },
  {
   "cell_type": "code",
   "execution_count": 12,
   "id": "57ca3a8b",
   "metadata": {
    "id": "57ca3a8b"
   },
   "outputs": [],
   "source": [
    "# subplots_info(train_num)"
   ]
  },
  {
   "cell_type": "markdown",
   "id": "18fe5ee8",
   "metadata": {
    "id": "18fe5ee8"
   },
   "source": [
    "### IQR outliers handling"
   ]
  },
  {
   "cell_type": "code",
   "execution_count": 13,
   "id": "27973975",
   "metadata": {
    "id": "27973975"
   },
   "outputs": [],
   "source": [
    "def remove_outliers_iqr(data, columns):\n",
    "    \n",
    "#     print(columns)\n",
    "    \n",
    "    for col in columns:\n",
    "    \n",
    "        Q1 = np.nanpercentile(data[col], 25)\n",
    "        Q3 = np.nanpercentile(data[col], 75)\n",
    "        IQR = Q3 - Q1\n",
    "        \n",
    "        data.loc[data[col] < Q1 - 1.5 * IQR, col] = Q1 - 1.5 * IQR\n",
    "        data.loc[data[col] > Q3 + 1.5 * IQR, col] = Q3 + 1.5 * IQR\n",
    "        "
   ]
  },
  {
   "cell_type": "markdown",
   "id": "31df828d",
   "metadata": {
    "id": "31df828d"
   },
   "source": [
    "### Missing values dealing"
   ]
  },
  {
   "cell_type": "code",
   "execution_count": 14,
   "id": "7c48d594",
   "metadata": {
    "id": "7c48d594"
   },
   "outputs": [],
   "source": [
    "def impute(data, columns, how):\n",
    "    \n",
    "    if how=='mean':\n",
    "        for col in columns:\n",
    "            data[col].fillna(data[col].mean(), inplace=True)\n",
    "    elif how=='mode':\n",
    "        for col in columns:\n",
    "            data[col].fillna(data[col].mode()[0], inplace=True)\n",
    "    else:\n",
    "        print('Хз как ?? ')"
   ]
  },
  {
   "cell_type": "markdown",
   "id": "d0cdc97a",
   "metadata": {
    "id": "d0cdc97a"
   },
   "source": [
    "### Binning (after filling missing values)"
   ]
  },
  {
   "cell_type": "code",
   "execution_count": 15,
   "id": "d88ebcfe",
   "metadata": {
    "id": "d88ebcfe"
   },
   "outputs": [],
   "source": [
    "# loan_amt = train_num['LoanAmount']\n",
    "\n",
    "# values = [0, 100, 200, 400, 700]\n",
    "# labels = ['Low', 'Medium', 'High', 'Very High']\n",
    "\n",
    "# result = pd.cut(loan_amt, bins=values, labels=labels)\n",
    "# result.value_counts()"
   ]
  },
  {
   "cell_type": "markdown",
   "id": "71361e70",
   "metadata": {
    "id": "71361e70"
   },
   "source": [
    "### Freq Encoding"
   ]
  },
  {
   "cell_type": "code",
   "execution_count": 16,
   "id": "4b89b313",
   "metadata": {
    "id": "4b89b313"
   },
   "outputs": [],
   "source": [
    "# dict_freq = train_cat['Property_Area'].value_counts(normalize=True)\n",
    "\n",
    "# train_cat['Property_Area'].map(dict_freq)"
   ]
  },
  {
   "cell_type": "markdown",
   "id": "4549bf0d",
   "metadata": {
    "id": "4549bf0d"
   },
   "source": [
    "### Mapping"
   ]
  },
  {
   "cell_type": "code",
   "execution_count": 17,
   "id": "76781c74",
   "metadata": {
    "id": "76781c74"
   },
   "outputs": [],
   "source": [
    "# train_cat['Loan_Status'].map({'Y': 1, 'N': 0})\n",
    "# train_cat"
   ]
  },
  {
   "cell_type": "markdown",
   "id": "596465e2",
   "metadata": {
    "id": "596465e2"
   },
   "source": [
    "### Dummy variables"
   ]
  },
  {
   "cell_type": "code",
   "execution_count": 18,
   "id": "bad071b8",
   "metadata": {
    "id": "bad071b8"
   },
   "outputs": [],
   "source": [
    "# pd.get_dummies(train['Property_Area'])"
   ]
  },
  {
   "cell_type": "markdown",
   "id": "52fc44aa",
   "metadata": {
    "id": "52fc44aa"
   },
   "source": [
    "## Basic feature engineering"
   ]
  },
  {
   "cell_type": "markdown",
   "id": "0bd9a230",
   "metadata": {
    "id": "0bd9a230"
   },
   "source": [
    "###  Spliting num / cat features"
   ]
  },
  {
   "cell_type": "code",
   "execution_count": 19,
   "id": "06193b53",
   "metadata": {
    "id": "06193b53"
   },
   "outputs": [],
   "source": [
    "train_num = train.select_dtypes(np.number)\n",
    "test_num = test.select_dtypes(np.number)\n",
    "\n",
    "train_cat = train.select_dtypes(include='object')\n",
    "test_cat = test.select_dtypes(include='object')"
   ]
  },
  {
   "cell_type": "markdown",
   "id": "194b71bb",
   "metadata": {
    "id": "194b71bb"
   },
   "source": [
    "## NUMERIC "
   ]
  },
  {
   "cell_type": "markdown",
   "id": "wyvhdnkYKoWr",
   "metadata": {
    "id": "wyvhdnkYKoWr"
   },
   "source": [
    "###  Concating train / test set"
   ]
  },
  {
   "cell_type": "code",
   "execution_count": null,
   "id": "SdU85eVQKj7h",
   "metadata": {
    "id": "SdU85eVQKj7h"
   },
   "outputs": [],
   "source": [
    "num = pd.concat([train_num, test_num], axis=0).reset_index(drop=True)"
   ]
  },
  {
   "cell_type": "markdown",
   "id": "MV4Z1GRYKr-B",
   "metadata": {
    "id": "MV4Z1GRYKr-B"
   },
   "source": [
    "### Some exploring"
   ]
  },
  {
   "cell_type": "code",
   "execution_count": 21,
   "id": "2df17cc2",
   "metadata": {
    "colab": {
     "base_uri": "https://localhost:8080/",
     "height": 656
    },
    "id": "2df17cc2",
    "outputId": "d42c4849-d76d-4a31-eb4e-3c3ff9482656"
   },
   "outputs": [
    {
     "data": {
      "image/png": "[encoded data removed]",
      "text/plain": [
       "<Figure size 1440x720 with 10 Axes>"
      ]
     },
     "metadata": {
      "needs_background": "light"
     },
     "output_type": "display_data"
    }
   ],
   "source": [
    "subplots_info(num)"
   ]
  },
  {
   "cell_type": "code",
   "execution_count": 22,
   "id": "a78c8c71",
   "metadata": {
    "colab": {
     "base_uri": "https://localhost:8080/"
    },
    "id": "a78c8c71",
    "outputId": "4677e305-0135-4580-9c98-17f903a5a712"
   },
   "outputs": [
    {
     "data": {
      "text/plain": [
       "Index(['ApplicantIncome', 'CoapplicantIncome', 'LoanAmount',\n",
       "       'Loan_Amount_Term', 'Credit_History'],\n",
       "      dtype='object')"
      ]
     },
     "execution_count": 22,
     "metadata": {},
     "output_type": "execute_result"
    }
   ],
   "source": [
    "num.columns"
   ]
  },
  {
   "cell_type": "markdown",
   "id": "182a65c0",
   "metadata": {
    "id": "182a65c0"
   },
   "source": [
    "### Removing outliers"
   ]
  },
  {
   "cell_type": "code",
   "execution_count": 23,
   "id": "435ded08",
   "metadata": {
    "id": "435ded08"
   },
   "outputs": [],
   "source": [
    "remove_outliers_iqr(num, ['ApplicantIncome', 'CoapplicantIncome', 'LoanAmount']);"
   ]
  },
  {
   "cell_type": "markdown",
   "id": "0738d3a9",
   "metadata": {
    "id": "0738d3a9"
   },
   "source": [
    "### Missing values "
   ]
  },
  {
   "cell_type": "code",
   "execution_count": 24,
   "id": "9b643837",
   "metadata": {
    "colab": {
     "base_uri": "https://localhost:8080/"
    },
    "id": "9b643837",
    "outputId": "aa0e5223-cdfc-4bed-a272-401a25e8feb4"
   },
   "outputs": [
    {
     "data": {
      "text/plain": [
       "ApplicantIncome      0\n",
       "CoapplicantIncome    0\n",
       "LoanAmount           0\n",
       "Loan_Amount_Term     0\n",
       "Credit_History       0\n",
       "dtype: int64"
      ]
     },
     "execution_count": 24,
     "metadata": {},
     "output_type": "execute_result"
    }
   ],
   "source": [
    "impute(num, ['ApplicantIncome', 'CoapplicantIncome', 'LoanAmount'], 'mean')\n",
    "impute(num, ['Loan_Amount_Term', 'Credit_History'], 'mode')\n",
    "\n",
    "num.isnull().sum()"
   ]
  },
  {
   "cell_type": "markdown",
   "id": "66b25a24",
   "metadata": {
    "id": "66b25a24"
   },
   "source": [
    "### Scallling all num data"
   ]
  },
  {
   "cell_type": "code",
   "execution_count": 25,
   "id": "12c7863a",
   "metadata": {
    "id": "12c7863a"
   },
   "outputs": [],
   "source": [
    "sc = MinMaxScaler()\n",
    "num = pd.DataFrame(data=sc.fit_transform(num), \n",
    "            columns=num.columns)"
   ]
  },
  {
   "cell_type": "code",
   "execution_count": 26,
   "id": "4b939eeb",
   "metadata": {
    "colab": {
     "base_uri": "https://localhost:8080/",
     "height": 655
    },
    "id": "4b939eeb",
    "outputId": "4e948e9c-f750-49ea-9082-f9764f56db80"
   },
   "outputs": [
    {
     "data": {
      "image/png": "[encoded data removed]",
      "text/plain": [
       "<Figure size 1440x720 with 10 Axes>"
      ]
     },
     "metadata": {
      "needs_background": "light"
     },
     "output_type": "display_data"
    }
   ],
   "source": [
    "subplots_info(num)"
   ]
  },
  {
   "cell_type": "markdown",
   "id": "126e9e88",
   "metadata": {
    "id": "126e9e88"
   },
   "source": [
    "## CATEGORICAL"
   ]
  },
  {
   "cell_type": "markdown",
   "id": "f7de9c84",
   "metadata": {
    "id": "f7de9c84"
   },
   "source": [
    "### Basic exploring"
   ]
  },
  {
   "cell_type": "code",
   "execution_count": 52,
   "id": "508f89b3",
   "metadata": {
    "id": "508f89b3"
   },
   "outputs": [],
   "source": [
    "cat = pd.concat([train_cat.iloc[:, :-1], test_cat], axis=0).reset_index(drop=True)"
   ]
  },
  {
   "cell_type": "code",
   "execution_count": 53,
   "id": "3890d926",
   "metadata": {
    "colab": {
     "base_uri": "https://localhost:8080/",
     "height": 206
    },
    "id": "3890d926",
    "outputId": "e974cb23-bb4a-42b3-c257-e0b461486705"
   },
   "outputs": [
    {
     "data": {
      "text/html": [
       "\n",
       "  <div id=\"df-fa136247-a94d-472a-9744-03d175fc0325\">\n",
       "    <div class=\"colab-df-container\">\n",
       "      <div>\n",
       "<style scoped>\n",
       "    .dataframe tbody tr th:only-of-type {\n",
       "        vertical-align: middle;\n",
       "    }\n",
       "\n",
       "    .dataframe tbody tr th {\n",
       "        vertical-align: top;\n",
       "    }\n",
       "\n",
       "    .dataframe thead th {\n",
       "        text-align: right;\n",
       "    }\n",
       "</style>\n",
       "<table border=\"1\" class=\"dataframe\">\n",
       "  <thead>\n",
       "    <tr style=\"text-align: right;\">\n",
       "      <th></th>\n",
       "      <th>Loan_ID</th>\n",
       "      <th>Gender</th>\n",
       "      <th>Married</th>\n",
       "      <th>Dependents</th>\n",
       "      <th>Education</th>\n",
       "      <th>Self_Employed</th>\n",
       "      <th>Property_Area</th>\n",
       "    </tr>\n",
       "  </thead>\n",
       "  <tbody>\n",
       "    <tr>\n",
       "      <th>0</th>\n",
       "      <td>LP001002</td>\n",
       "      <td>Male</td>\n",
       "      <td>No</td>\n",
       "      <td>0</td>\n",
       "      <td>Graduate</td>\n",
       "      <td>No</td>\n",
       "      <td>Urban</td>\n",
       "    </tr>\n",
       "    <tr>\n",
       "      <th>1</th>\n",
       "      <td>LP001003</td>\n",
       "      <td>Male</td>\n",
       "      <td>Yes</td>\n",
       "      <td>1</td>\n",
       "      <td>Graduate</td>\n",
       "      <td>No</td>\n",
       "      <td>Rural</td>\n",
       "    </tr>\n",
       "    <tr>\n",
       "      <th>2</th>\n",
       "      <td>LP001005</td>\n",
       "      <td>Male</td>\n",
       "      <td>Yes</td>\n",
       "      <td>0</td>\n",
       "      <td>Graduate</td>\n",
       "      <td>Yes</td>\n",
       "      <td>Urban</td>\n",
       "    </tr>\n",
       "    <tr>\n",
       "      <th>3</th>\n",
       "      <td>LP001006</td>\n",
       "      <td>Male</td>\n",
       "      <td>Yes</td>\n",
       "      <td>0</td>\n",
       "      <td>Not Graduate</td>\n",
       "      <td>No</td>\n",
       "      <td>Urban</td>\n",
       "    </tr>\n",
       "    <tr>\n",
       "      <th>4</th>\n",
       "      <td>LP001008</td>\n",
       "      <td>Male</td>\n",
       "      <td>No</td>\n",
       "      <td>0</td>\n",
       "      <td>Graduate</td>\n",
       "      <td>No</td>\n",
       "      <td>Urban</td>\n",
       "    </tr>\n",
       "  </tbody>\n",
       "</table>\n",
       "</div>\n",
       "      <button class=\"colab-df-convert\" onclick=\"convertToInteractive('df-fa136247-a94d-472a-9744-03d175fc0325')\"\n",
       "              title=\"Convert this dataframe to an interactive table.\"\n",
       "              style=\"display:none;\">\n",
       "        \n",
       "  <svg xmlns=\"http://www.w3.org/2000/svg\" height=\"24px\"viewBox=\"0 0 24 24\"\n",
       "       width=\"24px\">\n",
       "    <path d=\"M0 0h24v24H0V0z\" fill=\"none\"/>\n",
       "    <path d=\"M18.56 5.44l.94 2.06.94-2.06 2.06-.94-2.06-.94-.94-2.06-.94 2.06-2.06.94zm-11 1L8.5 8.5l.94-2.06 2.06-.94-2.06-.94L8.5 2.5l-.94 2.06-2.06.94zm10 10l.94 2.06.94-2.06 2.06-.94-2.06-.94-.94-2.06-.94 2.06-2.06.94z\"/><path d=\"M17.41 7.96l-1.37-1.37c-.4-.4-.92-.59-1.43-.59-.52 0-1.04.2-1.43.59L10.3 9.45l-7.72 7.72c-.78.78-.78 2.05 0 2.83L4 21.41c.39.39.9.59 1.41.59.51 0 1.02-.2 1.41-.59l7.78-7.78 2.81-2.81c.8-.78.8-2.07 0-2.86zM5.41 20L4 18.59l7.72-7.72 1.47 1.35L5.41 20z\"/>\n",
       "  </svg>\n",
       "      </button>\n",
       "      \n",
       "  <style>\n",
       "    .colab-df-container {\n",
       "      display:flex;\n",
       "      flex-wrap:wrap;\n",
       "      gap: 12px;\n",
       "    }\n",
       "\n",
       "    .colab-df-convert {\n",
       "      background-color: #E8F0FE;\n",
       "      border: none;\n",
       "      border-radius: 50%;\n",
       "      cursor: pointer;\n",
       "      display: none;\n",
       "      fill: #1967D2;\n",
       "      height: 32px;\n",
       "      padding: 0 0 0 0;\n",
       "      width: 32px;\n",
       "    }\n",
       "\n",
       "    .colab-df-convert:hover {\n",
       "      background-color: #E2EBFA;\n",
       "      box-shadow: 0px 1px 2px rgba(60, 64, 67, 0.3), 0px 1px 3px 1px rgba(60, 64, 67, 0.15);\n",
       "      fill: #174EA6;\n",
       "    }\n",
       "\n",
       "    [theme=dark] .colab-df-convert {\n",
       "      background-color: #3B4455;\n",
       "      fill: #D2E3FC;\n",
       "    }\n",
       "\n",
       "    [theme=dark] .colab-df-convert:hover {\n",
       "      background-color: #434B5C;\n",
       "      box-shadow: 0px 1px 3px 1px rgba(0, 0, 0, 0.15);\n",
       "      filter: drop-shadow(0px 1px 2px rgba(0, 0, 0, 0.3));\n",
       "      fill: #FFFFFF;\n",
       "    }\n",
       "  </style>\n",
       "\n",
       "      <script>\n",
       "        const buttonEl =\n",
       "          document.querySelector('#df-fa136247-a94d-472a-9744-03d175fc0325 button.colab-df-convert');\n",
       "        buttonEl.style.display =\n",
       "          google.colab.kernel.accessAllowed ? 'block' : 'none';\n",
       "\n",
       "        async function convertToInteractive(key) {\n",
       "          const element = document.querySelector('#df-fa136247-a94d-472a-9744-03d175fc0325');\n",
       "          const dataTable =\n",
       "            await google.colab.kernel.invokeFunction('convertToInteractive',\n",
       "                                                     [key], {});\n",
       "          if (!dataTable) return;\n",
       "\n",
       "          const docLinkHtml = 'Like what you see? Visit the ' +\n",
       "            '<a target=\"_blank\" href=https://colab.research.google.com/notebooks/data_table.ipynb>data table notebook</a>'\n",
       "            + ' to learn more about interactive tables.';\n",
       "          element.innerHTML = '';\n",
       "          dataTable['output_type'] = 'display_data';\n",
       "          await google.colab.output.renderOutput(dataTable, element);\n",
       "          const docLink = document.createElement('div');\n",
       "          docLink.innerHTML = docLinkHtml;\n",
       "          element.appendChild(docLink);\n",
       "        }\n",
       "      </script>\n",
       "    </div>\n",
       "  </div>\n",
       "  "
      ],
      "text/plain": [
       "    Loan_ID Gender Married Dependents     Education Self_Employed Property_Area\n",
       "0  LP001002   Male      No          0      Graduate            No         Urban\n",
       "1  LP001003   Male     Yes          1      Graduate            No         Rural\n",
       "2  LP001005   Male     Yes          0      Graduate           Yes         Urban\n",
       "3  LP001006   Male     Yes          0  Not Graduate            No         Urban\n",
       "4  LP001008   Male      No          0      Graduate            No         Urban"
      ]
     },
     "execution_count": 53,
     "metadata": {},
     "output_type": "execute_result"
    }
   ],
   "source": [
    "cat.head()"
   ]
  },
  {
   "cell_type": "markdown",
   "id": "38d034ac",
   "metadata": {
    "id": "38d034ac"
   },
   "source": [
    "### Dealing with nulls "
   ]
  },
  {
   "cell_type": "code",
   "execution_count": 54,
   "id": "b24002bf",
   "metadata": {
    "colab": {
     "base_uri": "https://localhost:8080/"
    },
    "id": "b24002bf",
    "outputId": "3298c00c-7730-4f8c-862d-e26309fa1ccc"
   },
   "outputs": [
    {
     "data": {
      "text/plain": [
       "Loan_ID           0\n",
       "Gender           24\n",
       "Married           3\n",
       "Dependents       25\n",
       "Education         0\n",
       "Self_Employed    55\n",
       "Property_Area     0\n",
       "dtype: int64"
      ]
     },
     "execution_count": 54,
     "metadata": {},
     "output_type": "execute_result"
    }
   ],
   "source": [
    "cat.isnull().sum() "
   ]
  },
  {
   "cell_type": "code",
   "execution_count": 55,
   "id": "6d417a6c",
   "metadata": {
    "id": "6d417a6c"
   },
   "outputs": [],
   "source": [
    "impute(cat, ['Gender', 'Married', 'Dependents', 'Self_Employed'], 'mode')"
   ]
  },
  {
   "cell_type": "markdown",
   "id": "bc96d732",
   "metadata": {
    "id": "bc96d732"
   },
   "source": [
    "### Extracting numbers from Loan_ID"
   ]
  },
  {
   "cell_type": "code",
   "execution_count": 56,
   "id": "4123274e",
   "metadata": {
    "id": "4123274e"
   },
   "outputs": [],
   "source": [
    "cat['Loan_ID'] = cat['Loan_ID'].map(lambda x: x[4:]).astype('int')"
   ]
  },
  {
   "cell_type": "markdown",
   "id": "726f4e14",
   "metadata": {
    "id": "726f4e14"
   },
   "source": [
    "### Mapping features"
   ]
  },
  {
   "cell_type": "code",
   "execution_count": 57,
   "id": "3d2f96b8",
   "metadata": {
    "colab": {
     "base_uri": "https://localhost:8080/"
    },
    "id": "3d2f96b8",
    "outputId": "8902b5bc-b228-416b-f31a-b43d769be28e"
   },
   "outputs": [
    {
     "data": {
      "text/plain": [
       "Loan_ID          981\n",
       "Gender             2\n",
       "Married            2\n",
       "Dependents         4\n",
       "Education          2\n",
       "Self_Employed      2\n",
       "Property_Area      3\n",
       "dtype: int64"
      ]
     },
     "execution_count": 57,
     "metadata": {},
     "output_type": "execute_result"
    }
   ],
   "source": [
    "cat.nunique()"
   ]
  },
  {
   "cell_type": "code",
   "execution_count": 58,
   "id": "a470a311",
   "metadata": {
    "id": "a470a311"
   },
   "outputs": [],
   "source": [
    "cat['Gender'] = cat['Gender'].map({'Male': 0, 'Female': 1})\n",
    "cat['Married'] = cat['Married'].map({'Yes': 0, 'No': 1})\n",
    "cat['Education'] = cat['Education'].map({'Graduate': 1, 'Not Graduate': 0})\n",
    "cat['Self_Employed'] = cat['Self_Employed'].map({'Yes': 0, 'No': 1})"
   ]
  },
  {
   "cell_type": "code",
   "execution_count": 59,
   "id": "cca21b0e",
   "metadata": {
    "colab": {
     "base_uri": "https://localhost:8080/"
    },
    "id": "cca21b0e",
    "outputId": "aa8e9b0c-f1e1-403e-d4a9-362aefadc941"
   },
   "outputs": [
    {
     "data": {
      "text/plain": [
       "0    570\n",
       "1    160\n",
       "2    160\n",
       "3     91\n",
       "Name: Dependents, dtype: int64"
      ]
     },
     "execution_count": 59,
     "metadata": {},
     "output_type": "execute_result"
    }
   ],
   "source": [
    "cat.loc[cat['Dependents'] == '3+', 'Dependents'] = 3\n",
    "cat['Dependents'].value_counts()"
   ]
  },
  {
   "cell_type": "markdown",
   "id": "46dd91d5",
   "metadata": {
    "id": "46dd91d5"
   },
   "source": [
    "### Get dummies"
   ]
  },
  {
   "cell_type": "code",
   "execution_count": 60,
   "id": "b66d98f7",
   "metadata": {
    "colab": {
     "base_uri": "https://localhost:8080/",
     "height": 143
    },
    "id": "b66d98f7",
    "outputId": "6cc50c02-5017-4ae3-bd54-605e9d23b4db"
   },
   "outputs": [
    {
     "data": {
      "text/html": [
       "\n",
       "  <div id=\"df-068fe13c-84b3-4b52-964c-11e8e76c6ccc\">\n",
       "    <div class=\"colab-df-container\">\n",
       "      <div>\n",
       "<style scoped>\n",
       "    .dataframe tbody tr th:only-of-type {\n",
       "        vertical-align: middle;\n",
       "    }\n",
       "\n",
       "    .dataframe tbody tr th {\n",
       "        vertical-align: top;\n",
       "    }\n",
       "\n",
       "    .dataframe thead th {\n",
       "        text-align: right;\n",
       "    }\n",
       "</style>\n",
       "<table border=\"1\" class=\"dataframe\">\n",
       "  <thead>\n",
       "    <tr style=\"text-align: right;\">\n",
       "      <th></th>\n",
       "      <th>Semiurban</th>\n",
       "      <th>Urban</th>\n",
       "    </tr>\n",
       "  </thead>\n",
       "  <tbody>\n",
       "    <tr>\n",
       "      <th>0</th>\n",
       "      <td>0</td>\n",
       "      <td>1</td>\n",
       "    </tr>\n",
       "    <tr>\n",
       "      <th>1</th>\n",
       "      <td>0</td>\n",
       "      <td>0</td>\n",
       "    </tr>\n",
       "    <tr>\n",
       "      <th>2</th>\n",
       "      <td>0</td>\n",
       "      <td>1</td>\n",
       "    </tr>\n",
       "  </tbody>\n",
       "</table>\n",
       "</div>\n",
       "      <button class=\"colab-df-convert\" onclick=\"convertToInteractive('df-068fe13c-84b3-4b52-964c-11e8e76c6ccc')\"\n",
       "              title=\"Convert this dataframe to an interactive table.\"\n",
       "              style=\"display:none;\">\n",
       "        \n",
       "  <svg xmlns=\"http://www.w3.org/2000/svg\" height=\"24px\"viewBox=\"0 0 24 24\"\n",
       "       width=\"24px\">\n",
       "    <path d=\"M0 0h24v24H0V0z\" fill=\"none\"/>\n",
       "    <path d=\"M18.56 5.44l.94 2.06.94-2.06 2.06-.94-2.06-.94-.94-2.06-.94 2.06-2.06.94zm-11 1L8.5 8.5l.94-2.06 2.06-.94-2.06-.94L8.5 2.5l-.94 2.06-2.06.94zm10 10l.94 2.06.94-2.06 2.06-.94-2.06-.94-.94-2.06-.94 2.06-2.06.94z\"/><path d=\"M17.41 7.96l-1.37-1.37c-.4-.4-.92-.59-1.43-.59-.52 0-1.04.2-1.43.59L10.3 9.45l-7.72 7.72c-.78.78-.78 2.05 0 2.83L4 21.41c.39.39.9.59 1.41.59.51 0 1.02-.2 1.41-.59l7.78-7.78 2.81-2.81c.8-.78.8-2.07 0-2.86zM5.41 20L4 18.59l7.72-7.72 1.47 1.35L5.41 20z\"/>\n",
       "  </svg>\n",
       "      </button>\n",
       "      \n",
       "  <style>\n",
       "    .colab-df-container {\n",
       "      display:flex;\n",
       "      flex-wrap:wrap;\n",
       "      gap: 12px;\n",
       "    }\n",
       "\n",
       "    .colab-df-convert {\n",
       "      background-color: #E8F0FE;\n",
       "      border: none;\n",
       "      border-radius: 50%;\n",
       "      cursor: pointer;\n",
       "      display: none;\n",
       "      fill: #1967D2;\n",
       "      height: 32px;\n",
       "      padding: 0 0 0 0;\n",
       "      width: 32px;\n",
       "    }\n",
       "\n",
       "    .colab-df-convert:hover {\n",
       "      background-color: #E2EBFA;\n",
       "      box-shadow: 0px 1px 2px rgba(60, 64, 67, 0.3), 0px 1px 3px 1px rgba(60, 64, 67, 0.15);\n",
       "      fill: #174EA6;\n",
       "    }\n",
       "\n",
       "    [theme=dark] .colab-df-convert {\n",
       "      background-color: #3B4455;\n",
       "      fill: #D2E3FC;\n",
       "    }\n",
       "\n",
       "    [theme=dark] .colab-df-convert:hover {\n",
       "      background-color: #434B5C;\n",
       "      box-shadow: 0px 1px 3px 1px rgba(0, 0, 0, 0.15);\n",
       "      filter: drop-shadow(0px 1px 2px rgba(0, 0, 0, 0.3));\n",
       "      fill: #FFFFFF;\n",
       "    }\n",
       "  </style>\n",
       "\n",
       "      <script>\n",
       "        const buttonEl =\n",
       "          document.querySelector('#df-068fe13c-84b3-4b52-964c-11e8e76c6ccc button.colab-df-convert');\n",
       "        buttonEl.style.display =\n",
       "          google.colab.kernel.accessAllowed ? 'block' : 'none';\n",
       "\n",
       "        async function convertToInteractive(key) {\n",
       "          const element = document.querySelector('#df-068fe13c-84b3-4b52-964c-11e8e76c6ccc');\n",
       "          const dataTable =\n",
       "            await google.colab.kernel.invokeFunction('convertToInteractive',\n",
       "                                                     [key], {});\n",
       "          if (!dataTable) return;\n",
       "\n",
       "          const docLinkHtml = 'Like what you see? Visit the ' +\n",
       "            '<a target=\"_blank\" href=https://colab.research.google.com/notebooks/data_table.ipynb>data table notebook</a>'\n",
       "            + ' to learn more about interactive tables.';\n",
       "          element.innerHTML = '';\n",
       "          dataTable['output_type'] = 'display_data';\n",
       "          await google.colab.output.renderOutput(dataTable, element);\n",
       "          const docLink = document.createElement('div');\n",
       "          docLink.innerHTML = docLinkHtml;\n",
       "          element.appendChild(docLink);\n",
       "        }\n",
       "      </script>\n",
       "    </div>\n",
       "  </div>\n",
       "  "
      ],
      "text/plain": [
       "   Semiurban  Urban\n",
       "0          0      1\n",
       "1          0      0\n",
       "2          0      1"
      ]
     },
     "execution_count": 60,
     "metadata": {},
     "output_type": "execute_result"
    }
   ],
   "source": [
    "area_dummies = pd.get_dummies(cat['Property_Area'], drop_first=True)\n",
    "area_dummies.head(3)"
   ]
  },
  {
   "cell_type": "markdown",
   "id": "5a2cb0c0",
   "metadata": {
    "id": "5a2cb0c0"
   },
   "source": [
    "### Merging it all "
   ]
  },
  {
   "cell_type": "code",
   "execution_count": 61,
   "id": "4d372d30",
   "metadata": {
    "colab": {
     "base_uri": "https://localhost:8080/",
     "height": 143
    },
    "id": "4d372d30",
    "outputId": "b5216a3a-05b7-4122-c85d-5c25eb27b14e"
   },
   "outputs": [
    {
     "data": {
      "text/html": [
       "\n",
       "  <div id=\"df-0f7efc3f-c7de-4a41-8030-9a2d2093e485\">\n",
       "    <div class=\"colab-df-container\">\n",
       "      <div>\n",
       "<style scoped>\n",
       "    .dataframe tbody tr th:only-of-type {\n",
       "        vertical-align: middle;\n",
       "    }\n",
       "\n",
       "    .dataframe tbody tr th {\n",
       "        vertical-align: top;\n",
       "    }\n",
       "\n",
       "    .dataframe thead th {\n",
       "        text-align: right;\n",
       "    }\n",
       "</style>\n",
       "<table border=\"1\" class=\"dataframe\">\n",
       "  <thead>\n",
       "    <tr style=\"text-align: right;\">\n",
       "      <th></th>\n",
       "      <th>Loan_ID</th>\n",
       "      <th>Gender</th>\n",
       "      <th>Married</th>\n",
       "      <th>Dependents</th>\n",
       "      <th>Education</th>\n",
       "      <th>Self_Employed</th>\n",
       "      <th>Semiurban</th>\n",
       "      <th>Urban</th>\n",
       "    </tr>\n",
       "  </thead>\n",
       "  <tbody>\n",
       "    <tr>\n",
       "      <th>0</th>\n",
       "      <td>1002</td>\n",
       "      <td>0</td>\n",
       "      <td>1</td>\n",
       "      <td>0</td>\n",
       "      <td>1</td>\n",
       "      <td>1</td>\n",
       "      <td>0</td>\n",
       "      <td>1</td>\n",
       "    </tr>\n",
       "    <tr>\n",
       "      <th>1</th>\n",
       "      <td>1003</td>\n",
       "      <td>0</td>\n",
       "      <td>0</td>\n",
       "      <td>1</td>\n",
       "      <td>1</td>\n",
       "      <td>1</td>\n",
       "      <td>0</td>\n",
       "      <td>0</td>\n",
       "    </tr>\n",
       "    <tr>\n",
       "      <th>2</th>\n",
       "      <td>1005</td>\n",
       "      <td>0</td>\n",
       "      <td>0</td>\n",
       "      <td>0</td>\n",
       "      <td>1</td>\n",
       "      <td>0</td>\n",
       "      <td>0</td>\n",
       "      <td>1</td>\n",
       "    </tr>\n",
       "  </tbody>\n",
       "</table>\n",
       "</div>\n",
       "      <button class=\"colab-df-convert\" onclick=\"convertToInteractive('df-0f7efc3f-c7de-4a41-8030-9a2d2093e485')\"\n",
       "              title=\"Convert this dataframe to an interactive table.\"\n",
       "              style=\"display:none;\">\n",
       "        \n",
       "  <svg xmlns=\"http://www.w3.org/2000/svg\" height=\"24px\"viewBox=\"0 0 24 24\"\n",
       "       width=\"24px\">\n",
       "    <path d=\"M0 0h24v24H0V0z\" fill=\"none\"/>\n",
       "    <path d=\"M18.56 5.44l.94 2.06.94-2.06 2.06-.94-2.06-.94-.94-2.06-.94 2.06-2.06.94zm-11 1L8.5 8.5l.94-2.06 2.06-.94-2.06-.94L8.5 2.5l-.94 2.06-2.06.94zm10 10l.94 2.06.94-2.06 2.06-.94-2.06-.94-.94-2.06-.94 2.06-2.06.94z\"/><path d=\"M17.41 7.96l-1.37-1.37c-.4-.4-.92-.59-1.43-.59-.52 0-1.04.2-1.43.59L10.3 9.45l-7.72 7.72c-.78.78-.78 2.05 0 2.83L4 21.41c.39.39.9.59 1.41.59.51 0 1.02-.2 1.41-.59l7.78-7.78 2.81-2.81c.8-.78.8-2.07 0-2.86zM5.41 20L4 18.59l7.72-7.72 1.47 1.35L5.41 20z\"/>\n",
       "  </svg>\n",
       "      </button>\n",
       "      \n",
       "  <style>\n",
       "    .colab-df-container {\n",
       "      display:flex;\n",
       "      flex-wrap:wrap;\n",
       "      gap: 12px;\n",
       "    }\n",
       "\n",
       "    .colab-df-convert {\n",
       "      background-color: #E8F0FE;\n",
       "      border: none;\n",
       "      border-radius: 50%;\n",
       "      cursor: pointer;\n",
       "      display: none;\n",
       "      fill: #1967D2;\n",
       "      height: 32px;\n",
       "      padding: 0 0 0 0;\n",
       "      width: 32px;\n",
       "    }\n",
       "\n",
       "    .colab-df-convert:hover {\n",
       "      background-color: #E2EBFA;\n",
       "      box-shadow: 0px 1px 2px rgba(60, 64, 67, 0.3), 0px 1px 3px 1px rgba(60, 64, 67, 0.15);\n",
       "      fill: #174EA6;\n",
       "    }\n",
       "\n",
       "    [theme=dark] .colab-df-convert {\n",
       "      background-color: #3B4455;\n",
       "      fill: #D2E3FC;\n",
       "    }\n",
       "\n",
       "    [theme=dark] .colab-df-convert:hover {\n",
       "      background-color: #434B5C;\n",
       "      box-shadow: 0px 1px 3px 1px rgba(0, 0, 0, 0.15);\n",
       "      filter: drop-shadow(0px 1px 2px rgba(0, 0, 0, 0.3));\n",
       "      fill: #FFFFFF;\n",
       "    }\n",
       "  </style>\n",
       "\n",
       "      <script>\n",
       "        const buttonEl =\n",
       "          document.querySelector('#df-0f7efc3f-c7de-4a41-8030-9a2d2093e485 button.colab-df-convert');\n",
       "        buttonEl.style.display =\n",
       "          google.colab.kernel.accessAllowed ? 'block' : 'none';\n",
       "\n",
       "        async function convertToInteractive(key) {\n",
       "          const element = document.querySelector('#df-0f7efc3f-c7de-4a41-8030-9a2d2093e485');\n",
       "          const dataTable =\n",
       "            await google.colab.kernel.invokeFunction('convertToInteractive',\n",
       "                                                     [key], {});\n",
       "          if (!dataTable) return;\n",
       "\n",
       "          const docLinkHtml = 'Like what you see? Visit the ' +\n",
       "            '<a target=\"_blank\" href=https://colab.research.google.com/notebooks/data_table.ipynb>data table notebook</a>'\n",
       "            + ' to learn more about interactive tables.';\n",
       "          element.innerHTML = '';\n",
       "          dataTable['output_type'] = 'display_data';\n",
       "          await google.colab.output.renderOutput(dataTable, element);\n",
       "          const docLink = document.createElement('div');\n",
       "          docLink.innerHTML = docLinkHtml;\n",
       "          element.appendChild(docLink);\n",
       "        }\n",
       "      </script>\n",
       "    </div>\n",
       "  </div>\n",
       "  "
      ],
      "text/plain": [
       "   Loan_ID  Gender  Married  ... Self_Employed  Semiurban  Urban\n",
       "0     1002       0        1  ...             1          0      1\n",
       "1     1003       0        0  ...             1          0      0\n",
       "2     1005       0        0  ...             0          0      1\n",
       "\n",
       "[3 rows x 8 columns]"
      ]
     },
     "execution_count": 61,
     "metadata": {},
     "output_type": "execute_result"
    }
   ],
   "source": [
    "cat.drop(['Property_Area'], axis=1, inplace=True)\n",
    "cat = pd.concat([cat, area_dummies], axis=1)\n",
    "cat.head(3)"
   ]
  },
  {
   "cell_type": "markdown",
   "id": "5ada39eb",
   "metadata": {
    "id": "5ada39eb"
   },
   "source": [
    "### Scalling "
   ]
  },
  {
   "cell_type": "code",
   "execution_count": 63,
   "id": "eb5ac73f",
   "metadata": {
    "id": "eb5ac73f"
   },
   "outputs": [],
   "source": [
    "sc = MinMaxScaler()\n",
    "cat = pd.DataFrame(data=sc.fit_transform(cat), \n",
    "            columns=cat.columns)"
   ]
  },
  {
   "cell_type": "code",
   "execution_count": 65,
   "id": "53b096e2",
   "metadata": {
    "colab": {
     "base_uri": "https://localhost:8080/",
     "height": 655
    },
    "id": "53b096e2",
    "outputId": "867cc785-fa36-45b3-a7cd-e341f2ac8bff"
   },
   "outputs": [
    {
     "data": {
      "image/png": "[encoded data removed]",
      "text/plain": [
       "<Figure size 1440x720 with 16 Axes>"
      ]
     },
     "metadata": {
      "needs_background": "light"
     },
     "output_type": "display_data"
    }
   ],
   "source": [
    "subplots_info(cat)"
   ]
  },
  {
   "cell_type": "markdown",
   "id": "5SkgO2-pK66i",
   "metadata": {
    "id": "5SkgO2-pK66i"
   },
   "source": [
    "## NUM + CAT"
   ]
  },
  {
   "cell_type": "code",
   "execution_count": 77,
   "id": "UmLR2EByLBGt",
   "metadata": {
    "id": "UmLR2EByLBGt"
   },
   "outputs": [],
   "source": [
    "all_data_tr = pd.concat([num, cat], axis=1)\n",
    "\n",
    "train_tr = all_data_tr.iloc[:idx, :]\n",
    "test_tr = all_data_tr.iloc[idx:, :]"
   ]
  },
  {
   "cell_type": "code",
   "execution_count": 78,
   "id": "3Fs4EF53LhWA",
   "metadata": {
    "colab": {
     "base_uri": "https://localhost:8080/"
    },
    "id": "3Fs4EF53LhWA",
    "outputId": "4ba18cd6-7430-48f1-e4bd-9ba2d04c7620"
   },
   "outputs": [
    {
     "name": "stdout",
     "output_type": "stream",
     "text": [
      "Train tr shape: (614, 13)\n",
      "Test tr shape: (367, 13)\n"
     ]
    }
   ],
   "source": [
    "print(\"Train tr shape:\", train_tr.shape)\n",
    "print(\"Test tr shape:\", test_tr.shape)"
   ]
  },
  {
   "cell_type": "markdown",
   "id": "u8fFdyBgMP3S",
   "metadata": {
    "id": "u8fFdyBgMP3S"
   },
   "source": [
    "### Target feature eng"
   ]
  },
  {
   "cell_type": "code",
   "execution_count": 82,
   "id": "Pnt2ZdjIMWbh",
   "metadata": {
    "colab": {
     "base_uri": "https://localhost:8080/"
    },
    "id": "Pnt2ZdjIMWbh",
    "outputId": "d96e0494-4bd6-4504-c814-aa78302b2261"
   },
   "outputs": [
    {
     "data": {
      "text/plain": [
       "0    422\n",
       "1    192\n",
       "Name: Loan_Status, dtype: int64"
      ]
     },
     "execution_count": 82,
     "metadata": {},
     "output_type": "execute_result"
    }
   ],
   "source": [
    "target = target.map({'Y':0, 'N':1})\n",
    "target.value_counts()"
   ]
  },
  {
   "cell_type": "markdown",
   "id": "ljs89S2ZMosd",
   "metadata": {
    "id": "ljs89S2ZMosd"
   },
   "source": [
    "### Downloading transfromed data locally"
   ]
  },
  {
   "cell_type": "code",
   "execution_count": 85,
   "id": "RNNl1QHYMux-",
   "metadata": {
    "id": "RNNl1QHYMux-"
   },
   "outputs": [],
   "source": [
    "train_tr.to_csv('Train_tr.csv', index=False)\n",
    "test_tr.to_csv('Test_tr.csv', index=False)"
   ]
  },
  {
   "cell_type": "code",
   "execution_count": 87,
   "id": "VZjN842IODqN",
   "metadata": {
    "id": "VZjN842IODqN"
   },
   "outputs": [],
   "source": [
    "target.to_csv('Target.csv', index=False)"
   ]
  }
 ],
 "metadata": {
  "colab": {
   "name": "Loan Prediction FE - AV.ipynb",
   "provenance": []
  },
  "kernelspec": {
   "display_name": "Python 3",
   "language": "python",
   "name": "python3"
  },
  "language_info": {
   "codemirror_mode": {
    "name": "ipython",
    "version": 3
   },
   "file_extension": ".py",
   "mimetype": "text/x-python",
   "name": "python",
   "nbconvert_exporter": "python",
   "pygments_lexer": "ipython3",
   "version": "3.8.8"
  }
 },
 "nbformat": 4,
 "nbformat_minor": 5
}
