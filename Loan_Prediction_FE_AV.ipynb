{
  "cells": [
    {
      "cell_type": "code",
      "execution_count": 568,
      "id": "c520b660",
      "metadata": {
        "id": "c520b660"
      },
      "outputs": [],
      "source": [
        "import pandas as pd\n",
        "import numpy as np\n",
        "\n",
        "import matplotlib.pyplot as plt\n",
        "import seaborn as sns\n",
        "\n",
        "from sklearn.preprocessing import MinMaxScaler\n",
        "\n",
        "from sklearn.model_selection import train_test_split\n",
        "from sklearn.neighbors import KNeighborsClassifier\n",
        "from sklearn.ensemble import RandomForestClassifier\n",
        "from sklearn.metrics import confusion_matrix, classification_report"
      ]
    },
    {
      "cell_type": "markdown",
      "id": "794cfe8c",
      "metadata": {
        "id": "794cfe8c"
      },
      "source": [
        "## Importing part"
      ]
    },
    {
      "cell_type": "code",
      "execution_count": 634,
      "id": "430f48de",
      "metadata": {
        "id": "430f48de"
      },
      "outputs": [],
      "source": [
        "train = pd.read_csv('train_ctrUa4K.csv')\n",
        "test = pd.read_csv('test_lAUu6dG.csv')\n",
        "sample_submission = pd.read_csv('sample_submission_49d68Cx.csv')\n",
        "\n",
        "target = train['Loan_Status']\n",
        "train.drop(['Loan_Status'], axis=1, inplace=True)\n",
        "\n",
        "idx = len(train)"
      ]
    },
    {
      "cell_type": "code",
      "source": [
        "train_num = train.select_dtypes(np.number)\n",
        "test_num = test.select_dtypes(np.number)\n",
        "num = pd.concat([train_num, test_num], axis=0).reset_index(drop=True)\n",
        "\n",
        "train_cat = train.select_dtypes(include='object')\n",
        "test_cat = test.select_dtypes(include='object')\n",
        "cat = pd.concat([train_cat, test_cat], axis=0).reset_index(drop=True)"
      ],
      "metadata": {
        "id": "zvKkMAATFNtY"
      },
      "id": "zvKkMAATFNtY",
      "execution_count": 635,
      "outputs": []
    },
    {
      "cell_type": "markdown",
      "id": "52fc44aa",
      "metadata": {
        "id": "52fc44aa"
      },
      "source": [
        "## Feature engineering"
      ]
    },
    {
      "cell_type": "code",
      "source": [
        "num_tr = num.copy()\n",
        "cat_tr = cat.copy()"
      ],
      "metadata": {
        "id": "n5pHyYCZJkWM"
      },
      "id": "n5pHyYCZJkWM",
      "execution_count": 636,
      "outputs": []
    },
    {
      "cell_type": "markdown",
      "source": [
        "**Перед заполением нулей избавимся от выбросов в числовых признаках**"
      ],
      "metadata": {
        "id": "mvsZYpqXIWJ5"
      },
      "id": "mvsZYpqXIWJ5"
    },
    {
      "cell_type": "code",
      "source": [
        "for col in ['ApplicantIncome', 'LoanAmount']:\n",
        "\n",
        "      Q1 = np.nanpercentile(num_tr[col], 25)\n",
        "      Q3 = np.nanpercentile(num_tr[col], 75)\n",
        "      IQR = Q3 - Q1\n",
        "      \n",
        "      num_tr['{}_Outliers'.format(col)] = num_tr[col].map(lambda x: 'Normal' if x <= Q3 + 1.5 * IQR else 'Outlier') \n",
        "      # # temp[col > Q3 + 1.5 * IQR].groupby(col).mean()['Loan_Status']\n",
        "      # print(temp[temp[col] > Q3 + 1.5 * IQR]['Loan_Status'].mean())\n",
        "\n",
        "num_tr['CoapplicantIncome_Outliers'] = num_tr['CoapplicantIncome'].map(lambda x: 'Normal' if x <= 6700 else 'Outlier')"
      ],
      "metadata": {
        "id": "gK2LNyLRJZCY"
      },
      "id": "gK2LNyLRJZCY",
      "execution_count": 637,
      "outputs": []
    },
    {
      "cell_type": "markdown",
      "source": [
        "**Заполнение нулей**"
      ],
      "metadata": {
        "id": "7kPi1r7VENS3"
      },
      "id": "7kPi1r7VENS3"
    },
    {
      "cell_type": "code",
      "source": [
        "num_tr['LoanAmount'] = num_tr['LoanAmount'].fillna(num_tr['LoanAmount'].mean())\n",
        "num_tr['Loan_Amount_Term'] = num_tr['Loan_Amount_Term'].fillna(360.00)\n",
        "\n",
        "#Знаю, что плохо, но это временно \n",
        "num_tr['Credit_History'] = num_tr['Credit_History'].fillna(0.5)"
      ],
      "metadata": {
        "id": "qDlWmorJJ0Fr"
      },
      "id": "qDlWmorJJ0Fr",
      "execution_count": 638,
      "outputs": []
    },
    {
      "cell_type": "code",
      "source": [
        "#Cat dummies - временная, дальше исп не будут\n",
        "#В целом все действия тут нужны, чтобы предсказать только пропущеную кредитную историю\n",
        "#Тут хитро: \n",
        "#         -> LoanAmount, \n",
        "#         потом уже с LoanAmount -> Credit_History\n",
        "\n",
        "for col in ['Gender', 'Married', 'Dependents', 'Education',\n",
        "            'Self_Employed', 'Property_Area']:\n",
        "  cat[col] = cat[col].fillna(cat[col].mode()[0])\n",
        "\n",
        "\n",
        "cat_dummies = pd.DataFrame()\n",
        "for col in ['Gender', 'Married', 'Dependents', 'Education',\n",
        "            'Self_Employed', 'Property_Area']:\n",
        "  cat_dummies = pd.concat([cat_dummies, pd.get_dummies(data=cat[col], drop_first=True, prefix=col)], axis=1)\n",
        "\n",
        "for col in ['ApplicantIncome_Outliers', 'CoapplicantIncome_Outliers', 'LoanAmount_Outliers']:\n",
        "  cat_dummies = pd.concat([cat_dummies, pd.get_dummies(data=num_tr[col], drop_first=True, prefix=col)], axis=1)\n",
        "\n",
        "\n",
        "sc = MinMaxScaler()\n",
        "\n",
        "X_ch = pd.concat([num_tr.drop(['ApplicantIncome_Outliers', 'CoapplicantIncome_Outliers', 'LoanAmount_Outliers'], axis=1), cat_dummies], axis=1)\n",
        "X_ch = pd.DataFrame(data=sc.fit_transform(X_ch), columns=X_ch.columns)\n",
        "\n",
        "\n",
        "\n",
        "\n",
        "rf = RandomForestClassifier(n_estimators=100, \n",
        "                            max_features=6, oob_score=True)\n",
        "\n",
        "rf.fit(X_ch.iloc[:idx, :], target.map({'Y': 0, 'N': 1}))\n",
        "X_ch['Loan_Status_temp'] = np.hstack((target.map({'Y': 0, 'N': 1}), rf.predict(X_ch.iloc[idx:, :])))\n",
        "\n",
        "\n",
        "\n",
        "RS=4\n",
        "\n",
        "ch = X_ch['Credit_History']\n",
        "X_ch = X_ch.drop(['Credit_History'], axis=1)\n",
        "\n",
        "ch_to_train_test =  ch[ch!=0.5]\n",
        "X_ch_to_train_test =  X_ch[ch!=0.5]\n",
        "\n",
        "\n",
        "knn = KNeighborsClassifier(n_neighbors=5)\n",
        "knn.fit(X_ch_to_train_test, ch_to_train_test);\n",
        "\n",
        "\n",
        "X_ch['Credit_History'] = ch\n",
        "X_ch['Credit_History'][X_ch['Credit_History'] == 0.5] = knn.predict(X_ch.drop(['Credit_History'], axis=1))"
      ],
      "metadata": {
        "colab": {
          "base_uri": "https://localhost:8080/"
        },
        "id": "fGV_uHI84Ee7",
        "outputId": "22e577a4-0bc9-4230-b8ca-13617dc0c6e4"
      },
      "id": "fGV_uHI84Ee7",
      "execution_count": 639,
      "outputs": [
        {
          "output_type": "stream",
          "name": "stderr",
          "text": [
            "/usr/local/lib/python3.7/dist-packages/sklearn/base.py:446: UserWarning: X does not have valid feature names, but RandomForestClassifier was fitted with feature names\n",
            "  \"X does not have valid feature names, but\"\n",
            "/usr/local/lib/python3.7/dist-packages/ipykernel_launcher.py:51: SettingWithCopyWarning: \n",
            "A value is trying to be set on a copy of a slice from a DataFrame\n",
            "\n",
            "See the caveats in the documentation: https://pandas.pydata.org/pandas-docs/stable/user_guide/indexing.html#returning-a-view-versus-a-copy\n"
          ]
        }
      ]
    },
    {
      "cell_type": "code",
      "source": [
        "#Finally\n",
        "num_tr['Credit_History'] = X_ch['Credit_History']"
      ],
      "metadata": {
        "id": "RR6XDFCHEUe4"
      },
      "id": "RR6XDFCHEUe4",
      "execution_count": 640,
      "outputs": []
    },
    {
      "cell_type": "markdown",
      "source": [
        "**\"Настоящее\" заполнение нулей для категориональных**"
      ],
      "metadata": {
        "id": "m5uEXvHUOskW"
      },
      "id": "m5uEXvHUOskW"
    },
    {
      "cell_type": "code",
      "source": [
        "for col in ['Gender', 'Married', 'Dependents', 'Education',\n",
        "            'Self_Employed', 'Property_Area']:\n",
        "  cat_tr[col] = cat_tr[col].fillna(cat_tr[col].mode()[0])"
      ],
      "metadata": {
        "id": "g2PTp7R9O5rx"
      },
      "id": "g2PTp7R9O5rx",
      "execution_count": 641,
      "outputs": []
    },
    {
      "cell_type": "markdown",
      "source": [
        "**Соединяем числовые и тренировочные фичи**"
      ],
      "metadata": {
        "id": "rieuRouaQaBq"
      },
      "id": "rieuRouaQaBq"
    },
    {
      "cell_type": "code",
      "source": [
        "all_data_tr = pd.concat([num_tr, cat_tr], axis=1)"
      ],
      "metadata": {
        "id": "Gsvurg_UQI53"
      },
      "id": "Gsvurg_UQI53",
      "execution_count": 642,
      "outputs": []
    },
    {
      "cell_type": "markdown",
      "source": [
        "**Теперь генерим фичи**"
      ],
      "metadata": {
        "id": "0cfaaaLCPCSZ"
      },
      "id": "0cfaaaLCPCSZ"
    },
    {
      "cell_type": "code",
      "source": [
        "all_data_tr['Group_Loan_Amount_Term'] = all_data_tr['Loan_Amount_Term'].copy()\n",
        "\n",
        "all_data_tr['Group_Loan_Amount_Term'] = all_data_tr['Group_Loan_Amount_Term'].replace([6.0, 12.0, 36.0, 60.0, 84.0, 120.0], '<= 10 years')\n",
        "all_data_tr['Group_Loan_Amount_Term'] = all_data_tr['Group_Loan_Amount_Term'].replace(180.0, '15 years')\n",
        "all_data_tr['Group_Loan_Amount_Term'] = all_data_tr['Group_Loan_Amount_Term'].replace(360.0, '30 years')\n",
        "all_data_tr['Group_Loan_Amount_Term'] = all_data_tr['Group_Loan_Amount_Term'].replace([240.0, 300.0, 350.0], 'Not beautiful dates')\n",
        "all_data_tr['Group_Loan_Amount_Term'] = all_data_tr['Group_Loan_Amount_Term'].replace([480.0], '40 years')\n",
        "\n",
        "all_data_tr.drop(['Loan_Amount_Term'], axis=1, inplace=True)"
      ],
      "metadata": {
        "id": "eApe0N4EEU9_"
      },
      "id": "eApe0N4EEU9_",
      "execution_count": 643,
      "outputs": []
    },
    {
      "cell_type": "code",
      "source": [
        "# Наша рандомная фича, извлекаем \"цифру\" и переводим в числовой формат \n",
        "all_data_tr['Loan_ID'] = all_data_tr['Loan_ID'].map(lambda x: x[4:]).astype('int')"
      ],
      "metadata": {
        "id": "olbu_NXsEVAy"
      },
      "id": "olbu_NXsEVAy",
      "execution_count": 644,
      "outputs": []
    },
    {
      "cell_type": "code",
      "source": [
        "def family_risk(col):\n",
        "  \n",
        "  index = 1\n",
        "\n",
        "  #Разведённые женщины c детьми и просто неженетые люди живущие в городах / поселках\n",
        "  if col['Married'] == 'No':\n",
        "    index *= 2/3\n",
        "    if (col['Dependents'] != '0') & (col['Gender'] == 'Female'):\n",
        "      index *= 1/2\n",
        "      if col['Dependents'] == '2':\n",
        "        index *= 1.25\n",
        "      return index\n",
        "\n",
        "    if (col['Property_Area'] == 'Urban'):\n",
        "      index *= 0.75\n",
        "\n",
        "  #Проверка на разведенных\n",
        "  if (col['Married']=='No') & (col['Dependents']!='0'):\n",
        "    index *= 0.75\n",
        "    \n",
        "  #Почему-то для 2, как правило, больше вероятность отдать\n",
        "  if col['Dependents'] == '2':\n",
        "    index *= 1.25\n",
        "\n",
        "\n",
        "  return index\n",
        "\n",
        "fr = [family_risk(all_data_tr.iloc[i]) for i in range(len(all_data_tr))]\n",
        "all_data_tr['Family_Risk'] = fr"
      ],
      "metadata": {
        "id": "uTIoblZTP6g5"
      },
      "id": "uTIoblZTP6g5",
      "execution_count": 645,
      "outputs": []
    },
    {
      "cell_type": "code",
      "source": [
        "all_data_tr['IsDivorced'] = all_data_tr['ApplicantIncome'].map(lambda x: 0)\n",
        "all_data_tr['IsDivorced'][(all_data_tr['Married']=='No') & (all_data_tr['Dependents']!='0')] = 1"
      ],
      "metadata": {
        "id": "0JaO3qj3P6jf",
        "outputId": "bb059c70-e1ae-4105-90e1-bedd0d69f865",
        "colab": {
          "base_uri": "https://localhost:8080/"
        }
      },
      "id": "0JaO3qj3P6jf",
      "execution_count": 646,
      "outputs": [
        {
          "output_type": "stream",
          "name": "stderr",
          "text": [
            "/usr/local/lib/python3.7/dist-packages/ipykernel_launcher.py:2: SettingWithCopyWarning: \n",
            "A value is trying to be set on a copy of a slice from a DataFrame\n",
            "\n",
            "See the caveats in the documentation: https://pandas.pydata.org/pandas-docs/stable/user_guide/indexing.html#returning-a-view-versus-a-copy\n",
            "  \n"
          ]
        }
      ]
    },
    {
      "cell_type": "code",
      "source": [
        "family_medium_income = (all_data_tr['ApplicantIncome']+all_data_tr['CoapplicantIncome']) / (1 + all_data_tr['Married'].map({'Yes': 1, 'No': 0})+\n",
        "              all_data_tr['Dependents'].map({'0': 0, '1': 1, '2': 2, '3+': 3.5}))\n",
        "\n",
        "all_data_tr['Family_Medium_Income'] = family_medium_income\n",
        "\n",
        "values = [0, 1700, 2700, 4200, 36000]\n",
        "labels = ['Low', 'Medium', 'High', 'Very High']\n",
        "\n",
        "result = pd.cut(all_data_tr['Family_Medium_Income'], bins=values, labels=labels)\n",
        "\n",
        "all_data_tr['Family_Medium_Income_Flag'] = result"
      ],
      "metadata": {
        "id": "l-kFiCVoP6pj"
      },
      "id": "l-kFiCVoP6pj",
      "execution_count": 647,
      "outputs": []
    },
    {
      "cell_type": "code",
      "source": [
        "def work_risk(col):\n",
        "  \n",
        "  index = 1\n",
        "\n",
        "  if col['Education'] != 'Graduate':\n",
        "    index *= 3/4\n",
        "    if col['Self_Employed'] is 'Yes':\n",
        "      index *= 2/3\n",
        "\n",
        "  if col['Education'] == 'Graduate':\n",
        "    if col['Self_Employed'] is 'Yes':\n",
        "      index *= 2/3 \n",
        "  \n",
        "  # #Для Low - хуже вероятность\n",
        "  # if col['Family_Medium_Income_Flag'] == 'Low':\n",
        "  #   index *= 2/3\n",
        "\n",
        "  #Для Medium - на удивление меньше; для остальных категорий нет разницы\n",
        "  if col['Family_Medium_Income_Flag'] == 'Medium':\n",
        "    index *= 1.5\n",
        "\n",
        "  return index\n",
        "\n",
        "wr = [work_risk(all_data_tr.iloc[i]) for i in range(len(all_data_tr))]\n",
        "all_data_tr['Work_Risk'] = wr"
      ],
      "metadata": {
        "id": "V_qpxrjaP6wM"
      },
      "id": "V_qpxrjaP6wM",
      "execution_count": 648,
      "outputs": []
    },
    {
      "cell_type": "code",
      "source": [
        "all_data_tr['Family_Work_Mean_Risk'] = all_data_tr['Family_Risk'] * 1/2 + all_data_tr['Work_Risk'] * 1/2"
      ],
      "metadata": {
        "id": "Lk1vwJiqP6x0"
      },
      "id": "Lk1vwJiqP6x0",
      "execution_count": 649,
      "outputs": []
    },
    {
      "cell_type": "code",
      "source": [
        "def risk(col):\n",
        "  \n",
        "  index = col['Family_Work_Mean_Risk']\n",
        "\n",
        "  if col['Group_Loan_Amount_Term'] == '40 years':\n",
        "    index *= 0.75\n",
        "\n",
        "  if col['LoanAmount_Outliers'] == 'Outlier':\n",
        "    index *= 0.75\n",
        "\n",
        "  if col['Property_Area'] == 'Rural':\n",
        "    index *= 2/3\n",
        "  \n",
        "  if col['Property_Area'] == 'Semiurban':\n",
        "    index *= 1.25\n",
        "\n",
        "\n",
        "  # if col['Credit_History'] == 0:\n",
        "  #   index *= 0.5\n",
        "\n",
        "  return index\n",
        "\n",
        "risk = [risk(all_data_tr.iloc[i]) for i in range(len(all_data_tr))]\n",
        "all_data_tr['Risk'] = risk"
      ],
      "metadata": {
        "id": "fBAz5YQUUhbS"
      },
      "id": "fBAz5YQUUhbS",
      "execution_count": 650,
      "outputs": []
    },
    {
      "cell_type": "markdown",
      "source": [
        "**Теперь быстро за ван-хот энкодим категориональные фичи**"
      ],
      "metadata": {
        "id": "VclU0-4uV5bL"
      },
      "id": "VclU0-4uV5bL"
    },
    {
      "cell_type": "code",
      "source": [
        "#Для catboost не надо\n",
        "cat_columns = all_data_tr.select_dtypes(include=['object', 'category']).columns\n",
        "\n",
        "cat_dummies = pd.DataFrame()\n",
        "for col in cat_columns:\n",
        "  cat_dummies = pd.concat([cat_dummies, pd.get_dummies(data=all_data_tr[col], drop_first=True, prefix=col)], axis=1)"
      ],
      "metadata": {
        "id": "MHG-_P8jUheC"
      },
      "id": "MHG-_P8jUheC",
      "execution_count": 651,
      "outputs": []
    },
    {
      "cell_type": "markdown",
      "source": [
        "**Заскалим все числовые фичи**"
      ],
      "metadata": {
        "id": "jPvuhWWDW3n3"
      },
      "id": "jPvuhWWDW3n3"
    },
    {
      "cell_type": "code",
      "source": [
        "num_columns = all_data_tr.select_dtypes(include=np.number).columns\n",
        "\n",
        "num_final_sc = pd.DataFrame(data=sc.fit_transform(all_data_tr[num_columns]), columns=num_columns)"
      ],
      "metadata": {
        "id": "5ZiUGBISUhjW"
      },
      "id": "5ZiUGBISUhjW",
      "execution_count": 652,
      "outputs": []
    },
    {
      "cell_type": "markdown",
      "source": [
        "**Соеденяем дамнисы и числовые и получаем финальный датасет:**"
      ],
      "metadata": {
        "id": "o_VlLxD6XzkL"
      },
      "id": "o_VlLxD6XzkL"
    },
    {
      "cell_type": "code",
      "source": [
        "final_data = pd.concat([num_final_sc, cat_dummies], axis=1)\n",
        "# final_data = pd.concat([num_final_sc, all_data_tr[cat_columns]], axis=1)"
      ],
      "metadata": {
        "id": "5dlXBVqnUhl8"
      },
      "id": "5dlXBVqnUhl8",
      "execution_count": 653,
      "outputs": []
    },
    {
      "cell_type": "code",
      "source": [
        "# final_data.drop(['Family_Medium_Income'], axis=1, inplace=True)\n",
        "# final_data.drop(['Group_Loan_Amount_Term_350.0'], axis=1, inplace=True)"
      ],
      "metadata": {
        "id": "9Mr32i7bUhoU"
      },
      "id": "9Mr32i7bUhoU",
      "execution_count": 654,
      "outputs": []
    },
    {
      "cell_type": "markdown",
      "source": [
        "**Хит мап**"
      ],
      "metadata": {
        "id": "RmGlC-Vqaq_c"
      },
      "id": "RmGlC-Vqaq_c"
    },
    {
      "cell_type": "code",
      "source": [
        "# final_data_to_train_test = pd.concat([final_data.iloc[:idx, :], target.map({'Y': 0, 'N': 1})], axis=1)\n",
        "\n",
        "# plt.figure(figsize=(20, 20))\n",
        "# sns.heatmap(final_data_to_train_test.corr(), annot=True)"
      ],
      "metadata": {
        "id": "DaEF-UZEUhtQ"
      },
      "id": "DaEF-UZEUhtQ",
      "execution_count": 655,
      "outputs": []
    },
    {
      "cell_type": "markdown",
      "source": [
        "**PCA?**"
      ],
      "metadata": {
        "id": "BNKh7xYydet7"
      },
      "id": "BNKh7xYydet7"
    },
    {
      "cell_type": "code",
      "source": [
        "# from sklearn.decomposition import PCA\n",
        "\n",
        "# pca = PCA()\n",
        "# pca.fit(final_data)\n",
        "\n",
        "# plt.plot(np.cumsum(pca.explained_variance_ratio_))"
      ],
      "metadata": {
        "id": "u85hCr0YdjYE"
      },
      "id": "u85hCr0YdjYE",
      "execution_count": 656,
      "outputs": []
    },
    {
      "cell_type": "code",
      "source": [
        "# pca = PCA(n_components=8)\n",
        "# final_data_pca_tr = pd.DataFrame(data=pca.fit_transform(final_data))"
      ],
      "metadata": {
        "id": "5SgAsbKOeQfX"
      },
      "id": "5SgAsbKOeQfX",
      "execution_count": 657,
      "outputs": []
    },
    {
      "cell_type": "markdown",
      "source": [
        "PCA вообще не сработал, даже на казалось бы 20 компонентах"
      ],
      "metadata": {
        "id": "TZA3JLc0nV4h"
      },
      "id": "TZA3JLc0nV4h"
    },
    {
      "cell_type": "markdown",
      "source": [
        "**Most important features by heatmap** "
      ],
      "metadata": {
        "id": "wl0HhBK1pFk1"
      },
      "id": "wl0HhBK1pFk1"
    },
    {
      "cell_type": "code",
      "source": [
        "corr = final_data_to_train_test.corr()['Loan_Status']\n",
        "feats = corr[np.abs(corr) >= 0.09].index[:-1]\n",
        "\n",
        "final_data_important = final_data[feats]\n",
        "len(feats)"
      ],
      "metadata": {
        "id": "HFYIa6VmpD5l",
        "outputId": "b24cfc70-d247-4cae-e0bc-5f6d3dc31f1f",
        "colab": {
          "base_uri": "https://localhost:8080/"
        }
      },
      "id": "HFYIa6VmpD5l",
      "execution_count": 658,
      "outputs": [
        {
          "output_type": "execute_result",
          "data": {
            "text/plain": [
              "8"
            ]
          },
          "metadata": {},
          "execution_count": 658
        }
      ]
    },
    {
      "cell_type": "code",
      "source": [
        "list(feats)"
      ],
      "metadata": {
        "id": "Jku67woiY0sL",
        "outputId": "6c07e4ee-6a5b-4772-e9ba-8a02925f6244",
        "colab": {
          "base_uri": "https://localhost:8080/"
        }
      },
      "id": "Jku67woiY0sL",
      "execution_count": 659,
      "outputs": [
        {
          "output_type": "execute_result",
          "data": {
            "text/plain": [
              "['Credit_History',\n",
              " 'Family_Risk',\n",
              " 'Work_Risk',\n",
              " 'Family_Work_Mean_Risk',\n",
              " 'Risk',\n",
              " 'Married_Yes',\n",
              " 'Property_Area_Semiurban',\n",
              " 'Group_Loan_Amount_Term_40 years']"
            ]
          },
          "metadata": {},
          "execution_count": 659
        }
      ]
    },
    {
      "cell_type": "code",
      "source": [
        "final_data_important = pd.DataFrame(data=final_data[feats], columns=feats)\n",
        "\n",
        "for col in ['Credit_History','Married_Yes',\n",
        "            'Property_Area_Semiurban', 'Group_Loan_Amount_Term_40 years']:\n",
        "\n",
        "  final_data_important[col] = final_data_important[col].astype('int64')\n",
        "\n",
        "cat_columns_important = final_data_important.select_dtypes(include='int64').columns"
      ],
      "metadata": {
        "id": "s5gqpo_sZSe-"
      },
      "id": "s5gqpo_sZSe-",
      "execution_count": 660,
      "outputs": []
    },
    {
      "cell_type": "markdown",
      "source": [
        "Вот это сработало"
      ],
      "metadata": {
        "id": "9cq1-4yineAn"
      },
      "id": "9cq1-4yineAn"
    },
    {
      "cell_type": "markdown",
      "source": [
        "**Формируем тренировочный / тестовый сет**"
      ],
      "metadata": {
        "id": "fFHmCM9AbWmI"
      },
      "id": "fFHmCM9AbWmI"
    },
    {
      "cell_type": "code",
      "source": [
        "# X_train, X_test, y_train, y_test = train_test_split(\n",
        "#         all_data_tr.iloc[:idx, :], target.map({'Y': 0, 'N': 1}), \n",
        "#         stratify=target.map({'Y': 0, 'N': 1}), test_size=0.2, \n",
        "#         random_state=RS)"
      ],
      "metadata": {
        "id": "s1ZahGepZgUm"
      },
      "id": "s1ZahGepZgUm",
      "execution_count": 661,
      "outputs": []
    },
    {
      "cell_type": "code",
      "source": [
        "# from lightgbm import LGBMClassifier\n",
        "# # from sklearn.ensemble import RandomForestClassifier\n",
        "\n",
        "# clfs = []\n",
        "# rs = [RS, 34, 43, 69, 101, 123, 144]\n",
        "\n",
        "\n",
        "# for random_state in rs:\n",
        "\n",
        "#   X_train, X_test, y_train, y_test = train_test_split(\n",
        "#         final_data_important.iloc[:idx, :], target.map({'Y': 0, 'N': 1}), \n",
        "#         stratify=target.map({'Y': 0, 'N': 1}), test_size=0.2, \n",
        "#         random_state=random_state)\n",
        "\n",
        "#   # clf = LGBMClassifier(n_estimators=150, \n",
        "#   #                         max_depth = 10,\n",
        "#   #                         max_features=7, \n",
        "#   #                         random_state=rs)\n",
        "\n",
        "#   clf = LGBMClassifier(eval_metric='F1',\n",
        "#                        random_state=random_state)\n",
        "  \n",
        "#   clf.fit(X_train, y_train, eval_set=(X_test, y_test),\n",
        "#                 verbose = 500)\n",
        "  \n",
        "#   clfs.append(clf)\n",
        "\n",
        "#   # clf.fit(final_data_important.iloc[:idx, :], target.map({'Y': 0, 'N': 1}))\n",
        "\n",
        "#   # clfs.append(clf)\n",
        "\n",
        "#   # clf.fit(X_train, y_train, eval_set=(X_test, y_test),\n",
        "#   #               verbose = 500)\n",
        "\n",
        "# # # lgbm.fit(X_train, y_train)\n",
        "\n",
        "\n",
        "# # print(lgbm.score(X_test, y_test))\n",
        "# # print(lgbm.score(X_train, y_train))\n",
        "\n",
        "# # # print(lgbm.oob_score)"
      ],
      "metadata": {
        "id": "6N2l4uSrZgcF"
      },
      "id": "6N2l4uSrZgcF",
      "execution_count": 662,
      "outputs": []
    },
    {
      "cell_type": "code",
      "source": [
        "# lst = []\n",
        "# for clf in clfs:\n",
        "#   # clf.fit(final_data_important.iloc[:idx, :], target.map({'Y': 0, 'N': 1}))\n",
        "#   lst.append(clf.predict(final_data_important.iloc[idx:, :]))\n",
        "\n",
        "# pd.DataFrame(data=lst)"
      ],
      "metadata": {
        "id": "49a2v03FpnSF"
      },
      "id": "49a2v03FpnSF",
      "execution_count": 663,
      "outputs": []
    },
    {
      "cell_type": "code",
      "source": [
        "# !pip install catboost"
      ],
      "metadata": {
        "id": "-L4oMniryavQ"
      },
      "id": "-L4oMniryavQ",
      "execution_count": 664,
      "outputs": []
    },
    {
      "cell_type": "code",
      "source": [
        "from sklearn.model_selection import KFold # k-фолдная валидация\n",
        "from catboost import CatBoostClassifier"
      ],
      "metadata": {
        "id": "HH7RqPs2xkkl"
      },
      "id": "HH7RqPs2xkkl",
      "execution_count": 665,
      "outputs": []
    },
    {
      "cell_type": "code",
      "source": [
        "# clf.predict_proba(all_data_tr.iloc[idx:, :])[:,1]"
      ],
      "metadata": {
        "id": "cVjvkZEL-Aun"
      },
      "id": "cVjvkZEL-Aun",
      "execution_count": 666,
      "outputs": []
    },
    {
      "cell_type": "code",
      "source": [
        "n_splits = 3\n",
        "\n",
        "\n",
        "clfs = []\n",
        "X = final_data_important.iloc[:idx, :]\n",
        "y = target.map({'Y': 0, 'N': 1})\n",
        "\n",
        "# параметры валидации, обучение будет идти на 6 X n_splits фолдах\n",
        "\n",
        "kFold_random_state = [RS , 666, 228, 777, 2021, 75]\n",
        "N = len(kFold_random_state)*n_splits\n",
        "\n",
        "for ind_k, random_state in enumerate(kFold_random_state):\n",
        "    kf = KFold(n_splits=n_splits, shuffle=True, random_state=random_state)\n",
        "    \n",
        "    for train_index, test_index in kf.split(X):\n",
        "\n",
        "        # print(train_index, test_index)\n",
        "\n",
        "        X_train, X_test = X.iloc[train_index], X.iloc[test_index]\n",
        "        y_train, y_test = y[train_index], y[test_index]\n",
        "        clf = CatBoostClassifier(iterations = 10000,\n",
        "                              loss_function = 'Logloss', eval_metric = 'AUC', #'AUC:hints=skip_train~false',\n",
        "                              cat_features = list(cat_columns_important), random_seed=random_state, \n",
        "                              task_type='CPU', auto_class_weights = 'SqrtBalanced',\n",
        "                              early_stopping_rounds=250 + ind_k*10 )\n",
        "        # clfs.append(clf)\n",
        "\n",
        "        # print(X_train)\n",
        "\n",
        "        clf.fit(X_train, y_train, eval_set=(X_test, y_test),\n",
        "                verbose = 500, use_best_model = True, plot = False)\n",
        "        \n",
        "        clfs.append(clf)\n",
        "        \n",
        "assert len(clfs) == N\n",
        "\n",
        "# массив для записи финального результата\n",
        "y_pred = np.zeros((len(all_data_tr.iloc[idx:, :]),))\n",
        "scores = []\n",
        "for clf in clfs:\n",
        "\n",
        "    y_pred += clf.predict_proba(final_data_important.iloc[idx:, :])[:,1]\n",
        "    scores.append(clf.best_score_['validation']['AUC'])\n",
        "y_pred /= N\n",
        "print('mean F1', np.mean(scores))"
      ],
      "metadata": {
        "id": "uguyyYCGxknR",
        "outputId": "ebb60352-1e8f-4721-bf99-0966d4ace3f4",
        "colab": {
          "base_uri": "https://localhost:8080/"
        }
      },
      "id": "uguyyYCGxknR",
      "execution_count": 667,
      "outputs": [
        {
          "output_type": "stream",
          "name": "stdout",
          "text": [
            "Learning rate set to 0.009333\n",
            "0:\ttest: 0.7363200\tbest: 0.7363200 (0)\ttotal: 701us\tremaining: 7.01s\n",
            "Stopped by overfitting detector  (250 iterations wait)\n",
            "\n",
            "bestTest = 0.7567037279\n",
            "bestIteration = 15\n",
            "\n",
            "Shrink model to first 16 iterations.\n",
            "Learning rate set to 0.009333\n",
            "0:\ttest: 0.7390295\tbest: 0.7390295 (0)\ttotal: 669us\tremaining: 6.69s\n",
            "Stopped by overfitting detector  (250 iterations wait)\n",
            "\n",
            "bestTest = 0.805374971\n",
            "bestIteration = 7\n",
            "\n",
            "Shrink model to first 8 iterations.\n",
            "Learning rate set to 0.009338\n",
            "0:\ttest: 0.7671860\tbest: 0.7671860 (0)\ttotal: 583us\tremaining: 5.83s\n",
            "Stopped by overfitting detector  (250 iterations wait)\n",
            "\n",
            "bestTest = 0.7866325308\n",
            "bestIteration = 3\n",
            "\n",
            "Shrink model to first 4 iterations.\n",
            "Learning rate set to 0.009333\n",
            "0:\ttest: 0.7778592\tbest: 0.7778592 (0)\ttotal: 627us\tremaining: 6.28s\n",
            "Stopped by overfitting detector  (260 iterations wait)\n",
            "\n",
            "bestTest = 0.7957365215\n",
            "bestIteration = 3\n",
            "\n",
            "Shrink model to first 4 iterations.\n",
            "Learning rate set to 0.009333\n",
            "0:\ttest: 0.7312351\tbest: 0.7312351 (0)\ttotal: 652us\tremaining: 6.52s\n",
            "Stopped by overfitting detector  (260 iterations wait)\n",
            "\n",
            "bestTest = 0.7534609561\n",
            "bestIteration = 19\n",
            "\n",
            "Shrink model to first 20 iterations.\n",
            "Learning rate set to 0.009338\n",
            "0:\ttest: 0.6979061\tbest: 0.6979061 (0)\ttotal: 509us\tremaining: 5.09s\n",
            "Stopped by overfitting detector  (260 iterations wait)\n",
            "\n",
            "bestTest = 0.7554880108\n",
            "bestIteration = 16\n",
            "\n",
            "Shrink model to first 17 iterations.\n",
            "Learning rate set to 0.009333\n",
            "0:\ttest: 0.7901099\tbest: 0.7901099 (0)\ttotal: 653us\tremaining: 6.53s\n",
            "Stopped by overfitting detector  (270 iterations wait)\n",
            "\n",
            "bestTest = 0.8119230769\n",
            "bestIteration = 41\n",
            "\n",
            "Shrink model to first 42 iterations.\n",
            "Learning rate set to 0.009333\n",
            "0:\ttest: 0.7898360\tbest: 0.7898360 (0)\ttotal: 642us\tremaining: 6.42s\n",
            "Stopped by overfitting detector  (270 iterations wait)\n",
            "\n",
            "bestTest = 0.8026066849\n",
            "bestIteration = 19\n",
            "\n",
            "Shrink model to first 20 iterations.\n",
            "Learning rate set to 0.009338\n",
            "0:\ttest: 0.7732867\tbest: 0.7732867 (0)\ttotal: 626us\tremaining: 6.26s\n",
            "Stopped by overfitting detector  (270 iterations wait)\n",
            "\n",
            "bestTest = 0.7833011583\n",
            "bestIteration = 6\n",
            "\n",
            "Shrink model to first 7 iterations.\n",
            "Learning rate set to 0.009333\n",
            "0:\ttest: 0.7638051\tbest: 0.7638051 (0)\ttotal: 648us\tremaining: 6.48s\n",
            "500:\ttest: 0.8035435\tbest: 0.8066734 (334)\ttotal: 253ms\tremaining: 4.8s\n",
            "Stopped by overfitting detector  (280 iterations wait)\n",
            "\n",
            "bestTest = 0.8066733736\n",
            "bestIteration = 334\n",
            "\n",
            "Shrink model to first 335 iterations.\n",
            "Learning rate set to 0.009333\n",
            "0:\ttest: 0.7987931\tbest: 0.7987931 (0)\ttotal: 698us\tremaining: 6.99s\n",
            "Stopped by overfitting detector  (280 iterations wait)\n",
            "\n",
            "bestTest = 0.7987931034\n",
            "bestIteration = 0\n",
            "\n",
            "Shrink model to first 1 iterations.\n",
            "Learning rate set to 0.009338\n",
            "0:\ttest: 0.7836286\tbest: 0.7836286 (0)\ttotal: 469us\tremaining: 4.69s\n",
            "Stopped by overfitting detector  (280 iterations wait)\n",
            "\n",
            "bestTest = 0.7999463231\n",
            "bestIteration = 5\n",
            "\n",
            "Shrink model to first 6 iterations.\n",
            "Learning rate set to 0.009333\n",
            "0:\ttest: 0.8108995\tbest: 0.8108995 (0)\ttotal: 679us\tremaining: 6.79s\n",
            "Stopped by overfitting detector  (290 iterations wait)\n",
            "\n",
            "bestTest = 0.8276190476\n",
            "bestIteration = 21\n",
            "\n",
            "Shrink model to first 22 iterations.\n",
            "Learning rate set to 0.009333\n",
            "0:\ttest: 0.7789515\tbest: 0.7789515 (0)\ttotal: 676us\tremaining: 6.77s\n",
            "Stopped by overfitting detector  (290 iterations wait)\n",
            "\n",
            "bestTest = 0.8136597362\n",
            "bestIteration = 3\n",
            "\n",
            "Shrink model to first 4 iterations.\n",
            "Learning rate set to 0.009338\n",
            "0:\ttest: 0.7343074\tbest: 0.7343074 (0)\ttotal: 629us\tremaining: 6.3s\n",
            "Stopped by overfitting detector  (290 iterations wait)\n",
            "\n",
            "bestTest = 0.7552308591\n",
            "bestIteration = 10\n",
            "\n",
            "Shrink model to first 11 iterations.\n",
            "Learning rate set to 0.009333\n",
            "0:\ttest: 0.7099318\tbest: 0.7099318 (0)\ttotal: 417us\tremaining: 4.17s\n",
            "Stopped by overfitting detector  (300 iterations wait)\n",
            "\n",
            "bestTest = 0.7868712702\n",
            "bestIteration = 81\n",
            "\n",
            "Shrink model to first 82 iterations.\n",
            "Learning rate set to 0.009333\n",
            "0:\ttest: 0.6931034\tbest: 0.6931034 (0)\ttotal: 400us\tremaining: 4s\n",
            "Stopped by overfitting detector  (300 iterations wait)\n",
            "\n",
            "bestTest = 0.7629310345\n",
            "bestIteration = 3\n",
            "\n",
            "Shrink model to first 4 iterations.\n",
            "Learning rate set to 0.009338\n",
            "0:\ttest: 0.8238208\tbest: 0.8238208 (0)\ttotal: 649us\tremaining: 6.49s\n",
            "Stopped by overfitting detector  (300 iterations wait)\n",
            "\n",
            "bestTest = 0.8395249353\n",
            "bestIteration = 1\n",
            "\n",
            "Shrink model to first 2 iterations.\n",
            "mean F1 0.7912487400748891\n"
          ]
        }
      ]
    },
    {
      "cell_type": "code",
      "source": [
        "len(y_pred[y_pred > 0.47])"
      ],
      "metadata": {
        "id": "_Ia4AZUlcm6X",
        "outputId": "fd13c529-a6f6-4fab-9016-15f521d55156",
        "colab": {
          "base_uri": "https://localhost:8080/"
        }
      },
      "id": "_Ia4AZUlcm6X",
      "execution_count": 670,
      "outputs": [
        {
          "output_type": "execute_result",
          "data": {
            "text/plain": [
              "120"
            ]
          },
          "metadata": {},
          "execution_count": 670
        }
      ]
    },
    {
      "cell_type": "code",
      "source": [
        "catboost_params = { 'iterations' : 5000, 'depth' : 8,\n",
        "                   'learning_rate' : 0.13851548141121092/8,\n",
        "                   'colsample_bylevel' : 0.42513600460183565/8,\n",
        "                   'bagging_temperature' : 3.7987780158429185/8,\n",
        "                   'early_stopping_rounds': 500/2, 'random_seed' : 42,\n",
        "                   'loss_function' : 'Logloss','eval_metric' : 'Accuracy',\n",
        "                   'boosting_type' : 'Plain','bootstrap_type' : 'MVS',\n",
        "                   'task_type' : 'CPU', 'cat_features' : list(cat_columns_important)}"
      ],
      "metadata": {
        "id": "Cyb9f02EXA89"
      },
      "id": "Cyb9f02EXA89",
      "execution_count": 671,
      "outputs": []
    },
    {
      "cell_type": "code",
      "source": [
        "n_splits = 5\n",
        "\n",
        "X = final_data_important.iloc[:idx, :]\n",
        "y = target.map({'Y': 0, 'N': 1})\n",
        "\n",
        "optuna_clfs = []\n",
        "kFold_random_state = [101]#, 42, 666, 228]#, 777, 2021, 75]\n",
        "N = len(kFold_random_state)*n_splits\n",
        "\n",
        "for ind_k, random_state in enumerate(kFold_random_state):\n",
        "    kf = KFold(n_splits=n_splits, shuffle=True, random_state=random_state)\n",
        "    \n",
        "    for train_index, test_index in kf.split(X):\n",
        "        X_train, X_test = X.iloc[train_index], X.iloc[test_index]\n",
        "        y_train, y_test = y[train_index], y[test_index]\n",
        "        \n",
        "        clf = CatBoostClassifier(**catboost_params)\n",
        "        optuna_clfs.append(clf)\n",
        "\n",
        "        clf.fit(X_train, y_train, eval_set=(X_test, y_test),\n",
        "                verbose=500, use_best_model = True, plot=False)\n",
        "\n",
        "\n",
        "# массив для записи результата по нескольким фолдам\n",
        "y_pred_optuna = np.zeros((len(final_data_important.iloc[idx:, :]),))\n",
        "scores = []\n",
        "for clf in optuna_clfs:\n",
        "    y_pred_optuna += clf.predict_proba(final_data_important.iloc[idx:, :])[:,1]\n",
        "    scores.append(clf.best_score_['validation']['Accuracy'])\n",
        "y_pred_optuna /= N\n",
        "print('mean AUC', np.mean(scores))"
      ],
      "metadata": {
        "id": "i8O8TfvtXFZW",
        "outputId": "201e3bdf-1d53-4cec-9aca-98f9acb3a654",
        "colab": {
          "base_uri": "https://localhost:8080/"
        }
      },
      "id": "i8O8TfvtXFZW",
      "execution_count": 672,
      "outputs": [
        {
          "output_type": "stream",
          "name": "stdout",
          "text": [
            "0:\tlearn: 0.7006110\ttest: 0.6341463\tbest: 0.6341463 (0)\ttotal: 434us\tremaining: 2.17s\n",
            "500:\tlearn: 0.8248473\ttest: 0.8048780\tbest: 0.8048780 (458)\ttotal: 125ms\tremaining: 1.12s\n",
            "Stopped by overfitting detector  (250 iterations wait)\n",
            "\n",
            "bestTest = 0.8048780488\n",
            "bestIteration = 458\n",
            "\n",
            "Shrink model to first 459 iterations.\n",
            "0:\tlearn: 0.6945010\ttest: 0.6585366\tbest: 0.6585366 (0)\ttotal: 463us\tremaining: 2.32s\n",
            "500:\tlearn: 0.8289206\ttest: 0.7886179\tbest: 0.7886179 (254)\ttotal: 136ms\tremaining: 1.22s\n",
            "Stopped by overfitting detector  (250 iterations wait)\n",
            "\n",
            "bestTest = 0.7886178862\n",
            "bestIteration = 254\n",
            "\n",
            "Shrink model to first 255 iterations.\n",
            "0:\tlearn: 0.6782077\ttest: 0.6991870\tbest: 0.6991870 (0)\ttotal: 400us\tremaining: 2s\n",
            "500:\tlearn: 0.8187373\ttest: 0.8455285\tbest: 0.8455285 (265)\ttotal: 121ms\tremaining: 1.09s\n",
            "Stopped by overfitting detector  (250 iterations wait)\n",
            "\n",
            "bestTest = 0.8455284553\n",
            "bestIteration = 265\n",
            "\n",
            "Shrink model to first 266 iterations.\n",
            "0:\tlearn: 0.6863544\ttest: 0.6910569\tbest: 0.6910569 (0)\ttotal: 418us\tremaining: 2.09s\n",
            "500:\tlearn: 0.8146640\ttest: 0.8455285\tbest: 0.8455285 (481)\ttotal: 130ms\tremaining: 1.16s\n",
            "Stopped by overfitting detector  (250 iterations wait)\n",
            "\n",
            "bestTest = 0.8455284553\n",
            "bestIteration = 481\n",
            "\n",
            "Shrink model to first 482 iterations.\n",
            "0:\tlearn: 0.8211382\ttest: 0.8196721\tbest: 0.8196721 (0)\ttotal: 412us\tremaining: 2.06s\n",
            "Stopped by overfitting detector  (250 iterations wait)\n",
            "\n",
            "bestTest = 0.8196721311\n",
            "bestIteration = 0\n",
            "\n",
            "Shrink model to first 1 iterations.\n",
            "mean AUC 0.8208449953351993\n"
          ]
        }
      ]
    },
    {
      "cell_type": "code",
      "source": [
        "t = np.array(y_pred_optuna * 0.85 + y_pred * 0.15)\n",
        "t"
      ],
      "metadata": {
        "id": "ndOdsB9FXFby",
        "outputId": "d3298a55-dce8-4d8c-c605-a235cd09a8e2",
        "colab": {
          "base_uri": "https://localhost:8080/"
        }
      },
      "id": "ndOdsB9FXFby",
      "execution_count": 690,
      "outputs": [
        {
          "output_type": "execute_result",
          "data": {
            "text/plain": [
              "array([0.3310765 , 0.3310765 , 0.3177824 , 0.3177824 , 0.38568012,\n",
              "       0.34711234, 0.3646594 , 0.60924845, 0.32894979, 0.3269675 ,\n",
              "       0.38568012, 0.2881172 , 0.37938492, 0.53314662, 0.32685382,\n",
              "       0.37938492, 0.29018421, 0.2881172 , 0.33737305, 0.32685382,\n",
              "       0.34711234, 0.40688301, 0.367757  , 0.38568012, 0.33737305,\n",
              "       0.62176477, 0.3177824 , 0.33737305, 0.27265586, 0.367757  ,\n",
              "       0.32202146, 0.29018421, 0.32685382, 0.3310765 , 0.29348176,\n",
              "       0.57605997, 0.3177824 , 0.29348176, 0.367757  , 0.367757  ,\n",
              "       0.3310765 , 0.367757  , 0.28675771, 0.32685382, 0.367757  ,\n",
              "       0.3310765 , 0.34711234, 0.3269675 , 0.367757  , 0.30778165,\n",
              "       0.3310765 , 0.30778165, 0.27265586, 0.3177824 , 0.32503374,\n",
              "       0.6234382 , 0.37786108, 0.27061985, 0.53314662, 0.2881172 ,\n",
              "       0.28675771, 0.3310765 , 0.34197382, 0.62176477, 0.34711234,\n",
              "       0.2881172 , 0.53360274, 0.5127836 , 0.2881172 , 0.60509797,\n",
              "       0.32685382, 0.32685382, 0.29348176, 0.34467729, 0.30778165,\n",
              "       0.367757  , 0.3310765 , 0.36826793, 0.28230327, 0.3310765 ,\n",
              "       0.58671724, 0.33737305, 0.63901369, 0.35093396, 0.5127836 ,\n",
              "       0.33066672, 0.3310765 , 0.32685382, 0.32705404, 0.36826793,\n",
              "       0.34467729, 0.33057906, 0.27265586, 0.28242541, 0.5127836 ,\n",
              "       0.2881172 , 0.31649942, 0.2881172 , 0.29348176, 0.53915448,\n",
              "       0.36826793, 0.60178487, 0.3310765 , 0.34755467, 0.32685382,\n",
              "       0.27265586, 0.6234382 , 0.34467729, 0.27265586, 0.34711234,\n",
              "       0.32685382, 0.27265586, 0.367757  , 0.28304645, 0.34467729,\n",
              "       0.31353623, 0.32202146, 0.60509797, 0.6234382 , 0.58793522,\n",
              "       0.367757  , 0.34467729, 0.3310765 , 0.62176477, 0.63311997,\n",
              "       0.32685382, 0.6234382 , 0.29018421, 0.367757  , 0.28675771,\n",
              "       0.29348176, 0.36826793, 0.34467729, 0.36130209, 0.367757  ,\n",
              "       0.29348176, 0.33066672, 0.34467729, 0.32685382, 0.3489775 ,\n",
              "       0.62176477, 0.34467729, 0.60795645, 0.31025467, 0.34123267,\n",
              "       0.367757  , 0.3269675 , 0.62942572, 0.27265586, 0.367757  ,\n",
              "       0.367757  , 0.29348176, 0.36826793, 0.60795645, 0.33066672,\n",
              "       0.3269675 , 0.29018421, 0.34467729, 0.33951395, 0.36095525,\n",
              "       0.36826793, 0.57605997, 0.367757  , 0.36826793, 0.3836894 ,\n",
              "       0.56729391, 0.64238496, 0.3310765 , 0.53915448, 0.34467729,\n",
              "       0.36826793, 0.34755467, 0.32183347, 0.6234382 , 0.59388993,\n",
              "       0.31498418, 0.33023956, 0.36826793, 0.33066672, 0.3310765 ,\n",
              "       0.28304645, 0.2881172 , 0.3177824 , 0.32183347, 0.29348176,\n",
              "       0.28675771, 0.28242541, 0.27061985, 0.36438217, 0.34123267,\n",
              "       0.34467729, 0.367757  , 0.60924845, 0.62332654, 0.31025467,\n",
              "       0.367757  , 0.53915448, 0.34134494, 0.57377896, 0.34467729,\n",
              "       0.40233593, 0.34711234, 0.29348176, 0.2881172 , 0.32685382,\n",
              "       0.27265586, 0.27265586, 0.2881172 , 0.367757  , 0.39761075,\n",
              "       0.35426888, 0.62176477, 0.2881172 , 0.36826793, 0.36095525,\n",
              "       0.32503374, 0.28675771, 0.34467729, 0.32183347, 0.29348176,\n",
              "       0.29348176, 0.36095525, 0.39109647, 0.37605666, 0.55431351,\n",
              "       0.35426888, 0.29348176, 0.32183347, 0.36826793, 0.60795645,\n",
              "       0.32685382, 0.367757  , 0.34467729, 0.3489775 , 0.29348176,\n",
              "       0.6234382 , 0.57605997, 0.34755467, 0.28242541, 0.46136807,\n",
              "       0.38568012, 0.53915448, 0.27265586, 0.56313151, 0.32202146,\n",
              "       0.53915448, 0.29018421, 0.33737305, 0.28675771, 0.36826793,\n",
              "       0.63142966, 0.27265586, 0.33767674, 0.3177824 , 0.29348176,\n",
              "       0.62176477, 0.32183347, 0.3310765 , 0.34467729, 0.39345589,\n",
              "       0.30778165, 0.27265586, 0.36826793, 0.34467729, 0.33066672,\n",
              "       0.32685382, 0.63127854, 0.41241753, 0.58793522, 0.36826793,\n",
              "       0.34711234, 0.36826793, 0.33951395, 0.53314662, 0.57605997,\n",
              "       0.2881172 , 0.3310765 , 0.32685382, 0.56521922, 0.32685382,\n",
              "       0.32685382, 0.32183347, 0.367757  , 0.37786108, 0.32894979,\n",
              "       0.33737305, 0.34134494, 0.36826793, 0.367757  , 0.33737305,\n",
              "       0.2881172 , 0.3177824 , 0.37786108, 0.53825503, 0.34711234,\n",
              "       0.35744282, 0.32685382, 0.37786108, 0.28242541, 0.33066672,\n",
              "       0.29348176, 0.53825503, 0.36826793, 0.36095525, 0.2881172 ,\n",
              "       0.3327894 , 0.31498418, 0.34755467, 0.32183347, 0.2881172 ,\n",
              "       0.367757  , 0.63406811, 0.367757  , 0.33066672, 0.367757  ,\n",
              "       0.2881172 , 0.32183347, 0.5779127 , 0.37786108, 0.367757  ,\n",
              "       0.34467729, 0.32503374, 0.3310765 , 0.33951395, 0.32183347,\n",
              "       0.57605997, 0.30778165, 0.3177824 , 0.34467729, 0.27265586,\n",
              "       0.34467729, 0.31649942, 0.32503374, 0.27265586, 0.27265586,\n",
              "       0.37147569, 0.38568012, 0.29348176, 0.32183347, 0.62176477,\n",
              "       0.2881172 , 0.36826793, 0.36095525, 0.3310765 , 0.36826793,\n",
              "       0.33737305, 0.56313151, 0.38568012, 0.33023956, 0.34467729,\n",
              "       0.31498418, 0.36826793, 0.3310765 , 0.34467729, 0.56521922,\n",
              "       0.3310765 , 0.29348176, 0.35426888, 0.34755467, 0.32685382,\n",
              "       0.3310765 , 0.2881172 , 0.34711234, 0.29348176, 0.32685382,\n",
              "       0.34467729, 0.36826793])"
            ]
          },
          "metadata": {},
          "execution_count": 690
        }
      ]
    },
    {
      "cell_type": "code",
      "source": [
        ""
      ],
      "metadata": {
        "id": "LAwuuyNUXFeY"
      },
      "id": "LAwuuyNUXFeY",
      "execution_count": 557,
      "outputs": []
    },
    {
      "cell_type": "code",
      "source": [
        ""
      ],
      "metadata": {
        "id": "unRUR_YAXFhQ"
      },
      "id": "unRUR_YAXFhQ",
      "execution_count": null,
      "outputs": []
    },
    {
      "cell_type": "code",
      "source": [
        "y_pred"
      ],
      "metadata": {
        "id": "KDAXvHT4Urja"
      },
      "id": "KDAXvHT4Urja",
      "execution_count": null,
      "outputs": []
    },
    {
      "cell_type": "code",
      "source": [
        "len(y_pred[y_pred >=  0.5])"
      ],
      "metadata": {
        "id": "BdWYkom1PdyE",
        "outputId": "3791be9e-6047-4fb9-f2d0-86c38f338a07",
        "colab": {
          "base_uri": "https://localhost:8080/"
        }
      },
      "id": "BdWYkom1PdyE",
      "execution_count": 349,
      "outputs": [
        {
          "output_type": "execute_result",
          "data": {
            "text/plain": [
              "59"
            ]
          },
          "metadata": {},
          "execution_count": 349
        }
      ]
    },
    {
      "cell_type": "code",
      "source": [
        "# print(clfs[0].score(X_train, y_train))\n",
        "# print(clfs[1].score(X_train, y_train))\n",
        "# print(clfs[2].score(X_train, y_train))\n",
        "\n",
        "\n",
        "# print(clfs[0].score(X_test, y_test))\n",
        "# print(clfs[1].score(X_test, y_test))\n",
        "# print(clfs[2].score(X_test, y_test))"
      ],
      "metadata": {
        "id": "NKgb8cviKhl6"
      },
      "id": "NKgb8cviKhl6",
      "execution_count": 236,
      "outputs": []
    },
    {
      "cell_type": "code",
      "source": [
        "# print(classification_report(y_train, clfs[0].predict(X_train)))\n",
        "# print(confusion_matrix(y_train, clfs[0].predict(X_train)))\n",
        "# # print(clfs[1].score(X_train, y_train))\n",
        "# # print(clfs[2].score(X_train, y_train))\n",
        "\n",
        "\n",
        "# print(classification_report(y_test, clfs[0].predict(X_test)))\n",
        "# print(confusion_matrix(y_test, clfs[0].predict(X_test)))\n",
        "# # print(clfs[1].score(X_test, y_test))\n",
        "# # print(clfs[2].score(X_test, y_test))"
      ],
      "metadata": {
        "id": "o02nBstWK9mG"
      },
      "id": "o02nBstWK9mG",
      "execution_count": 237,
      "outputs": []
    },
    {
      "cell_type": "code",
      "source": [
        "# lst = []\n",
        "# for clf in clfs:\n",
        "#   lst.append(clf.predict(all_data_tr.iloc[idx:, :]))\n",
        "\n",
        "# df = pd.DataFrame(data=lst).T\n",
        "\n",
        "# # idx0, idx1, idx2, idx3 = 0, 0, 0, 0 \n",
        "\n",
        "# lst0 = [1 for i in range(367) if sum(df.iloc[i].values) == 0]\n",
        "# lst1 = [1 for i in range(367) if sum(df.iloc[i].values) == 1]\n",
        "# lst2 = [1 for i in range(367) if sum(df.iloc[i].values) == 2]\n",
        "# lst3 = [1 for i in range(367) if sum(df.iloc[i].values) == 3]\n",
        "# # lst4 = [1 for i in range(367) if sum(df.iloc[i].values) == 4]\n",
        "# # lst5 = [1 for i in range(367) if sum(df.iloc[i].values) == 5]\n",
        "\n",
        "# print(len(lst0))\n",
        "# print(len(lst1))\n",
        "# print(len(lst2))\n",
        "# print(len(lst3))\n",
        "# # print(len(lst4))\n",
        "# # print(len(lst5))\n",
        "# # lst2 = []\n",
        "# # lst3 = []"
      ],
      "metadata": {
        "id": "NGFJOpMBxku-"
      },
      "id": "NGFJOpMBxku-",
      "execution_count": 291,
      "outputs": []
    },
    {
      "cell_type": "code",
      "source": [
        "# import scipy \n",
        "\n",
        "# ct_predict = np.array(scipy.stats.mode(lst)[0][0])"
      ],
      "metadata": {
        "id": "uFu43fzqHqZS"
      },
      "id": "uFu43fzqHqZS",
      "execution_count": 269,
      "outputs": []
    },
    {
      "cell_type": "code",
      "source": [
        ""
      ],
      "metadata": {
        "id": "64fickUgHqb4"
      },
      "id": "64fickUgHqb4",
      "execution_count": null,
      "outputs": []
    },
    {
      "cell_type": "code",
      "source": [
        "# print(confusion_matrix(y_test, lgbm.predict(X_test)))\n",
        "# print(classification_report(y_test, lgbm.predict(X_test)))"
      ],
      "metadata": {
        "id": "xRRB5UGuZge5"
      },
      "id": "xRRB5UGuZge5",
      "execution_count": 292,
      "outputs": []
    },
    {
      "cell_type": "code",
      "source": [
        "# print(confusion_matrix(y_train, lgbm.predict(X_train)))\n",
        "# print(classification_report(y_train, lgbm.predict(X_train)))"
      ],
      "metadata": {
        "id": "FiMNvRZWeqkf"
      },
      "id": "FiMNvRZWeqkf",
      "execution_count": 293,
      "outputs": []
    },
    {
      "cell_type": "code",
      "source": [
        "# plt.figure(figsize=(70, 10))\n",
        "\n",
        "# sns.barplot(final_data.columns, lgbm.feature_importances_)"
      ],
      "metadata": {
        "id": "jE3Lw3rLmT-1"
      },
      "id": "jE3Lw3rLmT-1",
      "execution_count": null,
      "outputs": []
    },
    {
      "cell_type": "markdown",
      "source": [
        "Лог регрессия предсказывает настоящие нули с вероятностью 0.5...\n",
        "Xa-xa-xa!"
      ],
      "metadata": {
        "id": "RzTDDu4re8Se"
      },
      "id": "RzTDDu4re8Se"
    },
    {
      "cell_type": "code",
      "source": [
        "# lr_predict = lr.predict(final_data_pca_tr.iloc[idx:, :])\n",
        "\n",
        "# lr_predict = np.where(lr_predict == 0, 'Y', lr_predict)\n",
        "# lr_predict = np.where(lr_predict == 1, 'N', lr_predict)"
      ],
      "metadata": {
        "id": "7bUdLk0Ch_3r"
      },
      "id": "7bUdLk0Ch_3r",
      "execution_count": null,
      "outputs": []
    },
    {
      "cell_type": "code",
      "source": [
        "# lgbm_predict = lgbm.predict(final_data_important.iloc[idx:, :])\n",
        "\n",
        "# lgbm_predict = np.where(lgbm_predict == 0, 'Y', lgbm_predict)\n",
        "# lgbm_predict = np.where(lgbm_predict == '1', 'N', lgbm_predict)"
      ],
      "metadata": {
        "id": "8oG_1MDXlqXM"
      },
      "id": "8oG_1MDXlqXM",
      "execution_count": null,
      "outputs": []
    },
    {
      "cell_type": "code",
      "source": [
        "t = np.where(t < 0.43, 0, t)\n",
        "t = np.where(t >= 0.43, 1, t)\n",
        "\n",
        "# t.astype('object')\n",
        "\n",
        "t = np.where(t == 0, 'Y', t)\n",
        "t = np.where(t == '1.0', 'N', t)"
      ],
      "metadata": {
        "id": "7nfB0vFXNoAU"
      },
      "id": "7nfB0vFXNoAU",
      "execution_count": 691,
      "outputs": []
    },
    {
      "cell_type": "code",
      "source": [
        "t"
      ],
      "metadata": {
        "id": "8T-kQxGKQ29h",
        "outputId": "0daa5c05-62af-4136-ee50-a38e5b292fe8",
        "colab": {
          "base_uri": "https://localhost:8080/"
        }
      },
      "id": "8T-kQxGKQ29h",
      "execution_count": 692,
      "outputs": [
        {
          "output_type": "execute_result",
          "data": {
            "text/plain": [
              "array(['Y', 'Y', 'Y', 'Y', 'Y', 'Y', 'Y', 'N', 'Y', 'Y', 'Y', 'Y', 'Y',\n",
              "       'N', 'Y', 'Y', 'Y', 'Y', 'Y', 'Y', 'Y', 'Y', 'Y', 'Y', 'Y', 'N',\n",
              "       'Y', 'Y', 'Y', 'Y', 'Y', 'Y', 'Y', 'Y', 'Y', 'N', 'Y', 'Y', 'Y',\n",
              "       'Y', 'Y', 'Y', 'Y', 'Y', 'Y', 'Y', 'Y', 'Y', 'Y', 'Y', 'Y', 'Y',\n",
              "       'Y', 'Y', 'Y', 'N', 'Y', 'Y', 'N', 'Y', 'Y', 'Y', 'Y', 'N', 'Y',\n",
              "       'Y', 'N', 'N', 'Y', 'N', 'Y', 'Y', 'Y', 'Y', 'Y', 'Y', 'Y', 'Y',\n",
              "       'Y', 'Y', 'N', 'Y', 'N', 'Y', 'N', 'Y', 'Y', 'Y', 'Y', 'Y', 'Y',\n",
              "       'Y', 'Y', 'Y', 'N', 'Y', 'Y', 'Y', 'Y', 'N', 'Y', 'N', 'Y', 'Y',\n",
              "       'Y', 'Y', 'N', 'Y', 'Y', 'Y', 'Y', 'Y', 'Y', 'Y', 'Y', 'Y', 'Y',\n",
              "       'N', 'N', 'N', 'Y', 'Y', 'Y', 'N', 'N', 'Y', 'N', 'Y', 'Y', 'Y',\n",
              "       'Y', 'Y', 'Y', 'Y', 'Y', 'Y', 'Y', 'Y', 'Y', 'Y', 'N', 'Y', 'N',\n",
              "       'Y', 'Y', 'Y', 'Y', 'N', 'Y', 'Y', 'Y', 'Y', 'Y', 'N', 'Y', 'Y',\n",
              "       'Y', 'Y', 'Y', 'Y', 'Y', 'N', 'Y', 'Y', 'Y', 'N', 'N', 'Y', 'N',\n",
              "       'Y', 'Y', 'Y', 'Y', 'N', 'N', 'Y', 'Y', 'Y', 'Y', 'Y', 'Y', 'Y',\n",
              "       'Y', 'Y', 'Y', 'Y', 'Y', 'Y', 'Y', 'Y', 'Y', 'Y', 'N', 'N', 'Y',\n",
              "       'Y', 'N', 'Y', 'N', 'Y', 'Y', 'Y', 'Y', 'Y', 'Y', 'Y', 'Y', 'Y',\n",
              "       'Y', 'Y', 'Y', 'N', 'Y', 'Y', 'Y', 'Y', 'Y', 'Y', 'Y', 'Y', 'Y',\n",
              "       'Y', 'Y', 'Y', 'N', 'Y', 'Y', 'Y', 'Y', 'N', 'Y', 'Y', 'Y', 'Y',\n",
              "       'Y', 'N', 'N', 'Y', 'Y', 'N', 'Y', 'N', 'Y', 'N', 'Y', 'N', 'Y',\n",
              "       'Y', 'Y', 'Y', 'N', 'Y', 'Y', 'Y', 'Y', 'N', 'Y', 'Y', 'Y', 'Y',\n",
              "       'Y', 'Y', 'Y', 'Y', 'Y', 'Y', 'N', 'Y', 'N', 'Y', 'Y', 'Y', 'Y',\n",
              "       'N', 'N', 'Y', 'Y', 'Y', 'N', 'Y', 'Y', 'Y', 'Y', 'Y', 'Y', 'Y',\n",
              "       'Y', 'Y', 'Y', 'Y', 'Y', 'Y', 'Y', 'N', 'Y', 'Y', 'Y', 'Y', 'Y',\n",
              "       'Y', 'Y', 'N', 'Y', 'Y', 'Y', 'Y', 'Y', 'Y', 'Y', 'Y', 'Y', 'N',\n",
              "       'Y', 'Y', 'Y', 'Y', 'Y', 'N', 'Y', 'Y', 'Y', 'Y', 'Y', 'Y', 'Y',\n",
              "       'N', 'Y', 'Y', 'Y', 'Y', 'Y', 'Y', 'Y', 'Y', 'Y', 'Y', 'Y', 'Y',\n",
              "       'Y', 'N', 'Y', 'Y', 'Y', 'Y', 'Y', 'Y', 'N', 'Y', 'Y', 'Y', 'Y',\n",
              "       'Y', 'Y', 'Y', 'N', 'Y', 'Y', 'Y', 'Y', 'Y', 'Y', 'Y', 'Y', 'Y',\n",
              "       'Y', 'Y', 'Y'], dtype='<U32')"
            ]
          },
          "metadata": {},
          "execution_count": 692
        }
      ]
    },
    {
      "cell_type": "code",
      "source": [
        "sample_submission['Loan_Status'] = t"
      ],
      "metadata": {
        "id": "VBmEoX77fP04"
      },
      "id": "VBmEoX77fP04",
      "execution_count": 695,
      "outputs": []
    },
    {
      "cell_type": "code",
      "source": [
        "sample_submission.to_csv('sub2_26.csv', index=False)"
      ],
      "metadata": {
        "id": "aRV7F98igj6s"
      },
      "id": "aRV7F98igj6s",
      "execution_count": 696,
      "outputs": []
    },
    {
      "cell_type": "code",
      "source": [
        "# train_tr.to_csv('Train_tr.csv', index=False)\n",
        "# test_tr.to_csv('Test_tr.csv', index=False)\n",
        "\n",
        "# target.to_csv('Target.csv', index=False)"
      ],
      "metadata": {
        "id": "8YxzcMxvGVPM"
      },
      "id": "8YxzcMxvGVPM",
      "execution_count": null,
      "outputs": []
    },
    {
      "cell_type": "code",
      "source": [
        ""
      ],
      "metadata": {
        "id": "0nOVGjqmgrNm"
      },
      "id": "0nOVGjqmgrNm",
      "execution_count": null,
      "outputs": []
    }
  ],
  "metadata": {
    "colab": {
      "name": "Loan Prediction FE - AV.ipynb",
      "provenance": []
    },
    "kernelspec": {
      "display_name": "Python 3",
      "language": "python",
      "name": "python3"
    },
    "language_info": {
      "codemirror_mode": {
        "name": "ipython",
        "version": 3
      },
      "file_extension": ".py",
      "mimetype": "text/x-python",
      "name": "python",
      "nbconvert_exporter": "python",
      "pygments_lexer": "ipython3",
      "version": "3.8.8"
    }
  },
  "nbformat": 4,
  "nbformat_minor": 5
}