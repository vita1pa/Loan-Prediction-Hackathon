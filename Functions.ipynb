{
 "cells": [
  {
   "cell_type": "markdown",
   "metadata": {
    "id": "ede37e16"
   },
   "source": [
    "### Процент выбросов слева / справа от boxplot "
   ]
  },
  {
   "cell_type": "code",
   "execution_count": 1,
   "metadata": {
    "id": "3673b7c3"
   },
   "outputs": [],
   "source": [
    "def outliers_percents(col):\n",
    "    \n",
    "        length = len(col)\n",
    "    \n",
    "        Q1 = np.nanpercentile(col, 25)\n",
    "        Q3 = np.nanpercentile(col, 75)\n",
    "        IQR = Q3 - Q1\n",
    "        \n",
    "        \n",
    "        num_outliers_left = len(col[col < Q1 - 1.5 * IQR]) / length\n",
    "        num_oulliers_right = len(col[col > Q3 + 1.5 * IQR]) / length\n",
    "        \n",
    "        return num_outliers_left, num_oulliers_right"
   ]
  },
  {
   "cell_type": "markdown",
   "metadata": {
    "id": "335c73ec"
   },
   "source": [
    "### Boxplots subplots (дописать..."
   ]
  },
  {
   "cell_type": "code",
   "execution_count": null,
   "metadata": {
    "id": "c2a60102"
   },
   "outputs": [],
   "source": [
    "def boxplots_subplots(data, nrows, ncols, remove_empty=False):\n",
    "\n",
    "    fig, ax = plt.subplots(nrows, ncols, figsize=(5*nrows, 5*ncols))\n",
    "\n",
    "    for i,col in enumerate(list(data.columns.values)):\n",
    "        \n",
    "#         print(col)\n",
    "        \n",
    "        sns.boxplot(data=data[col], orient='h', ax=ax.flatten()[i]);\n",
    "        ax.flatten()[i].set_title(col)\n",
    "\n",
    "    if remove_empty:\n",
    "        fig.delaxes(ax[2,1]) # remove empty subplot\n",
    "    \n",
    "    plt.tight_layout()"
   ]
  },
  {
   "cell_type": "markdown",
   "metadata": {
    "id": "994b62a2"
   },
   "source": [
    "### Histplots subplots (дописать..."
   ]
  },
  {
   "cell_type": "code",
   "execution_count": 2,
   "metadata": {
    "id": "a430ef0b"
   },
   "outputs": [],
   "source": [
    "def histplots_subplots(data, nrows, ncols, remove_empty=False):\n",
    "    \n",
    "    fig, ax = plt.subplots(nrows, ncols, figsize=(5*nrows, 5*ncols))\n",
    "\n",
    "    for i,col in enumerate(list(data.columns.values)):\n",
    "        sns.histplot(data[col], ax=ax.flatten()[i], kde=True);\n",
    "\n",
    "        num_percent = data[col].isnull().sum() / len(data)\n",
    "        ax.flatten()[i].set_title(col+\" | missing values: {}%\".format(round(num_percent, 2)))\n",
    "\n",
    "    if remove_empty:\n",
    "        fig.delaxes(ax[2,1]) # remove empty subplot\n",
    "    plt.tight_layout()"
   ]
  },
  {
   "cell_type": "markdown",
   "metadata": {
    "id": "a347ffa8"
   },
   "source": [
    "### Combined subplots"
   ]
  },
  {
   "cell_type": "code",
   "execution_count": 3,
   "metadata": {
    "id": "6e3424f8"
   },
   "outputs": [],
   "source": [
    "def subplots_info(data, remove_empty=False):\n",
    "    \n",
    "    fig, ax = plt.subplots(len(data.columns), 2, figsize=(20, 10))\n",
    "\n",
    "    for i,col in enumerate(list(data.columns.values)):\n",
    "        \n",
    "        sns.histplot(data[col], ax=ax[i][0], kde=True);\n",
    "        sns.boxplot(data=data[col], orient='h', ax=ax[i][1]);\n",
    "\n",
    "        num_percent = data[col].isnull().sum() / len(data) * 100\n",
    "        ax[i][0].set_title(col+\" | missing values: {}%\".format(round(num_percent, 2)))\n",
    "        \n",
    "        outliers_left, outliers_right = outliers_percents(data[col])\n",
    "        ax[i][1].set_title(\"Left Outliers : {}% \".format(round(outliers_left * 100, 3))+\n",
    "                           \"| Right Outliers : {}%\".format(round(outliers_right * 100, 3)))\n",
    "        \n",
    "\n",
    "    if remove_empty:\n",
    "        fig.delaxes(ax[2,1]) # remove empty subplot\n",
    "    plt.tight_layout()"
   ]
  },
  {
   "cell_type": "code",
   "execution_count": null,
   "metadata": {
    "id": "RQ3ECIs12OK9"
   },
   "outputs": [],
   "source": []
  },
  {
   "cell_type": "code",
   "execution_count": null,
   "metadata": {
    "id": "rhpFnOyx2PdU"
   },
   "outputs": [],
   "source": []
  },
  {
   "cell_type": "markdown",
   "metadata": {
    "id": "18fe5ee8"
   },
   "source": [
    "### IQR outliers handling"
   ]
  },
  {
   "cell_type": "code",
   "execution_count": null,
   "metadata": {
    "id": "27973975"
   },
   "outputs": [],
   "source": [
    "def remove_outliers_iqr(data, columns):\n",
    "    \n",
    "#     print(columns)\n",
    "    \n",
    "    for col in columns:\n",
    "    \n",
    "        Q1 = np.nanpercentile(data[col], 25)\n",
    "        Q3 = np.nanpercentile(data[col], 75)\n",
    "        IQR = Q3 - Q1\n",
    "        \n",
    "        data.loc[data[col] < Q1 - 1.5 * IQR, col] = Q1 - 1.5 * IQR\n",
    "        data.loc[data[col] > Q3 + 1.5 * IQR, col] = Q3 + 1.5 * IQR\n",
    "        "
   ]
  },
  {
   "cell_type": "markdown",
   "metadata": {
    "id": "31df828d"
   },
   "source": [
    "### Missing values dealing"
   ]
  },
  {
   "cell_type": "code",
   "execution_count": null,
   "metadata": {
    "id": "7c48d594"
   },
   "outputs": [],
   "source": [
    "def impute(data, columns, how):\n",
    "    \n",
    "    if how=='mean':\n",
    "        for col in columns:\n",
    "            data[col].fillna(data[col].mean(), inplace=True)\n",
    "    elif how=='mode':\n",
    "        for col in columns:\n",
    "            data[col].fillna(data[col].mode()[0], inplace=True)\n",
    "    else:\n",
    "        print('Хз как ?? ')"
   ]
  },
  {
   "cell_type": "markdown",
   "metadata": {
    "id": "d0cdc97a"
   },
   "source": [
    "### Binning example (after filling missing values)"
   ]
  },
  {
   "cell_type": "code",
   "execution_count": null,
   "metadata": {
    "id": "d88ebcfe"
   },
   "outputs": [],
   "source": [
    "# loan_amt = train_num['LoanAmount']\n",
    "\n",
    "# values = [0, 100, 200, 400, 700]\n",
    "# labels = ['Low', 'Medium', 'High', 'Very High']\n",
    "\n",
    "# result = pd.cut(loan_amt, bins=values, labels=labels)\n",
    "# result.value_counts()"
   ]
  },
  {
   "cell_type": "markdown",
   "metadata": {
    "id": "71361e70"
   },
   "source": [
    "### Freq Encoding"
   ]
  },
  {
   "cell_type": "code",
   "execution_count": null,
   "metadata": {
    "id": "4b89b313"
   },
   "outputs": [],
   "source": [
    "# dict_freq = train_cat['Property_Area'].value_counts(normalize=True)\n",
    "\n",
    "# train_cat['Property_Area'].map(dict_freq)"
   ]
  },
  {
   "cell_type": "markdown",
   "metadata": {
    "id": "4549bf0d"
   },
   "source": [
    "### Mapping"
   ]
  },
  {
   "cell_type": "code",
   "execution_count": null,
   "metadata": {
    "id": "76781c74"
   },
   "outputs": [],
   "source": [
    "# train_cat['Loan_Status'].map({'Y': 1, 'N': 0})\n",
    "# train_cat"
   ]
  },
  {
   "cell_type": "markdown",
   "metadata": {
    "id": "596465e2"
   },
   "source": [
    "### Dummy variables"
   ]
  },
  {
   "cell_type": "code",
   "execution_count": null,
   "metadata": {
    "id": "bad071b8"
   },
   "outputs": [],
   "source": [
    "# pd.get_dummies(train['Property_Area'])\n",
    "### дальше с concat"
   ]
  },
  {
   "cell_type": "markdown",
   "metadata": {
    "id": "uqN_NdKN3Jz0"
   },
   "source": [
    "### Plot ROC curve"
   ]
  },
  {
   "cell_type": "code",
   "execution_count": 4,
   "metadata": {
    "id": "F0OVb-HE25P4"
   },
   "outputs": [],
   "source": [
    "def roc_curve_plot(model, target, data):\n",
    "  fpr, tpr, thresholds = roc_curve(target, rf_baseline.predict(data))\n",
    "\n",
    "  plt.plot(fpr, tpr, linestyle='--')"
   ]
  },
  {
   "cell_type": "code",
   "execution_count": null,
   "metadata": {
    "id": "1VNi4Bmu3TDK"
   },
   "outputs": [],
   "source": []
  }
 ],
 "metadata": {
  "colab": {
   "name": "Functions.ipynb",
   "provenance": []
  },
  "kernelspec": {
   "display_name": "Python 3",
   "language": "python",
   "name": "python3"
  },
  "language_info": {
   "codemirror_mode": {
    "name": "ipython",
    "version": 3
   },
   "file_extension": ".py",
   "mimetype": "text/x-python",
   "name": "python",
   "nbconvert_exporter": "python",
   "pygments_lexer": "ipython3",
   "version": "3.8.8"
  }
 },
 "nbformat": 4,
 "nbformat_minor": 1
}
